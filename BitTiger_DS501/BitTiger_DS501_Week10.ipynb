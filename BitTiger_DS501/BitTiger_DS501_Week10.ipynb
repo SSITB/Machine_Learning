{
 "cells": [
  {
   "cell_type": "markdown",
   "metadata": {
    "colab_type": "text",
    "id": "07zF9OUfxVVw"
   },
   "source": [
    "# BitTiger DS501 Week10\n",
    "\n",
    "1. [Feedforward Neural Network](#Feedforward-Neural-Network)\n",
    "2. LSTM\n",
    "   * [Text generation](#Text-generation)\n",
    "   * [Twiter](#Twiter)\n",
    "3. [CNN](CNN)\n",
    "4. Tensorflow\n",
    "   * [Devise](#Devise)\n",
    "   * [Linear regression](#Linear-regression)\n",
    "   * [Tensorboard](#Tensorboard)"
   ]
  },
  {
   "cell_type": "markdown",
   "metadata": {},
   "source": [
    "## Feedforward Neural Network\n",
    "\n",
    "* **FFNN**"
   ]
  },
  {
   "cell_type": "code",
   "execution_count": 36,
   "metadata": {
    "colab": {},
    "colab_type": "code",
    "id": "fPuEvDvKxVVy"
   },
   "outputs": [],
   "source": [
    "from __future__ import print_function # Must be the first line\n",
    "\n",
    "import keras.callbacks as cb\n",
    "from keras.datasets import mnist\n",
    "from keras.layers.core import Activation, Dense, Dropout\n",
    "from keras.models import Sequential\n",
    "from keras.optimizers import SGD\n",
    "from keras.regularizers import l1, l2\n",
    "from keras.utils import np_utils\n",
    "\n",
    "import numpy as np\n",
    "import time\n",
    "import matplotlib.pyplot as plt\n",
    "%matplotlib inline"
   ]
  },
  {
   "cell_type": "markdown",
   "metadata": {
    "colab_type": "text",
    "id": "w2pBDd5MxVV5"
   },
   "source": [
    "## 1. Pre-processing\n",
    "\n",
    "### 分成 3 個 Groups:\n",
    "1. A: 沒有 pre-processing\n",
    "2. B: 用 normalization 把 dataset normalize 到 [0, 1] 之間\n",
    "\\begin{equation}x' = \\frac{x - x_{min}}{x_{max} - x_{min}}\\end{equation}\n",
    "3. C: 用 standardization 把 dataset 變成 mean=0, variance=1 的高斯分佈\n",
    "\\begin{equation}x_i' = \\frac{x_i - \\mu}{\\sigma}\\end{equation}\n",
    "\n",
    "通常知道數據的最大值和最小值的時候，就使用 normalization，如果不知道最大值和最小值，就使用 standardization"
   ]
  },
  {
   "cell_type": "code",
   "execution_count": 37,
   "metadata": {
    "colab": {},
    "colab_type": "code",
    "id": "pbtflyv6xVV7"
   },
   "outputs": [],
   "source": [
    "def Preprocessing(group):\n",
    "    from sklearn import preprocessing\n",
    "    # Load MNIST dataset from Keras (https://keras.io/datasets/)\n",
    "    (X_train, y_train), (X_test, y_test) = mnist.load_data()\n",
    "    \n",
    "    # Transform labels to one-hot\n",
    "    y_train = np_utils.to_categorical(y_train, 10)\n",
    "    y_test = np_utils.to_categorical(y_test, 10)\n",
    "    \n",
    "    # Set features to numeric type\n",
    "    X_train = X_train.astype('float32')\n",
    "    X_test = X_test.astype('float32')\n",
    "    # Reshape from 28 x 28 to 1-D vector\n",
    "    # 28 x 28 = 784\n",
    "    X_train = np.reshape(X_train, (60000, 784))\n",
    "    X_test = np.reshape(X_test, (10000, 784))\n",
    "    \n",
    "    if group == 'A':\n",
    "        return X_train, X_test, y_train, y_test\n",
    "    elif group == 'B':\n",
    "        X_train /= 255\n",
    "        X_test /= 255\n",
    "    elif group == 'C':\n",
    "        X_train = preprocessing.scale(X_train)\n",
    "        X_test = preprocessing.scale(X_test)\n",
    "        \n",
    "    return X_train, X_test, y_train, y_test"
   ]
  },
  {
   "cell_type": "code",
   "execution_count": 38,
   "metadata": {
    "colab": {},
    "colab_type": "code",
    "id": "xwGeWTdPxVV-"
   },
   "outputs": [],
   "source": [
    "group = 'B'\n",
    "X_train, X_test, y_train, y_test = Preprocessing(group)"
   ]
  },
  {
   "cell_type": "markdown",
   "metadata": {
    "colab_type": "text",
    "id": "bOwI__0LxVWB"
   },
   "source": [
    "### 檢查一下 training data\n",
    "\n",
    "只看前 10 筆資料"
   ]
  },
  {
   "cell_type": "code",
   "execution_count": 39,
   "metadata": {
    "colab": {
     "base_uri": "https://localhost:8080/",
     "height": 221
    },
    "colab_type": "code",
    "id": "bf-AtlGgxVWD",
    "outputId": "205cab45-b93c-4afa-bcfb-8a1faff727ec"
   },
   "outputs": [
    {
     "name": "stdout",
     "output_type": "stream",
     "text": [
      "                     X                       |  y  \n",
      "==================================================\n",
      "0.00 0.00 ... 0.49 0.53 0.69  ... 0.00 0.00  |  0\n",
      "0.00 0.00 ... 0.99 0.99 0.99  ... 0.00 0.00  |  1\n",
      "0.00 0.00 ... 0.00 0.00 0.00  ... 0.00 0.00  |  0\n",
      "0.00 0.00 ... 0.00 0.00 0.49  ... 0.00 0.00  |  0\n",
      "0.00 0.00 ... 0.00 0.00 0.00  ... 0.00 0.00  |  0\n",
      "0.00 0.00 ... 0.10 0.39 0.48  ... 0.00 0.00  |  0\n",
      "0.00 0.00 ... 0.00 0.00 0.00  ... 0.00 0.00  |  0\n",
      "0.00 0.00 ... 0.99 0.99 0.99  ... 0.00 0.00  |  0\n",
      "0.00 0.00 ... 0.00 0.00 0.00  ... 0.00 0.00  |  0\n",
      "0.00 0.00 ... 0.00 0.00 0.00  ... 0.00 0.00  |  0\n"
     ]
    }
   ],
   "source": [
    "print('{:^44}'.format('X'), '|', '{:^4}'.format('y'))\n",
    "print('='*50)\n",
    "for row in range(10):\n",
    "    print('{:.2f} {:.2f} ... {:.2f} {:.2f} {:.2f}  ... {:.2f} {:.2f} '.format(\n",
    "            X_train[row][0], X_train[row][1],\n",
    "            X_train[row][156], X_train[row][157], X_train[row][158],\n",
    "            X_train[row][-2], X_train[row][-1]), '| ',\n",
    "            '{:.0f}'.format(y_train[row][0])\n",
    "         )"
   ]
  },
  {
   "cell_type": "markdown",
   "metadata": {
    "colab_type": "text",
    "id": "TtgkwqfgxVWI"
   },
   "source": [
    "## 2. Define model\n",
    "\n",
    "### Network Structure\n",
    "\n",
    "經驗上：寬度 < 1000 個 neurons，深度 10 ~ 30 層，形狀用金字塔型\n",
    "\n",
    "深度可以用 sample/parameter raton 來估計，約 5 ~ 30\n",
    "* 通常 10 ~ 30 層\n",
    "* 目前最深 150 層\n",
    "\n",
    "\n",
    "1. A: 1 layer\n",
    "2. B: 2 layers, tower-shaped (一樣寬)\n",
    "3. C: 2 layers, pyramid-shaped (越來越窄)"
   ]
  },
  {
   "cell_type": "code",
   "execution_count": 40,
   "metadata": {
    "colab": {},
    "colab_type": "code",
    "id": "kezQ4lkXxVWJ"
   },
   "outputs": [],
   "source": [
    "def layers(group):\n",
    "    if group == 'A':\n",
    "        first_layer_width = 128\n",
    "        second_layer_width = 0\n",
    "    elif group == 'B':\n",
    "        first_layer_width = 128\n",
    "        second_layer_width = 128\n",
    "    elif group == 'C':\n",
    "        first_layer_width = 128\n",
    "        second_layer_width = 64\n",
    "        \n",
    "    return first_layer_width, second_layer_width"
   ]
  },
  {
   "cell_type": "markdown",
   "metadata": {
    "colab_type": "text",
    "id": "AHsrj1msxVWM"
   },
   "source": [
    "### Activation Function\n",
    "1. ReLU\n",
    "2. Sigmoid\n",
    "3. Tanh\n",
    "\n",
    "![activation_function](https://ujwlkarn.files.wordpress.com/2016/08/screen-shot-2016-08-08-at-11-53-41-am.png)\n",
    "\n",
    "Sigmoid($x$) 和 $\\tanh(x)$ 在 $x$ 很大或很小時 (就是在兩端時)，會有 **vanishing gradient** 的問題\n",
    "\n",
    "ReLU($x$) 在 $x > 0$ 時不會有 vanishing gradient 的問題 "
   ]
  },
  {
   "cell_type": "code",
   "execution_count": 41,
   "metadata": {
    "colab": {},
    "colab_type": "code",
    "id": "HMMhDXO4xVWN"
   },
   "outputs": [],
   "source": [
    "# activation_func = 'relu'\n",
    "# activation_func = 'sigmoid'\n",
    "# activation_func = 'tanh'"
   ]
  },
  {
   "cell_type": "code",
   "execution_count": 42,
   "metadata": {
    "colab": {},
    "colab_type": "code",
    "id": "C0I0pjwWxVWP"
   },
   "outputs": [],
   "source": [
    "def activation_function(func):\n",
    "    if func == 'relu':\n",
    "        return 'relu'\n",
    "    elif func == 'sigmoid':\n",
    "        return 'sigmoid'\n",
    "    elif func == 'tanh':\n",
    "        return 'tanh'\n",
    "    else:\n",
    "        return func"
   ]
  },
  {
   "cell_type": "markdown",
   "metadata": {
    "colab_type": "text",
    "id": "Z-e5cyK_xVWT"
   },
   "source": [
    "### Loss Function\n",
    "\n",
    "Loss function 又叫做 cost function，就是 prediction 和 ground truth 之間的差別。\n",
    "\n",
    "算 loss 時要算的是 total loss $L = \\sum_{i=1}^{R} \\ell_i$，然後要把 total loss minimize\n",
    "\n",
    "常用的 loss function 有兩種:\n",
    "1. Cross entropy: 適合 categorical 的數據\n",
    "   \\begin{equation} -\\sum_{i=1}^{k} (y_{i} \\log\\hat{y}_{i})\\end{equation}\n",
    "2. Squared error (MSE): 適合 continuous 的數據\n",
    "   \\begin{equation}\\sum_{i=1}^{k}(y_{i} - \\hat{y}_{i})^{2}\\end{equation}"
   ]
  },
  {
   "cell_type": "code",
   "execution_count": 43,
   "metadata": {
    "colab": {},
    "colab_type": "code",
    "id": "zc_OhrD4xVWU"
   },
   "outputs": [],
   "source": [
    "def loss_func(loss):\n",
    "    if loss == 'crossentropy':\n",
    "        return 'categorical_crossentropy'\n",
    "    elif loss == 'MSE':\n",
    "        return 'mean_squared_error'"
   ]
  },
  {
   "cell_type": "markdown",
   "metadata": {
    "colab_type": "text",
    "id": "PGt407uwxVWW"
   },
   "source": [
    "### Dropout rate\n",
    "可以輸入想要的 dropout rate，例如 0%, 50%, 90% 等\n",
    "\n",
    "* dropout rate < 0.5\n",
    "  * 通常是 0.1 ~ 0.3\n",
    "* 每一層都有一個 dropout rate，在 training 前就要定義好，因為 dropout rate 是 hyperparameter\n",
    "* Training 才要 dropout，**testing 不 dropout**\n",
    "  * Training 每一層關掉 p% 的神經元\n",
    "  * Testing 的 weight $\\times (1-p\\%)$"
   ]
  },
  {
   "cell_type": "code",
   "execution_count": 44,
   "metadata": {
    "colab": {},
    "colab_type": "code",
    "id": "oiTHh9lvxVWX"
   },
   "outputs": [],
   "source": [
    "def set_dropout_rate(num):\n",
    "    if num > 1:\n",
    "        print('Dropout rate is between 0 and 1')\n",
    "        return\n",
    "    else:\n",
    "        return num"
   ]
  },
  {
   "cell_type": "markdown",
   "metadata": {
    "colab_type": "text",
    "id": "4s46J8kcxVWZ"
   },
   "source": [
    "### Regularization\n",
    "\n",
    "目標是 minimize $\\Big(\\sum_{i=1}^{R} L(y_i, \\hat{y}_i) + R(w) \\Big)$\n",
    "\n",
    "1. No regularization: no\n",
    "2. L1-norm: l1\n",
    "   \\begin{equation}R(w, \\lambda) = \\lambda ||w||_{1} = \\lambda \\sum_{i}|w|_{i} = \\lambda(|w_1| + |w_2| + \\cdots + |w_k|)\\end{equation}\n",
    "3. L2-norm: l2\n",
    "   \\begin{equation}R(w, \\lambda) = \\lambda ||w||_{2} = \\lambda \\sqrt{\\sum_{i} w_{i}^{2}} = \\lambda \\sqrt{w_1^2 + w_2^2 + \\cdots + w_k^2}\\end{equation}\n",
    "   \n",
    "還有一個是 max-norm，這是一個 post-processing 的過程，不會在 optimization 時發生。每一個 weight 更新之後，就再除以自己的 norm，再乘上 $\\lambda$ 使得新的 weight 一定小於 $\\lambda$，這樣子 weight 就不會爆掉。\n",
    "* $||w||_2 < \\lambda$，$\\lambda$ 的值大概是 $3 \\sim 4$"
   ]
  },
  {
   "cell_type": "code",
   "execution_count": 45,
   "metadata": {
    "colab": {},
    "colab_type": "code",
    "id": "TLjv1uM8xVWZ"
   },
   "outputs": [],
   "source": [
    "def regularization(regularization = None):\n",
    "    if regularization == 'l1':\n",
    "        return 'l1'\n",
    "    elif regularization == 'l2':\n",
    "        return 'l2'\n",
    "    else:\n",
    "        return regularization"
   ]
  },
  {
   "cell_type": "markdown",
   "metadata": {
    "colab_type": "text",
    "id": "7sWONwb9xVWb"
   },
   "source": [
    "### Mini-batch size\n",
    "可以設定 mini-batch 的大小，例如 128, 256, 512 等\n",
    "\n",
    "通常是 4 的倍數，這和硬體 cache 的設計有關 "
   ]
  },
  {
   "cell_type": "code",
   "execution_count": 46,
   "metadata": {
    "colab": {},
    "colab_type": "code",
    "id": "aqfUm43XxVWb"
   },
   "outputs": [],
   "source": [
    "def mini_batch_size(size):\n",
    "    if size == 128:\n",
    "        return 128\n",
    "    elif size == 256:\n",
    "        return 256\n",
    "    elif size == 512:\n",
    "        return 512\n",
    "    else:\n",
    "        return size"
   ]
  },
  {
   "cell_type": "markdown",
   "metadata": {
    "colab_type": "text",
    "id": "4OhqQ4ZqxVWd"
   },
   "source": [
    "### Learning Rate\n",
    "\n",
    "可以設定 learning rate 的大小，例如 0.1, 0.01, 0.5 等\n",
    "\n",
    "\\begin{equation}w' \\leftarrow w - \\eta \\cdot \\frac{\\partial L}{\\partial w}\\end{equation}\n",
    "\n",
    "learning rate $\\eta$ 決定大小，$\\frac{\\partial L}{\\partial w}$ 決定方向\n",
    "\n",
    "通常介於 0.01 到 0.1 之間\n",
    "\n",
    "同一個 epoch 的 learning rate 是常數，epoch 越多時，learning rate 就越會調越小。\n",
    "* $\\eta_i = \\eta_{i-1}/\\sqrt{i+1}$\n",
    "* AdaGrad: \\begin{equation}\\eta_w = \\frac{\\eta}{\\sqrt{\\sum_{i=0}^{t}g_i^2}}, g_i = \\frac{\\partial L}{\\partial w}\\end{equation}"
   ]
  },
  {
   "cell_type": "code",
   "execution_count": 47,
   "metadata": {
    "colab": {},
    "colab_type": "code",
    "id": "plKbNTJ9xVWd"
   },
   "outputs": [],
   "source": [
    "def set_learning_rate(rate):\n",
    "    if rate == 0.1:\n",
    "        return 0.1\n",
    "    elif rate == 0.01:\n",
    "        return 0.01\n",
    "    elif rate == 0.5:\n",
    "        return 0.5\n",
    "    else:\n",
    "        return rate"
   ]
  },
  {
   "cell_type": "markdown",
   "metadata": {
    "colab_type": "text",
    "id": "KSSUj5wuxVWf"
   },
   "source": [
    "### 這邊才是定義 model"
   ]
  },
  {
   "cell_type": "code",
   "execution_count": 48,
   "metadata": {
    "colab": {},
    "colab_type": "code",
    "id": "urCNA67dxVWg"
   },
   "outputs": [],
   "source": [
    "def DefineModel():\n",
    "    # Initialize\n",
    "    model = Sequential()\n",
    "    \n",
    "    # Initialize all variables\n",
    "    first_layer_width, second_layer_width = layers('C')\n",
    "    activation_func = activation_function('relu')\n",
    "    loss_function = loss_func('crossentropy')\n",
    "    dropout_rate = set_dropout_rate(0.0)\n",
    "    weight_regularizer = regularization()\n",
    "    learning_rate = set_learning_rate(0.1)\n",
    "    \n",
    "    # Add first hidden layer\n",
    "    model.add(Dense(first_layer_width, input_dim=784, W_regularizer=weight_regularizer))\n",
    "    model.add(Activation(activation_func))\n",
    "    if dropout_rate > 0:\n",
    "        model.add(Dropout(dropout_rate))\n",
    "        \n",
    "    # Add second hidden layer\n",
    "    if second_layer_width > 0:\n",
    "        model.add(Dense(second_layer_width))\n",
    "        model.add(Activation(activation_func))\n",
    "        if dropout_rate > 0:\n",
    "            model.add(Dropout(dropout_rate))\n",
    "            \n",
    "    # Last layer has the same dimension as the number of classes\n",
    "    model.add(Dense(10))\n",
    "    # Then add softmax\n",
    "    model.add(Activation('softmax'))\n",
    "    # Define optimizer\n",
    "    opt = SGD(lr=learning_rate, clipnorm=5.)\n",
    "    # Define loss function\n",
    "    model.compile(loss=loss_function, optimizer=opt, metrics=['accuracy'])\n",
    "    \n",
    "    return model"
   ]
  },
  {
   "cell_type": "markdown",
   "metadata": {
    "colab_type": "text",
    "id": "PYibCIpkxVWh"
   },
   "source": [
    "### 定義怎麼 train model"
   ]
  },
  {
   "cell_type": "code",
   "execution_count": 49,
   "metadata": {
    "colab": {},
    "colab_type": "code",
    "id": "3dT-6bSoxVWi"
   },
   "outputs": [],
   "source": [
    "def TrainModel(data=None, epochs=20):\n",
    "    batch = mini_batch_size(128)\n",
    "    start_time = time.time()\n",
    "    model = DefineModel()\n",
    "    \n",
    "    if data is None:\n",
    "        print('Must provide data.')\n",
    "        return\n",
    "    \n",
    "    X_train, X_test, y_train, y_test = data\n",
    "    print('Start training...')\n",
    "    \n",
    "    # There are 60,000 samples\n",
    "    # Use the first 50,000 to train and last 10,000 to validate.\n",
    "    history = model.fit(X_train[:55000], y_train[:55000], \n",
    "                        nb_epoch=epochs, batch_size=batch,\n",
    "                        validation_data=(X_train[55000:], y_train[55000:]))\n",
    "    print('Training took {0} seconds.'.format(time.time() - start_time))\n",
    "    return model, history"
   ]
  },
  {
   "cell_type": "markdown",
   "metadata": {
    "colab_type": "text",
    "id": "wQRD3VGaxVWj"
   },
   "source": [
    "### 定義怎麼 test model"
   ]
  },
  {
   "cell_type": "code",
   "execution_count": 50,
   "metadata": {
    "colab": {},
    "colab_type": "code",
    "id": "vQg9zZYwxVWk"
   },
   "outputs": [],
   "source": [
    "def TestModel(model=None, data=None):\n",
    "    if model is None:\n",
    "        print('Must provide a trained model.')\n",
    "        return\n",
    "    if data is None:\n",
    "        print('Must provide data.')\n",
    "        return\n",
    "    x_test, y_test = data\n",
    "    scores = model.evaluate(x_test, y_test)\n",
    "    return scores"
   ]
  },
  {
   "cell_type": "markdown",
   "metadata": {
    "colab_type": "text",
    "id": "TKZx1j8UxVWl"
   },
   "source": [
    "### 開始訓練"
   ]
  },
  {
   "cell_type": "code",
   "execution_count": 51,
   "metadata": {
    "colab": {
     "base_uri": "https://localhost:8080/",
     "height": 1020
    },
    "colab_type": "code",
    "id": "4up0dnXKxVWl",
    "outputId": "a7919f35-4ec9-4985-88b0-03e42a28a2ee"
   },
   "outputs": [
    {
     "name": "stdout",
     "output_type": "stream",
     "text": [
      "Start training...\n"
     ]
    },
    {
     "name": "stderr",
     "output_type": "stream",
     "text": [
      "/usr/local/anaconda3/lib/python3.6/site-packages/ipykernel_launcher.py:14: UserWarning: Update your `Dense` call to the Keras 2 API: `Dense(128, input_dim=784, kernel_regularizer=None)`\n",
      "  \n",
      "/usr/local/anaconda3/lib/python3.6/site-packages/ipykernel_launcher.py:17: UserWarning: The `nb_epoch` argument in `fit` has been renamed `epochs`.\n"
     ]
    },
    {
     "name": "stdout",
     "output_type": "stream",
     "text": [
      "Train on 55000 samples, validate on 5000 samples\n",
      "Epoch 1/20\n",
      "55000/55000 [==============================] - 3s 50us/step - loss: 0.4660 - acc: 0.8689 - val_loss: 0.2008 - val_acc: 0.9446\n",
      "Epoch 2/20\n",
      "55000/55000 [==============================] - 2s 37us/step - loss: 0.2250 - acc: 0.9347 - val_loss: 0.1564 - val_acc: 0.9558\n",
      "Epoch 3/20\n",
      "55000/55000 [==============================] - 2s 37us/step - loss: 0.1681 - acc: 0.9509 - val_loss: 0.1287 - val_acc: 0.9662\n",
      "Epoch 4/20\n",
      "55000/55000 [==============================] - 2s 36us/step - loss: 0.1353 - acc: 0.9608 - val_loss: 0.1054 - val_acc: 0.9684\n",
      "Epoch 5/20\n",
      "55000/55000 [==============================] - 2s 37us/step - loss: 0.1120 - acc: 0.9677 - val_loss: 0.0899 - val_acc: 0.9752\n",
      "Epoch 6/20\n",
      "55000/55000 [==============================] - 2s 37us/step - loss: 0.0958 - acc: 0.9721 - val_loss: 0.0842 - val_acc: 0.9768\n",
      "Epoch 7/20\n",
      "55000/55000 [==============================] - 2s 37us/step - loss: 0.0831 - acc: 0.9751 - val_loss: 0.0856 - val_acc: 0.9780\n",
      "Epoch 8/20\n",
      "55000/55000 [==============================] - 2s 37us/step - loss: 0.0732 - acc: 0.9787 - val_loss: 0.0733 - val_acc: 0.9780\n",
      "Epoch 9/20\n",
      "55000/55000 [==============================] - 2s 36us/step - loss: 0.0647 - acc: 0.9806 - val_loss: 0.0705 - val_acc: 0.9818\n",
      "Epoch 10/20\n",
      "55000/55000 [==============================] - 2s 37us/step - loss: 0.0581 - acc: 0.9828 - val_loss: 0.0787 - val_acc: 0.9756\n",
      "Epoch 11/20\n",
      "55000/55000 [==============================] - 2s 37us/step - loss: 0.0523 - acc: 0.9852 - val_loss: 0.0684 - val_acc: 0.9818\n",
      "Epoch 12/20\n",
      "55000/55000 [==============================] - 2s 37us/step - loss: 0.0471 - acc: 0.9865 - val_loss: 0.0645 - val_acc: 0.9828\n",
      "Epoch 13/20\n",
      "55000/55000 [==============================] - 2s 37us/step - loss: 0.0422 - acc: 0.9880 - val_loss: 0.0727 - val_acc: 0.9798\n",
      "Epoch 14/20\n",
      "55000/55000 [==============================] - 2s 37us/step - loss: 0.0385 - acc: 0.9889 - val_loss: 0.0703 - val_acc: 0.9814\n",
      "Epoch 15/20\n",
      "55000/55000 [==============================] - 2s 37us/step - loss: 0.0348 - acc: 0.9902 - val_loss: 0.0644 - val_acc: 0.9834\n",
      "Epoch 16/20\n",
      "55000/55000 [==============================] - 2s 37us/step - loss: 0.0311 - acc: 0.9921 - val_loss: 0.0655 - val_acc: 0.9832\n",
      "Epoch 17/20\n",
      "55000/55000 [==============================] - 2s 37us/step - loss: 0.0288 - acc: 0.9924 - val_loss: 0.0645 - val_acc: 0.9840\n",
      "Epoch 18/20\n",
      "55000/55000 [==============================] - 2s 37us/step - loss: 0.0257 - acc: 0.9937 - val_loss: 0.0619 - val_acc: 0.9846\n",
      "Epoch 19/20\n",
      "55000/55000 [==============================] - 2s 37us/step - loss: 0.0234 - acc: 0.9942 - val_loss: 0.0637 - val_acc: 0.9848\n",
      "Epoch 20/20\n",
      "55000/55000 [==============================] - 2s 37us/step - loss: 0.0211 - acc: 0.9952 - val_loss: 0.0631 - val_acc: 0.9842\n",
      "Training took 41.57031011581421 seconds.\n"
     ]
    }
   ],
   "source": [
    "trained_model, training_history = TrainModel(data=[X_train, X_test, y_train, y_test])"
   ]
  },
  {
   "cell_type": "markdown",
   "metadata": {
    "colab_type": "text",
    "id": "kEmQXxskxVWm"
   },
   "source": [
    "### 畫圖看結果\n",
    "\n",
    "#### Loss 和 Accuracy"
   ]
  },
  {
   "cell_type": "code",
   "execution_count": 52,
   "metadata": {
    "colab": {},
    "colab_type": "code",
    "id": "eBrfNY3RxVWn"
   },
   "outputs": [],
   "source": [
    "def PlotHistory(train_value, test_value, value_is_loss_or_acc):\n",
    "    fig, ax = plt.subplots()\n",
    "    ax.plot([None] + train_value, 'o-')\n",
    "    ax.plot([None] + test_value, 'x-')\n",
    "    ax.legend(['Train ' + value_is_loss_or_acc, 'Validation ' + value_is_loss_or_acc], loc=0)\n",
    "    ax.set_title('Training/Validation ' + value_is_loss_or_acc + ' per Epoch')\n",
    "    ax.set_xlabel('Epoch')\n",
    "    ax.set_ylabel(value_is_loss_or_acc)"
   ]
  },
  {
   "cell_type": "code",
   "execution_count": 53,
   "metadata": {
    "colab": {
     "base_uri": "https://localhost:8080/",
     "height": 571
    },
    "colab_type": "code",
    "id": "HQXZ6afMxVWo",
    "outputId": "ee5641a7-3d0d-49b2-f1f9-c59abbb97854"
   },
   "outputs": [
    {
     "data": {
      "image/png": "[encoded data removed]",
      "text/plain": [
       "<Figure size 432x288 with 1 Axes>"
      ]
     },
     "metadata": {
      "needs_background": "light"
     },
     "output_type": "display_data"
    },
    {
     "data": {
      "image/png": "[encoded data removed]",
      "text/plain": [
       "<Figure size 432x288 with 1 Axes>"
      ]
     },
     "metadata": {
      "needs_background": "light"
     },
     "output_type": "display_data"
    }
   ],
   "source": [
    "PlotHistory(training_history.history['loss'], training_history.history['val_loss'], 'Loss')\n",
    "PlotHistory(training_history.history['acc'], training_history.history['val_acc'], 'Accuracy')"
   ]
  },
  {
   "cell_type": "markdown",
   "metadata": {
    "colab_type": "text",
    "id": "JF6OvVfqxVWq"
   },
   "source": [
    "#### Regularization"
   ]
  },
  {
   "cell_type": "code",
   "execution_count": 54,
   "metadata": {
    "colab": {},
    "colab_type": "code",
    "id": "tENvSlLUxVWq"
   },
   "outputs": [],
   "source": [
    "def drawWeightHistogram(x):\n",
    "    fig, ax = plt.subplots()\n",
    "    n, bins, patches = plt.hist(x, 50)\n",
    "    plt.xlim(-0.5, 0.5)\n",
    "    plt.xlabel('Weight')\n",
    "    plt.ylabel('Count')\n",
    "    zero_counts = (x == 0.0).sum()\n",
    "    plt.title(\"Weight Histogram. Num of '0's: %d\" % zero_counts)"
   ]
  },
  {
   "cell_type": "code",
   "execution_count": 55,
   "metadata": {
    "colab": {
     "base_uri": "https://localhost:8080/",
     "height": 294
    },
    "colab_type": "code",
    "id": "ESeHveBUxVWs",
    "outputId": "b91a9eaf-6d92-4d23-fae0-857c85320ca8"
   },
   "outputs": [
    {
     "data": {
      "image/png": "[encoded data removed]",
      "text/plain": [
       "<Figure size 432x288 with 1 Axes>"
      ]
     },
     "metadata": {
      "needs_background": "light"
     },
     "output_type": "display_data"
    }
   ],
   "source": [
    "wl = trained_model.layers[0].get_weights()[0].flatten()\n",
    "drawWeightHistogram(wl)"
   ]
  },
  {
   "cell_type": "markdown",
   "metadata": {
    "colab_type": "text",
    "id": "rHxevnCAxVWt"
   },
   "source": [
    "### 看 model 跑 test sample 的分數"
   ]
  },
  {
   "cell_type": "code",
   "execution_count": 56,
   "metadata": {
    "colab": {
     "base_uri": "https://localhost:8080/",
     "height": 51
    },
    "colab_type": "code",
    "id": "FcEgwpu0xVWu",
    "outputId": "cc2db31e-532f-4767-f819-38863548fb6e"
   },
   "outputs": [
    {
     "name": "stdout",
     "output_type": "stream",
     "text": [
      "10000/10000 [==============================] - 0s 25us/step\n",
      "Test loss 0.0754, accuracy 97.76%\n"
     ]
    }
   ],
   "source": [
    "test_score = TestModel(model=trained_model, data=[X_test, y_test])\n",
    "print('Test loss {:.4f}, accuracy {:.2f}%'.format(test_score[0], test_score[1] * 100))"
   ]
  },
  {
   "cell_type": "markdown",
   "metadata": {
    "colab_type": "text",
    "id": "5JRuRG6fxVWv"
   },
   "source": [
    "### 一些畫圖的函數"
   ]
  },
  {
   "cell_type": "code",
   "execution_count": 57,
   "metadata": {
    "colab": {},
    "colab_type": "code",
    "id": "O1csfRmOxVWw"
   },
   "outputs": [],
   "source": [
    "def ShowInputImage(data):\n",
    "    '''Visualize input image.'''\n",
    "    plot = plt.figure()\n",
    "    plot.set_size_inches(2, 2)\n",
    "    plt.imshow(np.reshape(-data, (28, 28)), cmap='Greys_r')\n",
    "    plt.title('Input')\n",
    "    plt.axis('off')\n",
    "    plt.show()"
   ]
  },
  {
   "cell_type": "code",
   "execution_count": 58,
   "metadata": {
    "colab": {},
    "colab_type": "code",
    "id": "ZUFmeaI0xVWx"
   },
   "outputs": [],
   "source": [
    "def ShowHiddenLayerOutput(input_data, target_layer_num):\n",
    "    '''Visualize output from the target hidden layer.'''\n",
    "    from keras import backend as K\n",
    "    # backend converter: to TensorFlow\n",
    "    target_layer = K.function(trained_model.inputs, [trained_model.layers[target_layer_num].output])\n",
    "    # Extract output from the target hidden layer\n",
    "    target_layer_out = target_layer([input_data])\n",
    "    plot = plt.figure()\n",
    "    plot.set_size_inches(2, 2)\n",
    "    plt.imshow(np.reshape(-target_layer_out[0][0], (16, -1)), cmap='Greys_r')\n",
    "    plt.title('Hidden layer ' + str(target_layer_num))\n",
    "    plt.axis('off')\n",
    "    plt.show()"
   ]
  },
  {
   "cell_type": "code",
   "execution_count": 59,
   "metadata": {
    "colab": {},
    "colab_type": "code",
    "id": "3yfl5pG4xVW0"
   },
   "outputs": [],
   "source": [
    "def ShowFinalOutput(input_data):\n",
    "    '''Calculate final prediction.'''\n",
    "    from keras import backend as K\n",
    "    # backend converter: to TensorFlow\n",
    "    # Calculate final prediction\n",
    "    last_layer = K.function(trained_model.inputs, [trained_model.layers[-1].output])\n",
    "    last_layer_out = last_layer([input_data])\n",
    "    print('Final prediction: ' + str(np.argmax(last_layer_out[0][0])))"
   ]
  },
  {
   "cell_type": "code",
   "execution_count": 60,
   "metadata": {
    "colab": {
     "base_uri": "https://localhost:8080/",
     "height": 344
    },
    "colab_type": "code",
    "id": "DmnCPEmkxVW1",
    "outputId": "1627b71c-fda1-4d9f-b450-41c3c9531029"
   },
   "outputs": [
    {
     "data": {
      "image/png": "[encoded data removed]",
      "text/plain": [
       "<Figure size 144x144 with 1 Axes>"
      ]
     },
     "metadata": {
      "needs_background": "light"
     },
     "output_type": "display_data"
    },
    {
     "data": {
      "image/png": "[encoded data removed]",
      "text/plain": [
       "<Figure size 144x144 with 1 Axes>"
      ]
     },
     "metadata": {
      "needs_background": "light"
     },
     "output_type": "display_data"
    },
    {
     "name": "stdout",
     "output_type": "stream",
     "text": [
      "Final prediction: 7\n"
     ]
    }
   ],
   "source": [
    "ShowInputImage(X_test[0])\n",
    "ShowHiddenLayerOutput(X_test, 1)\n",
    "ShowFinalOutput(X_test)"
   ]
  },
  {
   "cell_type": "code",
   "execution_count": 61,
   "metadata": {
    "colab": {
     "base_uri": "https://localhost:8080/",
     "height": 34
    },
    "colab_type": "code",
    "id": "Oa2Pz1qKxVW2",
    "outputId": "de60a6fe-62f3-4172-e620-630c5d4a4c73"
   },
   "outputs": [
    {
     "name": "stdout",
     "output_type": "stream",
     "text": [
      "1.12.0\n"
     ]
    }
   ],
   "source": [
    "import tensorflow as tf\n",
    "print(tf.__version__)"
   ]
  },
  {
   "cell_type": "markdown",
   "metadata": {},
   "source": [
    "***\n",
    "***\n",
    "***"
   ]
  },
  {
   "cell_type": "markdown",
   "metadata": {},
   "source": [
    "## LSTM\n",
    "\n",
    "### Text generation\n",
    "\n",
    "* 用尼采的文章來產生像是尼采寫的文章\n",
    "  * 如果是要用其他的輸入，那 corpus 至少要 ~100k，但最好是 ~1M\n",
    "* 至少要 20 個 epochs 才能訓練出比較像樣的文章\n",
    "* 需要用 GPU 加速"
   ]
  },
  {
   "cell_type": "code",
   "execution_count": 36,
   "metadata": {},
   "outputs": [],
   "source": [
    "from __future__ import print_function # must occur at the beginning of the file\n",
    "\n",
    "import numpy as np\n",
    "import random\n",
    "import sys"
   ]
  },
  {
   "cell_type": "code",
   "execution_count": 37,
   "metadata": {},
   "outputs": [],
   "source": [
    "from keras.models import Sequential\n",
    "from keras.layers import Dense, Activation, Dropout, LSTM\n",
    "from keras.optimizers import SGD\n",
    "from keras.utils.data_utils import get_file"
   ]
  },
  {
   "cell_type": "markdown",
   "metadata": {},
   "source": [
    "* `read(size)`: size is an optional numeric argument and this func returns a quantity of data equal to size. If size if omitted, then it reads the entire file and returns it\n",
    "* `readline()`: reads a single line from file with newline at the end\n",
    "* `readlines()`: returns a list containing all the lines in the file\n",
    "* `xreadlines()`: Returns a generator to loop over every single line in the file"
   ]
  },
  {
   "cell_type": "code",
   "execution_count": 38,
   "metadata": {},
   "outputs": [
    {
     "name": "stdout",
     "output_type": "stream",
     "text": [
      "corpus length= 600893\n"
     ]
    }
   ],
   "source": [
    "path = get_file('nietzsche.txt', origin=\"https://s3.amazonaws.com/text-datasets/nietzsche.txt\")\n",
    "\n",
    "corpus = None\n",
    "with open(path) as f:\n",
    "    corpus = f.read() # read entire file\n",
    "    corpus = corpus.lower() # change all characters to lower case\n",
    "\n",
    "# 也可以用一行解決\n",
    "# corpus = open(path).read().lower()\n",
    "    \n",
    "print('corpus length=', len(corpus))"
   ]
  },
  {
   "cell_type": "markdown",
   "metadata": {},
   "source": [
    "corpus 是一個字串，儲存了整篇文章的內容"
   ]
  },
  {
   "cell_type": "code",
   "execution_count": 39,
   "metadata": {},
   "outputs": [
    {
     "name": "stdout",
     "output_type": "stream",
     "text": [
      "<class 'str'>\n",
      "preface\n",
      "\n",
      "\n",
      "supposing that truth is a woman--what then? is there not ground\n",
      "for suspecting that all ph\n"
     ]
    }
   ],
   "source": [
    "print(type(corpus))\n",
    "print(corpus[:100]) # 顯示前 100 個字元"
   ]
  },
  {
   "cell_type": "markdown",
   "metadata": {},
   "source": [
    "找出所有獨立的字元 (不是找單字)"
   ]
  },
  {
   "cell_type": "code",
   "execution_count": 40,
   "metadata": {},
   "outputs": [
    {
     "name": "stdout",
     "output_type": "stream",
     "text": [
      "['\\n', ' ', '!', '\"', \"'\", '(', ')', ',', '-', '.', '0', '1', '2', '3', '4', '5', '6', '7', '8', '9', ':', ';', '=', '?', '[', ']', '_', 'a', 'b', 'c', 'd', 'e', 'f', 'g', 'h', 'i', 'j', 'k', 'l', 'm', 'n', 'o', 'p', 'q', 'r', 's', 't', 'u', 'v', 'w', 'x', 'y', 'z', 'ä', 'æ', 'é', 'ë']\n",
      "tital chars= 57\n"
     ]
    }
   ],
   "source": [
    "chars = sorted(list(set(corpus)))\n",
    "\n",
    "print(chars)\n",
    "print('tital chars=', len(chars))"
   ]
  },
  {
   "cell_type": "markdown",
   "metadata": {},
   "source": [
    "把 index 和 char 的 mapping 做成 dictionary"
   ]
  },
  {
   "cell_type": "code",
   "execution_count": 41,
   "metadata": {},
   "outputs": [],
   "source": [
    "char_indices = dict((c, i) for i, c in enumerate(chars))\n",
    "indices_char = dict((i, c) for i, c in enumerate(chars))"
   ]
  },
  {
   "cell_type": "markdown",
   "metadata": {},
   "source": []
  },
  {
   "cell_type": "code",
   "execution_count": 42,
   "metadata": {},
   "outputs": [
    {
     "name": "stdout",
     "output_type": "stream",
     "text": [
      "Number of sentences= 200285\n",
      "Vectorization...\n"
     ]
    }
   ],
   "source": [
    "maxlen = 40\n",
    "step = 3\n",
    "sentences = []\n",
    "next_chars = []\n",
    "\n",
    "for i in range(0, len(corpus) - maxlen, step):\n",
    "    sentences.append(corpus[i:i + maxlen])\n",
    "    next_chars.append(corpus[i + maxlen]) # 因為要由前面的內容來預測下一個字元，所以要先把下一個字元找出來\n",
    "print('Number of sentences=', len(sentences))\n",
    "\n",
    "print('Vectorization...')\n",
    "X = np.zeros((len(sentences), maxlen, len(chars)), dtype=np.bool)\n",
    "y = np.zeros((len(sentences), len(chars)), dtype=np.bool)\n",
    "\n",
    "for i, sentence in enumerate(sentences):\n",
    "    for t, char in enumerate(sentence):\n",
    "        X[i, t, char_indices[char]] = 1\n",
    "        y[i, char_indices[next_chars[i]]] = 1"
   ]
  },
  {
   "cell_type": "markdown",
   "metadata": {},
   "source": [
    "### Build LSTM model"
   ]
  },
  {
   "cell_type": "code",
   "execution_count": 43,
   "metadata": {},
   "outputs": [
    {
     "name": "stdout",
     "output_type": "stream",
     "text": [
      "Build model...\n"
     ]
    }
   ],
   "source": [
    "# 只建立一個 LSTM\n",
    "print('Build model...')\n",
    "model = Sequential()\n",
    "model.add(LSTM(64, input_shape=(maxlen, len(chars))))\n",
    "model.add(Dense(len(chars)))\n",
    "model.add(Activation('softmax'))\n",
    "\n",
    "optimizer = SGD(lr=1)\n",
    "model.compile(loss='categorical_crossentropy', optimizer=optimizer)"
   ]
  },
  {
   "cell_type": "code",
   "execution_count": 44,
   "metadata": {},
   "outputs": [],
   "source": [
    "def sample(preds, temperature=1.0):\n",
    "    '''\n",
    "    Helper function to sample an index for a probability array\n",
    "    '''\n",
    "    preds = np.asarray(preds).astype('float64')\n",
    "    preds = np.log(preds) / temperature\n",
    "    exp_preds = np.exp(preds)\n",
    "    preds = exp_preds / np.sum(exp_preds)\n",
    "    probas = np.random.multinomial(1, preds, 1)\n",
    "    return np.argmax(probas)"
   ]
  },
  {
   "cell_type": "markdown",
   "metadata": {},
   "source": [
    "訓練模型，每個 iteration 結束就把產生的字輸出"
   ]
  },
  {
   "cell_type": "code",
   "execution_count": 70,
   "metadata": {},
   "outputs": [
    {
     "name": "stdout",
     "output_type": "stream",
     "text": [
      "\n",
      "--------------------------------------------------\n",
      "Iteration 1\n",
      "Epoch 1/1\n",
      "200285/200285 [==============================] - 195s 974us/step - loss: 2.5128\n",
      "\n",
      "----- diversity =  0.5\n",
      "Generating with seed: \"negation and not in revenge the element\n",
      "\"\n",
      "negation and not in revenge the element\n",
      "rntgaeggdy sddsddastddd"
     ]
    },
    {
     "ename": "KeyboardInterrupt",
     "evalue": "",
     "output_type": "error",
     "traceback": [
      "\u001b[0;31m---------------------------------------------------------------------------\u001b[0m",
      "\u001b[0;31mKeyboardInterrupt\u001b[0m                         Traceback (most recent call last)",
      "\u001b[0;32m<ipython-input-70-25a1dcf2bf10>\u001b[0m in \u001b[0;36m<module>\u001b[0;34m\u001b[0m\n\u001b[1;32m     23\u001b[0m                 \u001b[0mX\u001b[0m\u001b[0;34m[\u001b[0m\u001b[0;36m0\u001b[0m\u001b[0;34m,\u001b[0m \u001b[0mt\u001b[0m\u001b[0;34m,\u001b[0m \u001b[0mchar_indices\u001b[0m\u001b[0;34m[\u001b[0m\u001b[0mchar\u001b[0m\u001b[0;34m]\u001b[0m\u001b[0;34m]\u001b[0m \u001b[0;34m=\u001b[0m \u001b[0;36m1.\u001b[0m\u001b[0;34m\u001b[0m\u001b[0m\n\u001b[1;32m     24\u001b[0m \u001b[0;34m\u001b[0m\u001b[0m\n\u001b[0;32m---> 25\u001b[0;31m             \u001b[0mpreds\u001b[0m \u001b[0;34m=\u001b[0m \u001b[0mmodel\u001b[0m\u001b[0;34m.\u001b[0m\u001b[0mpredict\u001b[0m\u001b[0;34m(\u001b[0m\u001b[0mX\u001b[0m\u001b[0;34m,\u001b[0m \u001b[0mverbose\u001b[0m\u001b[0;34m=\u001b[0m\u001b[0;36m0\u001b[0m\u001b[0;34m)\u001b[0m\u001b[0;34m[\u001b[0m\u001b[0;36m0\u001b[0m\u001b[0;34m]\u001b[0m\u001b[0;34m\u001b[0m\u001b[0m\n\u001b[0m\u001b[1;32m     26\u001b[0m             \u001b[0mnext_index\u001b[0m \u001b[0;34m=\u001b[0m \u001b[0msample\u001b[0m\u001b[0;34m(\u001b[0m\u001b[0mpreds\u001b[0m\u001b[0;34m,\u001b[0m \u001b[0mdiversity\u001b[0m\u001b[0;34m)\u001b[0m\u001b[0;34m\u001b[0m\u001b[0m\n\u001b[1;32m     27\u001b[0m             \u001b[0mnext_char\u001b[0m \u001b[0;34m=\u001b[0m \u001b[0mindices_char\u001b[0m\u001b[0;34m[\u001b[0m\u001b[0mnext_index\u001b[0m\u001b[0;34m]\u001b[0m\u001b[0;34m\u001b[0m\u001b[0m\n",
      "\u001b[0;32m/usr/local/anaconda3/lib/python3.6/site-packages/keras/engine/training.py\u001b[0m in \u001b[0;36mpredict\u001b[0;34m(self, x, batch_size, verbose, steps)\u001b[0m\n\u001b[1;32m   1167\u001b[0m                                             \u001b[0mbatch_size\u001b[0m\u001b[0;34m=\u001b[0m\u001b[0mbatch_size\u001b[0m\u001b[0;34m,\u001b[0m\u001b[0;34m\u001b[0m\u001b[0m\n\u001b[1;32m   1168\u001b[0m                                             \u001b[0mverbose\u001b[0m\u001b[0;34m=\u001b[0m\u001b[0mverbose\u001b[0m\u001b[0;34m,\u001b[0m\u001b[0;34m\u001b[0m\u001b[0m\n\u001b[0;32m-> 1169\u001b[0;31m                                             steps=steps)\n\u001b[0m\u001b[1;32m   1170\u001b[0m \u001b[0;34m\u001b[0m\u001b[0m\n\u001b[1;32m   1171\u001b[0m     def train_on_batch(self, x, y,\n",
      "\u001b[0;32m/usr/local/anaconda3/lib/python3.6/site-packages/keras/engine/training_arrays.py\u001b[0m in \u001b[0;36mpredict_loop\u001b[0;34m(model, f, ins, batch_size, verbose, steps)\u001b[0m\n\u001b[1;32m    292\u001b[0m                 \u001b[0mins_batch\u001b[0m\u001b[0;34m[\u001b[0m\u001b[0mi\u001b[0m\u001b[0;34m]\u001b[0m \u001b[0;34m=\u001b[0m \u001b[0mins_batch\u001b[0m\u001b[0;34m[\u001b[0m\u001b[0mi\u001b[0m\u001b[0;34m]\u001b[0m\u001b[0;34m.\u001b[0m\u001b[0mtoarray\u001b[0m\u001b[0;34m(\u001b[0m\u001b[0;34m)\u001b[0m\u001b[0;34m\u001b[0m\u001b[0m\n\u001b[1;32m    293\u001b[0m \u001b[0;34m\u001b[0m\u001b[0m\n\u001b[0;32m--> 294\u001b[0;31m             \u001b[0mbatch_outs\u001b[0m \u001b[0;34m=\u001b[0m \u001b[0mf\u001b[0m\u001b[0;34m(\u001b[0m\u001b[0mins_batch\u001b[0m\u001b[0;34m)\u001b[0m\u001b[0;34m\u001b[0m\u001b[0m\n\u001b[0m\u001b[1;32m    295\u001b[0m             \u001b[0mbatch_outs\u001b[0m \u001b[0;34m=\u001b[0m \u001b[0mto_list\u001b[0m\u001b[0;34m(\u001b[0m\u001b[0mbatch_outs\u001b[0m\u001b[0;34m)\u001b[0m\u001b[0;34m\u001b[0m\u001b[0m\n\u001b[1;32m    296\u001b[0m             \u001b[0;32mif\u001b[0m \u001b[0mbatch_index\u001b[0m \u001b[0;34m==\u001b[0m \u001b[0;36m0\u001b[0m\u001b[0;34m:\u001b[0m\u001b[0;34m\u001b[0m\u001b[0m\n",
      "\u001b[0;32m/usr/local/anaconda3/lib/python3.6/site-packages/keras/backend/tensorflow_backend.py\u001b[0m in \u001b[0;36m__call__\u001b[0;34m(self, inputs)\u001b[0m\n\u001b[1;32m   2713\u001b[0m                 \u001b[0;32mreturn\u001b[0m \u001b[0mself\u001b[0m\u001b[0;34m.\u001b[0m\u001b[0m_legacy_call\u001b[0m\u001b[0;34m(\u001b[0m\u001b[0minputs\u001b[0m\u001b[0;34m)\u001b[0m\u001b[0;34m\u001b[0m\u001b[0m\n\u001b[1;32m   2714\u001b[0m \u001b[0;34m\u001b[0m\u001b[0m\n\u001b[0;32m-> 2715\u001b[0;31m             \u001b[0;32mreturn\u001b[0m \u001b[0mself\u001b[0m\u001b[0;34m.\u001b[0m\u001b[0m_call\u001b[0m\u001b[0;34m(\u001b[0m\u001b[0minputs\u001b[0m\u001b[0;34m)\u001b[0m\u001b[0;34m\u001b[0m\u001b[0m\n\u001b[0m\u001b[1;32m   2716\u001b[0m         \u001b[0;32melse\u001b[0m\u001b[0;34m:\u001b[0m\u001b[0;34m\u001b[0m\u001b[0m\n\u001b[1;32m   2717\u001b[0m             \u001b[0;32mif\u001b[0m \u001b[0mpy_any\u001b[0m\u001b[0;34m(\u001b[0m\u001b[0mis_tensor\u001b[0m\u001b[0;34m(\u001b[0m\u001b[0mx\u001b[0m\u001b[0;34m)\u001b[0m \u001b[0;32mfor\u001b[0m \u001b[0mx\u001b[0m \u001b[0;32min\u001b[0m \u001b[0minputs\u001b[0m\u001b[0;34m)\u001b[0m\u001b[0;34m:\u001b[0m\u001b[0;34m\u001b[0m\u001b[0m\n",
      "\u001b[0;32m/usr/local/anaconda3/lib/python3.6/site-packages/keras/backend/tensorflow_backend.py\u001b[0m in \u001b[0;36m_call\u001b[0;34m(self, inputs)\u001b[0m\n\u001b[1;32m   2673\u001b[0m             \u001b[0mfetched\u001b[0m \u001b[0;34m=\u001b[0m \u001b[0mself\u001b[0m\u001b[0;34m.\u001b[0m\u001b[0m_callable_fn\u001b[0m\u001b[0;34m(\u001b[0m\u001b[0;34m*\u001b[0m\u001b[0marray_vals\u001b[0m\u001b[0;34m,\u001b[0m \u001b[0mrun_metadata\u001b[0m\u001b[0;34m=\u001b[0m\u001b[0mself\u001b[0m\u001b[0;34m.\u001b[0m\u001b[0mrun_metadata\u001b[0m\u001b[0;34m)\u001b[0m\u001b[0;34m\u001b[0m\u001b[0m\n\u001b[1;32m   2674\u001b[0m         \u001b[0;32melse\u001b[0m\u001b[0;34m:\u001b[0m\u001b[0;34m\u001b[0m\u001b[0m\n\u001b[0;32m-> 2675\u001b[0;31m             \u001b[0mfetched\u001b[0m \u001b[0;34m=\u001b[0m \u001b[0mself\u001b[0m\u001b[0;34m.\u001b[0m\u001b[0m_callable_fn\u001b[0m\u001b[0;34m(\u001b[0m\u001b[0;34m*\u001b[0m\u001b[0marray_vals\u001b[0m\u001b[0;34m)\u001b[0m\u001b[0;34m\u001b[0m\u001b[0m\n\u001b[0m\u001b[1;32m   2676\u001b[0m         \u001b[0;32mreturn\u001b[0m \u001b[0mfetched\u001b[0m\u001b[0;34m[\u001b[0m\u001b[0;34m:\u001b[0m\u001b[0mlen\u001b[0m\u001b[0;34m(\u001b[0m\u001b[0mself\u001b[0m\u001b[0;34m.\u001b[0m\u001b[0moutputs\u001b[0m\u001b[0;34m)\u001b[0m\u001b[0;34m]\u001b[0m\u001b[0;34m\u001b[0m\u001b[0m\n\u001b[1;32m   2677\u001b[0m \u001b[0;34m\u001b[0m\u001b[0m\n",
      "\u001b[0;32m/usr/local/anaconda3/lib/python3.6/site-packages/tensorflow/python/client/session.py\u001b[0m in \u001b[0;36m__call__\u001b[0;34m(self, *args, **kwargs)\u001b[0m\n\u001b[1;32m   1437\u001b[0m           ret = tf_session.TF_SessionRunCallable(\n\u001b[1;32m   1438\u001b[0m               \u001b[0mself\u001b[0m\u001b[0;34m.\u001b[0m\u001b[0m_session\u001b[0m\u001b[0;34m.\u001b[0m\u001b[0m_session\u001b[0m\u001b[0;34m,\u001b[0m \u001b[0mself\u001b[0m\u001b[0;34m.\u001b[0m\u001b[0m_handle\u001b[0m\u001b[0;34m,\u001b[0m \u001b[0margs\u001b[0m\u001b[0;34m,\u001b[0m \u001b[0mstatus\u001b[0m\u001b[0;34m,\u001b[0m\u001b[0;34m\u001b[0m\u001b[0m\n\u001b[0;32m-> 1439\u001b[0;31m               run_metadata_ptr)\n\u001b[0m\u001b[1;32m   1440\u001b[0m         \u001b[0;32mif\u001b[0m \u001b[0mrun_metadata\u001b[0m\u001b[0;34m:\u001b[0m\u001b[0;34m\u001b[0m\u001b[0m\n\u001b[1;32m   1441\u001b[0m           \u001b[0mproto_data\u001b[0m \u001b[0;34m=\u001b[0m \u001b[0mtf_session\u001b[0m\u001b[0;34m.\u001b[0m\u001b[0mTF_GetBuffer\u001b[0m\u001b[0;34m(\u001b[0m\u001b[0mrun_metadata_ptr\u001b[0m\u001b[0;34m)\u001b[0m\u001b[0;34m\u001b[0m\u001b[0m\n",
      "\u001b[0;31mKeyboardInterrupt\u001b[0m: "
     ]
    }
   ],
   "source": [
    "for iteration in range(1, 20):\n",
    "    print()\n",
    "    print('-'*50)\n",
    "    print('Iteration', iteration)\n",
    "    model.fit(X, y, batch_size=128, epochs=1)\n",
    "    \n",
    "    start_index = np.random.randint(0, len(corpus) - maxlen - 1)\n",
    "    \n",
    "#     for diversity in [0.2, 0.5, 1.0, 1.2]:\n",
    "    for diversity in [0.5]:\n",
    "        print()\n",
    "        print('----- diversity = ', diversity)\n",
    "        \n",
    "        generated = ''\n",
    "        sentence = corpus[start_index : start_index + maxlen]\n",
    "        generated += sentence\n",
    "        print('Generating with seed: \"' + sentence + '\"')\n",
    "        sys.stdout.write(generated)\n",
    "        \n",
    "        for i in range(200):\n",
    "            x = np.zeros((1, maxlen, len(chars)))\n",
    "            for t, char in enumerate(sentence):\n",
    "                X[0, t, char_indices[char]] = 1.\n",
    "                \n",
    "            preds = model.predict(X, verbose=0)[0]\n",
    "            next_index = sample(preds, diversity)\n",
    "            next_char = indices_char[next_index]\n",
    "            \n",
    "            generated += next_char\n",
    "            sentence = sentence[1:] + next_char\n",
    "            \n",
    "            sys.stdout.write(next_char)\n",
    "            sys.stdout.flush()\n",
    "        print()"
   ]
  },
  {
   "cell_type": "markdown",
   "metadata": {},
   "source": [
    "***\n",
    "***\n",
    "***"
   ]
  },
  {
   "cell_type": "markdown",
   "metadata": {},
   "source": [
    "## LSTM\n",
    "\n",
    "## Twiter"
   ]
  },
  {
   "cell_type": "code",
   "execution_count": null,
   "metadata": {},
   "outputs": [],
   "source": [
    "from __future__ import print_function\n",
    "\n",
    "import csv\n",
    "import numpy as np\n",
    "import operator\n",
    "import re\n",
    "\n",
    "from keras.preprocessing import sequence\n",
    "from keras.models import Sequential\n",
    "from keras.layers import Dense, Embedding, LSTM\n",
    "from keras.utils import to_categorical"
   ]
  },
  {
   "cell_type": "code",
   "execution_count": null,
   "metadata": {},
   "outputs": [],
   "source": [
    "max_vocabulary = 10000\n",
    "maxlen = 20\n",
    "batch_size = 256"
   ]
  },
  {
   "cell_type": "code",
   "execution_count": null,
   "metadata": {},
   "outputs": [],
   "source": [
    "def preprocess_words(words):\n",
    "    # Remove consecutive period symbols\n",
    "    words = re.sub(r\"[\\. ][\\. ]+\", \" . \", words)\n",
    "    # Replace word+comma with word [space] comma\n",
    "    words = re.sub(r\",\", \" , \", words)\n",
    "    # Replace word+parenthesis with word [space] parenthesis.\n",
    "    # E.g., this(is) -> this ( is )\n",
    "    words = re.sub(r\"[\\(\\)]\", \" \\l \", words)\n",
    "    return words.split()"
   ]
  },
  {
   "cell_type": "code",
   "execution_count": null,
   "metadata": {},
   "outputs": [],
   "source": [
    "def load_twitter(filename):\n",
    "    labels = []\n",
    "    tweets = []\n",
    "    with open(filename) as csvfile:\n",
    "        reader = csv.DictReader(csvfile)\n",
    "        for row in reader:\n",
    "            # Column names = ItemID, Sentiment, SentimentSource, SentimentText\n",
    "            labels.append(int(row['Sentiment']))\n",
    "            words = row['SentimentText'].strip().lower()\n",
    "            tweets.append(preprocess_words(words))\n",
    "    return np.array(tweets), np.array(labels)"
   ]
  },
  {
   "cell_type": "code",
   "execution_count": null,
   "metadata": {},
   "outputs": [],
   "source": [
    "print('Loading data...')\n",
    "tweets, labels = load_twitter('Sentiment_Analysis_Dataset.csv')\n",
    "print('Load', len(labels), 'tweets')\n",
    "print('First tweet: {}'.format(' '.join(tweets[0])))\n",
    "print('First tweet label: {}'.format(labels[0]))"
   ]
  },
  {
   "cell_type": "code",
   "execution_count": null,
   "metadata": {},
   "outputs": [],
   "source": [
    "# randomize tweets and create training/test sets\n",
    "np.random.seed(1337)\n",
    "rand_idx = np.random.permutation(len(labels))\n",
    "rand_idx[:-10000]"
   ]
  },
  {
   "cell_type": "code",
   "execution_count": null,
   "metadata": {},
   "outputs": [],
   "source": [
    "# select last 10000 tweets as test set\n",
    "tweets_training = tweets[rand_idx[:-10000]]\n",
    "labels_training = labels[rand_idx[:-10000]]\n",
    "\n",
    "tweets_test = tweets[rand_idx[-10000:]]\n",
    "labels_test = labels[rand_idx[-10000:]]"
   ]
  },
  {
   "cell_type": "code",
   "execution_count": null,
   "metadata": {},
   "outputs": [],
   "source": [
    "def build_vocabulary(tweets):\n",
    "    print('### Example tweets:')\n",
    "    print(' '.join(tweets[0]))\n",
    "    print(' '.join(tweets[1]))\n",
    "    vocab = dict()\n",
    "    for t in tweets:\n",
    "        for word in t:\n",
    "            if word.startswith('@'): # ignore twitter username\n",
    "                continue\n",
    "            if word not in vocab:\n",
    "                vocab[word] = 0\n",
    "            vocab[word] += 1\n",
    "    # sort vocabulary by count\n",
    "    vocab = sorted(vocab.items(), key=operator.itemgetter(1), reverse=True)\n",
    "    # keep only top max_vocabulary ones\n",
    "    vocab = vocab[:max_vocabulary - 1] # max_vocabulary - 1: reserve one spot for 'unknown' token.\n",
    "    vocab.append(('<unk>', 0))\n",
    "    print('### Top 5 vocabs after sorting:')\n",
    "    print(vocab[:5])\n",
    "    return vocab"
   ]
  },
  {
   "cell_type": "code",
   "execution_count": null,
   "metadata": {},
   "outputs": [],
   "source": [
    "vocabulary = build_vocabulary(tweets_training)"
   ]
  },
  {
   "cell_type": "code",
   "execution_count": null,
   "metadata": {},
   "outputs": [],
   "source": [
    "def save_vocab(vocabulary):\n",
    "    with open('vocab.txt', 'w') as vf:\n",
    "        for v in vocabulary:\n",
    "            vf.write(v[0])\n",
    "            vf.write('\\t')\n",
    "            vf.write(str(v[1]))\n",
    "            vf.write('\\n')"
   ]
  },
  {
   "cell_type": "code",
   "execution_count": null,
   "metadata": {},
   "outputs": [],
   "source": [
    "save_vocab(vocabulary)"
   ]
  },
  {
   "cell_type": "code",
   "execution_count": null,
   "metadata": {},
   "outputs": [],
   "source": [
    "def create_vocab_index(vocab):\n",
    "    vocab_idx = dict()\n",
    "    v_id = 0\n",
    "    for v in vocab:\n",
    "        vocab_idx[v[0]] = v_id\n",
    "        v_id += 1\n",
    "    return vocab_idx"
   ]
  },
  {
   "cell_type": "code",
   "execution_count": null,
   "metadata": {},
   "outputs": [],
   "source": [
    "vocab_word_to_id = create_vocab_index(vocabulary)\n",
    "vocab_id_to_word = [(idx, word) for (word, idx) in vocab_word_to_id.items()]"
   ]
  },
  {
   "cell_type": "code",
   "execution_count": null,
   "metadata": {},
   "outputs": [],
   "source": [
    "def transcode_words(sents, vocab_index):\n",
    "    coded_words = [[vocab_index[w] if w in vocab_index else vocab_index['<unk>'] for w in words for words in sents]]\n",
    "    return coded_words"
   ]
  },
  {
   "cell_type": "code",
   "execution_count": null,
   "metadata": {},
   "outputs": [],
   "source": [
    "tweets_training_to_id = transcode_words(tweets_training, vocab_word_to_id)\n",
    "tweets_test_to_id = transcode_words(tweets_test, vocab_word_to_id)"
   ]
  },
  {
   "cell_type": "code",
   "execution_count": null,
   "metadata": {},
   "outputs": [],
   "source": [
    "# must transcode from word to word_id first!!\n",
    "print('Pad sequences (samples x time)')\n",
    "tweets_training_to_id_padded = sequence.pad_sequences(tweets_training_to_id, maxlen=maxlen)\n",
    "tweets_test_to_id_padded = sequence.pad_sequences(tweets_test_to_id, maxlen=maxlen)\n",
    "print('features shape:', tweets_training_to_padded.shape)"
   ]
  },
  {
   "cell_type": "code",
   "execution_count": null,
   "metadata": {},
   "outputs": [],
   "source": [
    "# turn label to one-hot\n",
    "labels_training_onehot = to_categorical(labels_training, num_classes=2)\n",
    "labels_test_onehot = to_categorical(labels_test, num_classes=2)"
   ]
  },
  {
   "cell_type": "code",
   "execution_count": null,
   "metadata": {},
   "outputs": [],
   "source": [
    "def build_model():\n",
    "    print('Building model...')\n",
    "    model = Sequential()\n",
    "    model.add(Embedding(max_vocabulary, 300))\n",
    "    model.add(LSTM(16, dropout=0.2, recurrent_dropout=0.2))\n",
    "    model.add(Dense(2, activation='sigmoid'))\n",
    "    \n",
    "    # try using different optimizers and different optimizer configs\n",
    "    model.compile(loss='binary_crossentropy',\n",
    "                  optimizer='adam',\n",
    "                  metrics=['accuracy'])\n",
    "    return model"
   ]
  },
  {
   "cell_type": "code",
   "execution_count": null,
   "metadata": {},
   "outputs": [],
   "source": [
    "def train(model):\n",
    "    print('Train...')\n",
    "    model.fit(tweets_training_to_id_padded, labels_training_outhot,\n",
    "              batch_size=batch_size,\n",
    "              epochs=10,\n",
    "              validation_data=(tweets_test_to_id_padded, labels_test_onehot))\n",
    "    score, acc = model.evaluate(tweets_test_to_id_padded, labels_test_onehot, batch_size=batch_size)\n",
    "    print('Test score:' score)\n",
    "    print('Test accuracy:' acc)"
   ]
  },
  {
   "cell_type": "code",
   "execution_count": null,
   "metadata": {},
   "outputs": [],
   "source": [
    "tweet_classify_model = build_model()\n",
    "train(tweet_classify_model)\n",
    "tweet_classify_model.save('tweet_model.pkl')"
   ]
  },
  {
   "cell_type": "code",
   "execution_count": null,
   "metadata": {},
   "outputs": [],
   "source": [
    "import tensorflow as tf\n",
    "print(tf.__version__)\n",
    "\n",
    "from keras.models import load_model\n",
    "pre_trained_model = load_model('tweet_model.pkl')\n",
    "pre_trained_model.summary()"
   ]
  },
  {
   "cell_type": "markdown",
   "metadata": {},
   "source": [
    "***\n",
    "***\n",
    "***"
   ]
  },
  {
   "cell_type": "markdown",
   "metadata": {},
   "source": [
    "## CNN"
   ]
  },
  {
   "cell_type": "code",
   "execution_count": 71,
   "metadata": {},
   "outputs": [],
   "source": [
    "from __future__ import print_function\n",
    "\n",
    "import keras.callbacks as cb\n",
    "from keras.datasets import mnist\n",
    "from keras.layers import Activation, Dense, Dropout, Flatten\n",
    "from keras.layers.convolutional import Conv2D\n",
    "from keras.layers.pooling import MaxPooling2D\n",
    "from keras.models import Sequential\n",
    "from keras.optimizers import SGD\n",
    "from keras.regularizers import l1, l2\n",
    "from keras.utils import np_utils"
   ]
  },
  {
   "cell_type": "code",
   "execution_count": 72,
   "metadata": {},
   "outputs": [],
   "source": [
    "import matplotlib.pyplot as plt\n",
    "import numpy as np\n",
    "import time"
   ]
  },
  {
   "cell_type": "markdown",
   "metadata": {},
   "source": [
    "### 1. Preprocessing\n",
    "\n",
    "* 要先把 image data 轉成 3D tensor\n",
    "  * 維度是 width x height x channel\n",
    "  * channel 就是指顏色\n",
    "* Data augmentation\n",
    "  * Cropping\n",
    "  * Random cropping\n",
    "  * Rotation\n",
    "  * Add random noises"
   ]
  },
  {
   "cell_type": "code",
   "execution_count": 75,
   "metadata": {},
   "outputs": [],
   "source": [
    "def PreprocessDataset():\n",
    "    # Load dataset\n",
    "    (X_train, y_train), (X_test, y_test) = mnist.load_data()\n",
    "    # Set numeric type\n",
    "    X_train = X_train.astype('float32')\n",
    "    X_test = X_test.astype('float32')\n",
    "    # Normalize value to [0, 1]\n",
    "    X_train /= 255\n",
    "    X_test /= 255\n",
    "    # Transform labels to one-hot\n",
    "    y_train = np_utils.to_categorical(y_train, 10)\n",
    "    y_test = np_utils.to_categorical(y_test, 10)\n",
    "    # Reshape: here X_train is reshaped to [channel] x [width] x [height]\n",
    "    # In other environment, the orders could be different; e.g., [height] x [width] x [channel].\n",
    "    X_train = X_train.reshape(X_train.shape[0], 28, 28, 1)\n",
    "    X_test = X_test.reshape(X_test.shape[0], 28, 28, 1)\n",
    "    return [X_train, X_test, y_train, y_test]"
   ]
  },
  {
   "cell_type": "code",
   "execution_count": 76,
   "metadata": {},
   "outputs": [],
   "source": [
    "X_train, X_test, y_train, y_test = PreprocessDataset()"
   ]
  },
  {
   "cell_type": "markdown",
   "metadata": {},
   "source": [
    "### 2. 定義 model\n",
    "\n",
    "定義一個 CNN model 需要設定\n",
    "1. **Filter**: filter 的大小，有幾個 filters？\n",
    "2. **Depth**: 有幾層？通常是 10 ~ 30 層\n",
    "3. **Stride**: filter 一次移動多少格？\n",
    "4. **Padding**: 要不要在最外圍加上一圈都是 0 的?\n",
    "\n",
    "### Pooling"
   ]
  },
  {
   "cell_type": "code",
   "execution_count": null,
   "metadata": {},
   "outputs": [],
   "source": []
  },
  {
   "cell_type": "code",
   "execution_count": 77,
   "metadata": {},
   "outputs": [],
   "source": [
    "num_filters = 16 # 建立 16 個 filters\n",
    "filter_size = 3 # filter 的大小是 3x3"
   ]
  },
  {
   "cell_type": "code",
   "execution_count": 78,
   "metadata": {},
   "outputs": [],
   "source": [
    "def DefineModel():\n",
    "    model = Sequential()\n",
    "    # First conv layer with filters of 3x3 pixels; also need to specify input shape.\n",
    "    # The number of filters is set to 16 for shorter runtime\n",
    "    # Increase the number of filters for better accuracy.\n",
    "    # Strides are defined as in subsample=(1, 1)\n",
    "    model.add(Conv2D(num_filters, (filter_size, filter_size), input_shape=(28, 28, 1), padding='valid'))\n",
    "    # The activation for first layer is ReLU\n",
    "    model.add(Activation('relu'))\n",
    "    # Max pooling\n",
    "    model.add(MaxPooling2D(pool_size=(2, 2)))\n",
    "    # The last layer has the same dimension as the number of classes\n",
    "    model.add(Flatten())\n",
    "    model.add(Dense(10))\n",
    "    # For classification, the activation is softmax\n",
    "    model.add(Activation('softmax'))\n",
    "    # Define optimizer\n",
    "    optmzr = SGD(lr=0.1, clipnorm=5.)\n",
    "    # Define loss function = cross entropy\n",
    "    model.compile(loss='categorical_crossentropy', optimizer=optmzr, metrics=['accuracy'])\n",
    "    \n",
    "    return model"
   ]
  },
  {
   "cell_type": "markdown",
   "metadata": {},
   "source": [
    "### 3. 定義怎麼 train model"
   ]
  },
  {
   "cell_type": "code",
   "execution_count": 79,
   "metadata": {},
   "outputs": [],
   "source": [
    "def TrainModel(data=None, epochs=20, batch=256):\n",
    "    start_time = time.time()\n",
    "    model = DefineModel()\n",
    "    if data is None:\n",
    "        print('Must provide data.')\n",
    "        return\n",
    "    X_train, X_test, y_train, y_test = data\n",
    "    print('Start training...')\n",
    "    history = model.fit(X_train, y_train, epochs=epochs, batch_size=batch,\n",
    "                        validation_data=(X_test, y_test), verbose=1)\n",
    "    print('Training took {0} seconds.'.format(time.time() - start_time))\n",
    "    return model, history"
   ]
  },
  {
   "cell_type": "markdown",
   "metadata": {},
   "source": [
    "### 4. 定義怎麼 test model"
   ]
  },
  {
   "cell_type": "code",
   "execution_count": 80,
   "metadata": {},
   "outputs": [],
   "source": [
    "def TestModel(model=None, data=None):\n",
    "    if model is None:\n",
    "        print('Must provide a trained model.')\n",
    "        return\n",
    "    if data is None:\n",
    "        print('Must provide data.')\n",
    "        return\n",
    "    X_test, y_test = data\n",
    "    scores = model.evaluate(X_test, y_test)\n",
    "    return scores"
   ]
  },
  {
   "cell_type": "markdown",
   "metadata": {},
   "source": [
    "### 5. 開始訓練"
   ]
  },
  {
   "cell_type": "code",
   "execution_count": 81,
   "metadata": {},
   "outputs": [
    {
     "name": "stdout",
     "output_type": "stream",
     "text": [
      "Start training...\n",
      "Train on 60000 samples, validate on 10000 samples\n",
      "Epoch 1/20\n",
      "60000/60000 [==============================] - 7s 116us/step - loss: 0.5820 - acc: 0.8275 - val_loss: 0.3372 - val_acc: 0.9011\n",
      "Epoch 2/20\n",
      "60000/60000 [==============================] - 6s 101us/step - loss: 0.3202 - acc: 0.9053 - val_loss: 0.2691 - val_acc: 0.9208\n",
      "Epoch 3/20\n",
      "60000/60000 [==============================] - 6s 100us/step - loss: 0.2690 - acc: 0.9223 - val_loss: 0.2757 - val_acc: 0.9183\n",
      "Epoch 4/20\n",
      "60000/60000 [==============================] - 6s 107us/step - loss: 0.2211 - acc: 0.9372 - val_loss: 0.2551 - val_acc: 0.9225\n",
      "Epoch 5/20\n",
      "60000/60000 [==============================] - 6s 108us/step - loss: 0.1813 - acc: 0.9491 - val_loss: 0.1628 - val_acc: 0.9546\n",
      "Epoch 6/20\n",
      "60000/60000 [==============================] - 6s 105us/step - loss: 0.1522 - acc: 0.9581 - val_loss: 0.1363 - val_acc: 0.9622\n",
      "Epoch 7/20\n",
      "60000/60000 [==============================] - 6s 97us/step - loss: 0.1307 - acc: 0.9642 - val_loss: 0.1280 - val_acc: 0.9618\n",
      "Epoch 8/20\n",
      "60000/60000 [==============================] - 6s 99us/step - loss: 0.1150 - acc: 0.9687 - val_loss: 0.1052 - val_acc: 0.9702\n",
      "Epoch 9/20\n",
      "60000/60000 [==============================] - 7s 113us/step - loss: 0.1036 - acc: 0.9719 - val_loss: 0.0989 - val_acc: 0.9721\n",
      "Epoch 10/20\n",
      "60000/60000 [==============================] - 7s 109us/step - loss: 0.0951 - acc: 0.9736 - val_loss: 0.0878 - val_acc: 0.9748\n",
      "Epoch 11/20\n",
      "60000/60000 [==============================] - 6s 98us/step - loss: 0.0881 - acc: 0.9759 - val_loss: 0.0832 - val_acc: 0.9751\n",
      "Epoch 12/20\n",
      "60000/60000 [==============================] - 6s 98us/step - loss: 0.0826 - acc: 0.9776 - val_loss: 0.0773 - val_acc: 0.9758\n",
      "Epoch 13/20\n",
      "60000/60000 [==============================] - 6s 97us/step - loss: 0.0780 - acc: 0.9785 - val_loss: 0.0778 - val_acc: 0.9761\n",
      "Epoch 14/20\n",
      "60000/60000 [==============================] - 6s 101us/step - loss: 0.0742 - acc: 0.9798 - val_loss: 0.0723 - val_acc: 0.9772\n",
      "Epoch 15/20\n",
      "60000/60000 [==============================] - 7s 111us/step - loss: 0.0709 - acc: 0.9801 - val_loss: 0.0692 - val_acc: 0.9782\n",
      "Epoch 16/20\n",
      "60000/60000 [==============================] - 6s 107us/step - loss: 0.0677 - acc: 0.9811 - val_loss: 0.0690 - val_acc: 0.9774\n",
      "Epoch 17/20\n",
      "60000/60000 [==============================] - 6s 106us/step - loss: 0.0654 - acc: 0.9819 - val_loss: 0.0653 - val_acc: 0.9787\n",
      "Epoch 18/20\n",
      "60000/60000 [==============================] - 6s 99us/step - loss: 0.0628 - acc: 0.9823 - val_loss: 0.0650 - val_acc: 0.9786\n",
      "Epoch 19/20\n",
      "60000/60000 [==============================] - 6s 98us/step - loss: 0.0610 - acc: 0.9827 - val_loss: 0.0652 - val_acc: 0.9789\n",
      "Epoch 20/20\n",
      "60000/60000 [==============================] - 6s 98us/step - loss: 0.0595 - acc: 0.9831 - val_loss: 0.0644 - val_acc: 0.9793\n",
      "Training took 124.33665609359741 seconds.\n"
     ]
    }
   ],
   "source": [
    "trained_model, training_historhy = TrainModel(data=[X_train, X_test, y_train, y_test])"
   ]
  },
  {
   "cell_type": "markdown",
   "metadata": {},
   "source": [
    "### 6. 畫圖看節果\n",
    "\n",
    "#### Loss 和 accuracy 的圖"
   ]
  },
  {
   "cell_type": "code",
   "execution_count": 82,
   "metadata": {},
   "outputs": [],
   "source": [
    "def PlotHistory(train_value, test_value, value_is_loss_or_acc):\n",
    "    fig, ax = plt.subplots()\n",
    "    ax.plot([None] + train_value, 'o-')\n",
    "    ax.plot([None] + test_value, 'x-')\n",
    "    # Plot legend and use the best location automatically: loc = 0.\n",
    "    ax.legend(['Train ' + value_is_loss_or_acc, 'Validation ' + value_is_loss_or_acc], loc=0)\n",
    "    ax.set_title('Training/Validation ' + value_is_loss_or_acc + ' per Epoch')\n",
    "    ax.set_xlabel('Epoch')\n",
    "    ax.set_ylabel(value_is_loss_or_acc)"
   ]
  },
  {
   "cell_type": "code",
   "execution_count": 83,
   "metadata": {},
   "outputs": [
    {
     "data": {
      "image/png": "[encoded data removed]",
      "text/plain": [
       "<Figure size 432x288 with 1 Axes>"
      ]
     },
     "metadata": {
      "needs_background": "light"
     },
     "output_type": "display_data"
    },
    {
     "data": {
      "image/png": "[encoded data removed]",
      "text/plain": [
       "<Figure size 432x288 with 1 Axes>"
      ]
     },
     "metadata": {
      "needs_background": "light"
     },
     "output_type": "display_data"
    }
   ],
   "source": [
    "PlotHistory(training_history.history['loss'], training_history.history['val_loss'], 'Loss')\n",
    "PlotHistory(training_history.history['acc'], training_history.history['val_acc'], 'Accuracy')"
   ]
  },
  {
   "cell_type": "markdown",
   "metadata": {},
   "source": [
    "### 7. 看訓練好的 model 跑 test sample 的分數"
   ]
  },
  {
   "cell_type": "code",
   "execution_count": 84,
   "metadata": {},
   "outputs": [
    {
     "name": "stdout",
     "output_type": "stream",
     "text": [
      "10000/10000 [==============================] - 0s 47us/step\n",
      "Test loss 0.0644, accuracy 97.93%\n"
     ]
    }
   ],
   "source": [
    "test_score = TestModel(model=trained_model, data=[X_test, y_test])\n",
    "print('Test loss {:.4f}, accuracy {:.2f}%'.format(test_score[0], test_score[1] * 100))"
   ]
  },
  {
   "cell_type": "markdown",
   "metadata": {},
   "source": [
    "### 8. 定義一些畫圖的函數\n",
    "\n",
    "用來看 convolutional layers"
   ]
  },
  {
   "cell_type": "code",
   "execution_count": 90,
   "metadata": {},
   "outputs": [],
   "source": [
    "def ShowConvolutionOutput(input_data, show_pic_idx):\n",
    "    from keras import backend as K\n",
    "    first_conv = K.function(trained_model.inputs, [trained_model.layers[1].output])\n",
    "    first_conv_out = first_conv([input_data])\n",
    "    fig, axes = plt.subplots(num_filters // 4, 4, figsize=(8, 8))\n",
    "    for filter_num in range(num_filters):\n",
    "        fig_x, fig_y = divmod(filter_num, 4)\n",
    "        if fig_y == 0:\n",
    "            fig_x -= 1\n",
    "        axes[fig_x][fig_y].imshow(first_conv_out[0][show_pic_idx][filter_num])\n",
    "        plt.setp(axes[fig_x][fig_y].get_xticklabels(), visible=False)\n",
    "        plt.setp(axes[fig_x][fig_y].get_yticklabels(), visible=False)\n",
    "    fig.tight_layout(pad=0)\n",
    "    plt.show()"
   ]
  },
  {
   "cell_type": "code",
   "execution_count": 91,
   "metadata": {},
   "outputs": [],
   "source": [
    "def ShowInputImage(data):\n",
    "    plot = plt.figure()\n",
    "    plot.set_size_inches(2, 2)\n",
    "    plt.imshow(np.reshape(-data, (28, 28)), cmap='Greys_r')\n",
    "    plt.title('Input')\n",
    "    plt.axis('off')\n",
    "    plt.show()"
   ]
  },
  {
   "cell_type": "code",
   "execution_count": 92,
   "metadata": {},
   "outputs": [],
   "source": [
    "def ShowFinalOutput(input_data, samp):\n",
    "    '''Calculate final prediction.'''\n",
    "    from keras import backend as K\n",
    "    # Calculate final prediction.\n",
    "    last_layer = K.function(trained_model.inputs, [trained_model.layers[-1].output])\n",
    "    last_layer_out = last_layer([input_data])\n",
    "    print('Final prediction: ' + str(np.argmax(last_layer_out[0][samp])))"
   ]
  },
  {
   "cell_type": "markdown",
   "metadata": {},
   "source": [
    "### Show random test data"
   ]
  },
  {
   "cell_type": "code",
   "execution_count": 93,
   "metadata": {},
   "outputs": [
    {
     "data": {
      "image/png": "[encoded data removed]",
      "text/plain": [
       "<Figure size 144x144 with 1 Axes>"
      ]
     },
     "metadata": {
      "needs_background": "light"
     },
     "output_type": "display_data"
    },
    {
     "data": {
      "image/png": "[encoded data removed]",
      "text/plain": [
       "<Figure size 576x576 with 16 Axes>"
      ]
     },
     "metadata": {
      "needs_background": "light"
     },
     "output_type": "display_data"
    },
    {
     "name": "stdout",
     "output_type": "stream",
     "text": [
      "Final prediction: 9\n"
     ]
    },
    {
     "data": {
      "image/png": "[encoded data removed]",
      "text/plain": [
       "<Figure size 144x144 with 1 Axes>"
      ]
     },
     "metadata": {
      "needs_background": "light"
     },
     "output_type": "display_data"
    },
    {
     "data": {
      "image/png": "[encoded data removed]",
      "text/plain": [
       "<Figure size 576x576 with 16 Axes>"
      ]
     },
     "metadata": {
      "needs_background": "light"
     },
     "output_type": "display_data"
    },
    {
     "name": "stdout",
     "output_type": "stream",
     "text": [
      "Final prediction: 1\n"
     ]
    },
    {
     "data": {
      "image/png": "[encoded data removed]",
      "text/plain": [
       "<Figure size 144x144 with 1 Axes>"
      ]
     },
     "metadata": {
      "needs_background": "light"
     },
     "output_type": "display_data"
    },
    {
     "data": {
      "image/png": "[encoded data removed]",
      "text/plain": [
       "<Figure size 576x576 with 16 Axes>"
      ]
     },
     "metadata": {
      "needs_background": "light"
     },
     "output_type": "display_data"
    },
    {
     "name": "stdout",
     "output_type": "stream",
     "text": [
      "Final prediction: 6\n"
     ]
    },
    {
     "data": {
      "image/png": "[encoded data removed]",
      "text/plain": [
       "<Figure size 144x144 with 1 Axes>"
      ]
     },
     "metadata": {
      "needs_background": "light"
     },
     "output_type": "display_data"
    },
    {
     "data": {
      "image/png": "[encoded data removed]",
      "text/plain": [
       "<Figure size 576x576 with 16 Axes>"
      ]
     },
     "metadata": {
      "needs_background": "light"
     },
     "output_type": "display_data"
    },
    {
     "name": "stdout",
     "output_type": "stream",
     "text": [
      "Final prediction: 8\n"
     ]
    },
    {
     "data": {
      "image/png": "[encoded data removed]",
      "text/plain": [
       "<Figure size 144x144 with 1 Axes>"
      ]
     },
     "metadata": {
      "needs_background": "light"
     },
     "output_type": "display_data"
    },
    {
     "data": {
      "image/png": "[encoded data removed]",
      "text/plain": [
       "<Figure size 576x576 with 16 Axes>"
      ]
     },
     "metadata": {
      "needs_background": "light"
     },
     "output_type": "display_data"
    },
    {
     "name": "stdout",
     "output_type": "stream",
     "text": [
      "Final prediction: 5\n"
     ]
    }
   ],
   "source": [
    "np.random.seed(1337)\n",
    "show_which_ones = np.random.randint(0, 999, 5)\n",
    "for samp in show_which_ones:\n",
    "    ShowInputImage(X_test[samp])\n",
    "    ShowConvolutionOutput(X_test, samp)\n",
    "    ShowFinalOutput(X_test, samp)"
   ]
  },
  {
   "cell_type": "markdown",
   "metadata": {},
   "source": [
    "***\n",
    "***\n",
    "***"
   ]
  },
  {
   "cell_type": "markdown",
   "metadata": {},
   "source": [
    "# Tensorflow\n",
    "\n",
    "## Devise"
   ]
  },
  {
   "cell_type": "code",
   "execution_count": 2,
   "metadata": {},
   "outputs": [],
   "source": [
    "from __future__ import absolute_import\n",
    "from __future__ import division\n",
    "from __future__ import print_function\n",
    "\n",
    "import os\n",
    "import sys\n",
    "\n",
    "import tensorflow as tf\n",
    "from tensorflow.examples.tutorials.mnist import input_data"
   ]
  },
  {
   "cell_type": "markdown",
   "metadata": {},
   "source": [
    "### Load data"
   ]
  },
  {
   "cell_type": "code",
   "execution_count": 3,
   "metadata": {},
   "outputs": [
    {
     "name": "stdout",
     "output_type": "stream",
     "text": [
      "WARNING:tensorflow:From <ipython-input-3-319879c4c296>:1: read_data_sets (from tensorflow.contrib.learn.python.learn.datasets.mnist) is deprecated and will be removed in a future version.\n",
      "Instructions for updating:\n",
      "Please use alternatives such as official/mnist/dataset.py from tensorflow/models.\n",
      "WARNING:tensorflow:From /usr/local/anaconda3/lib/python3.6/site-packages/tensorflow/contrib/learn/python/learn/datasets/mnist.py:260: maybe_download (from tensorflow.contrib.learn.python.learn.datasets.base) is deprecated and will be removed in a future version.\n",
      "Instructions for updating:\n",
      "Please write your own downloading logic.\n",
      "WARNING:tensorflow:From /usr/local/anaconda3/lib/python3.6/site-packages/tensorflow/contrib/learn/python/learn/datasets/base.py:252: _internal_retry.<locals>.wrap.<locals>.wrapped_fn (from tensorflow.contrib.learn.python.learn.datasets.base) is deprecated and will be removed in a future version.\n",
      "Instructions for updating:\n",
      "Please use urllib or similar directly.\n",
      "Successfully downloaded train-images-idx3-ubyte.gz 9912422 bytes.\n",
      "WARNING:tensorflow:From /usr/local/anaconda3/lib/python3.6/site-packages/tensorflow/contrib/learn/python/learn/datasets/mnist.py:262: extract_images (from tensorflow.contrib.learn.python.learn.datasets.mnist) is deprecated and will be removed in a future version.\n",
      "Instructions for updating:\n",
      "Please use tf.data to implement this functionality.\n",
      "Extracting MNIST_data/train-images-idx3-ubyte.gz\n",
      "Successfully downloaded train-labels-idx1-ubyte.gz 28881 bytes.\n",
      "WARNING:tensorflow:From /usr/local/anaconda3/lib/python3.6/site-packages/tensorflow/contrib/learn/python/learn/datasets/mnist.py:267: extract_labels (from tensorflow.contrib.learn.python.learn.datasets.mnist) is deprecated and will be removed in a future version.\n",
      "Instructions for updating:\n",
      "Please use tf.data to implement this functionality.\n",
      "Extracting MNIST_data/train-labels-idx1-ubyte.gz\n",
      "WARNING:tensorflow:From /usr/local/anaconda3/lib/python3.6/site-packages/tensorflow/contrib/learn/python/learn/datasets/mnist.py:110: dense_to_one_hot (from tensorflow.contrib.learn.python.learn.datasets.mnist) is deprecated and will be removed in a future version.\n",
      "Instructions for updating:\n",
      "Please use tf.one_hot on tensors.\n",
      "Successfully downloaded t10k-images-idx3-ubyte.gz 1648877 bytes.\n",
      "Extracting MNIST_data/t10k-images-idx3-ubyte.gz\n",
      "Successfully downloaded t10k-labels-idx1-ubyte.gz 4542 bytes.\n",
      "Extracting MNIST_data/t10k-labels-idx1-ubyte.gz\n",
      "WARNING:tensorflow:From /usr/local/anaconda3/lib/python3.6/site-packages/tensorflow/contrib/learn/python/learn/datasets/mnist.py:290: DataSet.__init__ (from tensorflow.contrib.learn.python.learn.datasets.mnist) is deprecated and will be removed in a future version.\n",
      "Instructions for updating:\n",
      "Please use alternatives such as official/mnist/dataset.py from tensorflow/models.\n"
     ]
    }
   ],
   "source": [
    "mnist = input_data.read_data_sets('MNIST_data/', one_hot=True)"
   ]
  },
  {
   "cell_type": "markdown",
   "metadata": {},
   "source": [
    "### Define parameters"
   ]
  },
  {
   "cell_type": "code",
   "execution_count": 4,
   "metadata": {},
   "outputs": [],
   "source": [
    "# Training-related hyper-parameters\n",
    "LEARNING_RATE = 0.001\n",
    "MAX_TRAIN_EPOCHS = 1000\n",
    "BATCH_SIZE = 128\n",
    "display_step = 10\n",
    "\n",
    "# Network parameters\n",
    "INPUT_DIM = 784 # MNIST data input (img shape: 28x28)\n",
    "NUM_CLASSES = 10 # MINST total classes (0-9 digits)\n",
    "DROPOUT_KEEP_RATE = 0.75 # Dropout keep rate"
   ]
  },
  {
   "cell_type": "markdown",
   "metadata": {},
   "source": [
    "### Define tensorflow graph"
   ]
  },
  {
   "cell_type": "code",
   "execution_count": 5,
   "metadata": {},
   "outputs": [],
   "source": [
    "x = tf.placeholder(tf.float32, [None, INPUT_DIM])\n",
    "y = tf.placeholder(tf.float32, [None, NUM_CLASSES])\n",
    "keep_prob = tf.placeholder(tf.float32) # Dropout keep rate"
   ]
  },
  {
   "cell_type": "code",
   "execution_count": 12,
   "metadata": {},
   "outputs": [],
   "source": [
    "def ConvTwoD(x, W, b, strides=1):\n",
    "    # Conv2D wrapper, with bias and relu activation\n",
    "    x = tf.nn.conv2d(x, W, strides=[1, strides, strides, 1], padding='SAME')\n",
    "    x = tf.nn.bias_add(x, b)\n",
    "    return tf.nn.relu(x)"
   ]
  },
  {
   "cell_type": "code",
   "execution_count": 13,
   "metadata": {},
   "outputs": [],
   "source": [
    "def MaxpoolTwoD(x, k=2):\n",
    "    # MaxPool2D wrapper\n",
    "    return tf.nn.max_pool(x, ksize=[1, k, k, 1], strides=[1, k, k, 1], padding='SAME')"
   ]
  },
  {
   "cell_type": "markdown",
   "metadata": {},
   "source": [
    "### Create CNN model"
   ]
  },
  {
   "cell_type": "code",
   "execution_count": 17,
   "metadata": {},
   "outputs": [],
   "source": [
    "def ConvNet(x, weights, biases, dropout):\n",
    "    # Reshape input picture\n",
    "    x = tf.reshape(x, shape=[-1, 28, 28, 1])\n",
    "    \n",
    "    # Convolution Layer\n",
    "    conv1 = ConvTwoD(x, weights['wc1'], biases['bc1'])\n",
    "    # Max Pooling (down-sampling)\n",
    "    conv1 = MaxpoolTwoD(conv1, k=2)\n",
    "    \n",
    "    # Convolution Layer\n",
    "    conv2 = ConvTwoD(conv1, weights['wc2'], biases['bc2'])\n",
    "    # Max Pooling (down-sampling)\n",
    "    conv2 = MaxpoolTwoD(conv2, k=2)\n",
    "    \n",
    "    # Fully connected layer\n",
    "    # Reshape conv2 output to fit fully connected layer input\n",
    "    fc1 = tf.reshape(conv2, [-1, weights['wd1'].get_shape().as_list()[0]])\n",
    "    fc1 = tf.add(tf.matmul(fc1, weights['wd1']), biases['bd1'])\n",
    "    fc1 = tf.nn.relu(fc1)\n",
    "    # Apply Dropout\n",
    "    fc1 = tf.nn.dropout(fc1, dropout)\n",
    "    \n",
    "    # Output, class prediction\n",
    "    out = tf.add(tf.matmul(fc1, weights['out']), biases['out'])\n",
    "    return out"
   ]
  },
  {
   "cell_type": "markdown",
   "metadata": {},
   "source": [
    "### Dictionaries to store layers weight & bias"
   ]
  },
  {
   "cell_type": "code",
   "execution_count": 18,
   "metadata": {},
   "outputs": [],
   "source": [
    "weights = {\n",
    "    # 5x5 conv, 1 input, 32 outputs\n",
    "    'wc1': tf.Variable(tf.random_normal([5, 5, 1, 32])),\n",
    "    # 5x5 conv, 32 inputs, 64 outputs\n",
    "    'wc2': tf.Variable(tf.random_normal([5, 5, 32, 64])),\n",
    "    # fully connected 7x7x64 inputs, 1024 outputs\n",
    "    'wd1': tf.Variable(tf.random_normal([7*7*64, 1024])),\n",
    "    # 1024 inputs, 10 outputs (class prediction)\n",
    "    'out': tf.Variable(tf.random_normal([1024, NUM_CLASSES]))\n",
    "}\n",
    "\n",
    "biases = {\n",
    "    'bc1': tf.Variable(tf.random_normal([32])),\n",
    "    'bc2': tf.Variable(tf.random_normal([64])),\n",
    "    'bd1': tf.Variable(tf.random_normal([1024])),\n",
    "    'out': tf.Variable(tf.random_normal([NUM_CLASSES]))\n",
    "}"
   ]
  },
  {
   "cell_type": "markdown",
   "metadata": {},
   "source": [
    "### Construct model"
   ]
  },
  {
   "cell_type": "code",
   "execution_count": 19,
   "metadata": {},
   "outputs": [
    {
     "name": "stdout",
     "output_type": "stream",
     "text": [
      "oringinal y\n",
      "Tensor(\"Placeholder_1:0\", shape=(?, 10), dtype=float32)\n",
      "ext_y\n",
      "Tensor(\"Tile:0\", shape=(?, 10, 10), dtype=float32)\n",
      "original pred\n",
      "Tensor(\"Add_2:0\", shape=(?, 10), dtype=float32)\n",
      "ext_pred\n",
      "Tensor(\"Tile_1:0\", shape=(?, 10, 10), dtype=float32)\n",
      "other_class\n",
      "Tensor(\"Tile_2:0\", shape=(128, 10, 10), dtype=float32)\n",
      "tmp_sum\n",
      "Tensor(\"Sum:0\", shape=(128, 10), dtype=float32)\n",
      "max_margin_loss\n",
      "Tensor(\"Sum_1:0\", shape=(), dtype=float32)\n",
      "WARNING:tensorflow:From <ipython-input-19-9984797a99a5>:37: softmax_cross_entropy_with_logits (from tensorflow.python.ops.nn_ops) is deprecated and will be removed in a future version.\n",
      "Instructions for updating:\n",
      "\n",
      "Future major versions of TensorFlow will allow gradients to flow\n",
      "into the labels input on backprop by default.\n",
      "\n",
      "See `tf.nn.softmax_cross_entropy_with_logits_v2`.\n",
      "\n"
     ]
    }
   ],
   "source": [
    "pred = ConvNet(x, weights, biases, keep_prob)\n",
    "\n",
    "# Define loss and optimizer\n",
    "print('oringinal y')\n",
    "print(y)\n",
    "\n",
    "print('ext_y')\n",
    "ext_y = tf.reshape(y, [-1, 1, NUM_CLASSES])\n",
    "ext_y = tf.tile(ext_y, [1, NUM_CLASSES, 1])\n",
    "print(ext_y)\n",
    "\n",
    "print('original pred')\n",
    "print(pred)\n",
    "\n",
    "print('ext_pred')\n",
    "ext_pred = tf.reshape(pred, [-1, 1, NUM_CLASSES])\n",
    "ext_pred = tf.tile(ext_pred, [1, NUM_CLASSES, 1])\n",
    "print(ext_pred)\n",
    "\n",
    "print('other_class')\n",
    "other_class = tf.eye(NUM_CLASSES)\n",
    "other_class = tf.reshape(other_class, [-1, NUM_CLASSES, NUM_CLASSES])\n",
    "other_class = tf.tile(other_class, [BATCH_SIZE, 1, 1])\n",
    "print(other_class)\n",
    "\n",
    "print('tmp_sum')\n",
    "tmp_sum = tf.reduce_sum((ext_y - other_class) * ext_pred, axis=2)\n",
    "print(tmp_sum)\n",
    "\n",
    "print('max_margin_loss')\n",
    "max_margin_loss = tf.maximum(0.0, 0.1 - tmp_sum)\n",
    "max_margin_loss = tf.reduce_sum(max_margin_loss)\n",
    "print(max_margin_loss)\n",
    "\n",
    "cost = max_margin_loss\n",
    "\n",
    "cost = tf.reduce_mean(tf.nn.softmax_cross_entropy_with_logits(logits=pred, labels=y))\n",
    "optimizer = tf.train.AdamOptimizer(learning_rate=LEARNING_RATE).minimize(cost)\n",
    "\n",
    "# Evaluate model\n",
    "correct_pred = tf.equal(tf.argmax(pred, 1), tf.argmax(y, 1))\n",
    "accuracy = tf.reduce_mean(tf.cast(correct_pred, tf.float32))\n",
    "\n",
    "# Initializing the variables\n",
    "init = tf.global_variables_initializer()"
   ]
  },
  {
   "cell_type": "markdown",
   "metadata": {},
   "source": [
    "### Launch the graph"
   ]
  },
  {
   "cell_type": "code",
   "execution_count": 22,
   "metadata": {},
   "outputs": [
    {
     "name": "stdout",
     "output_type": "stream",
     "text": [
      "Iter 10, Minibatch Loss = 21462.496094, Training Accuracy = 0.26562\n",
      "Iter 20, Minibatch Loss = 8527.250977, Training Accuracy = 0.63281\n",
      "Iter 30, Minibatch Loss = 5054.499023, Training Accuracy = 0.70312\n",
      "Iter 40, Minibatch Loss = 5272.771484, Training Accuracy = 0.75000\n",
      "Iter 50, Minibatch Loss = 3629.965820, Training Accuracy = 0.81250\n",
      "Iter 60, Minibatch Loss = 4020.753906, Training Accuracy = 0.82031\n",
      "Iter 70, Minibatch Loss = 3740.307129, Training Accuracy = 0.85938\n",
      "Iter 80, Minibatch Loss = 2655.160156, Training Accuracy = 0.87500\n",
      "Iter 90, Minibatch Loss = 1376.174316, Training Accuracy = 0.91406\n",
      "Iter 100, Minibatch Loss = 1981.338989, Training Accuracy = 0.85938\n",
      "Iter 110, Minibatch Loss = 1692.707520, Training Accuracy = 0.89844\n",
      "Iter 120, Minibatch Loss = 2302.068848, Training Accuracy = 0.91406\n",
      "Iter 130, Minibatch Loss = 1843.704834, Training Accuracy = 0.89844\n",
      "Iter 140, Minibatch Loss = 1913.491455, Training Accuracy = 0.89844\n",
      "Iter 150, Minibatch Loss = 2435.769531, Training Accuracy = 0.87500\n",
      "Iter 160, Minibatch Loss = 2130.137695, Training Accuracy = 0.86719\n",
      "Iter 170, Minibatch Loss = 1544.122437, Training Accuracy = 0.91406\n",
      "Iter 180, Minibatch Loss = 767.706482, Training Accuracy = 0.96094\n",
      "Iter 190, Minibatch Loss = 1269.322998, Training Accuracy = 0.90625\n",
      "Iter 200, Minibatch Loss = 1377.748535, Training Accuracy = 0.92969\n",
      "Iter 210, Minibatch Loss = 1359.797363, Training Accuracy = 0.89062\n",
      "Iter 220, Minibatch Loss = 913.463745, Training Accuracy = 0.92188\n",
      "Iter 230, Minibatch Loss = 1253.390503, Training Accuracy = 0.92188\n",
      "Iter 240, Minibatch Loss = 1598.750732, Training Accuracy = 0.91406\n",
      "Iter 250, Minibatch Loss = 636.876343, Training Accuracy = 0.92188\n",
      "Iter 260, Minibatch Loss = 511.399506, Training Accuracy = 0.95312\n",
      "Iter 270, Minibatch Loss = 1103.450073, Training Accuracy = 0.92188\n",
      "Iter 280, Minibatch Loss = 1223.613770, Training Accuracy = 0.92188\n",
      "Iter 290, Minibatch Loss = 509.350342, Training Accuracy = 0.94531\n",
      "Iter 300, Minibatch Loss = 456.468109, Training Accuracy = 0.96094\n",
      "Iter 310, Minibatch Loss = 769.836670, Training Accuracy = 0.96094\n",
      "Iter 320, Minibatch Loss = 919.226196, Training Accuracy = 0.94531\n",
      "Iter 330, Minibatch Loss = 1274.703735, Training Accuracy = 0.93750\n",
      "Iter 340, Minibatch Loss = 1263.799072, Training Accuracy = 0.89844\n",
      "Iter 350, Minibatch Loss = 1451.316895, Training Accuracy = 0.89844\n",
      "Iter 360, Minibatch Loss = 24.862335, Training Accuracy = 0.98438\n",
      "Iter 370, Minibatch Loss = 279.442505, Training Accuracy = 0.97656\n",
      "Iter 380, Minibatch Loss = 1414.969971, Training Accuracy = 0.90625\n",
      "Iter 390, Minibatch Loss = 589.835327, Training Accuracy = 0.92188\n",
      "Iter 400, Minibatch Loss = 1033.318848, Training Accuracy = 0.92188\n",
      "Iter 410, Minibatch Loss = 227.026993, Training Accuracy = 0.96094\n",
      "Iter 420, Minibatch Loss = 1148.188965, Training Accuracy = 0.92969\n",
      "Iter 430, Minibatch Loss = 340.672424, Training Accuracy = 0.95312\n",
      "Iter 440, Minibatch Loss = 722.744507, Training Accuracy = 0.93750\n",
      "Iter 450, Minibatch Loss = 483.087769, Training Accuracy = 0.94531\n",
      "Iter 460, Minibatch Loss = 488.458588, Training Accuracy = 0.95312\n",
      "Iter 470, Minibatch Loss = 290.118347, Training Accuracy = 0.96094\n",
      "Iter 480, Minibatch Loss = 393.824219, Training Accuracy = 0.97656\n",
      "Iter 490, Minibatch Loss = 431.107117, Training Accuracy = 0.96094\n",
      "Iter 500, Minibatch Loss = 796.473267, Training Accuracy = 0.95312\n",
      "Iter 510, Minibatch Loss = 351.035004, Training Accuracy = 0.96875\n",
      "Iter 520, Minibatch Loss = 143.741058, Training Accuracy = 0.97656\n",
      "Iter 530, Minibatch Loss = 975.799683, Training Accuracy = 0.94531\n",
      "Iter 540, Minibatch Loss = 81.094513, Training Accuracy = 0.98438\n",
      "Iter 550, Minibatch Loss = 127.169861, Training Accuracy = 0.96094\n",
      "Iter 560, Minibatch Loss = 1682.398193, Training Accuracy = 0.95312\n",
      "Iter 570, Minibatch Loss = 717.464722, Training Accuracy = 0.93750\n",
      "Iter 580, Minibatch Loss = 689.036621, Training Accuracy = 0.95312\n",
      "Iter 590, Minibatch Loss = 1223.575562, Training Accuracy = 0.96094\n",
      "Iter 600, Minibatch Loss = 980.336182, Training Accuracy = 0.93750\n",
      "Iter 610, Minibatch Loss = 1529.987183, Training Accuracy = 0.94531\n",
      "Iter 620, Minibatch Loss = 142.692673, Training Accuracy = 0.97656\n",
      "Iter 630, Minibatch Loss = 224.878357, Training Accuracy = 0.96094\n",
      "Iter 640, Minibatch Loss = 435.715088, Training Accuracy = 0.95312\n",
      "Iter 650, Minibatch Loss = 1171.868652, Training Accuracy = 0.94531\n",
      "Iter 660, Minibatch Loss = 321.532623, Training Accuracy = 0.97656\n",
      "Iter 670, Minibatch Loss = 629.472351, Training Accuracy = 0.96094\n",
      "Iter 680, Minibatch Loss = 211.930542, Training Accuracy = 0.96094\n",
      "Iter 690, Minibatch Loss = 76.926132, Training Accuracy = 0.97656\n",
      "Iter 700, Minibatch Loss = 1039.921387, Training Accuracy = 0.92969\n",
      "Iter 710, Minibatch Loss = 72.063080, Training Accuracy = 0.98438\n",
      "Iter 720, Minibatch Loss = 316.401825, Training Accuracy = 0.96875\n",
      "Iter 730, Minibatch Loss = 66.844696, Training Accuracy = 0.99219\n",
      "Iter 740, Minibatch Loss = 343.735718, Training Accuracy = 0.96094\n",
      "Iter 750, Minibatch Loss = 196.151260, Training Accuracy = 0.96875\n",
      "Iter 760, Minibatch Loss = 1155.990356, Training Accuracy = 0.90625\n",
      "Iter 770, Minibatch Loss = 937.599731, Training Accuracy = 0.95312\n",
      "Iter 780, Minibatch Loss = 456.983582, Training Accuracy = 0.94531\n",
      "Iter 790, Minibatch Loss = 42.197006, Training Accuracy = 0.99219\n",
      "Iter 800, Minibatch Loss = 628.217285, Training Accuracy = 0.94531\n",
      "Iter 810, Minibatch Loss = 659.523926, Training Accuracy = 0.93750\n",
      "Iter 820, Minibatch Loss = 359.004669, Training Accuracy = 0.93750\n",
      "Iter 830, Minibatch Loss = 792.151611, Training Accuracy = 0.93750\n",
      "Iter 840, Minibatch Loss = 182.042206, Training Accuracy = 0.97656\n",
      "Iter 850, Minibatch Loss = 512.058960, Training Accuracy = 0.95312\n",
      "Iter 860, Minibatch Loss = 127.886559, Training Accuracy = 0.97656\n",
      "Iter 870, Minibatch Loss = 98.967926, Training Accuracy = 0.99219\n",
      "Iter 880, Minibatch Loss = 165.850647, Training Accuracy = 0.94531\n",
      "Iter 890, Minibatch Loss = 0.000000, Training Accuracy = 1.00000\n",
      "Iter 900, Minibatch Loss = 264.937225, Training Accuracy = 0.96094\n",
      "Iter 910, Minibatch Loss = 108.972229, Training Accuracy = 0.98438\n",
      "Iter 920, Minibatch Loss = 192.893799, Training Accuracy = 0.98438\n",
      "Iter 930, Minibatch Loss = 93.710243, Training Accuracy = 0.98438\n",
      "Iter 940, Minibatch Loss = 358.894958, Training Accuracy = 0.96875\n",
      "Iter 950, Minibatch Loss = 412.896606, Training Accuracy = 0.96875\n",
      "Iter 960, Minibatch Loss = 96.010056, Training Accuracy = 0.95312\n",
      "Iter 970, Minibatch Loss = 359.698273, Training Accuracy = 0.96094\n",
      "Iter 980, Minibatch Loss = 385.869873, Training Accuracy = 0.96094\n",
      "Iter 990, Minibatch Loss = 278.113831, Training Accuracy = 0.96094\n",
      "Optimization Done.\n"
     ]
    },
    {
     "ename": "AttributeError",
     "evalue": "'Datasets' object has no attribute 'test_images'",
     "output_type": "error",
     "traceback": [
      "\u001b[0;31m---------------------------------------------------------------------------\u001b[0m",
      "\u001b[0;31mAttributeError\u001b[0m                            Traceback (most recent call last)",
      "\u001b[0;32m<ipython-input-22-bbd795d1a43c>\u001b[0m in \u001b[0;36m<module>\u001b[0;34m\u001b[0m\n\u001b[1;32m     20\u001b[0m     \u001b[0;31m# Calculate accuracy for 256 mnist test images\u001b[0m\u001b[0;34m\u001b[0m\u001b[0;34m\u001b[0m\u001b[0m\n\u001b[1;32m     21\u001b[0m     print('Testing Accuracy:', \\\n\u001b[0;32m---> 22\u001b[0;31m           sess.run(accuracy, feed_dict={x: mnist.test_images[:256],\n\u001b[0m\u001b[1;32m     23\u001b[0m                                         \u001b[0my\u001b[0m\u001b[0;34m:\u001b[0m \u001b[0mmnist\u001b[0m\u001b[0;34m.\u001b[0m\u001b[0mtest_labels\u001b[0m\u001b[0;34m[\u001b[0m\u001b[0;34m:\u001b[0m\u001b[0;36m256\u001b[0m\u001b[0;34m]\u001b[0m\u001b[0;34m,\u001b[0m\u001b[0;34m\u001b[0m\u001b[0m\n\u001b[1;32m     24\u001b[0m                                         keep_prob: 1.}))\n",
      "\u001b[0;31mAttributeError\u001b[0m: 'Datasets' object has no attribute 'test_images'"
     ]
    }
   ],
   "source": [
    "with tf.Session() as sess:\n",
    "    sess.run(init)\n",
    "    step = 1\n",
    "    \n",
    "    # Keep training until reach max iterations\n",
    "    while step < MAX_TRAIN_EPOCHS:\n",
    "        batch_x, batch_y = mnist.train.next_batch(BATCH_SIZE)\n",
    "        # Run optimization op (backprop)\n",
    "        sess.run(optimizer, feed_dict={x: batch_x, y: batch_y, keep_prob: DROPOUT_KEEP_RATE})\n",
    "    \n",
    "        if step % display_step == 0:\n",
    "            # Evaluate batch loss and accuracy\n",
    "            loss, acc = sess.run([cost, accuracy], feed_dict = {x: batch_x, y: batch_y, keep_prob: 1.})\n",
    "            print('Iter ' + str(step) + \\\n",
    "                  ', Minibatch Loss = {:.6f}'.format(loss) + \\\n",
    "                  ', Training Accuracy = {:.5f}'.format(acc))\n",
    "        step += 1\n",
    "    print('Optimization Done.')\n",
    "    \n",
    "    # Calculate accuracy for 256 mnist test images\n",
    "    print('Testing Accuracy:', \\\n",
    "          sess.run(accuracy, feed_dict={x: mnist.test.images[:256],\n",
    "                                        y: mnist.test.labels[:256],\n",
    "                                        keep_prob: 1.}))"
   ]
  },
  {
   "cell_type": "markdown",
   "metadata": {},
   "source": [
    "***\n",
    "***\n",
    "***"
   ]
  },
  {
   "cell_type": "code",
   "execution_count": null,
   "metadata": {},
   "outputs": [],
   "source": []
  },
  {
   "cell_type": "code",
   "execution_count": null,
   "metadata": {},
   "outputs": [],
   "source": []
  },
  {
   "cell_type": "code",
   "execution_count": null,
   "metadata": {},
   "outputs": [],
   "source": []
  }
 ],
 "metadata": {
  "accelerator": "GPU",
  "colab": {
   "name": "BitTiger_DS501_Week10.ipynb",
   "provenance": [],
   "version": "0.3.2"
  },
  "kernelspec": {
   "display_name": "Python 3",
   "language": "python",
   "name": "python3"
  },
  "language_info": {
   "codemirror_mode": {
    "name": "ipython",
    "version": 3
   },
   "file_extension": ".py",
   "mimetype": "text/x-python",
   "name": "python",
   "nbconvert_exporter": "python",
   "pygments_lexer": "ipython3",
   "version": "3.6.6"
  }
 },
 "nbformat": 4,
 "nbformat_minor": 1
}
