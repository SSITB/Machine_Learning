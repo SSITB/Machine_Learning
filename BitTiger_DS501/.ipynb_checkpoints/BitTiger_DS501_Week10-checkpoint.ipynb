{
 "cells": [
  {
   "cell_type": "markdown",
   "metadata": {
    "colab_type": "text",
    "id": "07zF9OUfxVVw"
   },
   "source": [
    "# BitTiger DS501 Week10\n",
    "\n",
    "## Feedforward Neural Network (FNN)"
   ]
  },
  {
   "cell_type": "code",
   "execution_count": 1,
   "metadata": {
    "colab": {},
    "colab_type": "code",
    "id": "fPuEvDvKxVVy"
   },
   "outputs": [
    {
     "name": "stderr",
     "output_type": "stream",
     "text": [
      "Using TensorFlow backend.\n"
     ]
    }
   ],
   "source": [
    "from __future__ import print_function # Must be the first line\n",
    "\n",
    "import keras.callbacks as cb\n",
    "from keras.datasets import mnist\n",
    "from keras.layers.core import Activation, Dense, Dropout\n",
    "from keras.models import Sequential\n",
    "from keras.optimizers import SGD\n",
    "from keras.regularizers import l1, l2\n",
    "from keras.utils import np_utils\n",
    "\n",
    "import numpy as np\n",
    "import time\n",
    "import matplotlib.pyplot as plt\n",
    "%matplotlib inline"
   ]
  },
  {
   "cell_type": "markdown",
   "metadata": {
    "colab_type": "text",
    "id": "w2pBDd5MxVV5"
   },
   "source": [
    "## 1. Pre-processing\n",
    "\n",
    "### 分成 3 個 Groups:\n",
    "1. A: 沒有 pre-processing\n",
    "2. B: 用 normalization 把 dataset normalize 到 [0, 1] 之間\n",
    "\\begin{equation}x' = \\frac{x - x_{min}}{x_{max} - x_{min}}\\end{equation}\n",
    "3. C: 用 standardization 把 dataset 變成 mean=0, variance=1 的高斯分佈\n",
    "\\begin{equation}x_i' = \\frac{x_i - \\mu}{\\sigma}\\end{equation}\n",
    "\n",
    "通常知道數據的最大值和最小值的時候，就使用 normalization，如果不知道最大值和最小值，就使用 standardization"
   ]
  },
  {
   "cell_type": "code",
   "execution_count": 2,
   "metadata": {
    "colab": {},
    "colab_type": "code",
    "id": "pbtflyv6xVV7"
   },
   "outputs": [],
   "source": [
    "def Preprocessing(group):\n",
    "    from sklearn import preprocessing\n",
    "    # Load MNIST dataset from Keras (https://keras.io/datasets/)\n",
    "    (X_train, y_train), (X_test, y_test) = mnist.load_data()\n",
    "    \n",
    "    # Transform labels to one-hot\n",
    "    y_train = np_utils.to_categorical(y_train, 10)\n",
    "    y_test = np_utils.to_categorical(y_test, 10)\n",
    "    \n",
    "    # Set features to numeric type\n",
    "    X_train = X_train.astype('float32')\n",
    "    X_test = X_test.astype('float32')\n",
    "    # Reshape from 28 x 28 to 1-D vector\n",
    "    # 28 x 28 = 784\n",
    "    X_train = np.reshape(X_train, (60000, 784))\n",
    "    X_test = np.reshape(X_test, (10000, 784))\n",
    "    \n",
    "    if group == 'A':\n",
    "        return X_train, X_test, y_train, y_test\n",
    "    elif group == 'B':\n",
    "        X_train /= 255\n",
    "        X_test /= 255\n",
    "    elif group == 'C':\n",
    "        X_train = preprocessing.scale(X_train)\n",
    "        X_test = preprocessing.scale(X_test)\n",
    "        \n",
    "    return X_train, X_test, y_train, y_test"
   ]
  },
  {
   "cell_type": "code",
   "execution_count": 3,
   "metadata": {
    "colab": {},
    "colab_type": "code",
    "id": "xwGeWTdPxVV-"
   },
   "outputs": [],
   "source": [
    "group = 'B'\n",
    "X_train, X_test, y_train, y_test = Preprocessing(group)"
   ]
  },
  {
   "cell_type": "markdown",
   "metadata": {
    "colab_type": "text",
    "id": "bOwI__0LxVWB"
   },
   "source": [
    "### 檢查一下 training data\n",
    "\n",
    "只看前 10 筆資料"
   ]
  },
  {
   "cell_type": "code",
   "execution_count": 4,
   "metadata": {
    "colab": {
     "base_uri": "https://localhost:8080/",
     "height": 221
    },
    "colab_type": "code",
    "id": "bf-AtlGgxVWD",
    "outputId": "205cab45-b93c-4afa-bcfb-8a1faff727ec"
   },
   "outputs": [
    {
     "name": "stdout",
     "output_type": "stream",
     "text": [
      "                     X                       |  y  \n",
      "==================================================\n",
      "0.00 0.00 ... 0.49 0.53 0.69  ... 0.00 0.00  |  0\n",
      "0.00 0.00 ... 0.99 0.99 0.99  ... 0.00 0.00  |  1\n",
      "0.00 0.00 ... 0.00 0.00 0.00  ... 0.00 0.00  |  0\n",
      "0.00 0.00 ... 0.00 0.00 0.49  ... 0.00 0.00  |  0\n",
      "0.00 0.00 ... 0.00 0.00 0.00  ... 0.00 0.00  |  0\n",
      "0.00 0.00 ... 0.10 0.39 0.48  ... 0.00 0.00  |  0\n",
      "0.00 0.00 ... 0.00 0.00 0.00  ... 0.00 0.00  |  0\n",
      "0.00 0.00 ... 0.99 0.99 0.99  ... 0.00 0.00  |  0\n",
      "0.00 0.00 ... 0.00 0.00 0.00  ... 0.00 0.00  |  0\n",
      "0.00 0.00 ... 0.00 0.00 0.00  ... 0.00 0.00  |  0\n"
     ]
    }
   ],
   "source": [
    "print('{:^44}'.format('X'), '|', '{:^4}'.format('y'))\n",
    "print('='*50)\n",
    "for row in range(10):\n",
    "    print('{:.2f} {:.2f} ... {:.2f} {:.2f} {:.2f}  ... {:.2f} {:.2f} '.format(\n",
    "            X_train[row][0], X_train[row][1],\n",
    "            X_train[row][156], X_train[row][157], X_train[row][158],\n",
    "            X_train[row][-2], X_train[row][-1]), '| ',\n",
    "            '{:.0f}'.format(y_train[row][0])\n",
    "         )"
   ]
  },
  {
   "cell_type": "markdown",
   "metadata": {
    "colab_type": "text",
    "id": "TtgkwqfgxVWI"
   },
   "source": [
    "## 2. Define model\n",
    "\n",
    "### Network Structure\n",
    "\n",
    "經驗上：寬度 < 1000 個 neurons，深度 10 ~ 30 層，形狀用金字塔型\n",
    "\n",
    "深度可以用 sample/parameter raton 來估計，約 5 ~ 30\n",
    "* 通常 10 ~ 30 層\n",
    "* 目前最深 150 層\n",
    "\n",
    "\n",
    "1. A: 1 layer\n",
    "2. B: 2 layers, tower-shaped (一樣寬)\n",
    "3. C: 2 layers, pyramid-shaped (越來越窄)"
   ]
  },
  {
   "cell_type": "code",
   "execution_count": 5,
   "metadata": {
    "colab": {},
    "colab_type": "code",
    "id": "kezQ4lkXxVWJ"
   },
   "outputs": [],
   "source": [
    "def layers(group):\n",
    "    if group == 'A':\n",
    "        first_layer_width = 128\n",
    "        second_layer_width = 0\n",
    "    elif group == 'B':\n",
    "        first_layer_width = 128\n",
    "        second_layer_width = 128\n",
    "    elif group == 'C':\n",
    "        first_layer_width = 128\n",
    "        second_layer_width = 64\n",
    "        \n",
    "    return first_layer_width, second_layer_width"
   ]
  },
  {
   "cell_type": "markdown",
   "metadata": {
    "colab_type": "text",
    "id": "AHsrj1msxVWM"
   },
   "source": [
    "### Activation Function\n",
    "1. ReLU\n",
    "2. Sigmoid\n",
    "3. Tanh\n",
    "\n",
    "![activation_function](https://ujwlkarn.files.wordpress.com/2016/08/screen-shot-2016-08-08-at-11-53-41-am.png)\n",
    "\n",
    "Sigmoid($x$) 和 $\\tanh(x)$ 在 $x$ 很大或很小時 (就是在兩端時)，會有 **vanishing gradient** 的問題\n",
    "\n",
    "ReLU($x$) 在 $x > 0$ 時不會有 vanishing gradient 的問題 "
   ]
  },
  {
   "cell_type": "code",
   "execution_count": 6,
   "metadata": {
    "colab": {},
    "colab_type": "code",
    "id": "HMMhDXO4xVWN"
   },
   "outputs": [],
   "source": [
    "# activation_func = 'relu'\n",
    "# activation_func = 'sigmoid'\n",
    "# activation_func = 'tanh'"
   ]
  },
  {
   "cell_type": "code",
   "execution_count": 7,
   "metadata": {
    "colab": {},
    "colab_type": "code",
    "id": "C0I0pjwWxVWP"
   },
   "outputs": [],
   "source": [
    "def activation_function(func):\n",
    "    if func == 'relu':\n",
    "        return 'relu'\n",
    "    elif func == 'sigmoid':\n",
    "        return 'sigmoid'\n",
    "    elif func == 'tanh':\n",
    "        return 'tanh'\n",
    "    else:\n",
    "        return func"
   ]
  },
  {
   "cell_type": "markdown",
   "metadata": {
    "colab_type": "text",
    "id": "Z-e5cyK_xVWT"
   },
   "source": [
    "### Loss Function\n",
    "\n",
    "Loss function 又叫做 cost function，就是 prediction 和 ground truth 之間的差別。\n",
    "\n",
    "算 loss 時要算的是 total loss $L = \\sum_{i=1}^{R} \\ell_i$，然後要把 total loss minimize\n",
    "\n",
    "常用的 loss function 有兩種:\n",
    "1. Cross entropy: 適合 categorical 的數據\n",
    "   \\begin{equation} -\\sum_{i=1}^{k} (y_{i} \\log\\hat{y}_{i})\\end{equation}\n",
    "2. Squared error (MSE): 適合 continuous 的數據\n",
    "   \\begin{equation}\\sum_{i=1}^{k}(y_{i} - \\hat{y}_{i})^{2}\\end{equation}"
   ]
  },
  {
   "cell_type": "code",
   "execution_count": 8,
   "metadata": {
    "colab": {},
    "colab_type": "code",
    "id": "zc_OhrD4xVWU"
   },
   "outputs": [],
   "source": [
    "def loss_func(loss):\n",
    "    if loss == 'crossentropy':\n",
    "        return 'categorical_crossentropy'\n",
    "    elif loss == 'MSE':\n",
    "        return 'mean_squared_error'"
   ]
  },
  {
   "cell_type": "markdown",
   "metadata": {
    "colab_type": "text",
    "id": "PGt407uwxVWW"
   },
   "source": [
    "### Dropout rate\n",
    "可以輸入想要的 dropout rate，例如 0%, 50%, 90% 等\n",
    "\n",
    "* dropout rate < 0.5\n",
    "  * 通常是 0.1 ~ 0.3\n",
    "* 每一層都有一個 dropout rate，在 training 前就要定義好，因為 dropout rate 是 hyperparameter\n",
    "* Training 才要 dropout，**testing 不 dropout**\n",
    "  * Training 每一層關掉 p% 的神經元\n",
    "  * Testing 的 weight $\\times (1-p\\%)$"
   ]
  },
  {
   "cell_type": "code",
   "execution_count": 9,
   "metadata": {
    "colab": {},
    "colab_type": "code",
    "id": "oiTHh9lvxVWX"
   },
   "outputs": [],
   "source": [
    "def set_dropout_rate(num):\n",
    "    if num > 1:\n",
    "        print('Dropout rate is between 0 and 1')\n",
    "        return\n",
    "    else:\n",
    "        return num"
   ]
  },
  {
   "cell_type": "markdown",
   "metadata": {
    "colab_type": "text",
    "id": "4s46J8kcxVWZ"
   },
   "source": [
    "### Regularization\n",
    "\n",
    "目標是 minimize $\\Big(\\sum_{i=1}^{R} L(y_i, \\hat{y}_i) + R(w) \\Big)$\n",
    "\n",
    "1. No regularization: no\n",
    "2. L1-norm: l1\n",
    "   \\begin{equation}R(w, \\lambda) = \\lambda ||w||_{1} = \\lambda \\sum_{i}|w|_{i} = \\lambda(|w_1| + |w_2| + \\cdots + |w_k|)\\end{equation}\n",
    "3. L2-norm: l2\n",
    "   \\begin{equation}R(w, \\lambda) = \\lambda ||w||_{2} = \\lambda \\sqrt{\\sum_{i} w_{i}^{2}} = \\lambda \\sqrt{w_1^2 + w_2^2 + \\cdots + w_k^2}\\end{equation}\n",
    "   \n",
    "還有一個是 max-norm，這是一個 post-processing 的過程，不會在 optimization 時發生。每一個 weight 更新之後，就再除以自己的 norm，再乘上 $\\lambda$ 使得新的 weight 一定小於 $\\lambda$，這樣子 weight 就不會爆掉。\n",
    "* $||w||_2 < \\lambda$，$\\lambda$ 的值大概是 $3 \\sim 4$"
   ]
  },
  {
   "cell_type": "code",
   "execution_count": 10,
   "metadata": {
    "colab": {},
    "colab_type": "code",
    "id": "TLjv1uM8xVWZ"
   },
   "outputs": [],
   "source": [
    "def regularization(regularization = None):\n",
    "    if regularization == 'l1':\n",
    "        return 'l1'\n",
    "    elif regularization == 'l2':\n",
    "        return 'l2'\n",
    "    else:\n",
    "        return regularization"
   ]
  },
  {
   "cell_type": "markdown",
   "metadata": {
    "colab_type": "text",
    "id": "7sWONwb9xVWb"
   },
   "source": [
    "### Mini-batch size\n",
    "可以設定 mini-batch 的大小，例如 128, 256, 512 等\n",
    "\n",
    "通常是 4 的倍數，這和硬體 cache 的設計有關 "
   ]
  },
  {
   "cell_type": "code",
   "execution_count": 11,
   "metadata": {
    "colab": {},
    "colab_type": "code",
    "id": "aqfUm43XxVWb"
   },
   "outputs": [],
   "source": [
    "def mini_batch_size(size):\n",
    "    if size == 128:\n",
    "        return 128\n",
    "    elif size == 256:\n",
    "        return 256\n",
    "    elif size == 512:\n",
    "        return 512\n",
    "    else:\n",
    "        return size"
   ]
  },
  {
   "cell_type": "markdown",
   "metadata": {
    "colab_type": "text",
    "id": "4OhqQ4ZqxVWd"
   },
   "source": [
    "### Learning Rate\n",
    "\n",
    "可以設定 learning rate 的大小，例如 0.1, 0.01, 0.5 等\n",
    "\n",
    "\\begin{equation}w' \\leftarrow w - \\eta \\cdot \\frac{\\partial L}{\\partial w}\\end{equation}\n",
    "\n",
    "learning rate $\\eta$ 決定大小，$\\frac{\\partial L}{\\partial w}$ 決定方向\n",
    "\n",
    "通常介於 0.01 到 0.1 之間\n",
    "\n",
    "同一個 epoch 的 learning rate 是常數，epoch 越多時，learning rate 就越會調越小。\n",
    "* $\\eta_i = \\eta_{i-1}/\\sqrt{i+1}$\n",
    "* AdaGrad: \\begin{equation}\\eta_w = \\frac{\\eta}{\\sqrt{\\sum_{i=0}^{t}g_i^2}}, g_i = \\frac{\\partial L}{\\partial w}\\end{equation}"
   ]
  },
  {
   "cell_type": "code",
   "execution_count": 12,
   "metadata": {
    "colab": {},
    "colab_type": "code",
    "id": "plKbNTJ9xVWd"
   },
   "outputs": [],
   "source": [
    "def set_learning_rate(rate):\n",
    "    if rate == 0.1:\n",
    "        return 0.1\n",
    "    elif rate == 0.01:\n",
    "        return 0.01\n",
    "    elif rate == 0.5:\n",
    "        return 0.5\n",
    "    else:\n",
    "        return rate"
   ]
  },
  {
   "cell_type": "markdown",
   "metadata": {
    "colab_type": "text",
    "id": "KSSUj5wuxVWf"
   },
   "source": [
    "### 這邊才是定義 model"
   ]
  },
  {
   "cell_type": "code",
   "execution_count": 24,
   "metadata": {
    "colab": {},
    "colab_type": "code",
    "id": "urCNA67dxVWg"
   },
   "outputs": [],
   "source": [
    "def DefineModel():\n",
    "    # Initialize\n",
    "    model = Sequential()\n",
    "    \n",
    "    # Initialize all variables\n",
    "    first_layer_width, second_layer_width = layers('C')\n",
    "    activation_func = activation_function('relu')\n",
    "    loss_function = loss_func('crossentropy')\n",
    "    dropout_rate = set_dropout_rate(0.0)\n",
    "    weight_regularizer = regularization()\n",
    "    learning_rate = set_learning_rate(0.1)\n",
    "    \n",
    "    # Add first hidden layer\n",
    "    model.add(Dense(first_layer_width, input_dim=784, W_regularizer=weight_regularizer))\n",
    "    model.add(Activation(activation_func))\n",
    "    if dropout_rate > 0:\n",
    "        model.add(Dropout(dropout_rate))\n",
    "        \n",
    "    # Add second hidden layer\n",
    "    if second_layer_width > 0:\n",
    "        model.add(Dense(second_layer_width))\n",
    "        model.add(Activation(activation_func))\n",
    "        if dropout_rate > 0:\n",
    "            model.add(Dropout(dropout_rate))\n",
    "            \n",
    "    # Last layer has the same dimension as the number of classes\n",
    "    model.add(Dense(10))\n",
    "    # Then add softmax\n",
    "    model.add(Activation('softmax'))\n",
    "    # Define optimizer\n",
    "    opt = SGD(lr=learning_rate, clipnorm=5.)\n",
    "    # Define loss function\n",
    "    model.compile(loss=loss_function, optimizer=opt, metrics=['accuracy'])\n",
    "    \n",
    "    return model"
   ]
  },
  {
   "cell_type": "markdown",
   "metadata": {
    "colab_type": "text",
    "id": "PYibCIpkxVWh"
   },
   "source": [
    "### 定義怎麼 train model"
   ]
  },
  {
   "cell_type": "code",
   "execution_count": 25,
   "metadata": {
    "colab": {},
    "colab_type": "code",
    "id": "3dT-6bSoxVWi"
   },
   "outputs": [],
   "source": [
    "def TrainModel(data=None, epochs=20):\n",
    "    batch = mini_batch_size(128)\n",
    "    start_time = time.time()\n",
    "    model = DefineModel()\n",
    "    \n",
    "    if data is None:\n",
    "        print('Must provide data.')\n",
    "        return\n",
    "    \n",
    "    X_train, X_test, y_train, y_test = data\n",
    "    print('Start training...')\n",
    "    \n",
    "    # There are 60,000 samples\n",
    "    # Use the first 50,000 to train and last 10,000 to validate.\n",
    "    history = model.fit(X_train[:55000], y_train[:55000], \n",
    "                        nb_epoch=epochs, batch_size=batch,\n",
    "                        validation_data=(X_train[55000:], y_train[55000:]))\n",
    "    print('Training took {0} seconds.'.format(time.time() - start_time))\n",
    "    return model, history"
   ]
  },
  {
   "cell_type": "markdown",
   "metadata": {
    "colab_type": "text",
    "id": "wQRD3VGaxVWj"
   },
   "source": [
    "### 定義怎麼 test model"
   ]
  },
  {
   "cell_type": "code",
   "execution_count": 26,
   "metadata": {
    "colab": {},
    "colab_type": "code",
    "id": "vQg9zZYwxVWk"
   },
   "outputs": [],
   "source": [
    "def TestModel(model=None, data=None):\n",
    "    if model is None:\n",
    "        print('Must provide a trained model.')\n",
    "        return\n",
    "    if data is None:\n",
    "        print('Must provide data.')\n",
    "        return\n",
    "    x_test, y_test = data\n",
    "    scores = model.evaluate(x_test, y_test)\n",
    "    return scores"
   ]
  },
  {
   "cell_type": "markdown",
   "metadata": {
    "colab_type": "text",
    "id": "TKZx1j8UxVWl"
   },
   "source": [
    "### 開始訓練"
   ]
  },
  {
   "cell_type": "code",
   "execution_count": 27,
   "metadata": {
    "colab": {
     "base_uri": "https://localhost:8080/",
     "height": 1020
    },
    "colab_type": "code",
    "id": "4up0dnXKxVWl",
    "outputId": "a7919f35-4ec9-4985-88b0-03e42a28a2ee"
   },
   "outputs": [
    {
     "name": "stderr",
     "output_type": "stream",
     "text": [
      "/usr/local/anaconda3/lib/python3.6/site-packages/ipykernel_launcher.py:14: UserWarning: Update your `Dense` call to the Keras 2 API: `Dense(128, input_dim=784, kernel_regularizer=None)`\n",
      "  \n",
      "/usr/local/anaconda3/lib/python3.6/site-packages/ipykernel_launcher.py:17: UserWarning: The `nb_epoch` argument in `fit` has been renamed `epochs`.\n"
     ]
    },
    {
     "name": "stdout",
     "output_type": "stream",
     "text": [
      "Start training...\n",
      "Train on 55000 samples, validate on 5000 samples\n",
      "Epoch 1/20\n",
      "55000/55000 [==============================] - 3s 50us/step - loss: 0.4765 - acc: 0.8658 - val_loss: 0.2724 - val_acc: 0.9174\n",
      "Epoch 2/20\n",
      "55000/55000 [==============================] - 2s 38us/step - loss: 0.2276 - acc: 0.9340 - val_loss: 0.1509 - val_acc: 0.9586\n",
      "Epoch 3/20\n",
      "55000/55000 [==============================] - 2s 38us/step - loss: 0.1702 - acc: 0.9507 - val_loss: 0.1274 - val_acc: 0.9650\n",
      "Epoch 4/20\n",
      "55000/55000 [==============================] - 2s 38us/step - loss: 0.1374 - acc: 0.9601 - val_loss: 0.1115 - val_acc: 0.9692\n",
      "Epoch 5/20\n",
      "55000/55000 [==============================] - 2s 38us/step - loss: 0.1154 - acc: 0.9657 - val_loss: 0.0986 - val_acc: 0.9738\n",
      "Epoch 6/20\n",
      "55000/55000 [==============================] - 2s 38us/step - loss: 0.0984 - acc: 0.9711 - val_loss: 0.1000 - val_acc: 0.9732\n",
      "Epoch 7/20\n",
      "55000/55000 [==============================] - 2s 42us/step - loss: 0.0859 - acc: 0.9743 - val_loss: 0.0929 - val_acc: 0.9750\n",
      "Epoch 8/20\n",
      "55000/55000 [==============================] - 2s 40us/step - loss: 0.0759 - acc: 0.9779 - val_loss: 0.0881 - val_acc: 0.9736\n",
      "Epoch 9/20\n",
      "55000/55000 [==============================] - 2s 38us/step - loss: 0.0673 - acc: 0.9806 - val_loss: 0.0912 - val_acc: 0.9746\n",
      "Epoch 10/20\n",
      "55000/55000 [==============================] - 2s 38us/step - loss: 0.0602 - acc: 0.9826 - val_loss: 0.0763 - val_acc: 0.9776\n",
      "Epoch 11/20\n",
      "55000/55000 [==============================] - 2s 39us/step - loss: 0.0540 - acc: 0.9845 - val_loss: 0.0808 - val_acc: 0.9756\n",
      "Epoch 12/20\n",
      "55000/55000 [==============================] - 2s 39us/step - loss: 0.0486 - acc: 0.9857 - val_loss: 0.0750 - val_acc: 0.9774\n",
      "Epoch 13/20\n",
      "55000/55000 [==============================] - 3s 48us/step - loss: 0.0440 - acc: 0.9874 - val_loss: 0.0773 - val_acc: 0.9778\n",
      "Epoch 14/20\n",
      "55000/55000 [==============================] - 3s 47us/step - loss: 0.0394 - acc: 0.9891 - val_loss: 0.0795 - val_acc: 0.9782\n",
      "Epoch 15/20\n",
      "55000/55000 [==============================] - 2s 44us/step - loss: 0.0359 - acc: 0.9900 - val_loss: 0.0743 - val_acc: 0.9800\n",
      "Epoch 16/20\n",
      "55000/55000 [==============================] - 2s 43us/step - loss: 0.0325 - acc: 0.9910 - val_loss: 0.0714 - val_acc: 0.9786\n",
      "Epoch 17/20\n",
      "55000/55000 [==============================] - 2s 41us/step - loss: 0.0294 - acc: 0.9919 - val_loss: 0.0738 - val_acc: 0.9804\n",
      "Epoch 18/20\n",
      "55000/55000 [==============================] - 2s 41us/step - loss: 0.0268 - acc: 0.9928 - val_loss: 0.0750 - val_acc: 0.9790\n",
      "Epoch 19/20\n",
      "55000/55000 [==============================] - 2s 43us/step - loss: 0.0241 - acc: 0.9941 - val_loss: 0.0733 - val_acc: 0.9796\n",
      "Epoch 20/20\n",
      "55000/55000 [==============================] - 2s 44us/step - loss: 0.0216 - acc: 0.9949 - val_loss: 0.0734 - val_acc: 0.9814\n",
      "Training took 45.95334196090698 seconds.\n"
     ]
    }
   ],
   "source": [
    "trained_model, training_history = TrainModel(data=[X_train, X_test, y_train, y_test])"
   ]
  },
  {
   "cell_type": "markdown",
   "metadata": {
    "colab_type": "text",
    "id": "kEmQXxskxVWm"
   },
   "source": [
    "### 畫圖看結果\n",
    "\n",
    "#### Loss 和 Accuracy"
   ]
  },
  {
   "cell_type": "code",
   "execution_count": 28,
   "metadata": {
    "colab": {},
    "colab_type": "code",
    "id": "eBrfNY3RxVWn"
   },
   "outputs": [],
   "source": [
    "def PlotHistory(train_value, test_value, value_is_loss_or_acc):\n",
    "    fig, ax = plt.subplots()\n",
    "    ax.plot([None] + train_value, 'o-')\n",
    "    ax.plot([None] + test_value, 'x-')\n",
    "    ax.legend(['Train ' + value_is_loss_or_acc, 'Validation ' + value_is_loss_or_acc], loc=0)\n",
    "    ax.set_title('Training/Validation ' + value_is_loss_or_acc + ' per Epoch')\n",
    "    ax.set_xlabel('Epoch')\n",
    "    ax.set_ylabel(value_is_loss_or_acc)"
   ]
  },
  {
   "cell_type": "code",
   "execution_count": 29,
   "metadata": {
    "colab": {
     "base_uri": "https://localhost:8080/",
     "height": 571
    },
    "colab_type": "code",
    "id": "HQXZ6afMxVWo",
    "outputId": "ee5641a7-3d0d-49b2-f1f9-c59abbb97854"
   },
   "outputs": [
    {
     "data": {
      "image/png": "[encoded data removed]",
      "text/plain": [
       "<Figure size 432x288 with 1 Axes>"
      ]
     },
     "metadata": {
      "needs_background": "light"
     },
     "output_type": "display_data"
    },
    {
     "data": {
      "image/png": "[encoded data removed]",
      "text/plain": [
       "<Figure size 432x288 with 1 Axes>"
      ]
     },
     "metadata": {
      "needs_background": "light"
     },
     "output_type": "display_data"
    }
   ],
   "source": [
    "PlotHistory(training_history.history['loss'], training_history.history['val_loss'], 'Loss')\n",
    "PlotHistory(training_history.history['acc'], training_history.history['val_acc'], 'Accuracy')"
   ]
  },
  {
   "cell_type": "markdown",
   "metadata": {
    "colab_type": "text",
    "id": "JF6OvVfqxVWq"
   },
   "source": [
    "#### Regularization"
   ]
  },
  {
   "cell_type": "code",
   "execution_count": 30,
   "metadata": {
    "colab": {},
    "colab_type": "code",
    "id": "tENvSlLUxVWq"
   },
   "outputs": [],
   "source": [
    "def drawWeightHistogram(x):\n",
    "    fig, ax = plt.subplots()\n",
    "    n, bins, patches = plt.hist(x, 50)\n",
    "    plt.xlim(-0.5, 0.5)\n",
    "    plt.xlabel('Weight')\n",
    "    plt.ylabel('Count')\n",
    "    zero_counts = (x == 0.0).sum()\n",
    "    plt.title(\"Weight Histogram. Num of '0's: %d\" % zero_counts)"
   ]
  },
  {
   "cell_type": "code",
   "execution_count": 31,
   "metadata": {
    "colab": {
     "base_uri": "https://localhost:8080/",
     "height": 294
    },
    "colab_type": "code",
    "id": "ESeHveBUxVWs",
    "outputId": "b91a9eaf-6d92-4d23-fae0-857c85320ca8"
   },
   "outputs": [
    {
     "data": {
      "image/png": "[encoded data removed]",
      "text/plain": [
       "<Figure size 432x288 with 1 Axes>"
      ]
     },
     "metadata": {
      "needs_background": "light"
     },
     "output_type": "display_data"
    }
   ],
   "source": [
    "wl = trained_model.layers[0].get_weights()[0].flatten()\n",
    "drawWeightHistogram(wl)"
   ]
  },
  {
   "cell_type": "markdown",
   "metadata": {
    "colab_type": "text",
    "id": "rHxevnCAxVWt"
   },
   "source": [
    "### 看 model 跑 test sample 的分數"
   ]
  },
  {
   "cell_type": "code",
   "execution_count": 32,
   "metadata": {
    "colab": {
     "base_uri": "https://localhost:8080/",
     "height": 51
    },
    "colab_type": "code",
    "id": "FcEgwpu0xVWu",
    "outputId": "cc2db31e-532f-4767-f819-38863548fb6e"
   },
   "outputs": [
    {
     "name": "stdout",
     "output_type": "stream",
     "text": [
      "10000/10000 [==============================] - 0s 28us/step\n",
      "Test loss 0.0811, accuracy 97.66%\n"
     ]
    }
   ],
   "source": [
    "test_score = TestModel(model=trained_model, data=[X_test, y_test])\n",
    "print('Test loss {:.4f}, accuracy {:.2f}%'.format(test_score[0], test_score[1] * 100))"
   ]
  },
  {
   "cell_type": "markdown",
   "metadata": {
    "colab_type": "text",
    "id": "5JRuRG6fxVWv"
   },
   "source": [
    "### 一些畫圖的函數"
   ]
  },
  {
   "cell_type": "code",
   "execution_count": 33,
   "metadata": {
    "colab": {},
    "colab_type": "code",
    "id": "O1csfRmOxVWw"
   },
   "outputs": [],
   "source": [
    "def ShowInputImage(data):\n",
    "    '''Visualize input image.'''\n",
    "    plot = plt.figure()\n",
    "    plot.set_size_inches(2, 2)\n",
    "    plt.imshow(np.reshape(-data, (28, 28)), cmap='Greys_r')\n",
    "    plt.title('Input')\n",
    "    plt.axis('off')\n",
    "    plt.show()"
   ]
  },
  {
   "cell_type": "code",
   "execution_count": 34,
   "metadata": {
    "colab": {},
    "colab_type": "code",
    "id": "ZUFmeaI0xVWx"
   },
   "outputs": [],
   "source": [
    "def ShowHiddenLayerOutput(input_data, target_layer_num):\n",
    "    '''Visualize output from the target hidden layer.'''\n",
    "    from keras import backend as K\n",
    "    # backend converter: to TensorFlow\n",
    "    target_layer = K.function(trained_model.inputs, [trained_model.layers[target_layer_num].output])\n",
    "    # Extract output from the target hidden layer\n",
    "    target_layer_out = target_layer([input_data])\n",
    "    plot = plt.figure()\n",
    "    plot.set_size_inches(2, 2)\n",
    "    plt.imshow(np.reshape(-target_layer_out[0][0], (16, -1)), cmap='Greys_r')\n",
    "    plt.title('Hidden layer ' + str(target_layer_num))\n",
    "    plt.axis('off')\n",
    "    plt.show()"
   ]
  },
  {
   "cell_type": "code",
   "execution_count": 35,
   "metadata": {
    "colab": {},
    "colab_type": "code",
    "id": "3yfl5pG4xVW0"
   },
   "outputs": [],
   "source": [
    "def ShowFinalOutput(input_data):\n",
    "    '''Calculate final prediction.'''\n",
    "    from keras import backend as K\n",
    "    # backend converter: to TensorFlow\n",
    "    # Calculate final prediction\n",
    "    last_layer = K.function(trained_model.inputs, [trained_model.layers[-1].output])\n",
    "    last_layer_out = last_layer([input_data])\n",
    "    print('Final prediction: ' + str(np.argmax(last_layer_out[0][0])))"
   ]
  },
  {
   "cell_type": "code",
   "execution_count": 36,
   "metadata": {
    "colab": {
     "base_uri": "https://localhost:8080/",
     "height": 344
    },
    "colab_type": "code",
    "id": "DmnCPEmkxVW1",
    "outputId": "1627b71c-fda1-4d9f-b450-41c3c9531029"
   },
   "outputs": [
    {
     "data": {
      "image/png": "[encoded data removed]",
      "text/plain": [
       "<Figure size 144x144 with 1 Axes>"
      ]
     },
     "metadata": {
      "needs_background": "light"
     },
     "output_type": "display_data"
    },
    {
     "data": {
      "image/png": "[encoded data removed]",
      "text/plain": [
       "<Figure size 144x144 with 1 Axes>"
      ]
     },
     "metadata": {
      "needs_background": "light"
     },
     "output_type": "display_data"
    },
    {
     "name": "stdout",
     "output_type": "stream",
     "text": [
      "Final prediction: 7\n"
     ]
    }
   ],
   "source": [
    "ShowInputImage(X_test[0])\n",
    "ShowHiddenLayerOutput(X_test, 1)\n",
    "ShowFinalOutput(X_test)"
   ]
  },
  {
   "cell_type": "code",
   "execution_count": 37,
   "metadata": {
    "colab": {
     "base_uri": "https://localhost:8080/",
     "height": 34
    },
    "colab_type": "code",
    "id": "Oa2Pz1qKxVW2",
    "outputId": "de60a6fe-62f3-4172-e620-630c5d4a4c73"
   },
   "outputs": [
    {
     "name": "stdout",
     "output_type": "stream",
     "text": [
      "1.12.0\n"
     ]
    }
   ],
   "source": [
    "import tensorflow as tf\n",
    "print(tf.__version__)"
   ]
  },
  {
   "cell_type": "markdown",
   "metadata": {},
   "source": [
    "***\n",
    "***\n",
    "***"
   ]
  },
  {
   "cell_type": "markdown",
   "metadata": {},
   "source": [
    "## LSTM\n",
    "\n",
    "### Text generation\n",
    "\n",
    "* 用尼采的文章來產生像是尼采寫的文章\n",
    "  * 如果是要用其他的輸入，那 corpus 至少要 ~100k，但最好是 ~1M\n",
    "* 至少要 20 個 epochs\n",
    "* 需要用 GPU 加速"
   ]
  },
  {
   "cell_type": "code",
   "execution_count": 2,
   "metadata": {},
   "outputs": [],
   "source": [
    "from __future__ import print_function # must occur at the beginning of the file\n",
    "\n",
    "import numpy as np\n",
    "import random\n",
    "import sys"
   ]
  },
  {
   "cell_type": "code",
   "execution_count": 3,
   "metadata": {},
   "outputs": [
    {
     "name": "stderr",
     "output_type": "stream",
     "text": [
      "Using TensorFlow backend.\n"
     ]
    }
   ],
   "source": [
    "from keras.models import Sequential\n",
    "from keras.layers import Dense, Activation, Dropout, LSTM\n",
    "from keras.optimizers import SGD\n",
    "from keras.utils.data_utils import get_file"
   ]
  },
  {
   "cell_type": "markdown",
   "metadata": {},
   "source": [
    "* `read(size)`: size is an optional numeric argument and this func returns a quantity of data equal to size. If size if omitted, then it reads the entire file and returns it\n",
    "* `readline()`: reads a single line from file with newline at the end\n",
    "* `readlines()`: returns a list containing all the lines in the file\n",
    "* `xreadlines()`: Returns a generator to loop over every single line in the file"
   ]
  },
  {
   "cell_type": "code",
   "execution_count": 4,
   "metadata": {},
   "outputs": [
    {
     "name": "stdout",
     "output_type": "stream",
     "text": [
      "Downloading data from https://s3.amazonaws.com/text-datasets/nietzsche.txt\n",
      "606208/600901 [==============================] - 1s 1us/step\n",
      "corpus length= 600893\n"
     ]
    }
   ],
   "source": [
    "path = get_file('nietzsche.txt', origin=\"https://s3.amazonaws.com/text-datasets/nietzsche.txt\")\n",
    "corpus = None\n",
    "with open(path) as f:\n",
    "    corpus = f.read() # read entire file\n",
    "    corpus = corpus.lower() # change all characters to lower case\n",
    "print('corpus length=', len(corpus))"
   ]
  },
  {
   "cell_type": "markdown",
   "metadata": {},
   "source": [
    "找出所有獨立的字元 (不是找單字)"
   ]
  },
  {
   "cell_type": "code",
   "execution_count": 6,
   "metadata": {},
   "outputs": [
    {
     "name": "stdout",
     "output_type": "stream",
     "text": [
      "['\\n', ' ', '!', '\"', \"'\", '(', ')', ',', '-', '.', '0', '1', '2', '3', '4', '5', '6', '7', '8', '9', ':', ';', '=', '?', '[', ']', '_', 'a', 'b', 'c', 'd', 'e', 'f', 'g', 'h', 'i', 'j', 'k', 'l', 'm', 'n', 'o', 'p', 'q', 'r', 's', 't', 'u', 'v', 'w', 'x', 'y', 'z', 'ä', 'æ', 'é', 'ë']\n"
     ]
    }
   ],
   "source": [
    "chars = sorted(list(set(corpus)))\n",
    "print('tital chars=', len(chars))"
   ]
  },
  {
   "cell_type": "code",
   "execution_count": null,
   "metadata": {},
   "outputs": [],
   "source": [
    "char_indices = dict((c, i) for i, c in enumerate(chars))\n",
    "indices_char = dict((i, c) for i, c in enumerate(chars))"
   ]
  },
  {
   "cell_type": "code",
   "execution_count": null,
   "metadata": {},
   "outputs": [],
   "source": []
  },
  {
   "cell_type": "code",
   "execution_count": null,
   "metadata": {},
   "outputs": [],
   "source": [
    "maxlen = 40\n",
    "step = 3\n",
    "sentences = []\n",
    "next_chars = []\n",
    "\n",
    "for i in range(0, len(corpus) - maxlen, step):\n",
    "    sentences.append(corpus[i:i + maxlen])\n",
    "    next_chars.append(corpus[i + maxlen])\n",
    "print('nb sentences=', len(sentences))\n",
    "\n",
    "print('Vectorization...')\n",
    "X = np.zeros((len(sentences), maxlen, len(chars)), dtype=np.bool)\n",
    "y = np.zeros((len(sentences), len(chars)), dtype=np.bool)\n",
    "\n",
    "for i, sentence in enumerate(sentences):\n",
    "    for t, char in enumerate(sentence):\n",
    "        X[i, t, char_indices[char]] = 1\n",
    "        y[i, char_indices[next_chars[i]]] = 1"
   ]
  },
  {
   "cell_type": "markdown",
   "metadata": {},
   "source": [
    "### Build LSTM model"
   ]
  },
  {
   "cell_type": "code",
   "execution_count": null,
   "metadata": {},
   "outputs": [],
   "source": [
    "print('Build model...')\n",
    "model = Sequential()\n",
    "model.add(LSTM(64, input_shape=(maxlen, len(chars))))\n",
    "model.add(Dense(len(chars)))\n",
    "model.add(Activation('softmax'))\n",
    "\n",
    "optimizer = SGD(lr=1)\n",
    "model.compile(loss='categorical_crossentropy', optimizer=optimizer)"
   ]
  },
  {
   "cell_type": "code",
   "execution_count": null,
   "metadata": {},
   "outputs": [],
   "source": [
    "def sample(preds, temperature=1.0):\n",
    "    '''\n",
    "    Helper function to sample an index for a probability array\n",
    "    '''\n",
    "    preds = np.asarray(preds).astype('float64')\n",
    "    preds = np.log(preds) / temperature\n",
    "    exp_preds = np.exp(preds)\n",
    "    preds = exp_preds / np.sum(exp_preds)\n",
    "    probas = np.random.multinomial(1, preds, 1)\n",
    "    return np.argmax(probas)"
   ]
  },
  {
   "cell_type": "markdown",
   "metadata": {},
   "source": [
    "訓練模型，每個 iteration 結束就把產生的字輸出"
   ]
  },
  {
   "cell_type": "code",
   "execution_count": null,
   "metadata": {},
   "outputs": [],
   "source": [
    "for iteration in range(1, 20):\n",
    "    print()\n",
    "    print('-'*50)\n",
    "    print('Iteration', iteration)\n",
    "    model.fit(X, y, batch_size=128, epochs=1)\n",
    "    \n",
    "    start_index = np.random.randint(0, len(corpus) - maxlen - 1)\n",
    "    \n",
    "#     for diversity in [0.2, 0.5, 1.0, 1.2]:\n",
    "    for diversity in [0.5]:\n",
    "        print()\n",
    "        print('----- diversity = ', diversity)\n",
    "        \n",
    "        generated = ''\n",
    "        sentence = corpus[start_index : start_index + maxlen]\n",
    "        generated += sentence\n",
    "        print('Generating with seed: \"' + sentence + '\"')\n",
    "        sys.stdout.write(generated)\n",
    "        \n",
    "        for i in range(200):\n",
    "            x = np.zeros((1, maxlen, len(chars)))\n",
    "            for t, char in enumerate(sentence):\n",
    "                X[0, t, char_indices[char]] = 1.\n",
    "                \n",
    "            preds = model.predict(X, verbose=0)[0]\n",
    "            next_index = sample(preds, diversity)\n",
    "            next_char = indices_char[next_index]\n",
    "            \n",
    "            generated += next_char\n",
    "            sentence = sentence[1:] + next_char\n",
    "            \n",
    "            sys.stdout.write(next_char)\n",
    "            sys.stdout.flush()\n",
    "        print()"
   ]
  },
  {
   "cell_type": "markdown",
   "metadata": {},
   "source": [
    "***\n",
    "***\n",
    "***"
   ]
  },
  {
   "cell_type": "markdown",
   "metadata": {},
   "source": [
    "## LSTM\n",
    "\n",
    "## Twiter"
   ]
  },
  {
   "cell_type": "code",
   "execution_count": null,
   "metadata": {},
   "outputs": [],
   "source": [
    "from __future__ import print_function\n",
    "\n",
    "import csv\n",
    "import numpy as np\n",
    "import operator\n",
    "import re\n",
    "\n",
    "from keras.preprocessing import sequence\n",
    "from keras.models import Sequential\n",
    "from keras.layers import Dense, Embedding, LSTM\n",
    "from keras.utils import to_categorical"
   ]
  },
  {
   "cell_type": "code",
   "execution_count": null,
   "metadata": {},
   "outputs": [],
   "source": [
    "max_vocabulary = 10000\n",
    "maxlen = 20\n",
    "batch_size = 256"
   ]
  },
  {
   "cell_type": "code",
   "execution_count": null,
   "metadata": {},
   "outputs": [],
   "source": [
    "def preprocess_words(words):\n",
    "    # Remove consecutive period symbols\n",
    "    words = re.sub(r\"[\\. ][\\. ]+\", \" . \", words)\n",
    "    # Replace word+comma with word [space] comma\n",
    "    words = re.sub(r\",\", \" , \", words)\n",
    "    # Replace word+parenthesis with word [space] parenthesis.\n",
    "    # E.g., this(is) -> this ( is )\n",
    "    words = re.sub(r\"[\\(\\)]\", \" \\l \", words)\n",
    "    return words.split()"
   ]
  },
  {
   "cell_type": "code",
   "execution_count": null,
   "metadata": {},
   "outputs": [],
   "source": [
    "def load_twitter(filename):\n",
    "    labels = []\n",
    "    tweets = []\n",
    "    with open(filename) as csvfile:\n",
    "        reader = csv.DictReader(csvfile)\n",
    "        for row in reader:\n",
    "            # Column names = ItemID, Sentiment, SentimentSource, SentimentText\n",
    "            labels.append(int(row['Sentiment']))\n",
    "            words = row['SentimentText'].strip().lower()\n",
    "            tweets.append(preprocess_words(words))\n",
    "    return np.array(tweets), np.array(labels)"
   ]
  },
  {
   "cell_type": "code",
   "execution_count": null,
   "metadata": {},
   "outputs": [],
   "source": [
    "print('Loading data...')\n",
    "tweets, labels = load_twitter('Sentiment_Analysis_Dataset.csv')\n",
    "print('Load', len(labels), 'tweets')\n",
    "print('First tweet: {}'.format(' '.join(tweets[0])))\n",
    "print('First tweet label: {}'.format(labels[0]))"
   ]
  },
  {
   "cell_type": "code",
   "execution_count": null,
   "metadata": {},
   "outputs": [],
   "source": [
    "# randomize tweets and create training/test sets\n",
    "np.random.seed(1337)\n",
    "rand_idx = np.random.permutation(len(labels))\n",
    "rand_idx[:-10000]"
   ]
  },
  {
   "cell_type": "code",
   "execution_count": null,
   "metadata": {},
   "outputs": [],
   "source": [
    "# select last 10000 tweets as test set\n",
    "tweets_training = tweets[rand_idx[:-10000]]\n",
    "labels_training = labels[rand_idx[:-10000]]\n",
    "\n",
    "tweets_test = tweets[rand_idx[-10000:]]\n",
    "labels_test = labels[rand_idx[-10000:]]"
   ]
  },
  {
   "cell_type": "code",
   "execution_count": null,
   "metadata": {},
   "outputs": [],
   "source": [
    "def build_vocabulary(tweets):\n",
    "    print('### Example tweets:')\n",
    "    print(' '.join(tweets[0]))\n",
    "    print(' '.join(tweets[1]))\n",
    "    vocab = dict()\n",
    "    for t in tweets:\n",
    "        for word in t:\n",
    "            if word.startswith('@'): # ignore twitter username\n",
    "                continue\n",
    "            if word not in vocab:\n",
    "                vocab[word] = 0\n",
    "            vocab[word] += 1\n",
    "    # sort vocabulary by count\n",
    "    vocab = sorted(vocab.items(), key=operator.itemgetter(1), reverse=True)\n",
    "    # keep only top max_vocabulary ones\n",
    "    vocab = vocab[:max_vocabulary - 1] # max_vocabulary - 1: reserve one spot for 'unknown' token.\n",
    "    vocab.append(('<unk>', 0))\n",
    "    print('### Top 5 vocabs after sorting:')\n",
    "    print(vocab[:5])\n",
    "    return vocab"
   ]
  },
  {
   "cell_type": "code",
   "execution_count": null,
   "metadata": {},
   "outputs": [],
   "source": [
    "vocabulary = build_vocabulary(tweets_training)"
   ]
  },
  {
   "cell_type": "code",
   "execution_count": null,
   "metadata": {},
   "outputs": [],
   "source": [
    "def save_vocab(vocabulary):\n",
    "    with open('vocab.txt', 'w') as vf:\n",
    "        for v in vocabulary:\n",
    "            vf.write(v[0])\n",
    "            vf.write('\\t')\n",
    "            vf.write(str(v[1]))\n",
    "            vf.write('\\n')"
   ]
  },
  {
   "cell_type": "code",
   "execution_count": null,
   "metadata": {},
   "outputs": [],
   "source": [
    "save_vocab(vocabulary)"
   ]
  },
  {
   "cell_type": "code",
   "execution_count": null,
   "metadata": {},
   "outputs": [],
   "source": [
    "def create_vocab_index(vocab):\n",
    "    vocab_idx = dict()\n",
    "    v_id = 0\n",
    "    for v in vocab:\n",
    "        vocab_idx[v[0]] = v_id\n",
    "        v_id += 1\n",
    "    return vocab_idx"
   ]
  },
  {
   "cell_type": "code",
   "execution_count": null,
   "metadata": {},
   "outputs": [],
   "source": [
    "vocab_word_to_id = create_vocab_index(vocabulary)\n",
    "vocab_id_to_word = [(idx, word) for (word, idx) in vocab_word_to_id.items()]"
   ]
  },
  {
   "cell_type": "code",
   "execution_count": null,
   "metadata": {},
   "outputs": [],
   "source": [
    "def transcode_words(sents, vocab_index):\n",
    "    coded_words = [[vocab_index[w] if w in vocab_index else vocab_index['<unk>'] for w in words for words in sents]]\n",
    "    return coded_words"
   ]
  },
  {
   "cell_type": "code",
   "execution_count": null,
   "metadata": {},
   "outputs": [],
   "source": [
    "tweets_training_to_id = transcode_words(tweets_training, vocab_word_to_id)\n",
    "tweets_test_to_id = transcode_words(tweets_test, vocab_word_to_id)"
   ]
  },
  {
   "cell_type": "code",
   "execution_count": null,
   "metadata": {},
   "outputs": [],
   "source": [
    "# must transcode from word to word_id first!!\n",
    "print('Pad sequences (samples x time)')\n",
    "tweets_training_to_id_padded = sequence.pad_sequences(tweets_training_to_id, maxlen=maxlen)\n",
    "tweets_test_to_id_padded = sequence.pad_sequences(tweets_test_to_id, maxlen=maxlen)\n",
    "print('features shape:', tweets_training_to_padded.shape)"
   ]
  },
  {
   "cell_type": "code",
   "execution_count": null,
   "metadata": {},
   "outputs": [],
   "source": [
    "# turn label to one-hot\n",
    "labels_training_onehot = to_categorical(labels_training, num_classes=2)\n",
    "labels_test_onehot = to_categorical(labels_test, num_classes=2)"
   ]
  },
  {
   "cell_type": "code",
   "execution_count": null,
   "metadata": {},
   "outputs": [],
   "source": [
    "def build_model():\n",
    "    print('Building model...')\n",
    "    model = Sequential()\n",
    "    model.add(Embedding(max_vocabulary, 300))\n",
    "    model.add(LSTM(16, dropout=0.2, recurrent_dropout=0.2))\n",
    "    model.add(Dense(2, activation='sigmoid'))\n",
    "    \n",
    "    # try using different optimizers and different optimizer configs\n",
    "    model.compile(loss='binary_crossentropy',\n",
    "                  optimizer='adam',\n",
    "                  metrics=['accuracy'])\n",
    "    return model"
   ]
  },
  {
   "cell_type": "code",
   "execution_count": null,
   "metadata": {},
   "outputs": [],
   "source": [
    "def train(model):\n",
    "    print('Train...')\n",
    "    model.fit(tweets_training_to_id_padded, labels_training_outhot,\n",
    "              batch_size=batch_size,\n",
    "              epochs=10,\n",
    "              validation_data=(tweets_test_to_id_padded, labels_test_onehot))\n",
    "    score, acc = model.evaluate(tweets_test_to_id_padded, labels_test_onehot, batch_size=batch_size)\n",
    "    print('Test score:' score)\n",
    "    print('Test accuracy:' acc)"
   ]
  },
  {
   "cell_type": "code",
   "execution_count": null,
   "metadata": {},
   "outputs": [],
   "source": [
    "tweet_classify_model = build_model()\n",
    "train(tweet_classify_model)\n",
    "tweet_classify_model.save('tweet_model.pkl')"
   ]
  },
  {
   "cell_type": "code",
   "execution_count": null,
   "metadata": {},
   "outputs": [],
   "source": [
    "import tensorflow as tf\n",
    "print(tf.__version__)\n",
    "\n",
    "from keras.models import load_model\n",
    "pre_trained_model = load_model('tweet_model.pkl')\n",
    "pre_trained_model.summary()"
   ]
  },
  {
   "cell_type": "markdown",
   "metadata": {},
   "source": [
    "***\n",
    "***\n",
    "***"
   ]
  },
  {
   "cell_type": "markdown",
   "metadata": {},
   "source": [
    "## CNN"
   ]
  },
  {
   "cell_type": "code",
   "execution_count": null,
   "metadata": {},
   "outputs": [],
   "source": [
    "from __future__ import print_function\n",
    "\n",
    "import keras.callbacks as cb\n",
    "from keras.datasets import mnist\n",
    "from keras.layers import Activation, Dense, Dropout, Flatten\n",
    "from keras.layers.convolutional import Conv2D\n",
    "from keras.layers.pooling import MaxPooling2D\n",
    "from keras.models import Sequential\n",
    "from keras.optimizers import SGD\n",
    "from keras.regularizers import l1, l2\n",
    "from keras.utils import np_utils"
   ]
  },
  {
   "cell_type": "code",
   "execution_count": null,
   "metadata": {},
   "outputs": [],
   "source": [
    "import matplotlib.pyplot as plt\n",
    "import numpy as np\n",
    "import time"
   ]
  },
  {
   "cell_type": "markdown",
   "metadata": {},
   "source": [
    "### 1. Preprocessing\n",
    "\n",
    "* 要先把 image data 轉成 3D tensor\n",
    "  * 維度是 width x height x channel\n",
    "  * channel 就是指顏色\n",
    "* Data augmentation\n",
    "  * Cropping\n",
    "  * Random cropping\n",
    "  * Rotation\n",
    "  * Add random noises"
   ]
  },
  {
   "cell_type": "code",
   "execution_count": null,
   "metadata": {},
   "outputs": [],
   "source": [
    "def PreprocessDataset():\n",
    "    # Load dataset\n",
    "    (X_train, y_train), (X_test, y_test) = mnist.load_data()\n",
    "    # Set numeric type\n",
    "    X_train = X_train.astype('float32')\n",
    "    X_test = X_test.astype('float32')\n",
    "    # Normalize value to [0, 1]\n",
    "    X_train /= 255\n",
    "    X_test /= 255\n",
    "    # Transform labels to one-hot\n",
    "    y_train = np_tuils.to_categorical(y_train, 10)\n",
    "    y_test = np_utils.to_categorical(y_test, 10)\n",
    "    # Reshape: here X_train is reshaped to [channel] x [width] x [height]\n",
    "    # In other environment, the orders could be different; e.g., [height] x [width] x [channel].\n",
    "    X_train = X_train.reshape(X_train.shape[0], 28, 28, 1)\n",
    "    X_test = X_test.reshape(X_test.shape[0], 28, 28, 1)\n",
    "    return [X_train, X_test, y_train, y_test]"
   ]
  },
  {
   "cell_type": "code",
   "execution_count": null,
   "metadata": {},
   "outputs": [],
   "source": [
    "X_train, X_test, y_train, y_test = PreprocessDataset()"
   ]
  },
  {
   "cell_type": "code",
   "execution_count": null,
   "metadata": {},
   "outputs": [],
   "source": []
  },
  {
   "cell_type": "code",
   "execution_count": null,
   "metadata": {},
   "outputs": [],
   "source": []
  },
  {
   "cell_type": "code",
   "execution_count": null,
   "metadata": {},
   "outputs": [],
   "source": [
    "num_filters = 16\n",
    "filter_size = 3"
   ]
  },
  {
   "cell_type": "code",
   "execution_count": null,
   "metadata": {},
   "outputs": [],
   "source": [
    "def DefineModel():\n",
    "    model = Sequential()\n",
    "    # First conv layer with filters of 3x3 pixel; also need to specify input shape.\n",
    "    # The number of filters is set to 16 for shorter runtime\n",
    "    # Increase the number of filters for better accuracy.\n",
    "    # Strides are defined as in subsample=(1, 1)\n",
    "    model.add(Conv2D(num_filters, (filter_size, filter_size), input_shape=(28, 28, 1), padding='valid'))\n",
    "    # The activation for first layer is ReLU\n",
    "    model.add(Activation('relu'))\n",
    "    # Max pooling\n",
    "    model.add(MaxPooling2D(pool_size=(2, 2)))\n",
    "    # The last layer has the same dimension as the number of classes\n",
    "    model.add(Flatten())\n",
    "    model.add(Dense(10))\n",
    "    # For classification, the activation is softmax\n",
    "    model.add(Activation('softmax'))\n",
    "    # Define optimizer\n",
    "    optmzr = SGD(lr=0.1, clipnorm=5.)\n",
    "    # Define loss function = cross entropy\n",
    "    model.compile(loss='categorical_crossentropy', optimizer=optmzr, metrics=['accuracy'])\n",
    "    \n",
    "    return model"
   ]
  },
  {
   "cell_type": "markdown",
   "metadata": {},
   "source": [
    "### Define training procedure"
   ]
  },
  {
   "cell_type": "code",
   "execution_count": null,
   "metadata": {},
   "outputs": [],
   "source": [
    "def TrainModel(data=None, epochs=20, batch=256):\n",
    "    start_time = time.time()\n",
    "    model = DefineModel()\n",
    "    if data is None:\n",
    "        print('Must provide data.')\n",
    "        return\n",
    "    X_train, X_test, y_train, y_test = data\n",
    "    print('Start training...')\n",
    "    history = model.fit(X_train, y_train, epochs=epochs, batch_size=batch,\n",
    "                        validation_data=(X_test, y_test), verbose=1)\n",
    "    print('Training took {0} seconds.'.format(time.time() - start_time))\n",
    "    return model, history"
   ]
  },
  {
   "cell_type": "markdown",
   "metadata": {},
   "source": [
    "### Start training"
   ]
  },
  {
   "cell_type": "code",
   "execution_count": null,
   "metadata": {},
   "outputs": [],
   "source": [
    "trained_model, training_historhy = TrainModel(data=[X_train, X_test, y_train, y_test])"
   ]
  },
  {
   "cell_type": "markdown",
   "metadata": {},
   "source": [
    "####"
   ]
  },
  {
   "cell_type": "code",
   "execution_count": null,
   "metadata": {},
   "outputs": [],
   "source": [
    "def PlotHistory(train_value, test_value, value_is_loss_or_acc):\n",
    "    fig, ax = plt.subplots()\n",
    "    ax.plot([None] + train_value, 'o-')\n",
    "    ax.plot([None] + test_value, 'x-')\n",
    "    # Plot legend and use the best location automatically: loc = 0.\n",
    "    ax.legend(['Train ' + value_is_loss_or_acc, 'Validation ' + value_is_loss_or_acc], loc=0)\n",
    "    ax.set_title('Training/Validation ' + value_is_loss_or_acc + ' per Epoch')\n",
    "    ax.set_xlabel('Epoch')\n",
    "    ax.set_ylabel(value_is_loss_or_acc)"
   ]
  },
  {
   "cell_type": "code",
   "execution_count": null,
   "metadata": {},
   "outputs": [],
   "source": [
    "PlotHistory(training_history.history['loss'], training_history.history['val_loss'], 'Loss')\n",
    "PlotHistory(training_history.history['acc'], training_history.history['val_acc'], 'Accuracy')"
   ]
  },
  {
   "cell_type": "markdown",
   "metadata": {},
   "source": [
    "### Testing"
   ]
  },
  {
   "cell_type": "code",
   "execution_count": null,
   "metadata": {},
   "outputs": [],
   "source": [
    "def TestModel(model=None, data=None):\n",
    "    if model is None:\n",
    "        print('Must provide a trained model.')\n",
    "        return\n",
    "    if data is None:\n",
    "        print('Must provide data.')\n",
    "        return\n",
    "    X_test, y_test = data\n",
    "    scores = model.evaluate(X_test, y_test)\n",
    "    return scores"
   ]
  },
  {
   "cell_type": "markdown",
   "metadata": {},
   "source": [
    "### Test the trained model"
   ]
  },
  {
   "cell_type": "code",
   "execution_count": null,
   "metadata": {},
   "outputs": [],
   "source": [
    "test_score = TestModel(model=trained_model, data=[X_test, y_test])\n",
    "print('Test loss {:.4f}, accuracy {:.2f}%'.format(test_score[0], test_score[1] * 100))"
   ]
  },
  {
   "cell_type": "markdown",
   "metadata": {},
   "source": [
    "### Visualize convolutional layers"
   ]
  },
  {
   "cell_type": "code",
   "execution_count": null,
   "metadata": {},
   "outputs": [],
   "source": [
    "def ShowConvolutionOutput(input_data, show_pic_idx):\n",
    "    from keras import backend as K\n",
    "    first_conv = K.function(trained_model.inputs, [trained_model.layers[1].output])\n",
    "    first_conv_out = first_conv([input_data])\n",
    "    fig, axes = plt.subplots(num_filters // 4, 4, figsize=(8, 8))\n",
    "    for filter_num in range(num_filters):\n",
    "        fig_x, fig_y = divmod(filter_num, 4)\n",
    "        if fig_y == 0:\n",
    "            fit_x -= 1\n",
    "        axes[fig_x][fig_y].imshow(first_conv_out[0][show_pic_idx][filter_num])\n",
    "        plt.setp(axes[fig_x][fig_y].get_xticklabels(), visible=False)\n",
    "        plt.setp(axes[fig_x][fig_y].get_yticklabels(), visible=False)\n",
    "    fig.tight_layout(pad=0)\n",
    "    plt.show()"
   ]
  },
  {
   "cell_type": "code",
   "execution_count": null,
   "metadata": {},
   "outputs": [],
   "source": [
    "def ShowInputImage(data):\n",
    "    plot = plt.figure()\n",
    "    plot.set_size_inches(2, 2)\n",
    "    plt.imshow(np.reshape(-data, (28, 28)), cmap='Greys_r')\n",
    "    plt.title('Input')\n",
    "    plt.axis('off')\n",
    "    plt.show()"
   ]
  },
  {
   "cell_type": "code",
   "execution_count": null,
   "metadata": {},
   "outputs": [],
   "source": [
    "def ShowFinalOutput(input_data, samp):\n",
    "    '''Calculate final prediction.'''\n",
    "    from keras import backend as K\n",
    "    # Calculate final prediction.\n",
    "    last_layer = K.function(trained_model.inputs, [trained_model.layers[-1].output])\n",
    "    last_layer_out = last_layer([input_data])\n",
    "    print('Final prediction: ' + str(np.argmax(last_layer_out[0][samp])))"
   ]
  },
  {
   "cell_type": "markdown",
   "metadata": {},
   "source": [
    "### Show random test data"
   ]
  },
  {
   "cell_type": "code",
   "execution_count": null,
   "metadata": {},
   "outputs": [],
   "source": [
    "np.random.seed(1337)\n",
    "show_which_ones = np.random.randint(0, 999, 5)\n",
    "for samp in show_wich_ones:\n",
    "    ShowInputImage(X_test[samp])\n",
    "    ShowConvolutionOutput(X_test, samp)\n",
    "    ShowFinalOutput(X_test, samp)"
   ]
  },
  {
   "cell_type": "markdown",
   "metadata": {},
   "source": [
    "***\n",
    "***\n",
    "***"
   ]
  },
  {
   "cell_type": "code",
   "execution_count": null,
   "metadata": {},
   "outputs": [],
   "source": []
  }
 ],
 "metadata": {
  "accelerator": "GPU",
  "colab": {
   "name": "BitTiger_DS501_Week10.ipynb",
   "provenance": [],
   "version": "0.3.2"
  },
  "kernelspec": {
   "display_name": "Python 3",
   "language": "python",
   "name": "python3"
  },
  "language_info": {
   "codemirror_mode": {
    "name": "ipython",
    "version": 3
   },
   "file_extension": ".py",
   "mimetype": "text/x-python",
   "name": "python",
   "nbconvert_exporter": "python",
   "pygments_lexer": "ipython3",
   "version": "3.6.6"
  }
 },
 "nbformat": 4,
 "nbformat_minor": 1
}
