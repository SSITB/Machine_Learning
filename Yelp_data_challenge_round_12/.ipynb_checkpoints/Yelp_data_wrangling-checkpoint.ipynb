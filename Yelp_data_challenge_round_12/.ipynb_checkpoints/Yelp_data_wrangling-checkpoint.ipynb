{
 "cells": [
  {
   "cell_type": "markdown",
   "metadata": {},
   "source": [
    "# Yelp Dataset Challenge\n",
    "\n",
    "![Yelp Data Challenge](https://s3-media3.fl.yelpcdn.com/assets/srv0/engineering_pages/6d323fc75cb1/assets/img/dataset/960x225_dataset@2x.png)"
   ]
  },
  {
   "cell_type": "markdown",
   "metadata": {},
   "source": [
    "## Data processing\n",
    "\n",
    "### 1. Load data into Pandas DataFrame"
   ]
  },
  {
   "cell_type": "code",
   "execution_count": 281,
   "metadata": {},
   "outputs": [],
   "source": [
    "import json\n",
    "import pandas as pd"
   ]
  },
  {
   "cell_type": "markdown",
   "metadata": {},
   "source": [
    "#### Prepare dataset\n",
    "\n",
    "The downloaded dataset is 3.13 GB. Very large!\n",
    "\n",
    "Use smaller dataset for testing purpose."
   ]
  },
  {
   "cell_type": "code",
   "execution_count": 366,
   "metadata": {},
   "outputs": [
    {
     "name": "stdout",
     "output_type": "stream",
     "text": [
      "<class 'pandas.core.frame.DataFrame'>\n",
      "Index: 1000 entries, iCQpiavjjPzJ5_3gPD5Ebg to AJWrjfJ0GcR5ar2oU4gbow\n",
      "Data columns (total 8 columns):\n",
      "cool         1000 non-null int64\n",
      "date         1000 non-null object\n",
      "funny        1000 non-null int64\n",
      "review_id    1000 non-null object\n",
      "stars        1000 non-null int64\n",
      "text         1000 non-null object\n",
      "useful       1000 non-null int64\n",
      "user_id      1000 non-null object\n",
      "dtypes: int64(4), object(4)\n",
      "memory usage: 70.3+ KB\n"
     ]
    }
   ],
   "source": []
  },
  {
   "cell_type": "code",
   "execution_count": 282,
   "metadata": {},
   "outputs": [],
   "source": [
    "path = '/Users/ytshen/Desktop/code_tmp/practice/Yelp_Data_Challenge/'\n",
    "\n",
    "# smaller data\n",
    "smaller_business, smaller_checkin, smaller_review, smaller_tip, smaller_user = [\n",
    "    'sample_business.json',\n",
    "    'sample_checkin.json',\n",
    "    'sample_review.json',\n",
    "    'sample_tip.json',\n",
    "    'sample_user.json'\n",
    "]\n",
    "\n",
    "# all data\n",
    "all_business, all_checkin, all_review, all_tip, all_user = [\n",
    "    'yelp_academic_dataset_business.json',\n",
    "    'yelp_academic_dataset_checkin.json',\n",
    "    'yelp_academic_dataset_review.json',\n",
    "    'yelp_academic_dataset_tip.json',\n",
    "    'yelp_academic_dataset_user.json',\n",
    "]"
   ]
  },
  {
   "cell_type": "code",
   "execution_count": 283,
   "metadata": {},
   "outputs": [],
   "source": [
    "# Use smaller data\n",
    "file_business, file_checkin, file_review, file_tip, file_user = [\n",
    "    path + smaller_business,\n",
    "    path + smaller_checkin,\n",
    "    path + smaller_review,\n",
    "    path + smaller_tip,\n",
    "    path + smaller_user\n",
    "]"
   ]
  },
  {
   "cell_type": "code",
   "execution_count": 284,
   "metadata": {},
   "outputs": [],
   "source": [
    "# # Use all data\n",
    "# file_business, file_checkin, file_review, file_tip, file_user = [\n",
    "#     path + all_business,\n",
    "#     path + all_checkin,\n",
    "#     path + all_review,\n",
    "#     path + all_tip,\n",
    "#     path + all_user\n",
    "# ]"
   ]
  },
  {
   "cell_type": "code",
   "execution_count": 285,
   "metadata": {},
   "outputs": [],
   "source": [
    "# # Print out file names\n",
    "# print(file_business)\n",
    "# print(file_checkin)\n",
    "# print(file_review)\n",
    "# print(file_tip)\n",
    "# print(file_user)"
   ]
  },
  {
   "cell_type": "markdown",
   "metadata": {},
   "source": [
    "#### Try to load json file into Pandas DataFrame\n",
    "* Try to use `pandas.read_json()` to load file, but it doesn't work.\n",
    "* Try to use `json.loads()` to load file. There is a 's' in `loads()`."
   ]
  },
  {
   "cell_type": "code",
   "execution_count": 286,
   "metadata": {},
   "outputs": [],
   "source": [
    "# # Test to load single file\n",
    "# with open(file_business) as f:\n",
    "#     df_test1 = pd.DataFrame(json.loads(line) for line in f) # 注意 loads() 要有 s\n",
    "\n",
    "# # Check\n",
    "# df_test1.head()"
   ]
  },
  {
   "cell_type": "code",
   "execution_count": 287,
   "metadata": {},
   "outputs": [],
   "source": [
    "# df_test1.info()"
   ]
  },
  {
   "cell_type": "code",
   "execution_count": 288,
   "metadata": {},
   "outputs": [],
   "source": [
    "# Loading a single file works, wrap in function\n",
    "def read_json_file(input_file):\n",
    "    with open(input_file) as fin:\n",
    "        df = pd.DataFrame(json.loads(line) for line in fin)\n",
    "    return df"
   ]
  },
  {
   "cell_type": "code",
   "execution_count": 289,
   "metadata": {},
   "outputs": [],
   "source": [
    "# df_test2 = read_json_file(file_business)\n",
    "# df_test2.head()"
   ]
  },
  {
   "cell_type": "code",
   "execution_count": 290,
   "metadata": {},
   "outputs": [],
   "source": [
    "# # Compare two DataFrame, they should be equal.\n",
    "# df_test2.equals(df_test1)"
   ]
  },
  {
   "cell_type": "markdown",
   "metadata": {},
   "source": [
    "#### Load all files into DataFrame."
   ]
  },
  {
   "cell_type": "code",
   "execution_count": 291,
   "metadata": {},
   "outputs": [],
   "source": [
    "df_business = read_json_file(file_business)\n",
    "df_checkin = read_json_file(file_checkin)\n",
    "df_review = read_json_file(file_review)\n",
    "df_tip = read_json_file(file_tip)\n",
    "df_users = read_json_file(file_user)"
   ]
  },
  {
   "cell_type": "code",
   "execution_count": 292,
   "metadata": {},
   "outputs": [
    {
     "data": {
      "text/html": [
       "<div>\n",
       "<style scoped>\n",
       "    .dataframe tbody tr th:only-of-type {\n",
       "        vertical-align: middle;\n",
       "    }\n",
       "\n",
       "    .dataframe tbody tr th {\n",
       "        vertical-align: top;\n",
       "    }\n",
       "\n",
       "    .dataframe thead th {\n",
       "        text-align: right;\n",
       "    }\n",
       "</style>\n",
       "<table border=\"1\" class=\"dataframe\">\n",
       "  <thead>\n",
       "    <tr style=\"text-align: right;\">\n",
       "      <th></th>\n",
       "      <th>address</th>\n",
       "      <th>attributes</th>\n",
       "      <th>business_id</th>\n",
       "      <th>categories</th>\n",
       "      <th>city</th>\n",
       "      <th>hours</th>\n",
       "      <th>is_open</th>\n",
       "      <th>latitude</th>\n",
       "      <th>longitude</th>\n",
       "      <th>name</th>\n",
       "      <th>neighborhood</th>\n",
       "      <th>postal_code</th>\n",
       "      <th>review_count</th>\n",
       "      <th>stars</th>\n",
       "      <th>state</th>\n",
       "    </tr>\n",
       "  </thead>\n",
       "  <tbody>\n",
       "    <tr>\n",
       "      <th>0</th>\n",
       "      <td>1314 44 Avenue NE</td>\n",
       "      <td>{'BikeParking': 'False', 'BusinessAcceptsCredi...</td>\n",
       "      <td>Apn5Q_b6Nz61Tq4XzPdf9A</td>\n",
       "      <td>Tours, Breweries, Pizza, Restaurants, Food, Ho...</td>\n",
       "      <td>Calgary</td>\n",
       "      <td>{'Monday': '8:30-17:0', 'Tuesday': '11:0-21:0'...</td>\n",
       "      <td>1</td>\n",
       "      <td>51.091813</td>\n",
       "      <td>-114.031675</td>\n",
       "      <td>Minhas Micro Brewery</td>\n",
       "      <td></td>\n",
       "      <td>T2E 6L6</td>\n",
       "      <td>24</td>\n",
       "      <td>4.0</td>\n",
       "      <td>AB</td>\n",
       "    </tr>\n",
       "    <tr>\n",
       "      <th>1</th>\n",
       "      <td></td>\n",
       "      <td>{'Alcohol': 'none', 'BikeParking': 'False', 'B...</td>\n",
       "      <td>AjEbIBw6ZFfln7ePHha9PA</td>\n",
       "      <td>Chicken Wings, Burgers, Caterers, Street Vendo...</td>\n",
       "      <td>Henderson</td>\n",
       "      <td>{'Friday': '17:0-23:0', 'Saturday': '17:0-23:0...</td>\n",
       "      <td>0</td>\n",
       "      <td>35.960734</td>\n",
       "      <td>-114.939821</td>\n",
       "      <td>CK'S BBQ &amp; Catering</td>\n",
       "      <td></td>\n",
       "      <td>89002</td>\n",
       "      <td>3</td>\n",
       "      <td>4.5</td>\n",
       "      <td>NV</td>\n",
       "    </tr>\n",
       "    <tr>\n",
       "      <th>2</th>\n",
       "      <td>1335 rue Beaubien E</td>\n",
       "      <td>{'Alcohol': 'beer_and_wine', 'Ambience': '{'ro...</td>\n",
       "      <td>O8S5hYJ1SMc8fA4QBtVujA</td>\n",
       "      <td>Breakfast &amp; Brunch, Restaurants, French, Sandw...</td>\n",
       "      <td>Montréal</td>\n",
       "      <td>{'Monday': '10:0-22:0', 'Tuesday': '10:0-22:0'...</td>\n",
       "      <td>0</td>\n",
       "      <td>45.540503</td>\n",
       "      <td>-73.599300</td>\n",
       "      <td>La Bastringue</td>\n",
       "      <td>Rosemont-La Petite-Patrie</td>\n",
       "      <td>H2G 1K7</td>\n",
       "      <td>5</td>\n",
       "      <td>4.0</td>\n",
       "      <td>QC</td>\n",
       "    </tr>\n",
       "    <tr>\n",
       "      <th>3</th>\n",
       "      <td>211 W Monroe St</td>\n",
       "      <td>None</td>\n",
       "      <td>bFzdJJ3wp3PZssNEsyU23g</td>\n",
       "      <td>Insurance, Financial Services</td>\n",
       "      <td>Phoenix</td>\n",
       "      <td>None</td>\n",
       "      <td>1</td>\n",
       "      <td>33.449999</td>\n",
       "      <td>-112.076979</td>\n",
       "      <td>Geico Insurance</td>\n",
       "      <td></td>\n",
       "      <td>85003</td>\n",
       "      <td>8</td>\n",
       "      <td>1.5</td>\n",
       "      <td>AZ</td>\n",
       "    </tr>\n",
       "    <tr>\n",
       "      <th>4</th>\n",
       "      <td>2005 Alyth Place SE</td>\n",
       "      <td>{'BusinessAcceptsCreditCards': 'True'}</td>\n",
       "      <td>8USyCYqpScwiNEb58Bt6CA</td>\n",
       "      <td>Home &amp; Garden, Nurseries &amp; Gardening, Shopping...</td>\n",
       "      <td>Calgary</td>\n",
       "      <td>{'Monday': '8:0-17:0', 'Tuesday': '8:0-17:0', ...</td>\n",
       "      <td>1</td>\n",
       "      <td>51.035591</td>\n",
       "      <td>-114.027366</td>\n",
       "      <td>Action Engine</td>\n",
       "      <td></td>\n",
       "      <td>T2H 0N5</td>\n",
       "      <td>4</td>\n",
       "      <td>2.0</td>\n",
       "      <td>AB</td>\n",
       "    </tr>\n",
       "  </tbody>\n",
       "</table>\n",
       "</div>"
      ],
      "text/plain": [
       "               address                                         attributes  \\\n",
       "0    1314 44 Avenue NE  {'BikeParking': 'False', 'BusinessAcceptsCredi...   \n",
       "1                       {'Alcohol': 'none', 'BikeParking': 'False', 'B...   \n",
       "2  1335 rue Beaubien E  {'Alcohol': 'beer_and_wine', 'Ambience': '{'ro...   \n",
       "3      211 W Monroe St                                               None   \n",
       "4  2005 Alyth Place SE             {'BusinessAcceptsCreditCards': 'True'}   \n",
       "\n",
       "              business_id                                         categories  \\\n",
       "0  Apn5Q_b6Nz61Tq4XzPdf9A  Tours, Breweries, Pizza, Restaurants, Food, Ho...   \n",
       "1  AjEbIBw6ZFfln7ePHha9PA  Chicken Wings, Burgers, Caterers, Street Vendo...   \n",
       "2  O8S5hYJ1SMc8fA4QBtVujA  Breakfast & Brunch, Restaurants, French, Sandw...   \n",
       "3  bFzdJJ3wp3PZssNEsyU23g                      Insurance, Financial Services   \n",
       "4  8USyCYqpScwiNEb58Bt6CA  Home & Garden, Nurseries & Gardening, Shopping...   \n",
       "\n",
       "        city                                              hours  is_open  \\\n",
       "0    Calgary  {'Monday': '8:30-17:0', 'Tuesday': '11:0-21:0'...        1   \n",
       "1  Henderson  {'Friday': '17:0-23:0', 'Saturday': '17:0-23:0...        0   \n",
       "2   Montréal  {'Monday': '10:0-22:0', 'Tuesday': '10:0-22:0'...        0   \n",
       "3    Phoenix                                               None        1   \n",
       "4    Calgary  {'Monday': '8:0-17:0', 'Tuesday': '8:0-17:0', ...        1   \n",
       "\n",
       "    latitude   longitude                  name               neighborhood  \\\n",
       "0  51.091813 -114.031675  Minhas Micro Brewery                              \n",
       "1  35.960734 -114.939821   CK'S BBQ & Catering                              \n",
       "2  45.540503  -73.599300         La Bastringue  Rosemont-La Petite-Patrie   \n",
       "3  33.449999 -112.076979       Geico Insurance                              \n",
       "4  51.035591 -114.027366         Action Engine                              \n",
       "\n",
       "  postal_code  review_count  stars state  \n",
       "0     T2E 6L6            24    4.0    AB  \n",
       "1       89002             3    4.5    NV  \n",
       "2     H2G 1K7             5    4.0    QC  \n",
       "3       85003             8    1.5    AZ  \n",
       "4     T2H 0N5             4    2.0    AB  "
      ]
     },
     "execution_count": 292,
     "metadata": {},
     "output_type": "execute_result"
    }
   ],
   "source": [
    "# Check\n",
    "df_business.head()"
   ]
  },
  {
   "cell_type": "code",
   "execution_count": 293,
   "metadata": {},
   "outputs": [],
   "source": [
    "# df_business.equals(df_test1)"
   ]
  },
  {
   "cell_type": "code",
   "execution_count": 294,
   "metadata": {},
   "outputs": [
    {
     "name": "stdout",
     "output_type": "stream",
     "text": [
      "<class 'pandas.core.frame.DataFrame'>\n",
      "RangeIndex: 1000 entries, 0 to 999\n",
      "Data columns (total 15 columns):\n",
      "address         1000 non-null object\n",
      "attributes      838 non-null object\n",
      "business_id     1000 non-null object\n",
      "categories      998 non-null object\n",
      "city            1000 non-null object\n",
      "hours           737 non-null object\n",
      "is_open         1000 non-null int64\n",
      "latitude        1000 non-null float64\n",
      "longitude       1000 non-null float64\n",
      "name            1000 non-null object\n",
      "neighborhood    1000 non-null object\n",
      "postal_code     1000 non-null object\n",
      "review_count    1000 non-null int64\n",
      "stars           1000 non-null float64\n",
      "state           1000 non-null object\n",
      "dtypes: float64(3), int64(2), object(10)\n",
      "memory usage: 117.3+ KB\n"
     ]
    }
   ],
   "source": [
    "df_business.info()"
   ]
  },
  {
   "cell_type": "code",
   "execution_count": 295,
   "metadata": {},
   "outputs": [],
   "source": [
    "# df_checkin.info()"
   ]
  },
  {
   "cell_type": "code",
   "execution_count": 296,
   "metadata": {},
   "outputs": [
    {
     "name": "stdout",
     "output_type": "stream",
     "text": [
      "<class 'pandas.core.frame.DataFrame'>\n",
      "RangeIndex: 1000 entries, 0 to 999\n",
      "Data columns (total 9 columns):\n",
      "business_id    1000 non-null object\n",
      "cool           1000 non-null int64\n",
      "date           1000 non-null object\n",
      "funny          1000 non-null int64\n",
      "review_id      1000 non-null object\n",
      "stars          1000 non-null int64\n",
      "text           1000 non-null object\n",
      "useful         1000 non-null int64\n",
      "user_id        1000 non-null object\n",
      "dtypes: int64(4), object(5)\n",
      "memory usage: 70.4+ KB\n"
     ]
    }
   ],
   "source": [
    "df_review.info()"
   ]
  },
  {
   "cell_type": "code",
   "execution_count": 297,
   "metadata": {},
   "outputs": [],
   "source": [
    "# df_tip.info()"
   ]
  },
  {
   "cell_type": "code",
   "execution_count": 298,
   "metadata": {},
   "outputs": [],
   "source": [
    "# df_users.info()"
   ]
  },
  {
   "cell_type": "markdown",
   "metadata": {},
   "source": [
    "### 2. Filter data by city and category\n",
    "\n",
    "#### Create filters/masks\n",
    "\n",
    "* create filters that selects business \n",
    "    * that are located in \"Las Vegas\"\n",
    "    * that contains \"Restaurants\" in their category (You may need to filter null categories first)"
   ]
  },
  {
   "cell_type": "code",
   "execution_count": 299,
   "metadata": {},
   "outputs": [],
   "source": [
    "# # Make there is Las Vages in city\n",
    "# df_business['city'].value_counts()"
   ]
  },
  {
   "cell_type": "code",
   "execution_count": 300,
   "metadata": {},
   "outputs": [],
   "source": [
    "# # Set the mask for city\n",
    "# mask_city = df_business['city'] == 'Las Vegas'"
   ]
  },
  {
   "cell_type": "code",
   "execution_count": 301,
   "metadata": {},
   "outputs": [],
   "source": [
    "# df_business[mask_city].head()"
   ]
  },
  {
   "cell_type": "code",
   "execution_count": 309,
   "metadata": {},
   "outputs": [
    {
     "data": {
      "text/plain": [
       "0     Tours, Breweries, Pizza, Restaurants, Food, Ho...\n",
       "1     Chicken Wings, Burgers, Caterers, Street Vendo...\n",
       "2     Breakfast & Brunch, Restaurants, French, Sandw...\n",
       "3                         Insurance, Financial Services\n",
       "4     Home & Garden, Nurseries & Gardening, Shopping...\n",
       "5                                    Coffee & Tea, Food\n",
       "6                                        Food, Bakeries\n",
       "7                                     Restaurants, Thai\n",
       "8                                  Mexican, Restaurants\n",
       "9                 Flowers & Gifts, Gift Shops, Shopping\n",
       "10                                Restaurants, Japanese\n",
       "11                  Cajun/Creole, Southern, Restaurants\n",
       "12    Bars, Sports Bars, Dive Bars, Burgers, Nightli...\n",
       "13       Restaurants, Pakistani, Indian, Middle Eastern\n",
       "14                               Beauty & Spas, Barbers\n",
       "15                       Delis, Restaurants, Sandwiches\n",
       "16    Nightlife, Bars, American (Traditional), Tapas...\n",
       "17                 Shopping, Fashion, Department Stores\n",
       "18    Financial Services, Check Cashing/Pay-day Loan...\n",
       "19    American (Traditional), Food, Bakeries, Restau...\n",
       "20    Home Services, Masonry/Concrete, Professional ...\n",
       "21                      Fast Food, Burgers, Restaurants\n",
       "22    Nightlife, Bars, American (Traditional), Sport...\n",
       "23                         Food, Bakeries, Coffee & Tea\n",
       "24                                 Mexican, Restaurants\n",
       "25                                 Mexican, Restaurants\n",
       "26     Home Services, Home Automation, Security Systems\n",
       "27      Restaurants, Food, Canadian (New), Coffee & Tea\n",
       "28    Optometrists, Shopping, Eyewear & Opticians, H...\n",
       "29                                   Pizza, Restaurants\n",
       "Name: categories, dtype: object"
      ]
     },
     "execution_count": 309,
     "metadata": {},
     "output_type": "execute_result"
    }
   ],
   "source": [
    "# # Check the categories\n",
    "# df_business['categories'].head(30)"
   ]
  },
  {
   "cell_type": "code",
   "execution_count": 310,
   "metadata": {},
   "outputs": [
    {
     "data": {
      "text/html": [
       "<div>\n",
       "<style scoped>\n",
       "    .dataframe tbody tr th:only-of-type {\n",
       "        vertical-align: middle;\n",
       "    }\n",
       "\n",
       "    .dataframe tbody tr th {\n",
       "        vertical-align: top;\n",
       "    }\n",
       "\n",
       "    .dataframe thead th {\n",
       "        text-align: right;\n",
       "    }\n",
       "</style>\n",
       "<table border=\"1\" class=\"dataframe\">\n",
       "  <thead>\n",
       "    <tr style=\"text-align: right;\">\n",
       "      <th></th>\n",
       "      <th>address</th>\n",
       "      <th>attributes</th>\n",
       "      <th>business_id</th>\n",
       "      <th>categories</th>\n",
       "      <th>city</th>\n",
       "      <th>hours</th>\n",
       "      <th>is_open</th>\n",
       "      <th>latitude</th>\n",
       "      <th>longitude</th>\n",
       "      <th>name</th>\n",
       "      <th>neighborhood</th>\n",
       "      <th>postal_code</th>\n",
       "      <th>review_count</th>\n",
       "      <th>stars</th>\n",
       "      <th>state</th>\n",
       "    </tr>\n",
       "  </thead>\n",
       "  <tbody>\n",
       "    <tr>\n",
       "      <th>288</th>\n",
       "      <td>Adelaide Centre, 130 Adelaide St West Concours...</td>\n",
       "      <td>{'BikeParking': 'False', 'BusinessParking': '{...</td>\n",
       "      <td>EBzr465prEffkpmE8Mk5AA</td>\n",
       "      <td>None</td>\n",
       "      <td>Toronto</td>\n",
       "      <td>{'Monday': '7:0-19:0', 'Tuesday': '7:0-19:0', ...</td>\n",
       "      <td>1</td>\n",
       "      <td>43.649592</td>\n",
       "      <td>-79.383394</td>\n",
       "      <td>Polish'd Nail Bar</td>\n",
       "      <td>Financial District</td>\n",
       "      <td>M5H 3P5</td>\n",
       "      <td>7</td>\n",
       "      <td>2.5</td>\n",
       "      <td>ON</td>\n",
       "    </tr>\n",
       "    <tr>\n",
       "      <th>603</th>\n",
       "      <td>7700 W Arrowhead Towne Ctr</td>\n",
       "      <td>None</td>\n",
       "      <td>CN3BLZwfG4eqZjvKrIZoAg</td>\n",
       "      <td>None</td>\n",
       "      <td>Glendale</td>\n",
       "      <td>None</td>\n",
       "      <td>1</td>\n",
       "      <td>33.642064</td>\n",
       "      <td>-112.225217</td>\n",
       "      <td>Fuzziwigs Candy Factory</td>\n",
       "      <td></td>\n",
       "      <td>85308</td>\n",
       "      <td>4</td>\n",
       "      <td>1.0</td>\n",
       "      <td>AZ</td>\n",
       "    </tr>\n",
       "  </tbody>\n",
       "</table>\n",
       "</div>"
      ],
      "text/plain": [
       "                                               address  \\\n",
       "288  Adelaide Centre, 130 Adelaide St West Concours...   \n",
       "603                         7700 W Arrowhead Towne Ctr   \n",
       "\n",
       "                                            attributes  \\\n",
       "288  {'BikeParking': 'False', 'BusinessParking': '{...   \n",
       "603                                               None   \n",
       "\n",
       "                business_id categories      city  \\\n",
       "288  EBzr465prEffkpmE8Mk5AA       None   Toronto   \n",
       "603  CN3BLZwfG4eqZjvKrIZoAg       None  Glendale   \n",
       "\n",
       "                                                 hours  is_open   latitude  \\\n",
       "288  {'Monday': '7:0-19:0', 'Tuesday': '7:0-19:0', ...        1  43.649592   \n",
       "603                                               None        1  33.642064   \n",
       "\n",
       "      longitude                     name        neighborhood postal_code  \\\n",
       "288  -79.383394        Polish'd Nail Bar  Financial District     M5H 3P5   \n",
       "603 -112.225217  Fuzziwigs Candy Factory                           85308   \n",
       "\n",
       "     review_count  stars state  \n",
       "288             7    2.5    ON  \n",
       "603             4    1.0    AZ  "
      ]
     },
     "execution_count": 310,
     "metadata": {},
     "output_type": "execute_result"
    }
   ],
   "source": [
    "df_business[df_business['categories'].isnull()]"
   ]
  },
  {
   "cell_type": "code",
   "execution_count": 339,
   "metadata": {},
   "outputs": [],
   "source": [
    "# # Set the mask for restaurant\n",
    "# print(df_business['categories'].isnull().sum())\n",
    "# null_categories = df_business['categories'].isnull()"
   ]
  },
  {
   "cell_type": "code",
   "execution_count": 340,
   "metadata": {},
   "outputs": [],
   "source": [
    "# print(df_business[~null_categories]['categories'].count())\n",
    "# print(df_business['categories'].notnull().sum())"
   ]
  },
  {
   "cell_type": "code",
   "execution_count": 341,
   "metadata": {},
   "outputs": [],
   "source": [
    "# mask_restaurants = df_business[~null_categories]['categories'].apply(lambda x: True if 'Restaurants' in x else False)"
   ]
  },
  {
   "cell_type": "code",
   "execution_count": 342,
   "metadata": {},
   "outputs": [],
   "source": [
    "# print(mask_restaurants)"
   ]
  },
  {
   "cell_type": "code",
   "execution_count": 343,
   "metadata": {},
   "outputs": [],
   "source": [
    "# Create Pandas DataFrame filters\n",
    "city = df_business['city'] == 'Las Vegas'\n",
    "\n",
    "null_categories = df_business['categories'].isnull()\n",
    "restaurants = df_business[~null_categories]['categories'].apply(lambda x: True if 'Restaurants' in x else False)"
   ]
  },
  {
   "cell_type": "code",
   "execution_count": 344,
   "metadata": {},
   "outputs": [],
   "source": [
    "# Create filtered DataFrame, and name it df_filtered\n",
    "df_filtered = df_business[city & restaurants]"
   ]
  },
  {
   "cell_type": "code",
   "execution_count": 347,
   "metadata": {},
   "outputs": [],
   "source": [
    "# df_filtered.head()"
   ]
  },
  {
   "cell_type": "markdown",
   "metadata": {},
   "source": [
    "#### Keep relevant columns\n",
    "\n",
    "* only keep some useful columns\n",
    "    * business_id\n",
    "    * name\n",
    "    * categories\n",
    "    * stars"
   ]
  },
  {
   "cell_type": "code",
   "execution_count": 348,
   "metadata": {},
   "outputs": [],
   "source": [
    "selected_features = [u'business_id', u'name', u'categories', u'stars']"
   ]
  },
  {
   "cell_type": "code",
   "execution_count": 349,
   "metadata": {},
   "outputs": [],
   "source": [
    "# Make a DataFrame that contains only the abovementioned columns, and name it as df_selected_business\n",
    "df_selected_business = df_filtered[selected_features]"
   ]
  },
  {
   "cell_type": "code",
   "execution_count": 350,
   "metadata": {},
   "outputs": [],
   "source": [
    "# df_selected_business.head()"
   ]
  },
  {
   "cell_type": "code",
   "execution_count": 351,
   "metadata": {},
   "outputs": [],
   "source": [
    "# Rename the column name \"stars\" to \"avg_stars\" to avoid naming conflicts with review dataset\n",
    "df_selected_business.rename(columns={'stars':'avg_stars'}, inplace=True)"
   ]
  },
  {
   "cell_type": "code",
   "execution_count": 354,
   "metadata": {},
   "outputs": [
    {
     "data": {
      "text/html": [
       "<div>\n",
       "<style scoped>\n",
       "    .dataframe tbody tr th:only-of-type {\n",
       "        vertical-align: middle;\n",
       "    }\n",
       "\n",
       "    .dataframe tbody tr th {\n",
       "        vertical-align: top;\n",
       "    }\n",
       "\n",
       "    .dataframe thead th {\n",
       "        text-align: right;\n",
       "    }\n",
       "</style>\n",
       "<table border=\"1\" class=\"dataframe\">\n",
       "  <thead>\n",
       "    <tr style=\"text-align: right;\">\n",
       "      <th></th>\n",
       "      <th>business_id</th>\n",
       "      <th>name</th>\n",
       "      <th>categories</th>\n",
       "      <th>avg_stars</th>\n",
       "    </tr>\n",
       "  </thead>\n",
       "  <tbody>\n",
       "    <tr>\n",
       "      <th>19</th>\n",
       "      <td>vJIuDBdu01vCA8y1fwR1OQ</td>\n",
       "      <td>CakesbyToi</td>\n",
       "      <td>American (Traditional), Food, Bakeries, Restau...</td>\n",
       "      <td>1.5</td>\n",
       "    </tr>\n",
       "    <tr>\n",
       "      <th>32</th>\n",
       "      <td>kgffcoxT6BQp-gJ-UQ7Czw</td>\n",
       "      <td>Subway</td>\n",
       "      <td>Fast Food, Restaurants, Sandwiches</td>\n",
       "      <td>2.5</td>\n",
       "    </tr>\n",
       "    <tr>\n",
       "      <th>33</th>\n",
       "      <td>0jtRI7hVMpQHpUVtUy4ITw</td>\n",
       "      <td>Omelet House Summerlin</td>\n",
       "      <td>Beer, Wine &amp; Spirits, Italian, Food, American ...</td>\n",
       "      <td>4.0</td>\n",
       "    </tr>\n",
       "    <tr>\n",
       "      <th>61</th>\n",
       "      <td>JJEx5wIqs9iGGATOagE8Sg</td>\n",
       "      <td>Baja Fresh Mexican Grill</td>\n",
       "      <td>Mexican, Restaurants</td>\n",
       "      <td>2.0</td>\n",
       "    </tr>\n",
       "    <tr>\n",
       "      <th>141</th>\n",
       "      <td>zhxnD7J5_sCrKSw5cwI9dQ</td>\n",
       "      <td>Popeyes Louisiana Kitchen</td>\n",
       "      <td>Chicken Wings, Restaurants, Fast Food</td>\n",
       "      <td>1.5</td>\n",
       "    </tr>\n",
       "  </tbody>\n",
       "</table>\n",
       "</div>"
      ],
      "text/plain": [
       "                business_id                       name  \\\n",
       "19   vJIuDBdu01vCA8y1fwR1OQ                 CakesbyToi   \n",
       "32   kgffcoxT6BQp-gJ-UQ7Czw                     Subway   \n",
       "33   0jtRI7hVMpQHpUVtUy4ITw     Omelet House Summerlin   \n",
       "61   JJEx5wIqs9iGGATOagE8Sg   Baja Fresh Mexican Grill   \n",
       "141  zhxnD7J5_sCrKSw5cwI9dQ  Popeyes Louisiana Kitchen   \n",
       "\n",
       "                                            categories  avg_stars  \n",
       "19   American (Traditional), Food, Bakeries, Restau...        1.5  \n",
       "32                  Fast Food, Restaurants, Sandwiches        2.5  \n",
       "33   Beer, Wine & Spirits, Italian, Food, American ...        4.0  \n",
       "61                                Mexican, Restaurants        2.0  \n",
       "141              Chicken Wings, Restaurants, Fast Food        1.5  "
      ]
     },
     "execution_count": 354,
     "metadata": {},
     "output_type": "execute_result"
    }
   ],
   "source": [
    "# Check\n",
    "df_selected_business.head()"
   ]
  },
  {
   "cell_type": "markdown",
   "metadata": {},
   "source": [
    "#### Save results to csv files"
   ]
  },
  {
   "cell_type": "code",
   "execution_count": 355,
   "metadata": {},
   "outputs": [],
   "source": [
    "df_selected_business.to_csv(path + 'selected_business.csv', index=False)"
   ]
  },
  {
   "cell_type": "code",
   "execution_count": 356,
   "metadata": {},
   "outputs": [],
   "source": [
    "# Try reload the csv file to check if everything works fine\n",
    "df_selected_business_test = pd.read_csv(path + 'selected_business.csv')"
   ]
  },
  {
   "cell_type": "code",
   "execution_count": 357,
   "metadata": {},
   "outputs": [
    {
     "data": {
      "text/html": [
       "<div>\n",
       "<style scoped>\n",
       "    .dataframe tbody tr th:only-of-type {\n",
       "        vertical-align: middle;\n",
       "    }\n",
       "\n",
       "    .dataframe tbody tr th {\n",
       "        vertical-align: top;\n",
       "    }\n",
       "\n",
       "    .dataframe thead th {\n",
       "        text-align: right;\n",
       "    }\n",
       "</style>\n",
       "<table border=\"1\" class=\"dataframe\">\n",
       "  <thead>\n",
       "    <tr style=\"text-align: right;\">\n",
       "      <th></th>\n",
       "      <th>business_id</th>\n",
       "      <th>name</th>\n",
       "      <th>categories</th>\n",
       "      <th>avg_stars</th>\n",
       "    </tr>\n",
       "  </thead>\n",
       "  <tbody>\n",
       "    <tr>\n",
       "      <th>0</th>\n",
       "      <td>vJIuDBdu01vCA8y1fwR1OQ</td>\n",
       "      <td>CakesbyToi</td>\n",
       "      <td>American (Traditional), Food, Bakeries, Restau...</td>\n",
       "      <td>1.5</td>\n",
       "    </tr>\n",
       "    <tr>\n",
       "      <th>1</th>\n",
       "      <td>kgffcoxT6BQp-gJ-UQ7Czw</td>\n",
       "      <td>Subway</td>\n",
       "      <td>Fast Food, Restaurants, Sandwiches</td>\n",
       "      <td>2.5</td>\n",
       "    </tr>\n",
       "    <tr>\n",
       "      <th>2</th>\n",
       "      <td>0jtRI7hVMpQHpUVtUy4ITw</td>\n",
       "      <td>Omelet House Summerlin</td>\n",
       "      <td>Beer, Wine &amp; Spirits, Italian, Food, American ...</td>\n",
       "      <td>4.0</td>\n",
       "    </tr>\n",
       "    <tr>\n",
       "      <th>3</th>\n",
       "      <td>JJEx5wIqs9iGGATOagE8Sg</td>\n",
       "      <td>Baja Fresh Mexican Grill</td>\n",
       "      <td>Mexican, Restaurants</td>\n",
       "      <td>2.0</td>\n",
       "    </tr>\n",
       "    <tr>\n",
       "      <th>4</th>\n",
       "      <td>zhxnD7J5_sCrKSw5cwI9dQ</td>\n",
       "      <td>Popeyes Louisiana Kitchen</td>\n",
       "      <td>Chicken Wings, Restaurants, Fast Food</td>\n",
       "      <td>1.5</td>\n",
       "    </tr>\n",
       "  </tbody>\n",
       "</table>\n",
       "</div>"
      ],
      "text/plain": [
       "              business_id                       name  \\\n",
       "0  vJIuDBdu01vCA8y1fwR1OQ                 CakesbyToi   \n",
       "1  kgffcoxT6BQp-gJ-UQ7Czw                     Subway   \n",
       "2  0jtRI7hVMpQHpUVtUy4ITw     Omelet House Summerlin   \n",
       "3  JJEx5wIqs9iGGATOagE8Sg   Baja Fresh Mexican Grill   \n",
       "4  zhxnD7J5_sCrKSw5cwI9dQ  Popeyes Louisiana Kitchen   \n",
       "\n",
       "                                          categories  avg_stars  \n",
       "0  American (Traditional), Food, Bakeries, Restau...        1.5  \n",
       "1                 Fast Food, Restaurants, Sandwiches        2.5  \n",
       "2  Beer, Wine & Spirits, Italian, Food, American ...        4.0  \n",
       "3                               Mexican, Restaurants        2.0  \n",
       "4              Chicken Wings, Restaurants, Fast Food        1.5  "
      ]
     },
     "execution_count": 357,
     "metadata": {},
     "output_type": "execute_result"
    }
   ],
   "source": [
    "df_selected_business_test.head()"
   ]
  },
  {
   "cell_type": "markdown",
   "metadata": {},
   "source": [
    "### 3. Use the \"business_id\" column to filter review data\n",
    "\n",
    "* We want to make a DataFrame that contain and only contain the reviews about the business entities we just obtained\n",
    "\n",
    "#### Prepare dataframes to be joined, - on business_id"
   ]
  },
  {
   "cell_type": "code",
   "execution_count": 371,
   "metadata": {},
   "outputs": [],
   "source": [
    "# Prepare the business dataframe and set index to column \"business_id\", and name it as df_left\n",
    "df_left = pd.read_csv(path + 'selected_business.csv')\n",
    "\n",
    "df_left.set_index('business_id', inplace=True)"
   ]
  },
  {
   "cell_type": "code",
   "execution_count": 372,
   "metadata": {},
   "outputs": [],
   "source": [
    "# df_left.head()"
   ]
  },
  {
   "cell_type": "code",
   "execution_count": 373,
   "metadata": {},
   "outputs": [],
   "source": [
    "# Prepare the review dataframe and set index to column \"business_id\", and name it as df_right\n",
    "df_right = df_review.copy()\n",
    "\n",
    "df_right.set_index('business_id', inplace=True)"
   ]
  },
  {
   "cell_type": "code",
   "execution_count": 374,
   "metadata": {},
   "outputs": [],
   "source": [
    "# df_right.head()"
   ]
  },
  {
   "cell_type": "code",
   "execution_count": 375,
   "metadata": {},
   "outputs": [],
   "source": [
    "# df_right.info()"
   ]
  },
  {
   "cell_type": "markdown",
   "metadata": {},
   "source": [
    "#### convert data column from object to datatime"
   ]
  },
  {
   "cell_type": "code",
   "execution_count": 376,
   "metadata": {},
   "outputs": [],
   "source": [
    "df_right['date'] = pd.to_datetime(df_right['date'])"
   ]
  },
  {
   "cell_type": "code",
   "execution_count": 377,
   "metadata": {},
   "outputs": [],
   "source": [
    "# df_right.info()"
   ]
  },
  {
   "cell_type": "code",
   "execution_count": 378,
   "metadata": {},
   "outputs": [],
   "source": [
    "# df_right.head()"
   ]
  },
  {
   "cell_type": "markdown",
   "metadata": {},
   "source": [
    "#### Join! and reset index"
   ]
  },
  {
   "cell_type": "code",
   "execution_count": 379,
   "metadata": {},
   "outputs": [
    {
     "data": {
      "text/html": [
       "<div>\n",
       "<style scoped>\n",
       "    .dataframe tbody tr th:only-of-type {\n",
       "        vertical-align: middle;\n",
       "    }\n",
       "\n",
       "    .dataframe tbody tr th {\n",
       "        vertical-align: top;\n",
       "    }\n",
       "\n",
       "    .dataframe thead th {\n",
       "        text-align: right;\n",
       "    }\n",
       "</style>\n",
       "<table border=\"1\" class=\"dataframe\">\n",
       "  <thead>\n",
       "    <tr style=\"text-align: right;\">\n",
       "      <th></th>\n",
       "      <th>name</th>\n",
       "      <th>categories</th>\n",
       "      <th>avg_stars</th>\n",
       "      <th>cool</th>\n",
       "      <th>date</th>\n",
       "      <th>funny</th>\n",
       "      <th>review_id</th>\n",
       "      <th>stars</th>\n",
       "      <th>text</th>\n",
       "      <th>useful</th>\n",
       "      <th>user_id</th>\n",
       "    </tr>\n",
       "    <tr>\n",
       "      <th>business_id</th>\n",
       "      <th></th>\n",
       "      <th></th>\n",
       "      <th></th>\n",
       "      <th></th>\n",
       "      <th></th>\n",
       "      <th></th>\n",
       "      <th></th>\n",
       "      <th></th>\n",
       "      <th></th>\n",
       "      <th></th>\n",
       "      <th></th>\n",
       "    </tr>\n",
       "  </thead>\n",
       "  <tbody>\n",
       "    <tr>\n",
       "      <th>vJIuDBdu01vCA8y1fwR1OQ</th>\n",
       "      <td>CakesbyToi</td>\n",
       "      <td>American (Traditional), Food, Bakeries, Restau...</td>\n",
       "      <td>1.5</td>\n",
       "      <td>NaN</td>\n",
       "      <td>NaT</td>\n",
       "      <td>NaN</td>\n",
       "      <td>NaN</td>\n",
       "      <td>NaN</td>\n",
       "      <td>NaN</td>\n",
       "      <td>NaN</td>\n",
       "      <td>NaN</td>\n",
       "    </tr>\n",
       "    <tr>\n",
       "      <th>kgffcoxT6BQp-gJ-UQ7Czw</th>\n",
       "      <td>Subway</td>\n",
       "      <td>Fast Food, Restaurants, Sandwiches</td>\n",
       "      <td>2.5</td>\n",
       "      <td>NaN</td>\n",
       "      <td>NaT</td>\n",
       "      <td>NaN</td>\n",
       "      <td>NaN</td>\n",
       "      <td>NaN</td>\n",
       "      <td>NaN</td>\n",
       "      <td>NaN</td>\n",
       "      <td>NaN</td>\n",
       "    </tr>\n",
       "    <tr>\n",
       "      <th>0jtRI7hVMpQHpUVtUy4ITw</th>\n",
       "      <td>Omelet House Summerlin</td>\n",
       "      <td>Beer, Wine &amp; Spirits, Italian, Food, American ...</td>\n",
       "      <td>4.0</td>\n",
       "      <td>NaN</td>\n",
       "      <td>NaT</td>\n",
       "      <td>NaN</td>\n",
       "      <td>NaN</td>\n",
       "      <td>NaN</td>\n",
       "      <td>NaN</td>\n",
       "      <td>NaN</td>\n",
       "      <td>NaN</td>\n",
       "    </tr>\n",
       "    <tr>\n",
       "      <th>JJEx5wIqs9iGGATOagE8Sg</th>\n",
       "      <td>Baja Fresh Mexican Grill</td>\n",
       "      <td>Mexican, Restaurants</td>\n",
       "      <td>2.0</td>\n",
       "      <td>NaN</td>\n",
       "      <td>NaT</td>\n",
       "      <td>NaN</td>\n",
       "      <td>NaN</td>\n",
       "      <td>NaN</td>\n",
       "      <td>NaN</td>\n",
       "      <td>NaN</td>\n",
       "      <td>NaN</td>\n",
       "    </tr>\n",
       "    <tr>\n",
       "      <th>zhxnD7J5_sCrKSw5cwI9dQ</th>\n",
       "      <td>Popeyes Louisiana Kitchen</td>\n",
       "      <td>Chicken Wings, Restaurants, Fast Food</td>\n",
       "      <td>1.5</td>\n",
       "      <td>NaN</td>\n",
       "      <td>NaT</td>\n",
       "      <td>NaN</td>\n",
       "      <td>NaN</td>\n",
       "      <td>NaN</td>\n",
       "      <td>NaN</td>\n",
       "      <td>NaN</td>\n",
       "      <td>NaN</td>\n",
       "    </tr>\n",
       "    <tr>\n",
       "      <th>2kWrSFkIes_d2BMg4YrRtA</th>\n",
       "      <td>Pizza Hut</td>\n",
       "      <td>Restaurants, Pizza</td>\n",
       "      <td>2.5</td>\n",
       "      <td>NaN</td>\n",
       "      <td>NaT</td>\n",
       "      <td>NaN</td>\n",
       "      <td>NaN</td>\n",
       "      <td>NaN</td>\n",
       "      <td>NaN</td>\n",
       "      <td>NaN</td>\n",
       "      <td>NaN</td>\n",
       "    </tr>\n",
       "    <tr>\n",
       "      <th>6llKs7K_tn8ChXcIM-oTvg</th>\n",
       "      <td>Sansei Japan</td>\n",
       "      <td>Japanese, Restaurants</td>\n",
       "      <td>4.5</td>\n",
       "      <td>NaN</td>\n",
       "      <td>NaT</td>\n",
       "      <td>NaN</td>\n",
       "      <td>NaN</td>\n",
       "      <td>NaN</td>\n",
       "      <td>NaN</td>\n",
       "      <td>NaN</td>\n",
       "      <td>NaN</td>\n",
       "    </tr>\n",
       "    <tr>\n",
       "      <th>YV9GVfmDSDM7HSV0jVdTOA</th>\n",
       "      <td>El Pollo Loco</td>\n",
       "      <td>Restaurants, Salad, Fast Food, Mexican</td>\n",
       "      <td>3.0</td>\n",
       "      <td>NaN</td>\n",
       "      <td>NaT</td>\n",
       "      <td>NaN</td>\n",
       "      <td>NaN</td>\n",
       "      <td>NaN</td>\n",
       "      <td>NaN</td>\n",
       "      <td>NaN</td>\n",
       "      <td>NaN</td>\n",
       "    </tr>\n",
       "    <tr>\n",
       "      <th>F7OsiFk9aLZtqZczA84xpw</th>\n",
       "      <td>Popeyes Louisiana Kitchen</td>\n",
       "      <td>Southern, Chicken Wings, Fast Food, American (...</td>\n",
       "      <td>2.0</td>\n",
       "      <td>NaN</td>\n",
       "      <td>NaT</td>\n",
       "      <td>NaN</td>\n",
       "      <td>NaN</td>\n",
       "      <td>NaN</td>\n",
       "      <td>NaN</td>\n",
       "      <td>NaN</td>\n",
       "      <td>NaN</td>\n",
       "    </tr>\n",
       "    <tr>\n",
       "      <th>XeDLyY2a7nZ3IEY4RYslXA</th>\n",
       "      <td>Chicago Brewing Company</td>\n",
       "      <td>American (New), Restaurants, Food, Breweries, ...</td>\n",
       "      <td>3.5</td>\n",
       "      <td>NaN</td>\n",
       "      <td>NaT</td>\n",
       "      <td>NaN</td>\n",
       "      <td>NaN</td>\n",
       "      <td>NaN</td>\n",
       "      <td>NaN</td>\n",
       "      <td>NaN</td>\n",
       "      <td>NaN</td>\n",
       "    </tr>\n",
       "    <tr>\n",
       "      <th>MDVbJicJvqaO4WGx0vEabQ</th>\n",
       "      <td>Chili's</td>\n",
       "      <td>Bars, American (Traditional), Nightlife, Resta...</td>\n",
       "      <td>3.0</td>\n",
       "      <td>NaN</td>\n",
       "      <td>NaT</td>\n",
       "      <td>NaN</td>\n",
       "      <td>NaN</td>\n",
       "      <td>NaN</td>\n",
       "      <td>NaN</td>\n",
       "      <td>NaN</td>\n",
       "      <td>NaN</td>\n",
       "    </tr>\n",
       "    <tr>\n",
       "      <th>sOkQ2Y1-D8h18oN5NgxuLg</th>\n",
       "      <td>Haddies Car Wash and Convenience store</td>\n",
       "      <td>Car Wash, Delis, Convenience Stores, Food, Res...</td>\n",
       "      <td>5.0</td>\n",
       "      <td>NaN</td>\n",
       "      <td>NaT</td>\n",
       "      <td>NaN</td>\n",
       "      <td>NaN</td>\n",
       "      <td>NaN</td>\n",
       "      <td>NaN</td>\n",
       "      <td>NaN</td>\n",
       "      <td>NaN</td>\n",
       "    </tr>\n",
       "    <tr>\n",
       "      <th>lv5Bnqlt93NnvNJ2oNcQ8Q</th>\n",
       "      <td>Los Cucos Mexican Cafe</td>\n",
       "      <td>Restaurants, Bars, Nightlife, Caterers, Mexica...</td>\n",
       "      <td>4.0</td>\n",
       "      <td>NaN</td>\n",
       "      <td>NaT</td>\n",
       "      <td>NaN</td>\n",
       "      <td>NaN</td>\n",
       "      <td>NaN</td>\n",
       "      <td>NaN</td>\n",
       "      <td>NaN</td>\n",
       "      <td>NaN</td>\n",
       "    </tr>\n",
       "    <tr>\n",
       "      <th>D1TaFES4phv65RmsM8VCiA</th>\n",
       "      <td>Domino's Pizza</td>\n",
       "      <td>Pizza, Sandwiches, Restaurants, Chicken Wings</td>\n",
       "      <td>2.5</td>\n",
       "      <td>NaN</td>\n",
       "      <td>NaT</td>\n",
       "      <td>NaN</td>\n",
       "      <td>NaN</td>\n",
       "      <td>NaN</td>\n",
       "      <td>NaN</td>\n",
       "      <td>NaN</td>\n",
       "      <td>NaN</td>\n",
       "    </tr>\n",
       "    <tr>\n",
       "      <th>glkEaoxbewiSMBiXs945JA</th>\n",
       "      <td>800 Degrees</td>\n",
       "      <td>Pizza, Food, Restaurants</td>\n",
       "      <td>3.5</td>\n",
       "      <td>NaN</td>\n",
       "      <td>NaT</td>\n",
       "      <td>NaN</td>\n",
       "      <td>NaN</td>\n",
       "      <td>NaN</td>\n",
       "      <td>NaN</td>\n",
       "      <td>NaN</td>\n",
       "      <td>NaN</td>\n",
       "    </tr>\n",
       "    <tr>\n",
       "      <th>lYCeqldIiOggsbByH3RRhw</th>\n",
       "      <td>Metro Pizza</td>\n",
       "      <td>Pizza, Restaurants</td>\n",
       "      <td>2.5</td>\n",
       "      <td>NaN</td>\n",
       "      <td>NaT</td>\n",
       "      <td>NaN</td>\n",
       "      <td>NaN</td>\n",
       "      <td>NaN</td>\n",
       "      <td>NaN</td>\n",
       "      <td>NaN</td>\n",
       "      <td>NaN</td>\n",
       "    </tr>\n",
       "    <tr>\n",
       "      <th>juuv0QPE_MfnVjevQTpCDg</th>\n",
       "      <td>Manhattan Streets</td>\n",
       "      <td>Hot Dogs, Food, Restaurants</td>\n",
       "      <td>3.5</td>\n",
       "      <td>NaN</td>\n",
       "      <td>NaT</td>\n",
       "      <td>NaN</td>\n",
       "      <td>NaN</td>\n",
       "      <td>NaN</td>\n",
       "      <td>NaN</td>\n",
       "      <td>NaN</td>\n",
       "      <td>NaN</td>\n",
       "    </tr>\n",
       "    <tr>\n",
       "      <th>DbK9fyJq4O4zfT1jv6JOhw</th>\n",
       "      <td>Pam Real Thai Las Vegas</td>\n",
       "      <td>Restaurants, Food, Food Delivery Services, Thai</td>\n",
       "      <td>4.0</td>\n",
       "      <td>NaN</td>\n",
       "      <td>NaT</td>\n",
       "      <td>NaN</td>\n",
       "      <td>NaN</td>\n",
       "      <td>NaN</td>\n",
       "      <td>NaN</td>\n",
       "      <td>NaN</td>\n",
       "      <td>NaN</td>\n",
       "    </tr>\n",
       "    <tr>\n",
       "      <th>PChG1Dm0A6AXIXkXGVK8Fw</th>\n",
       "      <td>Sasa Sushi</td>\n",
       "      <td>Japanese, Sushi Bars, Restaurants</td>\n",
       "      <td>4.0</td>\n",
       "      <td>NaN</td>\n",
       "      <td>NaT</td>\n",
       "      <td>NaN</td>\n",
       "      <td>NaN</td>\n",
       "      <td>NaN</td>\n",
       "      <td>NaN</td>\n",
       "      <td>NaN</td>\n",
       "      <td>NaN</td>\n",
       "    </tr>\n",
       "    <tr>\n",
       "      <th>owxcYAUca_6K6BAUX4V48w</th>\n",
       "      <td>D'Pinoy Joint</td>\n",
       "      <td>Filipino, Restaurants</td>\n",
       "      <td>4.5</td>\n",
       "      <td>NaN</td>\n",
       "      <td>NaT</td>\n",
       "      <td>NaN</td>\n",
       "      <td>NaN</td>\n",
       "      <td>NaN</td>\n",
       "      <td>NaN</td>\n",
       "      <td>NaN</td>\n",
       "      <td>NaN</td>\n",
       "    </tr>\n",
       "    <tr>\n",
       "      <th>WSGHEQdcdbBWXDpna99EiQ</th>\n",
       "      <td>Teriyaki Madness</td>\n",
       "      <td>Japanese, Hawaiian, Restaurants, Asian Fusion</td>\n",
       "      <td>3.5</td>\n",
       "      <td>NaN</td>\n",
       "      <td>NaT</td>\n",
       "      <td>NaN</td>\n",
       "      <td>NaN</td>\n",
       "      <td>NaN</td>\n",
       "      <td>NaN</td>\n",
       "      <td>NaN</td>\n",
       "      <td>NaN</td>\n",
       "    </tr>\n",
       "    <tr>\n",
       "      <th>0aDCv4zPhzy7RklHDrnKQg</th>\n",
       "      <td>Lucie's Lounge</td>\n",
       "      <td>Bars, Restaurants, Nightlife, Dive Bars, Loung...</td>\n",
       "      <td>4.0</td>\n",
       "      <td>NaN</td>\n",
       "      <td>NaT</td>\n",
       "      <td>NaN</td>\n",
       "      <td>NaN</td>\n",
       "      <td>NaN</td>\n",
       "      <td>NaN</td>\n",
       "      <td>NaN</td>\n",
       "      <td>NaN</td>\n",
       "    </tr>\n",
       "    <tr>\n",
       "      <th>rWkQMRI6PRo5woBaxGD68g</th>\n",
       "      <td>Viva Café Espresso Bar</td>\n",
       "      <td>Bagels, Coffee &amp; Tea, Cafes, Restaurants, Food</td>\n",
       "      <td>4.0</td>\n",
       "      <td>NaN</td>\n",
       "      <td>NaT</td>\n",
       "      <td>NaN</td>\n",
       "      <td>NaN</td>\n",
       "      <td>NaN</td>\n",
       "      <td>NaN</td>\n",
       "      <td>NaN</td>\n",
       "      <td>NaN</td>\n",
       "    </tr>\n",
       "  </tbody>\n",
       "</table>\n",
       "</div>"
      ],
      "text/plain": [
       "                                                          name  \\\n",
       "business_id                                                      \n",
       "vJIuDBdu01vCA8y1fwR1OQ                              CakesbyToi   \n",
       "kgffcoxT6BQp-gJ-UQ7Czw                                  Subway   \n",
       "0jtRI7hVMpQHpUVtUy4ITw                  Omelet House Summerlin   \n",
       "JJEx5wIqs9iGGATOagE8Sg                Baja Fresh Mexican Grill   \n",
       "zhxnD7J5_sCrKSw5cwI9dQ               Popeyes Louisiana Kitchen   \n",
       "2kWrSFkIes_d2BMg4YrRtA                               Pizza Hut   \n",
       "6llKs7K_tn8ChXcIM-oTvg                            Sansei Japan   \n",
       "YV9GVfmDSDM7HSV0jVdTOA                           El Pollo Loco   \n",
       "F7OsiFk9aLZtqZczA84xpw               Popeyes Louisiana Kitchen   \n",
       "XeDLyY2a7nZ3IEY4RYslXA                 Chicago Brewing Company   \n",
       "MDVbJicJvqaO4WGx0vEabQ                                 Chili's   \n",
       "sOkQ2Y1-D8h18oN5NgxuLg  Haddies Car Wash and Convenience store   \n",
       "lv5Bnqlt93NnvNJ2oNcQ8Q                  Los Cucos Mexican Cafe   \n",
       "D1TaFES4phv65RmsM8VCiA                          Domino's Pizza   \n",
       "glkEaoxbewiSMBiXs945JA                             800 Degrees   \n",
       "lYCeqldIiOggsbByH3RRhw                             Metro Pizza   \n",
       "juuv0QPE_MfnVjevQTpCDg                       Manhattan Streets   \n",
       "DbK9fyJq4O4zfT1jv6JOhw                 Pam Real Thai Las Vegas   \n",
       "PChG1Dm0A6AXIXkXGVK8Fw                              Sasa Sushi   \n",
       "owxcYAUca_6K6BAUX4V48w                           D'Pinoy Joint   \n",
       "WSGHEQdcdbBWXDpna99EiQ                        Teriyaki Madness   \n",
       "0aDCv4zPhzy7RklHDrnKQg                          Lucie's Lounge   \n",
       "rWkQMRI6PRo5woBaxGD68g                  Viva Café Espresso Bar   \n",
       "\n",
       "                                                               categories  \\\n",
       "business_id                                                                 \n",
       "vJIuDBdu01vCA8y1fwR1OQ  American (Traditional), Food, Bakeries, Restau...   \n",
       "kgffcoxT6BQp-gJ-UQ7Czw                 Fast Food, Restaurants, Sandwiches   \n",
       "0jtRI7hVMpQHpUVtUy4ITw  Beer, Wine & Spirits, Italian, Food, American ...   \n",
       "JJEx5wIqs9iGGATOagE8Sg                               Mexican, Restaurants   \n",
       "zhxnD7J5_sCrKSw5cwI9dQ              Chicken Wings, Restaurants, Fast Food   \n",
       "2kWrSFkIes_d2BMg4YrRtA                                 Restaurants, Pizza   \n",
       "6llKs7K_tn8ChXcIM-oTvg                              Japanese, Restaurants   \n",
       "YV9GVfmDSDM7HSV0jVdTOA             Restaurants, Salad, Fast Food, Mexican   \n",
       "F7OsiFk9aLZtqZczA84xpw  Southern, Chicken Wings, Fast Food, American (...   \n",
       "XeDLyY2a7nZ3IEY4RYslXA  American (New), Restaurants, Food, Breweries, ...   \n",
       "MDVbJicJvqaO4WGx0vEabQ  Bars, American (Traditional), Nightlife, Resta...   \n",
       "sOkQ2Y1-D8h18oN5NgxuLg  Car Wash, Delis, Convenience Stores, Food, Res...   \n",
       "lv5Bnqlt93NnvNJ2oNcQ8Q  Restaurants, Bars, Nightlife, Caterers, Mexica...   \n",
       "D1TaFES4phv65RmsM8VCiA      Pizza, Sandwiches, Restaurants, Chicken Wings   \n",
       "glkEaoxbewiSMBiXs945JA                           Pizza, Food, Restaurants   \n",
       "lYCeqldIiOggsbByH3RRhw                                 Pizza, Restaurants   \n",
       "juuv0QPE_MfnVjevQTpCDg                        Hot Dogs, Food, Restaurants   \n",
       "DbK9fyJq4O4zfT1jv6JOhw    Restaurants, Food, Food Delivery Services, Thai   \n",
       "PChG1Dm0A6AXIXkXGVK8Fw                  Japanese, Sushi Bars, Restaurants   \n",
       "owxcYAUca_6K6BAUX4V48w                              Filipino, Restaurants   \n",
       "WSGHEQdcdbBWXDpna99EiQ      Japanese, Hawaiian, Restaurants, Asian Fusion   \n",
       "0aDCv4zPhzy7RklHDrnKQg  Bars, Restaurants, Nightlife, Dive Bars, Loung...   \n",
       "rWkQMRI6PRo5woBaxGD68g     Bagels, Coffee & Tea, Cafes, Restaurants, Food   \n",
       "\n",
       "                        avg_stars  cool date  funny review_id  stars text  \\\n",
       "business_id                                                                 \n",
       "vJIuDBdu01vCA8y1fwR1OQ        1.5   NaN  NaT    NaN       NaN    NaN  NaN   \n",
       "kgffcoxT6BQp-gJ-UQ7Czw        2.5   NaN  NaT    NaN       NaN    NaN  NaN   \n",
       "0jtRI7hVMpQHpUVtUy4ITw        4.0   NaN  NaT    NaN       NaN    NaN  NaN   \n",
       "JJEx5wIqs9iGGATOagE8Sg        2.0   NaN  NaT    NaN       NaN    NaN  NaN   \n",
       "zhxnD7J5_sCrKSw5cwI9dQ        1.5   NaN  NaT    NaN       NaN    NaN  NaN   \n",
       "2kWrSFkIes_d2BMg4YrRtA        2.5   NaN  NaT    NaN       NaN    NaN  NaN   \n",
       "6llKs7K_tn8ChXcIM-oTvg        4.5   NaN  NaT    NaN       NaN    NaN  NaN   \n",
       "YV9GVfmDSDM7HSV0jVdTOA        3.0   NaN  NaT    NaN       NaN    NaN  NaN   \n",
       "F7OsiFk9aLZtqZczA84xpw        2.0   NaN  NaT    NaN       NaN    NaN  NaN   \n",
       "XeDLyY2a7nZ3IEY4RYslXA        3.5   NaN  NaT    NaN       NaN    NaN  NaN   \n",
       "MDVbJicJvqaO4WGx0vEabQ        3.0   NaN  NaT    NaN       NaN    NaN  NaN   \n",
       "sOkQ2Y1-D8h18oN5NgxuLg        5.0   NaN  NaT    NaN       NaN    NaN  NaN   \n",
       "lv5Bnqlt93NnvNJ2oNcQ8Q        4.0   NaN  NaT    NaN       NaN    NaN  NaN   \n",
       "D1TaFES4phv65RmsM8VCiA        2.5   NaN  NaT    NaN       NaN    NaN  NaN   \n",
       "glkEaoxbewiSMBiXs945JA        3.5   NaN  NaT    NaN       NaN    NaN  NaN   \n",
       "lYCeqldIiOggsbByH3RRhw        2.5   NaN  NaT    NaN       NaN    NaN  NaN   \n",
       "juuv0QPE_MfnVjevQTpCDg        3.5   NaN  NaT    NaN       NaN    NaN  NaN   \n",
       "DbK9fyJq4O4zfT1jv6JOhw        4.0   NaN  NaT    NaN       NaN    NaN  NaN   \n",
       "PChG1Dm0A6AXIXkXGVK8Fw        4.0   NaN  NaT    NaN       NaN    NaN  NaN   \n",
       "owxcYAUca_6K6BAUX4V48w        4.5   NaN  NaT    NaN       NaN    NaN  NaN   \n",
       "WSGHEQdcdbBWXDpna99EiQ        3.5   NaN  NaT    NaN       NaN    NaN  NaN   \n",
       "0aDCv4zPhzy7RklHDrnKQg        4.0   NaN  NaT    NaN       NaN    NaN  NaN   \n",
       "rWkQMRI6PRo5woBaxGD68g        4.0   NaN  NaT    NaN       NaN    NaN  NaN   \n",
       "\n",
       "                        useful user_id  \n",
       "business_id                             \n",
       "vJIuDBdu01vCA8y1fwR1OQ     NaN     NaN  \n",
       "kgffcoxT6BQp-gJ-UQ7Czw     NaN     NaN  \n",
       "0jtRI7hVMpQHpUVtUy4ITw     NaN     NaN  \n",
       "JJEx5wIqs9iGGATOagE8Sg     NaN     NaN  \n",
       "zhxnD7J5_sCrKSw5cwI9dQ     NaN     NaN  \n",
       "2kWrSFkIes_d2BMg4YrRtA     NaN     NaN  \n",
       "6llKs7K_tn8ChXcIM-oTvg     NaN     NaN  \n",
       "YV9GVfmDSDM7HSV0jVdTOA     NaN     NaN  \n",
       "F7OsiFk9aLZtqZczA84xpw     NaN     NaN  \n",
       "XeDLyY2a7nZ3IEY4RYslXA     NaN     NaN  \n",
       "MDVbJicJvqaO4WGx0vEabQ     NaN     NaN  \n",
       "sOkQ2Y1-D8h18oN5NgxuLg     NaN     NaN  \n",
       "lv5Bnqlt93NnvNJ2oNcQ8Q     NaN     NaN  \n",
       "D1TaFES4phv65RmsM8VCiA     NaN     NaN  \n",
       "glkEaoxbewiSMBiXs945JA     NaN     NaN  \n",
       "lYCeqldIiOggsbByH3RRhw     NaN     NaN  \n",
       "juuv0QPE_MfnVjevQTpCDg     NaN     NaN  \n",
       "DbK9fyJq4O4zfT1jv6JOhw     NaN     NaN  \n",
       "PChG1Dm0A6AXIXkXGVK8Fw     NaN     NaN  \n",
       "owxcYAUca_6K6BAUX4V48w     NaN     NaN  \n",
       "WSGHEQdcdbBWXDpna99EiQ     NaN     NaN  \n",
       "0aDCv4zPhzy7RklHDrnKQg     NaN     NaN  \n",
       "rWkQMRI6PRo5woBaxGD68g     NaN     NaN  "
      ]
     },
     "execution_count": 379,
     "metadata": {},
     "output_type": "execute_result"
    }
   ],
   "source": [
    "# Join df_left and df_right.\n",
    "df_joined = pd.merge(df_left, df_right, how='left', on='business_id')\n",
    "df_joined.head()"
   ]
  },
  {
   "cell_type": "code",
   "execution_count": null,
   "metadata": {},
   "outputs": [],
   "source": [
    "# reset the index\n",
    "df_joined.reset_index(inplace=True)"
   ]
  },
  {
   "cell_type": "markdown",
   "metadata": {},
   "source": [
    "#### We further filter data by date, e.g. keep comments from last 2 years\n",
    "\n",
    "* Otherwise your laptop may crush on memory when running machine learning algorithms\n",
    "* Purposefully ignoring the reviews made too long time ago"
   ]
  },
  {
   "cell_type": "code",
   "execution_count": null,
   "metadata": {},
   "outputs": [],
   "source": [
    "# Make a filter that selects date after 2015-01-20"
   ]
  },
  {
   "cell_type": "code",
   "execution_count": null,
   "metadata": {},
   "outputs": [],
   "source": [
    "# Filter the joined DataFrame and name it as df_final"
   ]
  },
  {
   "cell_type": "markdown",
   "metadata": {},
   "source": [
    "#### Take a glance at the final dataset"
   ]
  },
  {
   "cell_type": "code",
   "execution_count": null,
   "metadata": {},
   "outputs": [],
   "source": [
    "import matplotlib.pyplot as plt\n",
    "\n",
    "% matplotlib inline"
   ]
  },
  {
   "cell_type": "code",
   "execution_count": null,
   "metadata": {},
   "outputs": [],
   "source": [
    "# calculate counts of reviews per business entity, and plot it"
   ]
  },
  {
   "cell_type": "markdown",
   "metadata": {},
   "source": [
    "## Save your preprocessed dataset to csv file\n",
    "\n",
    "* Respect your laptop's hard work! You don't want to make it run everything again."
   ]
  },
  {
   "cell_type": "code",
   "execution_count": null,
   "metadata": {},
   "outputs": [],
   "source": []
  }
 ],
 "metadata": {
  "kernelspec": {
   "display_name": "Python 3",
   "language": "python",
   "name": "python3"
  },
  "language_info": {
   "codemirror_mode": {
    "name": "ipython",
    "version": 3
   },
   "file_extension": ".py",
   "mimetype": "text/x-python",
   "name": "python",
   "nbconvert_exporter": "python",
   "pygments_lexer": "ipython3",
   "version": "3.7.0"
  }
 },
 "nbformat": 4,
 "nbformat_minor": 2
}
