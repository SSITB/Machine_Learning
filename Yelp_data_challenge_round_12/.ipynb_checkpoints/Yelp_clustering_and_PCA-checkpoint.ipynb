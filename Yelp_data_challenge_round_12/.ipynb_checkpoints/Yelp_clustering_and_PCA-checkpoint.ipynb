{
 "cells": [
  {
   "cell_type": "markdown",
   "metadata": {},
   "source": [
    "# Yelp Dataset Challenge\n",
    "\n",
    "![Yelp Data Challenge](https://s3-media3.fl.yelpcdn.com/assets/srv0/engineering_pages/6d323fc75cb1/assets/img/dataset/960x225_dataset@2x.png)"
   ]
  },
  {
   "cell_type": "markdown",
   "metadata": {},
   "source": [
    "## Load Data\n",
    "\n",
    "Use the processed data `last_2_years_restaurant_reviews.csv`"
   ]
  },
  {
   "cell_type": "code",
   "execution_count": 1,
   "metadata": {},
   "outputs": [],
   "source": [
    "import pandas as pd\n",
    "import numpy as np\n",
    "import matplotlib.pyplot as plt\n",
    "\n",
    "%matplotlib inline"
   ]
  },
  {
   "cell_type": "code",
   "execution_count": 2,
   "metadata": {},
   "outputs": [],
   "source": [
    "df = pd.read_csv('last_2_years_restaurant_reviews.csv')"
   ]
  },
  {
   "cell_type": "code",
   "execution_count": 3,
   "metadata": {},
   "outputs": [
    {
     "name": "stdout",
     "output_type": "stream",
     "text": [
      "<class 'pandas.core.frame.DataFrame'>\n",
      "RangeIndex: 398037 entries, 0 to 398036\n",
      "Data columns (total 12 columns):\n",
      "business_id    398037 non-null object\n",
      "name           398037 non-null object\n",
      "categories     398037 non-null object\n",
      "avg_stars      398037 non-null float64\n",
      "cool           398037 non-null int64\n",
      "date           398037 non-null object\n",
      "funny          398037 non-null int64\n",
      "review_id      398037 non-null object\n",
      "stars          398037 non-null int64\n",
      "text           398037 non-null object\n",
      "useful         398037 non-null int64\n",
      "user_id        398037 non-null object\n",
      "dtypes: float64(1), int64(4), object(7)\n",
      "memory usage: 36.4+ MB\n"
     ]
    }
   ],
   "source": [
    "# Inspect\n",
    "df.info()"
   ]
  },
  {
   "cell_type": "code",
   "execution_count": 4,
   "metadata": {},
   "outputs": [
    {
     "data": {
      "text/html": [
       "<div>\n",
       "<style scoped>\n",
       "    .dataframe tbody tr th:only-of-type {\n",
       "        vertical-align: middle;\n",
       "    }\n",
       "\n",
       "    .dataframe tbody tr th {\n",
       "        vertical-align: top;\n",
       "    }\n",
       "\n",
       "    .dataframe thead th {\n",
       "        text-align: right;\n",
       "    }\n",
       "</style>\n",
       "<table border=\"1\" class=\"dataframe\">\n",
       "  <thead>\n",
       "    <tr style=\"text-align: right;\">\n",
       "      <th></th>\n",
       "      <th>business_id</th>\n",
       "      <th>name</th>\n",
       "      <th>categories</th>\n",
       "      <th>avg_stars</th>\n",
       "      <th>cool</th>\n",
       "      <th>date</th>\n",
       "      <th>funny</th>\n",
       "      <th>review_id</th>\n",
       "      <th>stars</th>\n",
       "      <th>text</th>\n",
       "      <th>useful</th>\n",
       "      <th>user_id</th>\n",
       "    </tr>\n",
       "  </thead>\n",
       "  <tbody>\n",
       "    <tr>\n",
       "      <th>0</th>\n",
       "      <td>kgffcoxT6BQp-gJ-UQ7Czw</td>\n",
       "      <td>Subway</td>\n",
       "      <td>Fast Food, Restaurants, Sandwiches</td>\n",
       "      <td>2.5</td>\n",
       "      <td>0</td>\n",
       "      <td>2016-07-03</td>\n",
       "      <td>0</td>\n",
       "      <td>c6iTbCMMYWnOd79ZiWwobg</td>\n",
       "      <td>1</td>\n",
       "      <td>I ordered a few 12 inch sandwiches , a turkey ...</td>\n",
       "      <td>1</td>\n",
       "      <td>ih7Dmu7wZpKVwlBRbakJOQ</td>\n",
       "    </tr>\n",
       "    <tr>\n",
       "      <th>1</th>\n",
       "      <td>kgffcoxT6BQp-gJ-UQ7Czw</td>\n",
       "      <td>Subway</td>\n",
       "      <td>Fast Food, Restaurants, Sandwiches</td>\n",
       "      <td>2.5</td>\n",
       "      <td>0</td>\n",
       "      <td>2018-03-10</td>\n",
       "      <td>0</td>\n",
       "      <td>5iDdZvpK4jOv2w5kZ15TUA</td>\n",
       "      <td>1</td>\n",
       "      <td>Worst subway of any I have visited. I have man...</td>\n",
       "      <td>1</td>\n",
       "      <td>m3WBc9bGxn1q1ikAFq8PaA</td>\n",
       "    </tr>\n",
       "    <tr>\n",
       "      <th>2</th>\n",
       "      <td>kgffcoxT6BQp-gJ-UQ7Czw</td>\n",
       "      <td>Subway</td>\n",
       "      <td>Fast Food, Restaurants, Sandwiches</td>\n",
       "      <td>2.5</td>\n",
       "      <td>0</td>\n",
       "      <td>2016-12-26</td>\n",
       "      <td>0</td>\n",
       "      <td>oCUrLS4T-paZBr6WnrXg_A</td>\n",
       "      <td>2</td>\n",
       "      <td>Good luck trying to get the order right. The c...</td>\n",
       "      <td>0</td>\n",
       "      <td>H7bJDtGzhdg1fsmBL4KZWg</td>\n",
       "    </tr>\n",
       "    <tr>\n",
       "      <th>3</th>\n",
       "      <td>kgffcoxT6BQp-gJ-UQ7Czw</td>\n",
       "      <td>Subway</td>\n",
       "      <td>Fast Food, Restaurants, Sandwiches</td>\n",
       "      <td>2.5</td>\n",
       "      <td>0</td>\n",
       "      <td>2016-12-16</td>\n",
       "      <td>0</td>\n",
       "      <td>qXHvWYgL-8yfcGvP_ydKGA</td>\n",
       "      <td>2</td>\n",
       "      <td>Here to get my pick up order at the moment it ...</td>\n",
       "      <td>0</td>\n",
       "      <td>58sXi_0oTgVlM3aUuFYHUA</td>\n",
       "    </tr>\n",
       "    <tr>\n",
       "      <th>4</th>\n",
       "      <td>0jtRI7hVMpQHpUVtUy4ITw</td>\n",
       "      <td>Omelet House Summerlin</td>\n",
       "      <td>Beer, Wine &amp; Spirits, Italian, Food, American ...</td>\n",
       "      <td>4.0</td>\n",
       "      <td>1</td>\n",
       "      <td>2016-12-29</td>\n",
       "      <td>0</td>\n",
       "      <td>j9l7IMJX9bvWjkJ18EWGpg</td>\n",
       "      <td>5</td>\n",
       "      <td>My husband &amp; I were visiting the area, found t...</td>\n",
       "      <td>0</td>\n",
       "      <td>ZS7V0uC4kVrJR_4Yi3oTHA</td>\n",
       "    </tr>\n",
       "  </tbody>\n",
       "</table>\n",
       "</div>"
      ],
      "text/plain": [
       "              business_id                    name  \\\n",
       "0  kgffcoxT6BQp-gJ-UQ7Czw                  Subway   \n",
       "1  kgffcoxT6BQp-gJ-UQ7Czw                  Subway   \n",
       "2  kgffcoxT6BQp-gJ-UQ7Czw                  Subway   \n",
       "3  kgffcoxT6BQp-gJ-UQ7Czw                  Subway   \n",
       "4  0jtRI7hVMpQHpUVtUy4ITw  Omelet House Summerlin   \n",
       "\n",
       "                                          categories  avg_stars  cool  \\\n",
       "0                 Fast Food, Restaurants, Sandwiches        2.5     0   \n",
       "1                 Fast Food, Restaurants, Sandwiches        2.5     0   \n",
       "2                 Fast Food, Restaurants, Sandwiches        2.5     0   \n",
       "3                 Fast Food, Restaurants, Sandwiches        2.5     0   \n",
       "4  Beer, Wine & Spirits, Italian, Food, American ...        4.0     1   \n",
       "\n",
       "         date  funny               review_id  stars  \\\n",
       "0  2016-07-03      0  c6iTbCMMYWnOd79ZiWwobg      1   \n",
       "1  2018-03-10      0  5iDdZvpK4jOv2w5kZ15TUA      1   \n",
       "2  2016-12-26      0  oCUrLS4T-paZBr6WnrXg_A      2   \n",
       "3  2016-12-16      0  qXHvWYgL-8yfcGvP_ydKGA      2   \n",
       "4  2016-12-29      0  j9l7IMJX9bvWjkJ18EWGpg      5   \n",
       "\n",
       "                                                text  useful  \\\n",
       "0  I ordered a few 12 inch sandwiches , a turkey ...       1   \n",
       "1  Worst subway of any I have visited. I have man...       1   \n",
       "2  Good luck trying to get the order right. The c...       0   \n",
       "3  Here to get my pick up order at the moment it ...       0   \n",
       "4  My husband & I were visiting the area, found t...       0   \n",
       "\n",
       "                  user_id  \n",
       "0  ih7Dmu7wZpKVwlBRbakJOQ  \n",
       "1  m3WBc9bGxn1q1ikAFq8PaA  \n",
       "2  H7bJDtGzhdg1fsmBL4KZWg  \n",
       "3  58sXi_0oTgVlM3aUuFYHUA  \n",
       "4  ZS7V0uC4kVrJR_4Yi3oTHA  "
      ]
     },
     "execution_count": 4,
     "metadata": {},
     "output_type": "execute_result"
    }
   ],
   "source": [
    "df.head()"
   ]
  },
  {
   "cell_type": "markdown",
   "metadata": {},
   "source": [
    "## 1. Cluster the review text data for all the restaurants\n",
    "\n",
    "### Define feature variables\n",
    "* Use `text` of review as predictor and `avg_stars` as target"
   ]
  },
  {
   "cell_type": "code",
   "execution_count": 5,
   "metadata": {},
   "outputs": [],
   "source": [
    "# Take the values of the column that contains review text data, save to a variable named \"documents\"\n",
    "documents = df['text']\n",
    "# Make a column and take the values, save to a variable named \"target\"\n",
    "# df['favorable'] = df['stars'] > 4\n",
    "# target = df['favorable']\n",
    "stars = df['avg_stars']"
   ]
  },
  {
   "cell_type": "code",
   "execution_count": 6,
   "metadata": {},
   "outputs": [
    {
     "data": {
      "text/plain": [
       "(398037,)"
      ]
     },
     "execution_count": 6,
     "metadata": {},
     "output_type": "execute_result"
    }
   ],
   "source": [
    "documents.shape"
   ]
  },
  {
   "cell_type": "code",
   "execution_count": 7,
   "metadata": {},
   "outputs": [
    {
     "data": {
      "text/plain": [
       "(398037,)"
      ]
     },
     "execution_count": 7,
     "metadata": {},
     "output_type": "execute_result"
    }
   ],
   "source": [
    "stars.shape"
   ]
  },
  {
   "cell_type": "code",
   "execution_count": 8,
   "metadata": {},
   "outputs": [
    {
     "data": {
      "text/plain": [
       "0    I ordered a few 12 inch sandwiches , a turkey ...\n",
       "1    Worst subway of any I have visited. I have man...\n",
       "2    Good luck trying to get the order right. The c...\n",
       "Name: text, dtype: object"
      ]
     },
     "execution_count": 8,
     "metadata": {},
     "output_type": "execute_result"
    }
   ],
   "source": [
    "documents.head(3)"
   ]
  },
  {
   "cell_type": "code",
   "execution_count": 9,
   "metadata": {},
   "outputs": [
    {
     "data": {
      "text/plain": [
       "3.8557659212585764"
      ]
     },
     "execution_count": 9,
     "metadata": {},
     "output_type": "execute_result"
    }
   ],
   "source": [
    "stars.mean()"
   ]
  },
  {
   "cell_type": "markdown",
   "metadata": {},
   "source": [
    "### Create training and test dataset\n",
    "Use larger test size to aviod crash when training"
   ]
  },
  {
   "cell_type": "code",
   "execution_count": 10,
   "metadata": {},
   "outputs": [],
   "source": [
    "from sklearn.model_selection import train_test_split\n",
    "X = documents.values\n",
    "y = stars.values\n",
    "X_train, X_test, y_train, y_test = train_test_split(X, y, test_size=0.5, random_state=42)"
   ]
  },
  {
   "cell_type": "markdown",
   "metadata": {},
   "source": [
    "### Get NLP representation of the documents\n",
    "\n",
    "#### Fit TfidfVectorizer with training data only, then tranform all the data to tf-idf"
   ]
  },
  {
   "cell_type": "code",
   "execution_count": 11,
   "metadata": {},
   "outputs": [],
   "source": [
    "from sklearn.feature_extraction.text import TfidfVectorizer"
   ]
  },
  {
   "cell_type": "code",
   "execution_count": 12,
   "metadata": {},
   "outputs": [],
   "source": [
    "# Create TfidfVectorizer, and name it vectorizer, choose a reasonable max_features, e.g. 1000\n",
    "vectorizer = TfidfVectorizer(stop_words='english', max_features=1000)"
   ]
  },
  {
   "cell_type": "code",
   "execution_count": 13,
   "metadata": {},
   "outputs": [],
   "source": [
    "# Train the model with training data\n",
    "vec_trained = vectorizer.fit_transform(X_train)# vec_trained 是存了 tf-idf 的矩陣"
   ]
  },
  {
   "cell_type": "code",
   "execution_count": 14,
   "metadata": {},
   "outputs": [
    {
     "name": "stdout",
     "output_type": "stream",
     "text": [
      "<class 'scipy.sparse.csr.csr_matrix'>\n"
     ]
    }
   ],
   "source": [
    "print(type(vec_trained)) # it is a sparse matrix in compressed sparse row (csr) format\n",
    "# print(vec_trained)\n",
    "# print(vec_trained.toarray())\n",
    "# print(vec_trained.todense())"
   ]
  },
  {
   "cell_type": "code",
   "execution_count": 15,
   "metadata": {},
   "outputs": [
    {
     "name": "stdout",
     "output_type": "stream",
     "text": [
      "<class 'numpy.ndarray'> <class 'numpy.matrixlib.defmatrix.matrix'>\n",
      "[[0. 0. 0. ... 0. 0. 0.]\n",
      " [0. 0. 0. ... 0. 0. 0.]\n",
      " [0. 0. 0. ... 0. 0. 0.]\n",
      " ...\n",
      " [0. 0. 0. ... 0. 0. 0.]\n",
      " [0. 0. 0. ... 0. 0. 0.]\n",
      " [0. 0. 0. ... 0. 0. 0.]]\n",
      "[[0. 0. 0. ... 0. 0. 0.]\n",
      " [0. 0. 0. ... 0. 0. 0.]\n",
      " [0. 0. 0. ... 0. 0. 0.]\n",
      " ...\n",
      " [0. 0. 0. ... 0. 0. 0.]\n",
      " [0. 0. 0. ... 0. 0. 0.]\n",
      " [0. 0. 0. ... 0. 0. 0.]]\n"
     ]
    }
   ],
   "source": [
    "vec_arr = vec_trained.toarray() # This is an array\n",
    "vec_den = vec_trained.todense() # This is an matrix\n",
    "print(type(vec_arr), type(vec_den))\n",
    "print(vec_arr)\n",
    "print(vec_den)"
   ]
  },
  {
   "cell_type": "code",
   "execution_count": 16,
   "metadata": {},
   "outputs": [],
   "source": [
    "vec_trained = vec_trained.toarray() # 最後採用 array 的形式，因為 sklearn 的模型要吃 ndarray "
   ]
  },
  {
   "cell_type": "code",
   "execution_count": 17,
   "metadata": {},
   "outputs": [
    {
     "data": {
      "text/plain": [
       "(199018, 1000)"
      ]
     },
     "execution_count": 17,
     "metadata": {},
     "output_type": "execute_result"
    }
   ],
   "source": [
    "vec_trained.shape # 199018 x 1000: 398037 筆資料 * 0.5 當 train = 199018.5, 1000 個單詞"
   ]
  },
  {
   "cell_type": "code",
   "execution_count": 18,
   "metadata": {},
   "outputs": [],
   "source": [
    "# Get the vocab of your tfidf\n",
    "vocab = vectorizer.get_feature_names() # features 就是單字"
   ]
  },
  {
   "cell_type": "code",
   "execution_count": 19,
   "metadata": {},
   "outputs": [],
   "source": [
    "# vocab"
   ]
  },
  {
   "cell_type": "code",
   "execution_count": 20,
   "metadata": {},
   "outputs": [
    {
     "name": "stdout",
     "output_type": "stream",
     "text": [
      "<class 'list'>\n",
      "1000\n"
     ]
    }
   ],
   "source": [
    "print(type(vocab))\n",
    "print(len(vocab)) # 1000 個單詞"
   ]
  },
  {
   "cell_type": "code",
   "execution_count": 21,
   "metadata": {},
   "outputs": [],
   "source": [
    "# Use the trained model to transform all the reviews\n",
    "vec_documents = vectorizer.transform(documents) # 把整個 documents 拿來求 tf-idf 的矩陣並存到 vec_documents"
   ]
  },
  {
   "cell_type": "code",
   "execution_count": 22,
   "metadata": {},
   "outputs": [
    {
     "name": "stdout",
     "output_type": "stream",
     "text": [
      "<class 'scipy.sparse.csr.csr_matrix'>\n",
      "[[0. 0. 0. ... 0. 0. 0.]\n",
      " [0. 0. 0. ... 0. 0. 0.]\n",
      " [0. 0. 0. ... 0. 0. 0.]\n",
      " ...\n",
      " [0. 0. 0. ... 0. 0. 0.]\n",
      " [0. 0. 0. ... 0. 0. 0.]\n",
      " [0. 0. 0. ... 0. 0. 0.]]\n",
      "(398037, 1000)\n"
     ]
    }
   ],
   "source": [
    "print(type(vec_documents)) # sparse matrix in csr format\n",
    "vec_doc_arr = vec_documents.toarray() # use ndarray\n",
    "print(vec_doc_arr)\n",
    "print(vec_doc_arr.shape)"
   ]
  },
  {
   "cell_type": "markdown",
   "metadata": {},
   "source": [
    "### Cluster reviews with KMeans\n",
    "\n",
    "#### Fit k-means clustering with the training vectors and apply it on all the data"
   ]
  },
  {
   "cell_type": "code",
   "execution_count": 23,
   "metadata": {},
   "outputs": [],
   "source": [
    "from sklearn.cluster import KMeans"
   ]
  },
  {
   "cell_type": "code",
   "execution_count": 24,
   "metadata": {},
   "outputs": [],
   "source": [
    "kmeans = KMeans().fit(vec_trained)"
   ]
  },
  {
   "cell_type": "code",
   "execution_count": 25,
   "metadata": {},
   "outputs": [
    {
     "name": "stdout",
     "output_type": "stream",
     "text": [
      "199018\n"
     ]
    },
    {
     "data": {
      "text/plain": [
       "array([7, 0, 3, ..., 2, 2, 7], dtype=int32)"
      ]
     },
     "execution_count": 25,
     "metadata": {},
     "output_type": "execute_result"
    }
   ],
   "source": [
    "print(kmeans.labels_.size)\n",
    "kmeans.labels_ # 每一列是屬於哪個 cluster"
   ]
  },
  {
   "cell_type": "code",
   "execution_count": 26,
   "metadata": {},
   "outputs": [
    {
     "data": {
      "text/plain": [
       "array([0, 1, 2, 3, 4, 5, 6, 7], dtype=int32)"
      ]
     },
     "execution_count": 26,
     "metadata": {},
     "output_type": "execute_result"
    }
   ],
   "source": [
    "np.unique(kmeans.labels_) # 有 8 個 clusters"
   ]
  },
  {
   "cell_type": "code",
   "execution_count": 27,
   "metadata": {},
   "outputs": [
    {
     "data": {
      "text/plain": [
       "array([[0.00428003, 0.01990024, 0.00285123, ..., 0.00386236, 0.00072805,\n",
       "        0.00159136],\n",
       "       [0.00260117, 0.00825471, 0.00153353, ..., 0.0012559 , 0.00489136,\n",
       "        0.00830148],\n",
       "       [0.00090411, 0.00382081, 0.00126668, ..., 0.00120306, 0.00228962,\n",
       "        0.00621649],\n",
       "       ...,\n",
       "       [0.0030302 , 0.00767996, 0.00152819, ..., 0.00159134, 0.00203535,\n",
       "        0.00573765],\n",
       "       [0.00074661, 0.00597622, 0.00201548, ..., 0.00100808, 0.00271493,\n",
       "        0.00621402],\n",
       "       [0.00230933, 0.0060532 , 0.00219558, ..., 0.00118722, 0.00356352,\n",
       "        0.00710311]])"
      ]
     },
     "execution_count": 27,
     "metadata": {},
     "output_type": "execute_result"
    }
   ],
   "source": [
    "kmeans.cluster_centers_ # 是 8 x 1000 的維度"
   ]
  },
  {
   "cell_type": "code",
   "execution_count": 28,
   "metadata": {},
   "outputs": [
    {
     "name": "stdout",
     "output_type": "stream",
     "text": [
      "(199018,)\n",
      "(8, 1000)\n"
     ]
    }
   ],
   "source": [
    "print(kmeans.labels_.shape)\n",
    "print(kmeans.cluster_centers_.shape) # there are 8 clusters and 1000 words"
   ]
  },
  {
   "cell_type": "markdown",
   "metadata": {},
   "source": [
    "#### Make predictions on all your data"
   ]
  },
  {
   "cell_type": "code",
   "execution_count": 29,
   "metadata": {},
   "outputs": [],
   "source": [
    "doc_cluster = kmeans.predict(vec_doc_arr) # assign all documents to correct clusters"
   ]
  },
  {
   "cell_type": "markdown",
   "metadata": {},
   "source": [
    "#### Inspect the centroids\n",
    "\n",
    "`kmeans.cluster_centers_` 是每一個 cluster center 的 tf-idf 形成的 ndarray，每一個欄位代表對應的單詞 (feature)"
   ]
  },
  {
   "cell_type": "code",
   "execution_count": 30,
   "metadata": {},
   "outputs": [
    {
     "data": {
      "text/plain": [
       "array([[0.00428003, 0.01990024, 0.00285123, ..., 0.00386236, 0.00072805,\n",
       "        0.00159136],\n",
       "       [0.00260117, 0.00825471, 0.00153353, ..., 0.0012559 , 0.00489136,\n",
       "        0.00830148],\n",
       "       [0.00090411, 0.00382081, 0.00126668, ..., 0.00120306, 0.00228962,\n",
       "        0.00621649],\n",
       "       ...,\n",
       "       [0.0030302 , 0.00767996, 0.00152819, ..., 0.00159134, 0.00203535,\n",
       "        0.00573765],\n",
       "       [0.00074661, 0.00597622, 0.00201548, ..., 0.00100808, 0.00271493,\n",
       "        0.00621402],\n",
       "       [0.00230933, 0.0060532 , 0.00219558, ..., 0.00118722, 0.00356352,\n",
       "        0.00710311]])"
      ]
     },
     "execution_count": 30,
     "metadata": {},
     "output_type": "execute_result"
    }
   ],
   "source": [
    "kmeans.cluster_centers_"
   ]
  },
  {
   "cell_type": "code",
   "execution_count": 31,
   "metadata": {},
   "outputs": [
    {
     "data": {
      "text/plain": [
       "(8, 1000)"
      ]
     },
     "execution_count": 31,
     "metadata": {},
     "output_type": "execute_result"
    }
   ],
   "source": [
    "kmeans.cluster_centers_.shape"
   ]
  },
  {
   "cell_type": "markdown",
   "metadata": {},
   "source": [
    "#### Find the top 10 features for each cluster.\n",
    "\n",
    "要選出 cluster center 中每一列 tf-idf 最大的前十個欄位，在找出該欄位對應的單詞是哪個\n",
    "\n",
    "`np.argsort()` 預設會對列排序，由左到右表示由小到大，但是傳回的是對應於原本的 ndarray 的元素的 index\n",
    "\n",
    "array([3, 1, 2]) 由小到大排序會是 array([1, 2, 3]) 對應原本的 ndarray 的元素的 index 就是 [1, 2, 0]\n",
    "\n",
    "見 https://docs.scipy.org/doc/numpy-1.15.1/reference/generated/numpy.argsort.html\n"
   ]
  },
  {
   "cell_type": "code",
   "execution_count": 32,
   "metadata": {},
   "outputs": [
    {
     "name": "stdout",
     "output_type": "stream",
     "text": [
      "<class 'numpy.ndarray'>\n"
     ]
    }
   ],
   "source": [
    "print(type(kmeans.cluster_centers_))"
   ]
  },
  {
   "cell_type": "code",
   "execution_count": 33,
   "metadata": {},
   "outputs": [
    {
     "name": "stdout",
     "output_type": "stream",
     "text": [
      "[[ 22 921 199 ... 887 597 327]\n",
      " [836  54 366 ... 337 365 150]\n",
      " [243 149 984 ... 774 327 373]\n",
      " ...\n",
      " [541 921  90 ... 365 203 639]\n",
      " [243 853 984 ... 641 327  27]\n",
      " [642 783 538 ... 641 327 365]]\n"
     ]
    }
   ],
   "source": [
    "sorted_index_centroids = np.argsort(kmeans.cluster_centers_)\n",
    "print(sorted_index_centroids) # 每一列的倒數十個數字，是 tf-idf 最大的欄位的 index"
   ]
  },
  {
   "cell_type": "code",
   "execution_count": 34,
   "metadata": {},
   "outputs": [
    {
     "name": "stdout",
     "output_type": "stream",
     "text": [
      "[[367  40 230 124 540 450 774 887 597 327]\n",
      " [478 373 746 641 598 720 327 337 365 150]\n",
      " [222  43  52 824 339 365 641 774 327 373]\n",
      " [321 335 774 365 373  54 726 727 641 857]\n",
      " [598 373 777 327 641 145 365 111 341 110]\n",
      " [598  79 597 794 145 373 641 365 203 639]\n",
      " [223 503 934 222  79 373 774 641 327  27]\n",
      " [450 694 223  79 478 774 934 641 327 365]]\n"
     ]
    }
   ],
   "source": [
    "top_ten = sorted_index_centroids[:, -10:] # 取屁股後面十個\n",
    "print(top_ten) # 由左到右是從第十名到第一名"
   ]
  },
  {
   "cell_type": "code",
   "execution_count": 35,
   "metadata": {},
   "outputs": [
    {
     "name": "stdout",
     "output_type": "stream",
     "text": [
      "[[327 597 887 774 450 540 124 230  40 367]\n",
      " [150 365 337 327 720 598 641 746 373 478]\n",
      " [373 327 774 641 365 339 824  52  43 222]\n",
      " [857 641 727 726  54 373 365 774 335 321]\n",
      " [110 341 111 365 145 641 327 777 373 598]\n",
      " [639 203 365 641 373 145 794 597  79 598]\n",
      " [ 27 327 641 774 373  79 222 934 503 223]\n",
      " [365 327 641 934 774 478  79 223 694 450]]\n"
     ]
    }
   ],
   "source": [
    "top_ten = top_ten[:, ::-1] # 改變排名的順序，從左到右由第一名排到第十名\n",
    "print(top_ten)"
   ]
  },
  {
   "cell_type": "code",
   "execution_count": 36,
   "metadata": {},
   "outputs": [
    {
     "name": "stdout",
     "output_type": "stream",
     "text": [
      "[[327 597 887 774 450 540 124 230  40]\n",
      " [150 365 337 327 720 598 641 746 373]\n",
      " [373 327 774 641 365 339 824  52  43]\n",
      " [857 641 727 726  54 373 365 774 335]\n",
      " [110 341 111 365 145 641 327 777 373]\n",
      " [639 203 365 641 373 145 794 597  79]\n",
      " [ 27 327 641 774 373  79 222 934 503]\n",
      " [365 327 641 934 774 478  79 223 694]]\n"
     ]
    }
   ],
   "source": [
    "print(sorted_index_centroids[:, -1:-10:-1]) # 用一行解決"
   ]
  },
  {
   "cell_type": "code",
   "execution_count": 37,
   "metadata": {},
   "outputs": [
    {
     "name": "stdout",
     "output_type": "stream",
     "text": [
      "0: food, order, time, service, just, minutes, came, didn, asked, got\n",
      "1: chicken, good, fried, food, rice, ordered, place, sauce, great, like\n",
      "2: great, food, service, place, good, friendly, staff, awesome, atmosphere, definitely\n",
      "3: sushi, place, rolls, roll, ayce, great, good, service, fresh, fish\n",
      "4: burger, fries, burgers, good, cheese, place, food, shake, great, ordered\n",
      "5: pizza, crust, good, place, great, cheese, slice, order, best, ordered\n",
      "6: amazing, food, place, service, great, best, definitely, vegas, love, delicious\n",
      "7: good, food, place, vegas, service, like, best, delicious, really, just\n"
     ]
    }
   ],
   "source": [
    "# 然後去 vocab 中找欄位 index 對應的單字\n",
    "# print(vocab[639])\n",
    "for i, row in enumerate(top_ten):\n",
    "#     print(i, row)\n",
    "    print('%d: %s' % (i, ', '.join([vocab[j] for j in row])))"
   ]
  },
  {
   "cell_type": "markdown",
   "metadata": {},
   "source": [
    "#### Try different k\n",
    "\n",
    "Wrap up above steps into a function"
   ]
  },
  {
   "cell_type": "code",
   "execution_count": 38,
   "metadata": {},
   "outputs": [],
   "source": [
    "def top_ten_words(training_data, n):\n",
    "    kmeans = KMeans(n_clusters=n, random_state=0)\n",
    "    kmeans.fit(training_data)\n",
    "    index_array = kmeans.cluster_centers_.argsort()[:, -1:-10:-1]\n",
    "    print('Top 10 features for each cluster:')\n",
    "    for i, row in enumerate(index_array):\n",
    "        print('{}: {}'.format(i, ', '.join([vocab[i] for i in row])))"
   ]
  },
  {
   "cell_type": "code",
   "execution_count": 39,
   "metadata": {},
   "outputs": [
    {
     "name": "stdout",
     "output_type": "stream",
     "text": [
      "Top 10 features for each cluster:\n",
      "0: good, chicken, food, really, ordered, like, place, just, burger\n",
      "1: food, place, best, vegas, amazing, service, love, delicious, good\n",
      "2: sushi, place, rolls, roll, ayce, great, good, service, fresh\n",
      "3: food, order, time, just, service, minutes, came, like, didn\n",
      "4: pizza, crust, good, place, great, cheese, slice, order, best\n",
      "5: great, food, service, place, good, amazing, friendly, staff, atmosphere\n"
     ]
    }
   ],
   "source": [
    "# 6 clusters\n",
    "top_ten_words(vec_trained, 6)"
   ]
  },
  {
   "cell_type": "code",
   "execution_count": 40,
   "metadata": {},
   "outputs": [
    {
     "name": "stdout",
     "output_type": "stream",
     "text": [
      "Top 10 features for each cluster:\n",
      "0: pizza, good, crust, place, great, cheese, slice, order, best\n",
      "1: great, food, service, place, amazing, good, friendly, staff, definitely\n",
      "2: good, place, food, chicken, best, vegas, delicious, like, really\n",
      "3: food, order, time, just, service, minutes, like, came, didn\n"
     ]
    }
   ],
   "source": [
    "# 4 clusters\n",
    "top_ten_words(vec_trained, 4)"
   ]
  },
  {
   "cell_type": "markdown",
   "metadata": {},
   "source": [
    "#### Print out the rating and review of a random sample of the reviews assigned to each cluster to get a sense of the cluster."
   ]
  },
  {
   "cell_type": "code",
   "execution_count": 41,
   "metadata": {},
   "outputs": [
    {
     "name": "stdout",
     "output_type": "stream",
     "text": [
      "(398037,)\n",
      "[7 7 0 ... 7 7 0]\n",
      "[0 1 2 3 4 5 6 7]\n"
     ]
    }
   ],
   "source": [
    "print(doc_cluster.shape)\n",
    "print(doc_cluster) # 每一個列屬於哪一個 cluster\n",
    "print(np.unique(doc_cluster)) # 共有 8 個 cluster，從編號 0 到 7"
   ]
  },
  {
   "cell_type": "code",
   "execution_count": 42,
   "metadata": {},
   "outputs": [
    {
     "name": "stdout",
     "output_type": "stream",
     "text": [
      "(398037, 1000)\n",
      "[     0      1      2 ... 398034 398035 398036]\n",
      "[array([False, False, False, ..., False, False, False])]\n",
      "[    24     76     92 ... 397979 397994 398026]\n"
     ]
    }
   ],
   "source": [
    "print(vec_doc_arr.shape)\n",
    "cluster = np.arange(0, vec_doc_arr.shape[0])\n",
    "print(cluster)\n",
    "print([doc_cluster==1])\n",
    "print(cluster[doc_cluster==1])"
   ]
  },
  {
   "cell_type": "code",
   "execution_count": 43,
   "metadata": {},
   "outputs": [
    {
     "name": "stdout",
     "output_type": "stream",
     "text": [
      "Cluster 0:\n",
      "Stars=1: Employees behind the counter need more training and are not helpful. I would expect more from a place in Aria. Their attitude was apathetic to customers and you could easily tell they all didn't want to be there. Food was mediocre and all three types of salad dressing were terrible. Disappointed.\n",
      "\n",
      "Stars=4: We visited today for the first time, and we're seated within a short wait time. The waiter was friendly and immediately took drink orders. I ordered the chili relleno with shrimp and cream sauce. It was divine! Everyone else ordered tacos and no one was disappointed. The puffy tacos with carnitas got very high praise. Looking forward to a return visit.\n",
      "\n",
      "====================\n",
      "Cluster 1:\n",
      "Stars=5: Two words: BOMB DIGGITY. \n",
      "Me and my girlfriend needed some desperate food after drinking all night and we tried the original fried chicken and waffle and it sure did the job!!! Nothing like the egg running through your fingers and crunching on that crispy chicken wrapped with bacon and cheese... this is a must have!!!!\n",
      "\n",
      "Stars=2: I love the new location of Cafe Zupas! It's the same set up as any other location but they have added whole ancient grain wheat bread to their menu! So if any of you foodies are looking for another option besides white bread they do have a substitution of wheat. They have their try 2 combo for $8.99, my personal dynamic duo is the strawberry harvest with chicken and the pesto chicken sandwich, or the Yucatan tortilla chicken soup and the glaze pork salad! It comes with a complementary bread and strawberry and towards the end of the line they have delicious creme brûlées. You are greeted at the front by their greeter where he/ she explains the entire menu and ordering process, from there you would tell the person at the front of the sale station your salad or sandwich order (if you are also or only getting soup then you would proceed down the line at their soup station!), next another person will ask you what was in your order at the dessert case to put it together on a tray - CAFE STYLE, last you'd pay. That's it! The employees are upbeat and always friendly, this is overall an amazing place to bring your family and friends for lunch and dinner.\n",
      "\n",
      "====================\n",
      "Cluster 2:\n",
      "Stars=5: Great place for really good price and free parking.Always stay there when Imm in Vegas.Love all of their restaurants as well\n",
      "\n",
      "Stars=4: Great menu!   Food was excellent.  Had 2 fish dishes and were served hot, done and tasty.  Good server.  Met the owner.  Nice gentleman.  Only drawback was thought prices a little high.  Will go back\n",
      "\n",
      "====================\n",
      "Cluster 3:\n",
      "Stars=5: Yesterday was my third time visiting Umiya, and I enjoy it every time. The servers are really attentive whether I sit at the table or the bar. \n",
      "\n",
      "I love the Lobster Crunch roll, vegetable tempura, soft shell crab, and so much more!\n",
      "\n",
      "For two people, the bill came out to 68 bucks including tax and tip for all you can eat. \n",
      "\n",
      "Orders come very fast as you order them. Some special items you can order only once. Besides rolls and nigiri there is a selection of hot and cold apps, skewers, entrees, and noodles.\n",
      "\n",
      "Overall I really enjoy this place and would come back if I'm super hungry and craving sushi.\n",
      "\n",
      "Stars=5: Best sushi you can have it is well worth of wait as well as money. I love this sushi house I can't wait to go back again. \n",
      "If you are in Las Vegas you must try their sushi.\n",
      "\n",
      "I recommended to all friends and family.\n",
      "\n",
      "====================\n",
      "Cluster 4:\n",
      "Stars=4: Ok. The place was cool.  But. It's just a $11 dollar burger.  Really. Nothing special. Just a burger. ! \n",
      "Bought Collectables , they are cool but a little pricy \n",
      "They did give my grandson a free backpack and a t shirt and cards.  \n",
      "That was way cool of them.  \n",
      "\n",
      "Ty\n",
      "\n",
      "Stars=3: I give them a 3 Star because of the customer service. I've been here a few times and everytime the customer service is not good, the employees sound like they're miserable. The food is really good though. I've tried their burger and fries and the burger is really good! The wait time is long, I spent 5 minutes at the drive thru window waiting to order. And then more time at the window. If their customer service was better, I'd probably come here more often.\n",
      "\n",
      "====================\n",
      "Cluster 5:\n",
      "Stars=3: Ordered Naked City Pizza via ubereats from Bacon Bar. \n",
      "Looking on Yelp and the different pictures I think we'll try it next time in the actual restaurant. \n",
      "\n",
      "Rebel Pizza: 3/5 \n",
      "I've ordered thus a few times from a different location. First it didn't have the basil like the other places which was a disappointment. The pizza was good but it was pretty sloppy. \n",
      "\n",
      "Bacon garlic knots 4/5 \n",
      "It was crunchy on the outside and cheesy and full of bacon in the inside. The dipping sauce is what made it a 4/5 stars and not a full 5 stars.\n",
      "\n",
      "Stars=5: Pizza was delicious, pepperoni was amazing and different then your average place. Customer service was exceptional friendly.\n",
      "\n",
      "====================\n",
      "Cluster 6:\n",
      "Stars=5: I LOVE Farmer Boys!!! It's one of the few fast food restaurants that actually uses real, fresh ingredients and cooks food to order! The BBQ Ranch chicken salad is amazing, the ranch is made fresh on site, and the zucchini sticks are amazing! Also.... they have a military discount .\n",
      "\n",
      "Stars=5: Wow. I've had this bookmarked for some time now and I'm mad I waited this long to eat there. This place was AMAZING!  Love how Chef Marc comes and interacts with the guests and you can see how much he loves what he does.  We had the portobello app that is heavenly. For entrees we did the pork chop and chicken reggie, again both were amazing! Pair with some good wine and lovely atmosphere and you end up happy guests! Already dreaming about what I have when I go back.\n",
      "\n",
      "====================\n",
      "Cluster 7:\n",
      "Stars=4: Went here because the L&L next door was packed and I'm glad I did! Super fast service, free chips and salsa and the Birria Chimichanga was Awesome! The Horchata was quite tasty as well.\n",
      "\n",
      "Stars=5: Impressive menu with so many options to choose from! I ordered the Triple S and it was pretty good but the soft shell crab just didn't taste right to me. Next time I went I ordered the Caterpillar also pretty good but they put way too much crab, it wasn't balanced. Other than that everything was super tasty and you definitely get your money's worth of food. I'll be back!\n",
      "\n",
      "====================\n"
     ]
    }
   ],
   "source": [
    "for i in range(kmeans.n_clusters):\n",
    "    records = np.arange(0, vec_doc_arr.shape[0]) # 產生全部的列的數目\n",
    "    records = records[doc_cluster == i] # 加入 mask 挑出屬於第 i 個 cluster 的那一列\n",
    "    random_reviews = np.random.choice(records, 2, replace=False) # randomly pick 2 indeces\n",
    "#     print(random_reviews)\n",
    "    print('Cluster {}:'.format(i))\n",
    "    for review in random_reviews:\n",
    "        star = df.iloc[review].loc['stars']\n",
    "        text = df.iloc[review].loc['text']\n",
    "        print('Stars={}: {}\\n'.format(star, text))\n",
    "    print('='* 20)"
   ]
  },
  {
   "cell_type": "markdown",
   "metadata": {},
   "source": [
    "## 2. Cluster all the reviews of the most reviewed restaurant\n",
    "\n",
    "A review is a record in the dataframe. Each record is index by `business_id`. Find the highest number of count of `business_id` to get the most review restaurant"
   ]
  },
  {
   "cell_type": "code",
   "execution_count": 44,
   "metadata": {
    "scrolled": true
   },
   "outputs": [
    {
     "data": {
      "text/plain": [
       "RESDUcs7fIiihp38-d6_6g    2895\n",
       "4JNXUYY8wbaaDmk3BPzlWw    1994\n",
       "faPVqws-x-5k2CQKDNtHxw    1961\n",
       "f4x1YBxkLrZg652xt2KR5g    1960\n",
       "QXV3L_QFGj8r6nWX2kS2hA    1633\n",
       "K7lWdNUhCbcnEvI0NhGewg    1628\n",
       "77h11eWv6HKJAgojLx8G4w    1500\n",
       "RwMLuOkImBIqqYj4SSKSPg    1443\n",
       "IWN2heYitkg-D4UdqfxcMA    1409\n",
       "xfWdUmrz2ha3rcigyITV0g    1396\n",
       "hihud--QRriCYZw1zZvW4g    1344\n",
       "HhVmDybpU7L50Kb5A0jXTg    1267\n",
       "mU3vlAVzTxgmZUu6F4XixA    1239\n",
       "ysv6yhVYOoH9Pf7PlMyD0g    1224\n",
       "mDR12Hafvr84ctpsV6YLag    1204\n",
       "iCQpiavjjPzJ5_3gPD5Ebg    1164\n",
       "vHz2RLtfUMVRPFmd7VBEHA    1138\n",
       "OETh78qcgDltvHULowwhJg    1089\n",
       "3kdSl5mo9dWC4clrQjEDGg    1075\n",
       "YJ8ljUhLsz6CtT_2ORNFmg    1065\n",
       "0d0i0FaJq1GIeW1rS2D-5w    1064\n",
       "El4FC8jcawUVgw_0EIcbaQ    1053\n",
       "QJatAcxYgK1Zp9BRZMAx7g    1046\n",
       "cYwJA2A6I12KNkm2rtXd5g    1039\n",
       "XXW_OFaYQkkGOGniujZFHg    1037\n",
       "igHYkXZMLAc9UdV5VnR_AA    1015\n",
       "q3oJ6bNRV3OoJrwc95GOwg     990\n",
       "3BCsAgo_1i4xMuTyLKMLRQ     951\n",
       "KskYqH1Bi7Z_61pH6Om8pg     940\n",
       "CVKOPzBVOj3_apFUmZ9ZWw     937\n",
       "                          ... \n",
       "z3abN49dQaUftXb60y9LtA       1\n",
       "RO1h2JPbvp0QeqSHDJbeKw       1\n",
       "FK7JHSUMdznZefUW6X319A       1\n",
       "oYPpWHgsjcIt-tUzGXk_eA       1\n",
       "1u7fJVL82JEznv76noobVQ       1\n",
       "2LZGeJy8qByYKB71ML-jcw       1\n",
       "nCjsK9-_xH0bxuEqdAc8TA       1\n",
       "bK_eTLw_uEuEyMzdZlKN6A       1\n",
       "ubz4CaZXagQuGv2N9gFAdw       1\n",
       "rzSpnojxrHra_wFeN5KpMQ       1\n",
       "ZxfjACWhW25vklHpYDMWag       1\n",
       "ei7S4WnSWzu18XwE8PDOtg       1\n",
       "dENns4dukYRZunxCOUzRsw       1\n",
       "LJQCv30PCIpC3FnvHF5mXQ       1\n",
       "n8XlV8E3BUBBF1gCe6mvEg       1\n",
       "R1PQEK6qvrZVC9qcWfKvDA       1\n",
       "zkhBU5qW_zCy0q4OEtIrsA       1\n",
       "ifmVI9Hw03jPcb5Vkt3GHw       1\n",
       "1ZHBhMwi9rdXJ92QPHrWLw       1\n",
       "cGwfdjfg-IVE5DC_d55xwA       1\n",
       "8VCyDz3DHrlo5TFt8T1x6Q       1\n",
       "eJCDUkFa7wl-BHYKZzaTMQ       1\n",
       "_HwyxfsmFIOlW3xhAOcFVA       1\n",
       "ZebnMoRwFEWqQjd6kjxCpA       1\n",
       "7yntwIUh2ZEkWGe9Zth7tw       1\n",
       "RvXOCaZokr_sfoLQpm1JRQ       1\n",
       "GXdnO7m8X4tjVl7MXHgN4g       1\n",
       "b24sTA2JkHB4joNlNkBkfQ       1\n",
       "YeKw_NtI8E0iUfNbrk5nhw       1\n",
       "1V-mRUpVnIRq6GYymT_uyw       1\n",
       "Name: business_id, Length: 4621, dtype: int64"
      ]
     },
     "execution_count": 44,
     "metadata": {},
     "output_type": "execute_result"
    }
   ],
   "source": [
    "df['business_id'].value_counts() # 遞減排列"
   ]
  },
  {
   "cell_type": "code",
   "execution_count": 45,
   "metadata": {},
   "outputs": [
    {
     "data": {
      "text/plain": [
       "'RESDUcs7fIiihp38-d6_6g'"
      ]
     },
     "execution_count": 45,
     "metadata": {},
     "output_type": "execute_result"
    }
   ],
   "source": [
    "df['business_id'].value_counts().index[0]"
   ]
  },
  {
   "cell_type": "code",
   "execution_count": 46,
   "metadata": {},
   "outputs": [
    {
     "name": "stdout",
     "output_type": "stream",
     "text": [
      "RESDUcs7fIiihp38-d6_6g\n"
     ]
    }
   ],
   "source": [
    "most_reviewed_restaurand_id = df['business_id'].value_counts().index[0]\n",
    "print(most_reviewed_restaurand_id) # 確認一下\n",
    "\n",
    "most_reviewed = (df['business_id'] == most_reviewed_restaurand_id)"
   ]
  },
  {
   "cell_type": "code",
   "execution_count": 47,
   "metadata": {},
   "outputs": [],
   "source": [
    "# Find the business who got most reviews, get your filtered df, name it df_top_restaurant\n",
    "df_top_restaurant = df[most_reviewed].copy() # duplicate dataframe so we don't change the original dataframe"
   ]
  },
  {
   "cell_type": "code",
   "execution_count": 48,
   "metadata": {},
   "outputs": [
    {
     "data": {
      "text/html": [
       "<div>\n",
       "<style scoped>\n",
       "    .dataframe tbody tr th:only-of-type {\n",
       "        vertical-align: middle;\n",
       "    }\n",
       "\n",
       "    .dataframe tbody tr th {\n",
       "        vertical-align: top;\n",
       "    }\n",
       "\n",
       "    .dataframe thead th {\n",
       "        text-align: right;\n",
       "    }\n",
       "</style>\n",
       "<table border=\"1\" class=\"dataframe\">\n",
       "  <thead>\n",
       "    <tr style=\"text-align: right;\">\n",
       "      <th></th>\n",
       "      <th>business_id</th>\n",
       "      <th>name</th>\n",
       "      <th>categories</th>\n",
       "      <th>avg_stars</th>\n",
       "      <th>cool</th>\n",
       "      <th>date</th>\n",
       "      <th>funny</th>\n",
       "      <th>review_id</th>\n",
       "      <th>stars</th>\n",
       "      <th>text</th>\n",
       "      <th>useful</th>\n",
       "      <th>user_id</th>\n",
       "    </tr>\n",
       "  </thead>\n",
       "  <tbody>\n",
       "    <tr>\n",
       "      <th>382207</th>\n",
       "      <td>RESDUcs7fIiihp38-d6_6g</td>\n",
       "      <td>Bacchanal Buffet</td>\n",
       "      <td>Sandwiches, Buffets, Breakfast &amp; Brunch, Food,...</td>\n",
       "      <td>4.0</td>\n",
       "      <td>0</td>\n",
       "      <td>2017-09-09</td>\n",
       "      <td>0</td>\n",
       "      <td>mQfl6ci46mu0xaZrkRUhlA</td>\n",
       "      <td>5</td>\n",
       "      <td>This buffet is amazing.  Yes, it is expensive,...</td>\n",
       "      <td>0</td>\n",
       "      <td>f638AHA_GoHbyDB7VFMz7A</td>\n",
       "    </tr>\n",
       "    <tr>\n",
       "      <th>382208</th>\n",
       "      <td>RESDUcs7fIiihp38-d6_6g</td>\n",
       "      <td>Bacchanal Buffet</td>\n",
       "      <td>Sandwiches, Buffets, Breakfast &amp; Brunch, Food,...</td>\n",
       "      <td>4.0</td>\n",
       "      <td>0</td>\n",
       "      <td>2017-02-08</td>\n",
       "      <td>0</td>\n",
       "      <td>lMarDJDg4-e_0YoJOKJoWA</td>\n",
       "      <td>2</td>\n",
       "      <td>This place....lol our server was nice.  But fo...</td>\n",
       "      <td>0</td>\n",
       "      <td>A21zMqdN76ueLZFpmbue0Q</td>\n",
       "    </tr>\n",
       "    <tr>\n",
       "      <th>382209</th>\n",
       "      <td>RESDUcs7fIiihp38-d6_6g</td>\n",
       "      <td>Bacchanal Buffet</td>\n",
       "      <td>Sandwiches, Buffets, Breakfast &amp; Brunch, Food,...</td>\n",
       "      <td>4.0</td>\n",
       "      <td>0</td>\n",
       "      <td>2017-12-22</td>\n",
       "      <td>0</td>\n",
       "      <td>30xmXTzJwHPcqt0uvSLQhQ</td>\n",
       "      <td>3</td>\n",
       "      <td>One star knocked off for the cold air conditio...</td>\n",
       "      <td>0</td>\n",
       "      <td>uNHEnP28MMmVy96ZSJKaMA</td>\n",
       "    </tr>\n",
       "    <tr>\n",
       "      <th>382210</th>\n",
       "      <td>RESDUcs7fIiihp38-d6_6g</td>\n",
       "      <td>Bacchanal Buffet</td>\n",
       "      <td>Sandwiches, Buffets, Breakfast &amp; Brunch, Food,...</td>\n",
       "      <td>4.0</td>\n",
       "      <td>0</td>\n",
       "      <td>2017-09-22</td>\n",
       "      <td>0</td>\n",
       "      <td>SOUuNn4f1fHKxFHntYzonw</td>\n",
       "      <td>3</td>\n",
       "      <td>Was torn between 2 and 3.  Caught the last of ...</td>\n",
       "      <td>0</td>\n",
       "      <td>WvVqnHU_eVBUfL-CI9efdw</td>\n",
       "    </tr>\n",
       "    <tr>\n",
       "      <th>382211</th>\n",
       "      <td>RESDUcs7fIiihp38-d6_6g</td>\n",
       "      <td>Bacchanal Buffet</td>\n",
       "      <td>Sandwiches, Buffets, Breakfast &amp; Brunch, Food,...</td>\n",
       "      <td>4.0</td>\n",
       "      <td>0</td>\n",
       "      <td>2016-12-14</td>\n",
       "      <td>0</td>\n",
       "      <td>1mAf8vTO6TGTrQ3WSfTB3g</td>\n",
       "      <td>4</td>\n",
       "      <td>This place was one of those once in a lifetime...</td>\n",
       "      <td>0</td>\n",
       "      <td>aYLS5lhdCp5HSPOtkMvapw</td>\n",
       "    </tr>\n",
       "  </tbody>\n",
       "</table>\n",
       "</div>"
      ],
      "text/plain": [
       "                   business_id              name  \\\n",
       "382207  RESDUcs7fIiihp38-d6_6g  Bacchanal Buffet   \n",
       "382208  RESDUcs7fIiihp38-d6_6g  Bacchanal Buffet   \n",
       "382209  RESDUcs7fIiihp38-d6_6g  Bacchanal Buffet   \n",
       "382210  RESDUcs7fIiihp38-d6_6g  Bacchanal Buffet   \n",
       "382211  RESDUcs7fIiihp38-d6_6g  Bacchanal Buffet   \n",
       "\n",
       "                                               categories  avg_stars  cool  \\\n",
       "382207  Sandwiches, Buffets, Breakfast & Brunch, Food,...        4.0     0   \n",
       "382208  Sandwiches, Buffets, Breakfast & Brunch, Food,...        4.0     0   \n",
       "382209  Sandwiches, Buffets, Breakfast & Brunch, Food,...        4.0     0   \n",
       "382210  Sandwiches, Buffets, Breakfast & Brunch, Food,...        4.0     0   \n",
       "382211  Sandwiches, Buffets, Breakfast & Brunch, Food,...        4.0     0   \n",
       "\n",
       "              date  funny               review_id  stars  \\\n",
       "382207  2017-09-09      0  mQfl6ci46mu0xaZrkRUhlA      5   \n",
       "382208  2017-02-08      0  lMarDJDg4-e_0YoJOKJoWA      2   \n",
       "382209  2017-12-22      0  30xmXTzJwHPcqt0uvSLQhQ      3   \n",
       "382210  2017-09-22      0  SOUuNn4f1fHKxFHntYzonw      3   \n",
       "382211  2016-12-14      0  1mAf8vTO6TGTrQ3WSfTB3g      4   \n",
       "\n",
       "                                                     text  useful  \\\n",
       "382207  This buffet is amazing.  Yes, it is expensive,...       0   \n",
       "382208  This place....lol our server was nice.  But fo...       0   \n",
       "382209  One star knocked off for the cold air conditio...       0   \n",
       "382210  Was torn between 2 and 3.  Caught the last of ...       0   \n",
       "382211  This place was one of those once in a lifetime...       0   \n",
       "\n",
       "                       user_id  \n",
       "382207  f638AHA_GoHbyDB7VFMz7A  \n",
       "382208  A21zMqdN76ueLZFpmbue0Q  \n",
       "382209  uNHEnP28MMmVy96ZSJKaMA  \n",
       "382210  WvVqnHU_eVBUfL-CI9efdw  \n",
       "382211  aYLS5lhdCp5HSPOtkMvapw  "
      ]
     },
     "execution_count": 48,
     "metadata": {},
     "output_type": "execute_result"
    }
   ],
   "source": [
    "df_top_restaurant.head()"
   ]
  },
  {
   "cell_type": "code",
   "execution_count": 49,
   "metadata": {},
   "outputs": [
    {
     "data": {
      "text/html": [
       "<div>\n",
       "<style scoped>\n",
       "    .dataframe tbody tr th:only-of-type {\n",
       "        vertical-align: middle;\n",
       "    }\n",
       "\n",
       "    .dataframe tbody tr th {\n",
       "        vertical-align: top;\n",
       "    }\n",
       "\n",
       "    .dataframe thead th {\n",
       "        text-align: right;\n",
       "    }\n",
       "</style>\n",
       "<table border=\"1\" class=\"dataframe\">\n",
       "  <thead>\n",
       "    <tr style=\"text-align: right;\">\n",
       "      <th></th>\n",
       "      <th>index</th>\n",
       "      <th>business_id</th>\n",
       "      <th>name</th>\n",
       "      <th>categories</th>\n",
       "      <th>avg_stars</th>\n",
       "      <th>cool</th>\n",
       "      <th>date</th>\n",
       "      <th>funny</th>\n",
       "      <th>review_id</th>\n",
       "      <th>stars</th>\n",
       "      <th>text</th>\n",
       "      <th>useful</th>\n",
       "      <th>user_id</th>\n",
       "    </tr>\n",
       "  </thead>\n",
       "  <tbody>\n",
       "    <tr>\n",
       "      <th>0</th>\n",
       "      <td>382207</td>\n",
       "      <td>RESDUcs7fIiihp38-d6_6g</td>\n",
       "      <td>Bacchanal Buffet</td>\n",
       "      <td>Sandwiches, Buffets, Breakfast &amp; Brunch, Food,...</td>\n",
       "      <td>4.0</td>\n",
       "      <td>0</td>\n",
       "      <td>2017-09-09</td>\n",
       "      <td>0</td>\n",
       "      <td>mQfl6ci46mu0xaZrkRUhlA</td>\n",
       "      <td>5</td>\n",
       "      <td>This buffet is amazing.  Yes, it is expensive,...</td>\n",
       "      <td>0</td>\n",
       "      <td>f638AHA_GoHbyDB7VFMz7A</td>\n",
       "    </tr>\n",
       "    <tr>\n",
       "      <th>1</th>\n",
       "      <td>382208</td>\n",
       "      <td>RESDUcs7fIiihp38-d6_6g</td>\n",
       "      <td>Bacchanal Buffet</td>\n",
       "      <td>Sandwiches, Buffets, Breakfast &amp; Brunch, Food,...</td>\n",
       "      <td>4.0</td>\n",
       "      <td>0</td>\n",
       "      <td>2017-02-08</td>\n",
       "      <td>0</td>\n",
       "      <td>lMarDJDg4-e_0YoJOKJoWA</td>\n",
       "      <td>2</td>\n",
       "      <td>This place....lol our server was nice.  But fo...</td>\n",
       "      <td>0</td>\n",
       "      <td>A21zMqdN76ueLZFpmbue0Q</td>\n",
       "    </tr>\n",
       "    <tr>\n",
       "      <th>2</th>\n",
       "      <td>382209</td>\n",
       "      <td>RESDUcs7fIiihp38-d6_6g</td>\n",
       "      <td>Bacchanal Buffet</td>\n",
       "      <td>Sandwiches, Buffets, Breakfast &amp; Brunch, Food,...</td>\n",
       "      <td>4.0</td>\n",
       "      <td>0</td>\n",
       "      <td>2017-12-22</td>\n",
       "      <td>0</td>\n",
       "      <td>30xmXTzJwHPcqt0uvSLQhQ</td>\n",
       "      <td>3</td>\n",
       "      <td>One star knocked off for the cold air conditio...</td>\n",
       "      <td>0</td>\n",
       "      <td>uNHEnP28MMmVy96ZSJKaMA</td>\n",
       "    </tr>\n",
       "    <tr>\n",
       "      <th>3</th>\n",
       "      <td>382210</td>\n",
       "      <td>RESDUcs7fIiihp38-d6_6g</td>\n",
       "      <td>Bacchanal Buffet</td>\n",
       "      <td>Sandwiches, Buffets, Breakfast &amp; Brunch, Food,...</td>\n",
       "      <td>4.0</td>\n",
       "      <td>0</td>\n",
       "      <td>2017-09-22</td>\n",
       "      <td>0</td>\n",
       "      <td>SOUuNn4f1fHKxFHntYzonw</td>\n",
       "      <td>3</td>\n",
       "      <td>Was torn between 2 and 3.  Caught the last of ...</td>\n",
       "      <td>0</td>\n",
       "      <td>WvVqnHU_eVBUfL-CI9efdw</td>\n",
       "    </tr>\n",
       "    <tr>\n",
       "      <th>4</th>\n",
       "      <td>382211</td>\n",
       "      <td>RESDUcs7fIiihp38-d6_6g</td>\n",
       "      <td>Bacchanal Buffet</td>\n",
       "      <td>Sandwiches, Buffets, Breakfast &amp; Brunch, Food,...</td>\n",
       "      <td>4.0</td>\n",
       "      <td>0</td>\n",
       "      <td>2016-12-14</td>\n",
       "      <td>0</td>\n",
       "      <td>1mAf8vTO6TGTrQ3WSfTB3g</td>\n",
       "      <td>4</td>\n",
       "      <td>This place was one of those once in a lifetime...</td>\n",
       "      <td>0</td>\n",
       "      <td>aYLS5lhdCp5HSPOtkMvapw</td>\n",
       "    </tr>\n",
       "  </tbody>\n",
       "</table>\n",
       "</div>"
      ],
      "text/plain": [
       "    index             business_id              name  \\\n",
       "0  382207  RESDUcs7fIiihp38-d6_6g  Bacchanal Buffet   \n",
       "1  382208  RESDUcs7fIiihp38-d6_6g  Bacchanal Buffet   \n",
       "2  382209  RESDUcs7fIiihp38-d6_6g  Bacchanal Buffet   \n",
       "3  382210  RESDUcs7fIiihp38-d6_6g  Bacchanal Buffet   \n",
       "4  382211  RESDUcs7fIiihp38-d6_6g  Bacchanal Buffet   \n",
       "\n",
       "                                          categories  avg_stars  cool  \\\n",
       "0  Sandwiches, Buffets, Breakfast & Brunch, Food,...        4.0     0   \n",
       "1  Sandwiches, Buffets, Breakfast & Brunch, Food,...        4.0     0   \n",
       "2  Sandwiches, Buffets, Breakfast & Brunch, Food,...        4.0     0   \n",
       "3  Sandwiches, Buffets, Breakfast & Brunch, Food,...        4.0     0   \n",
       "4  Sandwiches, Buffets, Breakfast & Brunch, Food,...        4.0     0   \n",
       "\n",
       "         date  funny               review_id  stars  \\\n",
       "0  2017-09-09      0  mQfl6ci46mu0xaZrkRUhlA      5   \n",
       "1  2017-02-08      0  lMarDJDg4-e_0YoJOKJoWA      2   \n",
       "2  2017-12-22      0  30xmXTzJwHPcqt0uvSLQhQ      3   \n",
       "3  2017-09-22      0  SOUuNn4f1fHKxFHntYzonw      3   \n",
       "4  2016-12-14      0  1mAf8vTO6TGTrQ3WSfTB3g      4   \n",
       "\n",
       "                                                text  useful  \\\n",
       "0  This buffet is amazing.  Yes, it is expensive,...       0   \n",
       "1  This place....lol our server was nice.  But fo...       0   \n",
       "2  One star knocked off for the cold air conditio...       0   \n",
       "3  Was torn between 2 and 3.  Caught the last of ...       0   \n",
       "4  This place was one of those once in a lifetime...       0   \n",
       "\n",
       "                  user_id  \n",
       "0  f638AHA_GoHbyDB7VFMz7A  \n",
       "1  A21zMqdN76ueLZFpmbue0Q  \n",
       "2  uNHEnP28MMmVy96ZSJKaMA  \n",
       "3  WvVqnHU_eVBUfL-CI9efdw  \n",
       "4  aYLS5lhdCp5HSPOtkMvapw  "
      ]
     },
     "execution_count": 49,
     "metadata": {},
     "output_type": "execute_result"
    }
   ],
   "source": [
    "df_top_restaurant = df_top_restaurant.reset_index() # keep original index\n",
    "df_top_restaurant.head()"
   ]
  },
  {
   "cell_type": "code",
   "execution_count": 50,
   "metadata": {},
   "outputs": [],
   "source": [
    "# Load business dataset (optional)\n",
    "import json\n",
    "\n",
    "# Loading a single file works, wrap in function\n",
    "def read_json_file(input_file):\n",
    "    with open(input_file) as fin:\n",
    "        df = pd.DataFrame(json.loads(line) for line in fin)\n",
    "    return df"
   ]
  },
  {
   "cell_type": "code",
   "execution_count": 51,
   "metadata": {},
   "outputs": [],
   "source": [
    "df_business = read_json_file('yelp_academic_dataset_business.json')\n",
    "# df_review = read_json_file('yelp_academic_dataset_business.json')"
   ]
  },
  {
   "cell_type": "code",
   "execution_count": 52,
   "metadata": {},
   "outputs": [
    {
     "data": {
      "text/html": [
       "<div>\n",
       "<style scoped>\n",
       "    .dataframe tbody tr th:only-of-type {\n",
       "        vertical-align: middle;\n",
       "    }\n",
       "\n",
       "    .dataframe tbody tr th {\n",
       "        vertical-align: top;\n",
       "    }\n",
       "\n",
       "    .dataframe thead th {\n",
       "        text-align: right;\n",
       "    }\n",
       "</style>\n",
       "<table border=\"1\" class=\"dataframe\">\n",
       "  <thead>\n",
       "    <tr style=\"text-align: right;\">\n",
       "      <th></th>\n",
       "      <th>address</th>\n",
       "      <th>attributes</th>\n",
       "      <th>business_id</th>\n",
       "      <th>categories</th>\n",
       "      <th>city</th>\n",
       "      <th>hours</th>\n",
       "      <th>is_open</th>\n",
       "      <th>latitude</th>\n",
       "      <th>longitude</th>\n",
       "      <th>name</th>\n",
       "      <th>neighborhood</th>\n",
       "      <th>postal_code</th>\n",
       "      <th>review_count</th>\n",
       "      <th>stars</th>\n",
       "      <th>state</th>\n",
       "    </tr>\n",
       "  </thead>\n",
       "  <tbody>\n",
       "    <tr>\n",
       "      <th>185167</th>\n",
       "      <td>3570 S Las Vegas Blvd</td>\n",
       "      <td>{'Alcohol': 'full_bar', 'Ambience': '{'romanti...</td>\n",
       "      <td>RESDUcs7fIiihp38-d6_6g</td>\n",
       "      <td>Sandwiches, Buffets, Breakfast &amp; Brunch, Food,...</td>\n",
       "      <td>Las Vegas</td>\n",
       "      <td>{'Monday': '7:30-22:0', 'Tuesday': '7:30-22:0'...</td>\n",
       "      <td>1</td>\n",
       "      <td>36.116113</td>\n",
       "      <td>-115.176222</td>\n",
       "      <td>Bacchanal Buffet</td>\n",
       "      <td>The Strip</td>\n",
       "      <td>89109</td>\n",
       "      <td>7866</td>\n",
       "      <td>4.0</td>\n",
       "      <td>NV</td>\n",
       "    </tr>\n",
       "  </tbody>\n",
       "</table>\n",
       "</div>"
      ],
      "text/plain": [
       "                      address  \\\n",
       "185167  3570 S Las Vegas Blvd   \n",
       "\n",
       "                                               attributes  \\\n",
       "185167  {'Alcohol': 'full_bar', 'Ambience': '{'romanti...   \n",
       "\n",
       "                   business_id  \\\n",
       "185167  RESDUcs7fIiihp38-d6_6g   \n",
       "\n",
       "                                               categories       city  \\\n",
       "185167  Sandwiches, Buffets, Breakfast & Brunch, Food,...  Las Vegas   \n",
       "\n",
       "                                                    hours  is_open   latitude  \\\n",
       "185167  {'Monday': '7:30-22:0', 'Tuesday': '7:30-22:0'...        1  36.116113   \n",
       "\n",
       "         longitude              name neighborhood postal_code  review_count  \\\n",
       "185167 -115.176222  Bacchanal Buffet    The Strip       89109          7866   \n",
       "\n",
       "        stars state  \n",
       "185167    4.0    NV  "
      ]
     },
     "execution_count": 52,
     "metadata": {},
     "output_type": "execute_result"
    }
   ],
   "source": [
    "# Take a look at the most reviewed restaurant's profile (optional)\n",
    "df_business[df_business['business_id'] ==  most_reviewed_restaurand_id]"
   ]
  },
  {
   "cell_type": "code",
   "execution_count": 53,
   "metadata": {},
   "outputs": [],
   "source": [
    "address = df_business[df_business['business_id'] ==  most_reviewed_restaurand_id]['address']\n",
    "attributes = df_business[df_business['business_id'] ==  most_reviewed_restaurand_id]['attributes']\n",
    "category = df_business[df_business['business_id'] ==  most_reviewed_restaurand_id]['categories']\n",
    "hours = df_business[df_business['business_id'] ==  most_reviewed_restaurand_id]['hours']"
   ]
  },
  {
   "cell_type": "code",
   "execution_count": 54,
   "metadata": {},
   "outputs": [
    {
     "name": "stdout",
     "output_type": "stream",
     "text": [
      "['3570 S Las Vegas Blvd']\n",
      "[{'Alcohol': 'full_bar', 'Ambience': \"{'romantic': False, 'intimate': False, 'classy': False, 'hipster': False, 'divey': False, 'touristy': False, 'trendy': False, 'upscale': False, 'casual': True}\", 'BikeParking': 'False', 'BusinessAcceptsCreditCards': 'True', 'BusinessParking': \"{'garage': True, 'street': False, 'validated': False, 'lot': False, 'valet': True}\", 'Caters': 'False', 'GoodForKids': 'True', 'GoodForMeal': \"{'dessert': True, 'latenight': False, 'lunch': True, 'dinner': True, 'breakfast': False, 'brunch': True}\", 'HasTV': 'False', 'NoiseLevel': 'average', 'OutdoorSeating': 'False', 'RestaurantsAttire': 'casual', 'RestaurantsDelivery': 'False', 'RestaurantsGoodForGroups': 'True', 'RestaurantsPriceRange2': '3', 'RestaurantsReservations': 'False', 'RestaurantsTableService': 'True', 'RestaurantsTakeOut': 'False', 'WheelchairAccessible': 'True', 'WiFi': 'no'}]\n",
      "['Sandwiches, Buffets, Breakfast & Brunch, Food, Restaurants']\n",
      "[{'Monday': '7:30-22:0', 'Tuesday': '7:30-22:0', 'Wednesday': '7:30-22:0', 'Thursday': '7:30-22:0', 'Friday': '7:30-22:0', 'Saturday': '8:0-22:0', 'Sunday': '8:0-22:0'}]\n"
     ]
    }
   ],
   "source": [
    "print(address.values)\n",
    "print(attributes.values)\n",
    "print(category.values)\n",
    "print(hours.values)"
   ]
  },
  {
   "cell_type": "markdown",
   "metadata": {},
   "source": [
    "### Vectorize the text feature"
   ]
  },
  {
   "cell_type": "code",
   "execution_count": 55,
   "metadata": {},
   "outputs": [],
   "source": [
    "# Take the values of the column that contains review text data, save to a variable named \"documents_top_restaurant\"\n",
    "documents_top_restaurant = df_top_restaurant['text']"
   ]
  },
  {
   "cell_type": "code",
   "execution_count": 56,
   "metadata": {},
   "outputs": [
    {
     "data": {
      "text/plain": [
       "(2895,)"
      ]
     },
     "execution_count": 56,
     "metadata": {},
     "output_type": "execute_result"
    }
   ],
   "source": [
    "documents_top_restaurant.shape"
   ]
  },
  {
   "cell_type": "code",
   "execution_count": 57,
   "metadata": {},
   "outputs": [
    {
     "data": {
      "text/plain": [
       "array([\"This buffet is amazing.  Yes, it is expensive, but it is worth the splurge.  I recommend that you look at everything first and then decide what to get, because you can't possibly try everything.  I missed an entire corner of great food that I didn't see at first, and then I was too full to eat more. I like how everything is on little plates, bowls, or baskets, so everything doesn't get mixed together.  Lines are long, but you can check in and then they text when your time is almost up.  The wait time was less than they had said it would be, so don't go far away to wait.\",\n",
       "       'This place....lol our server was nice.  But for 50 something dollars for dinner was not worth it....Sorry but if I could choose another place to spend that much I know I would have been much happier. Not to mention they took a photo of us when we came in then brought us like 3-4 printouts of them, I mean nice ones...then they told us it was 15 dollars for one of the pictures...we honestly thought out of all the money we spent we\\'d at least get the pics for \"free.\"  So they went through all the trouble to print them and then are going to throw them away because we didn\\'t want to pay for them? Why not just give us the photos...Food was cold, poor quality of meats, etc..Also not near as big as this looks! Just bummed we spent so much. \\nSorry can\\'t recommend this at all.',\n",
       "       'One star knocked off for the cold air conditioning and 1 star knocked off for the loud music and the food was good so it will be only 3 stars.'],\n",
       "      dtype=object)"
      ]
     },
     "execution_count": 57,
     "metadata": {},
     "output_type": "execute_result"
    }
   ],
   "source": [
    "documents_top_restaurant[:3].values # show first 3 reviews"
   ]
  },
  {
   "cell_type": "markdown",
   "metadata": {},
   "source": [
    "### Define your target variable (for later classification use)\n",
    "\n",
    "#### Again, we look at perfect (5 stars) and imperfect (1-4 stars) rating"
   ]
  },
  {
   "cell_type": "code",
   "execution_count": 58,
   "metadata": {},
   "outputs": [
    {
     "data": {
      "text/plain": [
       "0     True\n",
       "1    False\n",
       "2    False\n",
       "3    False\n",
       "4    False\n",
       "5    False\n",
       "6    False\n",
       "7     True\n",
       "8    False\n",
       "9    False\n",
       "Name: perfect, dtype: bool"
      ]
     },
     "execution_count": 58,
     "metadata": {},
     "output_type": "execute_result"
    }
   ],
   "source": [
    "df_top_restaurant['perfect'] = (df_top_restaurant['stars'] > 4)\n",
    "df_top_restaurant['perfect'].head(10) # show first 10 rows"
   ]
  },
  {
   "cell_type": "code",
   "execution_count": 59,
   "metadata": {},
   "outputs": [
    {
     "data": {
      "text/plain": [
       "(2895, 14)"
      ]
     },
     "execution_count": 59,
     "metadata": {},
     "output_type": "execute_result"
    }
   ],
   "source": [
    "df_top_restaurant.shape"
   ]
  },
  {
   "cell_type": "code",
   "execution_count": 60,
   "metadata": {},
   "outputs": [
    {
     "data": {
      "text/plain": [
       "array([1, 0, 0, ..., 0, 0, 1])"
      ]
     },
     "execution_count": 60,
     "metadata": {},
     "output_type": "execute_result"
    }
   ],
   "source": [
    "target_top_restaurant = df_top_restaurant['perfect'].values.astype(int)\n",
    "target_top_restaurant"
   ]
  },
  {
   "cell_type": "code",
   "execution_count": 61,
   "metadata": {},
   "outputs": [
    {
     "data": {
      "text/plain": [
       "(2895,)"
      ]
     },
     "execution_count": 61,
     "metadata": {},
     "output_type": "execute_result"
    }
   ],
   "source": [
    "target_top_restaurant.shape"
   ]
  },
  {
   "cell_type": "markdown",
   "metadata": {},
   "source": [
    "#### Check the statistic of the target variable"
   ]
  },
  {
   "cell_type": "code",
   "execution_count": 62,
   "metadata": {},
   "outputs": [
    {
     "data": {
      "text/plain": [
       "0.3727115716753022"
      ]
     },
     "execution_count": 62,
     "metadata": {},
     "output_type": "execute_result"
    }
   ],
   "source": [
    "target_top_restaurant.mean()"
   ]
  },
  {
   "cell_type": "markdown",
   "metadata": {},
   "source": [
    "### Create training dataset and test dataset"
   ]
  },
  {
   "cell_type": "code",
   "execution_count": 63,
   "metadata": {},
   "outputs": [],
   "source": [
    "X = documents_top_restaurant.values\n",
    "y = target_top_restaurant # 已經是 ndarray 了\n",
    "X_train, X_test, y_train, y_test = train_test_split(X, y, test_size=0.3, random_state=42)"
   ]
  },
  {
   "cell_type": "code",
   "execution_count": 64,
   "metadata": {},
   "outputs": [
    {
     "name": "stdout",
     "output_type": "stream",
     "text": [
      "(2895,)\n",
      "2026.4999999999998\n",
      "868.5\n",
      "(2026,) (869,) (2026,) (869,)\n"
     ]
    }
   ],
   "source": [
    "print(documents_top_restaurant.shape)\n",
    "print(documents_top_restaurant.shape[0] * 0.7)\n",
    "print(documents_top_restaurant.shape[0] * 0.3)\n",
    "print(X_train.shape, X_test.shape, y_train.shape, y_test.shape)"
   ]
  },
  {
   "cell_type": "markdown",
   "metadata": {},
   "source": [
    "### Get NLP representation of the documents"
   ]
  },
  {
   "cell_type": "code",
   "execution_count": 65,
   "metadata": {},
   "outputs": [],
   "source": [
    "# Create TfidfVectorizer, and name it vectorizer\n",
    "vectorizer = TfidfVectorizer(stop_words='english', max_features=1000)"
   ]
  },
  {
   "cell_type": "code",
   "execution_count": 66,
   "metadata": {},
   "outputs": [],
   "source": [
    "# Train the model with your training data\n",
    "vec_train = vectorizer.fit_transform(X_train)"
   ]
  },
  {
   "cell_type": "code",
   "execution_count": 67,
   "metadata": {},
   "outputs": [],
   "source": [
    "# Get the vocab of your tfidf\n",
    "words = vectorizer.get_feature_names()"
   ]
  },
  {
   "cell_type": "code",
   "execution_count": 68,
   "metadata": {},
   "outputs": [],
   "source": [
    "# Use the trained model to transform the test data\n",
    "vec_test = vectorizer.transform(X_test)"
   ]
  },
  {
   "cell_type": "code",
   "execution_count": 69,
   "metadata": {},
   "outputs": [],
   "source": [
    "# Use the trained model to transform all the data\n",
    "vec_documents = vectorizer.transform(X)"
   ]
  },
  {
   "cell_type": "code",
   "execution_count": 70,
   "metadata": {},
   "outputs": [
    {
     "name": "stdout",
     "output_type": "stream",
     "text": [
      "(2026, 1000) (869, 1000) (2895, 1000)\n",
      "1000\n"
     ]
    }
   ],
   "source": [
    "print(vec_train.shape, vec_test.shape, vec_documents.shape)\n",
    "print(len(words))"
   ]
  },
  {
   "cell_type": "markdown",
   "metadata": {},
   "source": [
    "### Cluster reviews with KMeans\n",
    "\n",
    "#### Fit k-means clustering on the training vectors and make predictions on all data"
   ]
  },
  {
   "cell_type": "code",
   "execution_count": 71,
   "metadata": {},
   "outputs": [
    {
     "data": {
      "text/plain": [
       "KMeans(algorithm='auto', copy_x=True, init='k-means++', max_iter=300,\n",
       "    n_clusters=5, n_init=10, n_jobs=None, precompute_distances='auto',\n",
       "    random_state=None, tol=0.0001, verbose=0)"
      ]
     },
     "execution_count": 71,
     "metadata": {},
     "output_type": "execute_result"
    }
   ],
   "source": [
    "kmeans = KMeans(n_clusters=5) # use 5 clusters because there 5 categories of stars\n",
    "kmeans.fit(vec_train)"
   ]
  },
  {
   "cell_type": "markdown",
   "metadata": {},
   "source": [
    "#### Make predictions on all your data"
   ]
  },
  {
   "cell_type": "code",
   "execution_count": 72,
   "metadata": {},
   "outputs": [],
   "source": [
    "all_doc_clusters = kmeans.predict(vec_documents)"
   ]
  },
  {
   "cell_type": "code",
   "execution_count": 73,
   "metadata": {},
   "outputs": [
    {
     "name": "stdout",
     "output_type": "stream",
     "text": [
      "(2895,)\n"
     ]
    },
    {
     "data": {
      "text/plain": [
       "array([3, 0, 0, ..., 4, 0, 2], dtype=int32)"
      ]
     },
     "execution_count": 73,
     "metadata": {},
     "output_type": "execute_result"
    }
   ],
   "source": [
    "print(all_doc_clusters.shape)\n",
    "all_doc_clusters"
   ]
  },
  {
   "cell_type": "code",
   "execution_count": 74,
   "metadata": {},
   "outputs": [
    {
     "data": {
      "text/plain": [
       "array([3, 0, 0, 0, 4, 3, 1, 4, 3, 3], dtype=int32)"
      ]
     },
     "execution_count": 74,
     "metadata": {},
     "output_type": "execute_result"
    }
   ],
   "source": [
    "all_doc_clusters[:10] # show the cluster of the first 10 rows"
   ]
  },
  {
   "cell_type": "code",
   "execution_count": 75,
   "metadata": {},
   "outputs": [
    {
     "data": {
      "text/plain": [
       "0    5\n",
       "1    2\n",
       "2    3\n",
       "3    3\n",
       "4    4\n",
       "5    1\n",
       "6    1\n",
       "7    5\n",
       "8    1\n",
       "9    4\n",
       "Name: stars, dtype: int64"
      ]
     },
     "execution_count": 75,
     "metadata": {},
     "output_type": "execute_result"
    }
   ],
   "source": [
    "df_top_restaurant.iloc[:10]['stars'] # 把星級評等和 clusters 的結果比較一下"
   ]
  },
  {
   "cell_type": "markdown",
   "metadata": {},
   "source": [
    "#### Inspect the centroids"
   ]
  },
  {
   "cell_type": "code",
   "execution_count": 76,
   "metadata": {},
   "outputs": [
    {
     "name": "stdout",
     "output_type": "stream",
     "text": [
      "(5, 1000)\n"
     ]
    },
    {
     "data": {
      "text/plain": [
       "array([[0.00402107, 0.0067377 , 0.00243767, ..., 0.0054031 , 0.00124449,\n",
       "        0.00255439],\n",
       "       [0.00131056, 0.00727753, 0.00049908, ..., 0.0078129 , 0.        ,\n",
       "        0.00099472],\n",
       "       [0.00101777, 0.00577627, 0.004025  , ..., 0.00723879, 0.00168687,\n",
       "        0.00272017],\n",
       "       [0.0044884 , 0.01636911, 0.00403772, ..., 0.00785816, 0.00092318,\n",
       "        0.00619948],\n",
       "       [0.00386003, 0.010437  , 0.00241871, ..., 0.00862592, 0.00285825,\n",
       "        0.00387736]])"
      ]
     },
     "execution_count": 76,
     "metadata": {},
     "output_type": "execute_result"
    }
   ],
   "source": [
    "print(kmeans.cluster_centers_.shape)\n",
    "kmeans.cluster_centers_"
   ]
  },
  {
   "cell_type": "markdown",
   "metadata": {},
   "source": [
    "#### Find the top 10 features for each cluster."
   ]
  },
  {
   "cell_type": "code",
   "execution_count": 81,
   "metadata": {},
   "outputs": [
    {
     "data": {
      "text/plain": [
       "array([[666, 113, 612, ..., 109, 361, 325],\n",
       "       [499, 177, 612, ..., 767, 325, 367],\n",
       "       [498, 689, 831, ..., 939,  83, 109],\n",
       "       [738, 666, 659, ..., 888, 949, 471],\n",
       "       [372, 506, 740, ..., 109, 463, 195]])"
      ]
     },
     "execution_count": 81,
     "metadata": {},
     "output_type": "execute_result"
    }
   ],
   "source": [
    "sorted_index_centroids = np.argsort(kmeans.cluster_centers_)\n",
    "sorted_index_centroids"
   ]
  },
  {
   "cell_type": "markdown",
   "metadata": {},
   "source": [
    "#### Print out the rating and review of a random sample of the reviews assigned to each cluster to get a sense of the cluster."
   ]
  },
  {
   "cell_type": "code",
   "execution_count": null,
   "metadata": {},
   "outputs": [],
   "source": []
  },
  {
   "cell_type": "markdown",
   "metadata": {},
   "source": [
    "## 3. Use PCA to reduce dimensionality\n",
    "\n",
    "### Stardardize features\n",
    "Your X_train and X_test"
   ]
  },
  {
   "cell_type": "code",
   "execution_count": null,
   "metadata": {},
   "outputs": [],
   "source": [
    "from sklearn.prepocessing import StandardScaler"
   ]
  },
  {
   "cell_type": "markdown",
   "metadata": {},
   "source": [
    "### Use PCA to transform data (train and test) and get princial components"
   ]
  },
  {
   "cell_type": "code",
   "execution_count": null,
   "metadata": {},
   "outputs": [],
   "source": [
    "from sklearn."
   ]
  },
  {
   "cell_type": "markdown",
   "metadata": {},
   "source": [
    "### See how much (and how much percentage of) variance the principal components explain"
   ]
  },
  {
   "cell_type": "code",
   "execution_count": null,
   "metadata": {},
   "outputs": [],
   "source": []
  },
  {
   "cell_type": "markdown",
   "metadata": {},
   "source": [
    "### Viz: plot proportion of variance explained with top principal components\n",
    "\n",
    "For clear display, you may start with plotting <=20 principal components"
   ]
  },
  {
   "cell_type": "code",
   "execution_count": null,
   "metadata": {},
   "outputs": [],
   "source": []
  },
  {
   "cell_type": "markdown",
   "metadata": {},
   "source": [
    "## Classifying positive/negative review with PCA preprocessing\n",
    "\n",
    "### Logistic Regression Classifier\n",
    "#### Use standardized tf-idf vectors as features"
   ]
  },
  {
   "cell_type": "code",
   "execution_count": null,
   "metadata": {},
   "outputs": [],
   "source": []
  },
  {
   "cell_type": "code",
   "execution_count": null,
   "metadata": {},
   "outputs": [],
   "source": []
  }
 ],
 "metadata": {
  "kernelspec": {
   "display_name": "Python 3",
   "language": "python",
   "name": "python3"
  },
  "language_info": {
   "codemirror_mode": {
    "name": "ipython",
    "version": 3
   },
   "file_extension": ".py",
   "mimetype": "text/x-python",
   "name": "python",
   "nbconvert_exporter": "python",
   "pygments_lexer": "ipython3",
   "version": "3.6.6"
  }
 },
 "nbformat": 4,
 "nbformat_minor": 2
}
