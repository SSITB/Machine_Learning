{
 "cells": [
  {
   "cell_type": "markdown",
   "metadata": {},
   "source": [
    "# Yu-Ting Shen\n",
    "# RiskGenius Challenge Project"
   ]
  },
  {
   "cell_type": "code",
   "execution_count": 1,
   "metadata": {},
   "outputs": [],
   "source": [
    "import scrapy\n",
    "from scrapy.crawler import CrawlerProcess\n",
    "\n",
    "class IRMI_Spider(scrapy.Spider):\n",
    "    name = 'irmi'\n",
    "    start_urls = ['https://www.irmi.com/glossary']\n",
    "    \n",
    "    def parse(self, response):\n",
    "        links = response.css('li a.button::attr(href)').extract()\n",
    "        print(links)\n",
    "        #         pass\n",
    "#         sel = Selector(response)\n",
    "#         for href in sel.xpath(\"//div[@class='alert alert-primary']/a/@href\").extract():\n",
    "#             print(href)\n",
    "#         links = []\n",
    "#         link = response.css(\"a::attr(href)\")\n",
    "#         print(link)\n",
    "#         for li in response.css('ul.alpha-filter > li'):\n",
    "#             yield {\n",
    "#                 'li': li.extract()\n",
    "#             }\n",
    "#             response.css('a::attr(href)').extract()\n"
   ]
  },
  {
   "cell_type": "code",
   "execution_count": 2,
   "metadata": {},
   "outputs": [
    {
     "name": "stderr",
     "output_type": "stream",
     "text": [
      "2019-04-05 18:10:09 [scrapy.utils.log] INFO: Scrapy 1.5.2 started (bot: scrapybot)\n",
      "2019-04-05 18:10:09 [scrapy.utils.log] INFO: Versions: lxml 4.3.3.0, libxml2 2.9.8, cssselect 1.0.3, parsel 1.5.1, w3lib 1.20.0, Twisted 18.9.0, Python 3.6.8 |Anaconda, Inc.| (default, Dec 29 2018, 19:04:46) - [GCC 4.2.1 Compatible Clang 4.0.1 (tags/RELEASE_401/final)], pyOpenSSL 19.0.0 (OpenSSL 1.1.1b  26 Feb 2019), cryptography 2.6.1, Platform Darwin-18.2.0-x86_64-i386-64bit\n",
      "2019-04-05 18:10:09 [scrapy.crawler] INFO: Overridden settings: {}\n",
      "2019-04-05 18:10:09 [scrapy.extensions.telnet] INFO: Telnet Password: 7f2b0a2b11a416f5\n",
      "2019-04-05 18:10:09 [scrapy.middleware] INFO: Enabled extensions:\n",
      "['scrapy.extensions.corestats.CoreStats',\n",
      " 'scrapy.extensions.telnet.TelnetConsole',\n",
      " 'scrapy.extensions.memusage.MemoryUsage',\n",
      " 'scrapy.extensions.logstats.LogStats']\n",
      "2019-04-05 18:10:09 [scrapy.middleware] INFO: Enabled downloader middlewares:\n",
      "['scrapy.downloadermiddlewares.httpauth.HttpAuthMiddleware',\n",
      " 'scrapy.downloadermiddlewares.downloadtimeout.DownloadTimeoutMiddleware',\n",
      " 'scrapy.downloadermiddlewares.defaultheaders.DefaultHeadersMiddleware',\n",
      " 'scrapy.downloadermiddlewares.useragent.UserAgentMiddleware',\n",
      " 'scrapy.downloadermiddlewares.retry.RetryMiddleware',\n",
      " 'scrapy.downloadermiddlewares.redirect.MetaRefreshMiddleware',\n",
      " 'scrapy.downloadermiddlewares.httpcompression.HttpCompressionMiddleware',\n",
      " 'scrapy.downloadermiddlewares.redirect.RedirectMiddleware',\n",
      " 'scrapy.downloadermiddlewares.cookies.CookiesMiddleware',\n",
      " 'scrapy.downloadermiddlewares.httpproxy.HttpProxyMiddleware',\n",
      " 'scrapy.downloadermiddlewares.stats.DownloaderStats']\n",
      "2019-04-05 18:10:09 [scrapy.middleware] INFO: Enabled spider middlewares:\n",
      "['scrapy.spidermiddlewares.httperror.HttpErrorMiddleware',\n",
      " 'scrapy.spidermiddlewares.offsite.OffsiteMiddleware',\n",
      " 'scrapy.spidermiddlewares.referer.RefererMiddleware',\n",
      " 'scrapy.spidermiddlewares.urllength.UrlLengthMiddleware',\n",
      " 'scrapy.spidermiddlewares.depth.DepthMiddleware']\n",
      "2019-04-05 18:10:09 [scrapy.middleware] INFO: Enabled item pipelines:\n",
      "[]\n",
      "2019-04-05 18:10:09 [scrapy.core.engine] INFO: Spider opened\n",
      "2019-04-05 18:10:09 [scrapy.extensions.logstats] INFO: Crawled 0 pages (at 0 pages/min), scraped 0 items (at 0 items/min)\n",
      "2019-04-05 18:10:09 [scrapy.extensions.telnet] DEBUG: Telnet console listening on 127.0.0.1:6024\n",
      "2019-04-05 18:10:11 [scrapy.core.engine] DEBUG: Crawled (200) <GET https://www.irmi.com/glossary> (referer: None)\n",
      "2019-04-05 18:10:11 [scrapy.core.engine] INFO: Closing spider (finished)\n",
      "2019-04-05 18:10:11 [scrapy.statscollectors] INFO: Dumping Scrapy stats:\n",
      "{'downloader/request_bytes': 219,\n",
      " 'downloader/request_count': 1,\n",
      " 'downloader/request_method_count/GET': 1,\n",
      " 'downloader/response_bytes': 17584,\n",
      " 'downloader/response_count': 1,\n",
      " 'downloader/response_status_count/200': 1,\n",
      " 'finish_reason': 'finished',\n",
      " 'finish_time': datetime.datetime(2019, 4, 6, 1, 10, 11, 173003),\n",
      " 'log_count/DEBUG': 2,\n",
      " 'log_count/INFO': 8,\n",
      " 'memusage/max': 83247104,\n",
      " 'memusage/startup': 83247104,\n",
      " 'response_received_count': 1,\n",
      " 'scheduler/dequeued': 1,\n",
      " 'scheduler/dequeued/memory': 1,\n",
      " 'scheduler/enqueued': 1,\n",
      " 'scheduler/enqueued/memory': 1,\n",
      " 'start_time': datetime.datetime(2019, 4, 6, 1, 10, 9, 950969)}\n",
      "2019-04-05 18:10:11 [scrapy.core.engine] INFO: Spider closed (finished)\n"
     ]
    },
    {
     "name": "stdout",
     "output_type": "stream",
     "text": [
      "['<a class=\"button button-plain button-border button-square\" href=\"https://www.irmi.com/glossary?taxonomy=alphanumeric&amp;propertyName=tags&amp;taxon=a\">\\r\\n                <span>A</span>\\r\\n            </a>', '<a class=\"button button-plain button-border button-square\" href=\"https://www.irmi.com/glossary?taxonomy=alphanumeric&amp;propertyName=tags&amp;taxon=b\">\\r\\n                <span>B</span>\\r\\n            </a>', '<a class=\"button button-plain button-border button-square\" href=\"https://www.irmi.com/glossary?taxonomy=alphanumeric&amp;propertyName=tags&amp;taxon=c\">\\r\\n                <span>C</span>\\r\\n            </a>', '<a class=\"button button-plain button-border button-square\" href=\"https://www.irmi.com/glossary?taxonomy=alphanumeric&amp;propertyName=tags&amp;taxon=d\">\\r\\n                <span>D</span>\\r\\n            </a>', '<a class=\"button button-plain button-border button-square\" href=\"https://www.irmi.com/glossary?taxonomy=alphanumeric&amp;propertyName=tags&amp;taxon=e\">\\r\\n                <span>E</span>\\r\\n            </a>', '<a class=\"button button-plain button-border button-square\" href=\"https://www.irmi.com/glossary?taxonomy=alphanumeric&amp;propertyName=tags&amp;taxon=f\">\\r\\n                <span>F</span>\\r\\n            </a>', '<a class=\"button button-plain button-border button-square\" href=\"https://www.irmi.com/glossary?taxonomy=alphanumeric&amp;propertyName=tags&amp;taxon=g\">\\r\\n                <span>G</span>\\r\\n            </a>', '<a class=\"button button-plain button-border button-square\" href=\"https://www.irmi.com/glossary?taxonomy=alphanumeric&amp;propertyName=tags&amp;taxon=h\">\\r\\n                <span>H</span>\\r\\n            </a>', '<a class=\"button button-plain button-border button-square\" href=\"https://www.irmi.com/glossary?taxonomy=alphanumeric&amp;propertyName=tags&amp;taxon=i\">\\r\\n                <span>I</span>\\r\\n            </a>', '<a class=\"button button-plain button-border button-square\" href=\"https://www.irmi.com/glossary?taxonomy=alphanumeric&amp;propertyName=tags&amp;taxon=j\">\\r\\n                <span>J</span>\\r\\n            </a>', '<a class=\"button button-plain button-border button-square\" href=\"https://www.irmi.com/glossary?taxonomy=alphanumeric&amp;propertyName=tags&amp;taxon=k\">\\r\\n                <span>K</span>\\r\\n            </a>', '<a class=\"button button-plain button-border button-square\" href=\"https://www.irmi.com/glossary?taxonomy=alphanumeric&amp;propertyName=tags&amp;taxon=l\">\\r\\n                <span>L</span>\\r\\n            </a>', '<a class=\"button button-plain button-border button-square\" href=\"https://www.irmi.com/glossary?taxonomy=alphanumeric&amp;propertyName=tags&amp;taxon=m\">\\r\\n                <span>M</span>\\r\\n            </a>', '<a class=\"button button-plain button-border button-square\" href=\"https://www.irmi.com/glossary?taxonomy=alphanumeric&amp;propertyName=tags&amp;taxon=n\">\\r\\n                <span>N</span>\\r\\n            </a>', '<a class=\"button button-plain button-border button-square\" href=\"https://www.irmi.com/glossary?taxonomy=alphanumeric&amp;propertyName=tags&amp;taxon=o\">\\r\\n                <span>O</span>\\r\\n            </a>', '<a class=\"button button-plain button-border button-square\" href=\"https://www.irmi.com/glossary?taxonomy=alphanumeric&amp;propertyName=tags&amp;taxon=p\">\\r\\n                <span>P</span>\\r\\n            </a>', '<a class=\"button button-plain button-border button-square\" href=\"https://www.irmi.com/glossary?taxonomy=alphanumeric&amp;propertyName=tags&amp;taxon=q\">\\r\\n                <span>Q</span>\\r\\n            </a>', '<a class=\"button button-plain button-border button-square\" href=\"https://www.irmi.com/glossary?taxonomy=alphanumeric&amp;propertyName=tags&amp;taxon=r\">\\r\\n                <span>R</span>\\r\\n            </a>', '<a class=\"button button-plain button-border button-square\" href=\"https://www.irmi.com/glossary?taxonomy=alphanumeric&amp;propertyName=tags&amp;taxon=s\">\\r\\n                <span>S</span>\\r\\n            </a>', '<a class=\"button button-plain button-border button-square\" href=\"https://www.irmi.com/glossary?taxonomy=alphanumeric&amp;propertyName=tags&amp;taxon=t\">\\r\\n                <span>T</span>\\r\\n            </a>', '<a class=\"button button-plain button-border button-square\" href=\"https://www.irmi.com/glossary?taxonomy=alphanumeric&amp;propertyName=tags&amp;taxon=u\">\\r\\n                <span>U</span>\\r\\n            </a>', '<a class=\"button button-plain button-border button-square\" href=\"https://www.irmi.com/glossary?taxonomy=alphanumeric&amp;propertyName=tags&amp;taxon=v\">\\r\\n                <span>V</span>\\r\\n            </a>', '<a class=\"button button-plain button-border button-square\" href=\"https://www.irmi.com/glossary?taxonomy=alphanumeric&amp;propertyName=tags&amp;taxon=w\">\\r\\n                <span>W</span>\\r\\n            </a>', '<a class=\"button button-plain button-border button-square\" href=\"https://www.irmi.com/glossary?taxonomy=alphanumeric&amp;propertyName=tags&amp;taxon=x\">\\r\\n                <span>X</span>\\r\\n            </a>', '<a class=\"button button-plain button-border button-square\" href=\"https://www.irmi.com/glossary?taxonomy=alphanumeric&amp;propertyName=tags&amp;taxon=y\">\\r\\n                <span>Y</span>\\r\\n            </a>', '<a class=\"button button-plain button-border button-square\" href=\"https://www.irmi.com/glossary?taxonomy=alphanumeric&amp;propertyName=tags&amp;taxon=z\">\\r\\n                <span>Z</span>\\r\\n            </a>', '<a class=\"mobile-change-type button button-plain button-border\" href=\"#\">\\r\\n                    <span></span>\\r\\n                </a>']\n"
     ]
    }
   ],
   "source": [
    "process = CrawlerProcess()\n",
    "process.crawl(IRMI_Spider)\n",
    "process.start()"
   ]
  },
  {
   "cell_type": "code",
   "execution_count": null,
   "metadata": {},
   "outputs": [],
   "source": []
  }
 ],
 "metadata": {
  "kernelspec": {
   "display_name": "Python 3",
   "language": "python",
   "name": "python3"
  },
  "language_info": {
   "codemirror_mode": {
    "name": "ipython",
    "version": 3
   },
   "file_extension": ".py",
   "mimetype": "text/x-python",
   "name": "python",
   "nbconvert_exporter": "python",
   "pygments_lexer": "ipython3",
   "version": "3.6.8"
  }
 },
 "nbformat": 4,
 "nbformat_minor": 2
}
