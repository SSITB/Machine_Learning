{
 "cells": [
  {
   "cell_type": "code",
   "execution_count": 394,
   "metadata": {},
   "outputs": [],
   "source": [
    "### Answer Key to questions 1-3"
   ]
  },
  {
   "cell_type": "code",
   "execution_count": 2,
   "metadata": {},
   "outputs": [],
   "source": [
    "import os\n",
    "import pandas as pd\n",
    "import numpy as np"
   ]
  },
  {
   "cell_type": "code",
   "execution_count": 3,
   "metadata": {
    "scrolled": true
   },
   "outputs": [
    {
     "name": "stderr",
     "output_type": "stream",
     "text": [
      "/Users/amaurya/anaconda3/lib/python3.7/site-packages/IPython/core/interactiveshell.py:2785: DtypeWarning: Columns (7) have mixed types. Specify dtype option on import or set low_memory=False.\n",
      "  interactivity=interactivity, compiler=compiler, result=result)\n"
     ]
    }
   ],
   "source": [
    "data=pd.read_csv(\"transaction_data.csv\")"
   ]
  },
  {
   "cell_type": "code",
   "execution_count": 4,
   "metadata": {},
   "outputs": [],
   "source": [
    "data['date']=data['date'].astype('datetime64[ns]')"
   ]
  },
  {
   "cell_type": "markdown",
   "metadata": {},
   "source": [
    "#### Q2. a) List the top 5 user_id which had the highest number of CTR filed during in any 7 days window period. (4 points)"
   ]
  },
  {
   "cell_type": "code",
   "execution_count": 395,
   "metadata": {},
   "outputs": [],
   "source": [
    "# q2_data=data[data['user_id'].isin(data['user_id'].unique()[0:100])].copy()\n",
    "# full_idx=pd.MultiIndex.from_product([q2_data['user_id'].unique().tolist(),pd.date_range(start=q2_data['date'].min(),end=q2_data['date'].max()).tolist()],names=['user_id','date'])\n",
    "# q2_data['CTR']=[1 if (x==\"Cash\" and y>10000) else 0 for (x,y) in zip(q2_data['trx_type'],q2_data['amount'])]\n",
    "# q2_data.rename(columns={'trx_type':'transaction_type'},inplace=True)\n",
    "# ## Wrte a function which takes user_data, and returns the CTR_7d.\n",
    "# full_idx_df=pd.DataFrame(index=full_idx).reset_index()\n",
    "# full_df=pd.merge(full_idx_df,q2_data[['user_id','date','CTR']],how='left',on=['user_id','date'])\n",
    "# full_df['CTR']=full_df['CTR'].fillna(value=0)\n",
    "# full_df.sort_values(['user_id','date'],inplace=True);\n",
    "# full_df.set_index(['user_id'],inplace=True)\n",
    "# full_df['ctr_7d']=full_df.rolling(7,min_periods=1)['CTR'].sum()\n",
    "# top5_user_id_with_highest_ctr_within_7d=full_df[['ctr_7d']].sort_values(['ctr_7d'],ascending=False).index.unique()[0:5].tolist()"
   ]
  },
  {
   "cell_type": "markdown",
   "metadata": {},
   "source": [
    "##### The query is the following (in python)\n",
    "full_idx=pd.MultiIndex.from_product([transactions['user_id'].unique().tolist(),pd.date_range(start=transactions['date'].min(),end=transactions['date'].max()).tolist()],names=['user_id','date'])\n",
    "\n",
    "transactions['CTR']=[1 if (x==\"Cash\" and y>10000) else 0 for (x,y) in zip(transactions['trx_type'],transactions['amount'])]\n",
    "\n",
    "##### Wrte a function which takes user_data, and returns the CTR_7d.\n",
    "full_idx_df=pd.DataFrame(index=full_idx).reset_index()\n",
    "\n",
    "full_df=pd.merge(full_idx_df,transactions[['user_id','date','CTR']],how='left',on=['user_id','date'])\n",
    "\n",
    "full_df['CTR']=full_df['CTR'].fillna(value=0)\n",
    "\n",
    "full_df.sort_values(['user_id','date'],inplace=True);\n",
    "\n",
    "full_df.set_index(['user_id'],inplace=True)\n",
    "\n",
    "full_df['ctr_7d']=full_df.rolling(7,min_periods=1)['CTR'].sum()\n",
    "\n",
    "top5_user_id_with_highest_ctr_within_7d=full_df[['ctr_7d']].sort_values(['ctr_7d'],ascending=False).index.unique()[0:5].tolist()"
   ]
  },
  {
   "cell_type": "markdown",
   "metadata": {},
   "source": [
    "####  Q2 b) List top 5 user_id which had the largest amount of incoming amount over any 30 day period exceeding $1,000,000? (4 points)"
   ]
  },
  {
   "cell_type": "code",
   "execution_count": 396,
   "metadata": {},
   "outputs": [],
   "source": [
    "# q2_data=data[data['user_id'].isin(data['user_id'].unique()[0:100])].copy()\n",
    "# q2_data.rename(columns={'trx_type':'transaction_type'},inplace=True)\n",
    "# q2_data=q2_data.loc[q2_data['activity_type']==\"Incoming\"]\n",
    "# q2_data=q2_data.groupby(['user_id','date'])[['amount']].sum().reset_index()\n",
    "# full_idx=pd.MultiIndex.from_product([q2_data['user_id'].unique().tolist(),pd.date_range(start=q2_data['date'].min(),end=q2_data['date'].max()).tolist()],names=['user_id','date'])\n",
    "# full_idx_df=pd.DataFrame(index=full_idx).reset_index()\n",
    "# full_df=pd.merge(full_idx_df,q2_data[['user_id','date','amount']],how='left',on=['user_id','date'])\n",
    "# full_df['amount']=full_df['amount'].fillna(value=0)\n",
    "# full_df.sort_values(['user_id','date'],inplace=True);\n",
    "# full_df['amount_30d']=full_df.groupby(['user_id'])['amount'].rolling(30,min_periods=1).sum().reset_index()['amount']\n",
    "\n",
    "# top5_user_id_with_highest_amount_30d=full_df[full_df['amount_30d']>100000].sort_values(['amount_30d'],ascending=False)['user_id'].unique()[0:5]"
   ]
  },
  {
   "cell_type": "markdown",
   "metadata": {},
   "source": [
    "##### The answer is the following"
   ]
  },
  {
   "cell_type": "markdown",
   "metadata": {},
   "source": [
    "transactions=transactions.groupby(['user_id','date'])[['amount']].sum().reset_index()\n",
    "\n",
    "full_idx=pd.MultiIndex.from_product([transactions['user_id'].unique().tolist(),pd.date_range(start=transactions['date'].min(),end=transactions['date'].max()).tolist()],names=['user_id','date'])\n",
    "\n",
    "full_idx_df=pd.DataFrame(index=full_idx).reset_index()\n",
    "\n",
    "full_df=pd.merge(full_idx_df,transactions[['user_id','date','amount']],how='left',on=['user_id','date'])\n",
    "\n",
    "full_df['amount']=full_df['amount'].fillna(value=0)\n",
    "\n",
    "full_df.sort_values(['user_id','date'],inplace=True);\n",
    "\n",
    "full_df['amount_30d']=full_df.groupby(['user_id'])['amount'].rolling(30,min_periods=1).sum().reset_index()['amount']\n",
    "\n",
    "top5_user_id_with_highest_amount_30d=full_df[full_df['amount_30d']>100000].sort_values(['amount_30d'],ascending=False)['user_id'].unique()[0:5]"
   ]
  },
  {
   "cell_type": "markdown",
   "metadata": {},
   "source": [
    "### Q3"
   ]
  },
  {
   "cell_type": "code",
   "execution_count": 341,
   "metadata": {},
   "outputs": [],
   "source": [
    "q3_data={'variable':['Male','Account balance','Age','Age_Sq','Invetsor','Works_at_Y','Constant'], 'Coefficient':[2.45, -0.109, -0.0135, 0.0001, 3.21, -5.12, 2.8], 'Standard_Error': [0.12, 0.041, 0.00096, 0.000029, 0.67, 0.399, 0.584]}"
   ]
  },
  {
   "cell_type": "code",
   "execution_count": 345,
   "metadata": {},
   "outputs": [],
   "source": [
    "q3_df=pd.DataFrame(q3_data)\n",
    "q3_df.set_index(['variable'],inplace=True)"
   ]
  },
  {
   "cell_type": "code",
   "execution_count": 366,
   "metadata": {},
   "outputs": [],
   "source": [
    "q3_df['z_score']=q3_df['Coefficient']/q3_df['Standard_Error']"
   ]
  },
  {
   "cell_type": "code",
   "execution_count": 368,
   "metadata": {},
   "outputs": [],
   "source": [
    "q3_df['z_score']=q3_df['z_score'].map('{:,.2f}'.format).astype('float')"
   ]
  },
  {
   "cell_type": "markdown",
   "metadata": {},
   "source": [
    "#### 3(a)  For a not ‘Male’ customer, what is the most important features in predicting likelihood of customer doing cryptocurrency transaction? (2 points)"
   ]
  },
  {
   "cell_type": "code",
   "execution_count": 389,
   "metadata": {},
   "outputs": [
    {
     "data": {
      "text/html": [
       "<div>\n",
       "<style scoped>\n",
       "    .dataframe tbody tr th:only-of-type {\n",
       "        vertical-align: middle;\n",
       "    }\n",
       "\n",
       "    .dataframe tbody tr th {\n",
       "        vertical-align: top;\n",
       "    }\n",
       "\n",
       "    .dataframe thead th {\n",
       "        text-align: right;\n",
       "    }\n",
       "</style>\n",
       "<table border=\"1\" class=\"dataframe\">\n",
       "  <thead>\n",
       "    <tr style=\"text-align: right;\">\n",
       "      <th></th>\n",
       "      <th>Coefficient</th>\n",
       "      <th>Standard_Error</th>\n",
       "      <th>z_score</th>\n",
       "    </tr>\n",
       "    <tr>\n",
       "      <th>variable</th>\n",
       "      <th></th>\n",
       "      <th></th>\n",
       "      <th></th>\n",
       "    </tr>\n",
       "  </thead>\n",
       "  <tbody>\n",
       "    <tr>\n",
       "      <th>Age</th>\n",
       "      <td>-0.0135</td>\n",
       "      <td>0.00096</td>\n",
       "      <td>-14.06</td>\n",
       "    </tr>\n",
       "  </tbody>\n",
       "</table>\n",
       "</div>"
      ],
      "text/plain": [
       "          Coefficient  Standard_Error  z_score\n",
       "variable                                      \n",
       "Age           -0.0135         0.00096   -14.06"
      ]
     },
     "execution_count": 389,
     "metadata": {},
     "output_type": "execute_result"
    }
   ],
   "source": [
    "q3_df1=q3_df.reindex(q3_df.z_score.abs().sort_values(ascending=False).index)\n",
    "q3_df1[~(q3_df1.index.isin(['Male']))].iloc[0:1,]"
   ]
  },
  {
   "cell_type": "code",
   "execution_count": 390,
   "metadata": {},
   "outputs": [],
   "source": [
    "## \"Age\" is the most important variable in predicting the likelihood of doing cryptocurrency."
   ]
  },
  {
   "cell_type": "markdown",
   "metadata": {},
   "source": [
    "#### 3(b): How do we interpret the difference in probability using cryptocurrency exchange between users of different ages? (3 points)\n",
    "###### Age has negative coefficient whereas Age_sq has positive cofficients,users with age approching to 67.5 years, will have chances of doing cryptocurrency decreasing slowly, and after 67.5 years increases slowly."
   ]
  },
  {
   "cell_type": "code",
   "execution_count": 1,
   "metadata": {},
   "outputs": [],
   "source": [
    "## Q4."
   ]
  },
  {
   "cell_type": "markdown",
   "metadata": {},
   "source": [
    "#### a) How you would determine if an amount is unusual for a bank's user? (2 points)"
   ]
  },
  {
   "cell_type": "markdown",
   "metadata": {},
   "source": [
    "#### Ans: Since the amounts are typically right skewed for most of the customers, criteria based on standard deviation is not adequate, instead use quartile based outlier detection algorithms. If an amount falls above Q3+3*IQR, that would be considered outlier where Q3 is 3rd qurtile and IQR is interquartile range."
   ]
  },
  {
   "cell_type": "markdown",
   "metadata": {},
   "source": [
    "#### b) A relative is defined as someone who shares either same phone number. Find the set of relatives for all user_id’s. (4 points)"
   ]
  },
  {
   "cell_type": "code",
   "execution_count": 5,
   "metadata": {},
   "outputs": [
    {
     "data": {
      "text/html": [
       "<div>\n",
       "<style scoped>\n",
       "    .dataframe tbody tr th:only-of-type {\n",
       "        vertical-align: middle;\n",
       "    }\n",
       "\n",
       "    .dataframe tbody tr th {\n",
       "        vertical-align: top;\n",
       "    }\n",
       "\n",
       "    .dataframe thead th {\n",
       "        text-align: right;\n",
       "    }\n",
       "</style>\n",
       "<table border=\"1\" class=\"dataframe\">\n",
       "  <thead>\n",
       "    <tr style=\"text-align: right;\">\n",
       "      <th></th>\n",
       "      <th>user_id</th>\n",
       "      <th>date</th>\n",
       "      <th>trx_type</th>\n",
       "      <th>activity_type</th>\n",
       "      <th>recipient_id</th>\n",
       "      <th>amount</th>\n",
       "      <th>user_phone_number</th>\n",
       "      <th>recipient_phone_number</th>\n",
       "    </tr>\n",
       "  </thead>\n",
       "  <tbody>\n",
       "    <tr>\n",
       "      <th>0</th>\n",
       "      <td>3944089</td>\n",
       "      <td>1971-07-14</td>\n",
       "      <td>ACH</td>\n",
       "      <td>Outgoing</td>\n",
       "      <td>104457</td>\n",
       "      <td>374290.370615</td>\n",
       "      <td>926-650-2871</td>\n",
       "      <td>NaN</td>\n",
       "    </tr>\n",
       "    <tr>\n",
       "      <th>1</th>\n",
       "      <td>3944089</td>\n",
       "      <td>1971-01-11</td>\n",
       "      <td>ACH</td>\n",
       "      <td>Incoming</td>\n",
       "      <td>104457</td>\n",
       "      <td>152860.643946</td>\n",
       "      <td>316-166-7770</td>\n",
       "      <td>NaN</td>\n",
       "    </tr>\n",
       "    <tr>\n",
       "      <th>2</th>\n",
       "      <td>2267326</td>\n",
       "      <td>1971-02-23</td>\n",
       "      <td>ACH</td>\n",
       "      <td>Incoming</td>\n",
       "      <td>133200</td>\n",
       "      <td>244709.761930</td>\n",
       "      <td>477-672-1931</td>\n",
       "      <td>NaN</td>\n",
       "    </tr>\n",
       "    <tr>\n",
       "      <th>3</th>\n",
       "      <td>6136768</td>\n",
       "      <td>1971-02-08</td>\n",
       "      <td>ACH</td>\n",
       "      <td>Outgoing</td>\n",
       "      <td>133209</td>\n",
       "      <td>468009.719276</td>\n",
       "      <td>265-590-9367</td>\n",
       "      <td>NaN</td>\n",
       "    </tr>\n",
       "    <tr>\n",
       "      <th>4</th>\n",
       "      <td>4603167</td>\n",
       "      <td>1971-07-30</td>\n",
       "      <td>ACH</td>\n",
       "      <td>Outgoing</td>\n",
       "      <td>160229</td>\n",
       "      <td>242823.941011</td>\n",
       "      <td>306-467-5116</td>\n",
       "      <td>NaN</td>\n",
       "    </tr>\n",
       "  </tbody>\n",
       "</table>\n",
       "</div>"
      ],
      "text/plain": [
       "   user_id       date trx_type activity_type  recipient_id         amount  \\\n",
       "0  3944089 1971-07-14      ACH      Outgoing        104457  374290.370615   \n",
       "1  3944089 1971-01-11      ACH      Incoming        104457  152860.643946   \n",
       "2  2267326 1971-02-23      ACH      Incoming        133200  244709.761930   \n",
       "3  6136768 1971-02-08      ACH      Outgoing        133209  468009.719276   \n",
       "4  4603167 1971-07-30      ACH      Outgoing        160229  242823.941011   \n",
       "\n",
       "  user_phone_number recipient_phone_number  \n",
       "0      926-650-2871                    NaN  \n",
       "1      316-166-7770                    NaN  \n",
       "2      477-672-1931                    NaN  \n",
       "3      265-590-9367                    NaN  \n",
       "4      306-467-5116                    NaN  "
      ]
     },
     "execution_count": 5,
     "metadata": {},
     "output_type": "execute_result"
    }
   ],
   "source": [
    "data.head()"
   ]
  },
  {
   "cell_type": "code",
   "execution_count": 6,
   "metadata": {},
   "outputs": [],
   "source": [
    "# expected output, user_id, and relative user_id as list."
   ]
  },
  {
   "cell_type": "code",
   "execution_count": 23,
   "metadata": {},
   "outputs": [],
   "source": [
    "tmp=data[['user_id','user_phone_number']].drop_duplicates(subset=['user_id','user_phone_number'])"
   ]
  },
  {
   "cell_type": "code",
   "execution_count": 25,
   "metadata": {},
   "outputs": [],
   "source": [
    "tmp_rel=tmp.groupby(['user_phone_number'])['user_id'].apply(np.unique)"
   ]
  },
  {
   "cell_type": "code",
   "execution_count": 26,
   "metadata": {},
   "outputs": [
    {
     "data": {
      "text/plain": [
       "user_phone_number\n",
       "201-143-2235    [1054633, 1124460, 1164341, 1177475, 1417552, ...\n",
       "201-173-9347    [1021704, 1021996, 1717856, 2204321, 2398885, ...\n",
       "201-232-6535    [1321241, 2086775, 2248222, 2398547, 3367989, ...\n",
       "201-244-9605    [1070146, 1126377, 1139889, 1188345, 1625693, ...\n",
       "201-256-6391    [1512490, 1817337, 2748508, 2822577, 2860149, ...\n",
       "Name: user_id, dtype: object"
      ]
     },
     "execution_count": 26,
     "metadata": {},
     "output_type": "execute_result"
    }
   ],
   "source": [
    "tmp_rel.head()"
   ]
  },
  {
   "cell_type": "markdown",
   "metadata": {},
   "source": [
    "#### c) When a transaction happens among relatives, call it circulatory (among relatives) transaction. Create a binary feature if a transaction is circulatory transaction. (1 point)"
   ]
  },
  {
   "cell_type": "code",
   "execution_count": null,
   "metadata": {},
   "outputs": [],
   "source": [
    "## If user_phone number is same as recipient phone number "
   ]
  },
  {
   "cell_type": "code",
   "execution_count": 8,
   "metadata": {},
   "outputs": [],
   "source": [
    "data=fread(\"transaction_data.csv\")"
   ]
  },
  {
   "cell_type": "code",
   "execution_count": 10,
   "metadata": {},
   "outputs": [],
   "source": [
    "tmp=unique(data[,.(user_id,user_phone_number)])"
   ]
  },
  {
   "cell_type": "code",
   "execution_count": 14,
   "metadata": {},
   "outputs": [
    {
     "name": "stderr",
     "output_type": "stream",
     "text": [
      "Warning message:\n",
      "“package ‘dplyr’ was built under R version 3.4.4”\n",
      "Attaching package: ‘dplyr’\n",
      "\n",
      "The following objects are masked from ‘package:data.table’:\n",
      "\n",
      "    between, first, last\n",
      "\n",
      "The following objects are masked from ‘package:stats’:\n",
      "\n",
      "    filter, lag\n",
      "\n",
      "The following objects are masked from ‘package:base’:\n",
      "\n",
      "    intersect, setdiff, setequal, union\n",
      "\n",
      "Warning message:\n",
      "“The `printer` argument is soft-deprecated as of rlang 0.3.0.\n",
      "This warning is displayed once per session.”Warning message:\n",
      "“package ‘bindrcpp’ was built under R version 3.4.4”"
     ]
    },
    {
     "ename": "ERROR",
     "evalue": "Error in library(igraph): there is no package called ‘igraph’\n",
     "output_type": "error",
     "traceback": [
      "Error in library(igraph): there is no package called ‘igraph’\nTraceback:\n",
      "1. find_relatives(metadata = tmp)",
      "2. suppressMessages(library(igraph))   # at line 29 of file <text>",
      "3. withCallingHandlers(expr, message = function(c) invokeRestart(\"muffleMessage\"))",
      "4. library(igraph)   # at line 29 of file <text>",
      "5. stop(txt, domain = NA)"
     ]
    }
   ],
   "source": [
    "rel_set=find_relatives(metadata = tmp)"
   ]
  },
  {
   "cell_type": "code",
   "execution_count": null,
   "metadata": {},
   "outputs": [],
   "source": []
  },
  {
   "cell_type": "code",
   "execution_count": null,
   "metadata": {},
   "outputs": [],
   "source": []
  },
  {
   "cell_type": "code",
   "execution_count": 13,
   "metadata": {},
   "outputs": [],
   "source": [
    "### Code for finding all connected list\n",
    "### 1. By Phone ### 2. By Address ### Not considering the 3. By different account number of same customer_id and vice versa.\n",
    "\n",
    "find_relatives=function(metadata)\n",
    "{\n",
    "        library(dplyr)\n",
    "        library(data.table)\n",
    "        library(Matrix)\n",
    "        ### 1. By user_phone_number\n",
    "        user_phone_number_data0=metadata[,.(user_id,user_phone_number)]\n",
    "        user_phone_number_data0=unique(user_phone_number_data0)\n",
    "        user_phone_number_data0[,user_phone_number:=gsub(\"-\",replacement = \"\",user_phone_number)]\n",
    "        user_phone_number_data0[,user_phone_number_new:=stringr::str_replace_all(user_phone_number,\"[^[:digit:]]\",\"\")]\n",
    "        user_phone_number_data0[,len_ph:=nchar(user_phone_number_new)];user_phone_number_data1=unique(user_phone_number_data0[len_ph==10]);\n",
    "        user_phone_number_data1[,user_phone_number:=as.numeric(user_phone_number_new)]\n",
    "        user_phone_number_data2=as.data.table(user_phone_number_data1[,.(user_id,user_phone_number)]%>%\n",
    "        group_by(user_phone_number)%>%\n",
    "        summarise(rel_ph_custs=list(user_id)))\n",
    "        user_phone_number_data2[,len_rel_cust:=length(unlist(rel_ph_custs)),by=user_phone_number]\n",
    "        user_phone_number_data3=user_phone_number_data2[len_rel_cust>1]\n",
    "        rel_ph_custs=user_phone_number_data3;    \n",
    "\n",
    "        all_cust_list0=unique(rel_ph_custs$rel_ph_custs)\n",
    "        \n",
    "        i = rep(1:length(all_cust_list0), lengths(all_cust_list0)) \n",
    "        j = factor(unlist(all_cust_list0))\n",
    "        tab = sparseMatrix(i = i, j = as.integer(j), x = TRUE, dimnames = list(NULL, levels(j)))\n",
    "        connects = tcrossprod(tab, boolArith = TRUE)\n",
    "        suppressMessages(library(igraph));\n",
    "        group = clusters(graph_from_adjacency_matrix(as(connects, \"lsCMatrix\")))$membership\n",
    "        all_conn_list1=tapply(all_cust_list0, group, function(x) sort(unique(unlist(x))))\n",
    "\n",
    "        # make a data.frame where 1st column is the user_id and 2nd columns is the list of related user_ids\n",
    "        c_id0=lapply(all_conn_list1,'[[',1);\n",
    "        r_list0=lapply(all_conn_list1, function(x) unlist(x)[-1]);\n",
    "\n",
    "        all_conn_cust_df0=data.table(user_id=c_id0)\n",
    "        all_conn_cust_df1=data.table(rel_cust_ids=r_list0)\n",
    "        all_conn_cust_df2=as.data.table(cbind.data.frame(all_conn_cust_df0,all_conn_cust_df1))\n",
    "        return(all_conn_cust_df2)\n",
    "        }\n",
    "               "
   ]
  },
  {
   "cell_type": "code",
   "execution_count": null,
   "metadata": {},
   "outputs": [],
   "source": []
  }
 ],
 "metadata": {
  "kernelspec": {
   "display_name": "R",
   "language": "R",
   "name": "ir"
  },
  "language_info": {
   "codemirror_mode": "r",
   "file_extension": ".r",
   "mimetype": "text/x-r-source",
   "name": "R",
   "pygments_lexer": "r",
   "version": "3.4.2"
  }
 },
 "nbformat": 4,
 "nbformat_minor": 2
}
