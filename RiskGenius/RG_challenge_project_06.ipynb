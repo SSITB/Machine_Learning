{
 "cells": [
  {
   "cell_type": "markdown",
   "metadata": {},
   "source": [
    "# Yu-Ting Shen\n",
    "\n",
    "# RiskGenius Challenge Project\n",
    "\n",
    "\n",
    "https://www.irmi.com/glossary\n",
    "\n",
    "https://scrapy.org/\n",
    "\n",
    "The IRMI link points to a site with definitions of insurance terms.\n",
    "The Scrapy link is to a library which can extract data from websites.\n",
    "\n",
    "The idea of this project is in 3 parts:\n",
    "\n",
    "1. Scrape and store the IRMI glossary into some data format (maybe SQLite, or .json or something).  Be sure to have at least the definition label and definition text.  Other data might be unnecessary.\n",
    "\n",
    "2. Build a classifier (you can choose the model) and optimize hyperparameters to predict the definition label from the definition text.\n",
    "\n",
    "3. Predict the word that will be in the definition label, instead of the label itself.  Possibly predict the count vector of the definition label in this case.\n",
    "\n",
    "This could have a real application in RiskGenius, as a step toward automatically generating definition labels by predicting the words that would be used in definition labels.  You are likely to find in many cases, words in the definition label cannot be found in the definition text, so keep that in mind.\n",
    "\n",
    "***\n",
    "***\n",
    "***"
   ]
  },
  {
   "cell_type": "markdown",
   "metadata": {},
   "source": [
    "# Load Data"
   ]
  },
  {
   "cell_type": "code",
   "execution_count": 1,
   "metadata": {},
   "outputs": [
    {
     "data": {
      "text/html": [
       "<div>\n",
       "<style scoped>\n",
       "    .dataframe tbody tr th:only-of-type {\n",
       "        vertical-align: middle;\n",
       "    }\n",
       "\n",
       "    .dataframe tbody tr th {\n",
       "        vertical-align: top;\n",
       "    }\n",
       "\n",
       "    .dataframe thead th {\n",
       "        text-align: right;\n",
       "    }\n",
       "</style>\n",
       "<table border=\"1\" class=\"dataframe\">\n",
       "  <thead>\n",
       "    <tr style=\"text-align: right;\">\n",
       "      <th></th>\n",
       "      <th>term</th>\n",
       "      <th>text</th>\n",
       "    </tr>\n",
       "  </thead>\n",
       "  <tbody>\n",
       "    <tr>\n",
       "      <th>0</th>\n",
       "      <td>automatic premium loan</td>\n",
       "      <td>An optional provision in life insurance that a...</td>\n",
       "    </tr>\n",
       "    <tr>\n",
       "      <th>1</th>\n",
       "      <td>Household Goods Transportation Act of 1980</td>\n",
       "      <td>Provided a nonjudicial dispute settlement prog...</td>\n",
       "    </tr>\n",
       "    <tr>\n",
       "      <th>2</th>\n",
       "      <td>hydrocarbons</td>\n",
       "      <td>A class of organic compounds composed only of ...</td>\n",
       "    </tr>\n",
       "    <tr>\n",
       "      <th>3</th>\n",
       "      <td>hydraulic fracturing (fracking)</td>\n",
       "      <td>A process in which fractures in hard-to-reach ...</td>\n",
       "    </tr>\n",
       "    <tr>\n",
       "      <th>4</th>\n",
       "      <td>hybrid plans</td>\n",
       "      <td>Risk financing techniques that are a combinati...</td>\n",
       "    </tr>\n",
       "  </tbody>\n",
       "</table>\n",
       "</div>"
      ],
      "text/plain": [
       "                                         term  \\\n",
       "0                      automatic premium loan   \n",
       "1  Household Goods Transportation Act of 1980   \n",
       "2                                hydrocarbons   \n",
       "3             hydraulic fracturing (fracking)   \n",
       "4                                hybrid plans   \n",
       "\n",
       "                                                text  \n",
       "0  An optional provision in life insurance that a...  \n",
       "1  Provided a nonjudicial dispute settlement prog...  \n",
       "2  A class of organic compounds composed only of ...  \n",
       "3  A process in which fractures in hard-to-reach ...  \n",
       "4  Risk financing techniques that are a combinati...  "
      ]
     },
     "execution_count": 1,
     "metadata": {},
     "output_type": "execute_result"
    }
   ],
   "source": [
    "import pandas as pd\n",
    "\n",
    "df_insurance_terms = pd.read_csv('terms.csv')\n",
    "df = df_insurance_terms[['term', 'text']]\n",
    "df.head()"
   ]
  },
  {
   "cell_type": "code",
   "execution_count": null,
   "metadata": {},
   "outputs": [],
   "source": []
  }
 ],
 "metadata": {
  "kernelspec": {
   "display_name": "Python 3",
   "language": "python",
   "name": "python3"
  },
  "language_info": {
   "codemirror_mode": {
    "name": "ipython",
    "version": 3
   },
   "file_extension": ".py",
   "mimetype": "text/x-python",
   "name": "python",
   "nbconvert_exporter": "python",
   "pygments_lexer": "ipython3",
   "version": "3.6.8"
  }
 },
 "nbformat": 4,
 "nbformat_minor": 2
}
