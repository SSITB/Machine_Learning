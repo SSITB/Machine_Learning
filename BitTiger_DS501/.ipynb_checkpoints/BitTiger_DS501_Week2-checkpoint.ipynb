{
 "cells": [
  {
   "cell_type": "markdown",
   "metadata": {},
   "source": [
    "# BitTiger DS501 Week2"
   ]
  },
  {
   "cell_type": "code",
   "execution_count": 1,
   "metadata": {},
   "outputs": [],
   "source": [
    "import numpy as np\n",
    "import pandas as pd\n",
    "import matplotlib.pyplot as plt\n",
    "import seaborn as sns"
   ]
  },
  {
   "cell_type": "code",
   "execution_count": 2,
   "metadata": {},
   "outputs": [
    {
     "data": {
      "text/plain": [
       "array([ 0.52144468,  0.43861751,  1.76342185, -0.35148214, -0.09033329,\n",
       "        0.29305256, -0.29150571,  1.72769676, -2.25487784,  1.63488627])"
      ]
     },
     "execution_count": 2,
     "metadata": {},
     "output_type": "execute_result"
    }
   ],
   "source": [
    "np.random.randn(10) # 產生 10 個遵從 standard normal 分佈的數值 "
   ]
  },
  {
   "cell_type": "code",
   "execution_count": 3,
   "metadata": {},
   "outputs": [
    {
     "name": "stderr",
     "output_type": "stream",
     "text": [
      "/usr/local/anaconda3/lib/python3.6/site-packages/scipy/stats/stats.py:1713: FutureWarning: Using a non-tuple sequence for multidimensional indexing is deprecated; use `arr[tuple(seq)]` instead of `arr[seq]`. In the future this will be interpreted as an array index, `arr[np.array(seq)]`, which will result either in an error or a different result.\n",
      "  return np.add.reduce(sorted[indexer] * weights, axis=axis) / sumval\n"
     ]
    },
    {
     "data": {
      "text/plain": [
       "<matplotlib.axes._subplots.AxesSubplot at 0x1a1f1d5e10>"
      ]
     },
     "execution_count": 3,
     "metadata": {},
     "output_type": "execute_result"
    },
    {
     "data": {
      "image/png": "[encoded data removed]",
      "text/plain": [
       "<Figure size 432x288 with 1 Axes>"
      ]
     },
     "metadata": {
      "needs_background": "light"
     },
     "output_type": "display_data"
    }
   ],
   "source": [
    "x = np.random.randn(100000)\n",
    "sns.distplot(x, hist=False)"
   ]
  },
  {
   "cell_type": "code",
   "execution_count": 4,
   "metadata": {},
   "outputs": [
    {
     "data": {
      "text/plain": [
       "0.3989422804014327"
      ]
     },
     "execution_count": 4,
     "metadata": {},
     "output_type": "execute_result"
    }
   ],
   "source": [
    "from scipy.stats import norm\n",
    "norm.pdf(0)"
   ]
  },
  {
   "cell_type": "code",
   "execution_count": 5,
   "metadata": {},
   "outputs": [
    {
     "data": {
      "text/plain": [
       "0.5"
      ]
     },
     "execution_count": 5,
     "metadata": {},
     "output_type": "execute_result"
    }
   ],
   "source": [
    "norm.cdf(0)"
   ]
  },
  {
   "cell_type": "code",
   "execution_count": 6,
   "metadata": {},
   "outputs": [
    {
     "data": {
      "text/plain": [
       "1.959963984540054"
      ]
     },
     "execution_count": 6,
     "metadata": {},
     "output_type": "execute_result"
    }
   ],
   "source": [
    "norm.ppf(0.975)"
   ]
  },
  {
   "cell_type": "markdown",
   "metadata": {},
   "source": [
    "# Week2 Lending club"
   ]
  },
  {
   "cell_type": "code",
   "execution_count": 7,
   "metadata": {},
   "outputs": [],
   "source": [
    "df_loan = pd.read_csv('loan.csv', low_memory=False)"
   ]
  },
  {
   "cell_type": "code",
   "execution_count": 8,
   "metadata": {},
   "outputs": [],
   "source": [
    "df_loan_T = df_loan.copy()"
   ]
  },
  {
   "cell_type": "markdown",
   "metadata": {},
   "source": [
    "### Unpaired two sample student t-test\n",
    "* Equal variances\n",
    "\n",
    "$$ t = \\frac{\\bar{x_1} - \\bar{x_2}}{\\sqrt{s^2(\\frac{1}{n_1} + \\frac{1}{n_2})}} $$\n",
    "\n",
    "$$ s^2 = \\frac{\\sum_{i=1}^{n_1}(x_i - \\bar{x}_1)^2 + \\sum_{j=1}^{n_2}(x_j - \\bar{x}_2)^2}{n_1 + n_2 - 2} $$\n",
    "\n",
    "$$ df = n_1 + n_2 - 2 $$\n",
    "\n",
    "$$ C.I. = \\bar{x} \\pm t (\\frac{s}{\\sqrt{n}}) $$\n",
    "\n",
    "* Unequal variances\n",
    "\n",
    "$$ t = \\frac{\\bar{x_1} - \\bar{x_2}}{\\sqrt{s^2(\\frac{1}{n_1} + \\frac{1}{n_2})}} $$ (t 的公式是一樣的)\n",
    "\n",
    "$$ s_1^2 = \\frac{\\sum_{i=1}^{n_1}(x_i - \\bar{x}_1)^2}{n_1 - 1} $$\n",
    "\n",
    "$$ s_2^2 = \\frac{\\sum_{j=1}^{n_2}(x_j - \\bar{x}_2)^2}{n_2 - 1} $$\n",
    "\n",
    "$$ df = \\frac{[\\frac{s_1^2}{n_1} + \\frac{s_2^2}{n_2}]^2}{\\frac{(s_1^2/n_1)^2}{n_1 - 1} + \\frac{(s_2^2/n_2)^2}{n_2 - 1}} $$\n",
    "\n",
    "$$ C.I. = \\bar{x}_1 - \\bar{x}_2 \\pm t_{\\alpha/2, df} \\sqrt{\\frac{s_1^2}{n_1} + \\frac{s_2^2}{n_2}} $$"
   ]
  },
  {
   "cell_type": "markdown",
   "metadata": {},
   "source": [
    "用 scipy.stats 來算 t-score 和 p-value"
   ]
  },
  {
   "cell_type": "code",
   "execution_count": 9,
   "metadata": {},
   "outputs": [
    {
     "name": "stdout",
     "output_type": "stream",
     "text": [
      "-431.11699062985156 0.0\n"
     ]
    }
   ],
   "source": [
    "a = df_loan[df_loan['term'] == ' 36 months']['int_rate'].values\n",
    "b = df_loan[df_loan['term'] == ' 60 months']['int_rate'].values\n",
    "\n",
    "from scipy import stats\n",
    "tstat, pval = stats.ttest_ind(a, b, equal_var=False)\n",
    "print(tstat, pval)"
   ]
  },
  {
   "cell_type": "code",
   "execution_count": 10,
   "metadata": {},
   "outputs": [
    {
     "name": "stdout",
     "output_type": "stream",
     "text": [
      "12.01867849466694\n",
      "16.111596182592564\n"
     ]
    }
   ],
   "source": [
    "print(np.mean(a))\n",
    "print(np.mean(b))"
   ]
  },
  {
   "cell_type": "markdown",
   "metadata": {},
   "source": [
    "自己算 degree of freedom"
   ]
  },
  {
   "cell_type": "code",
   "execution_count": 11,
   "metadata": {},
   "outputs": [
    {
     "name": "stdout",
     "output_type": "stream",
     "text": [
      "14.846095171313328 14.8461190732991\n",
      "17.63376036768784 17.633826597005374\n",
      "467035.96463789017\n"
     ]
    }
   ],
   "source": [
    "def s_square(x):\n",
    "    m = np.mean(x)\n",
    "    n = len(x)\n",
    "    sum = 0\n",
    "    for i in x:\n",
    "        sum += (i - m)**2\n",
    "    return sum / (n - 1)\n",
    "\n",
    "s1_square = s_square(a)\n",
    "s2_square = s_square(b)\n",
    "\n",
    "print(np.var(a), s1_square)\n",
    "print(np.var(b), s2_square)\n",
    "\n",
    "n1 = len(a)\n",
    "n2 = len(b)\n",
    "\n",
    "df = (s1_square/n1 + s2_square/n2)**2 / ((s1_square / n1)**2 / (n1 - 1) + (s2_square / n2)**2 / (n2 - 1))\n",
    "\n",
    "print(df)"
   ]
  },
  {
   "cell_type": "markdown",
   "metadata": {},
   "source": [
    "自己算 95% confidence interval"
   ]
  },
  {
   "cell_type": "code",
   "execution_count": 12,
   "metadata": {},
   "outputs": [
    {
     "name": "stdout",
     "output_type": "stream",
     "text": [
      "1.9599690639717322\n"
     ]
    }
   ],
   "source": [
    "t_score = stats.t.ppf(1-0.025, df)\n",
    "print(t_score)"
   ]
  },
  {
   "cell_type": "code",
   "execution_count": 13,
   "metadata": {},
   "outputs": [
    {
     "name": "stdout",
     "output_type": "stream",
     "text": [
      "-4.111525147673368 -4.07431022817788\n"
     ]
    }
   ],
   "source": [
    "ma = np.mean(a)\n",
    "mb = np.mean(b)\n",
    "\n",
    "low = ma - mb - t_score * np.sqrt(s1_square/n1 + s2_square/n2)\n",
    "high = ma - mb + t_score * np.sqrt(s1_square/n1 + s2_square/n2)\n",
    "\n",
    "print(low, high)"
   ]
  },
  {
   "cell_type": "markdown",
   "metadata": {},
   "source": [
    "自己套公式計算 t-score 和 p-value"
   ]
  },
  {
   "cell_type": "code",
   "execution_count": 14,
   "metadata": {},
   "outputs": [
    {
     "name": "stdout",
     "output_type": "stream",
     "text": [
      "0.009493736631375146\n",
      "-431.1176775617758\n",
      "0.0\n"
     ]
    }
   ],
   "source": [
    "short_term = df_loan[df_loan['term'] == ' 36 months']\n",
    "long_term = df_loan[df_loan['term'] == ' 60 months']\n",
    "\n",
    "std_err = np.sqrt(np.var(short_term['int_rate']) / short_term.shape[0] +\n",
    "                  np.var(long_term['int_rate']) / long_term.shape[0])\n",
    "print(std_err)\n",
    "\n",
    "t = (np.mean(short_term['int_rate']) - np.mean(long_term['int_rate'])) / std_err\n",
    "print(t)\n",
    "\n",
    "p = stats.t.cdf(t, 467040)\n",
    "print(p)"
   ]
  },
  {
   "cell_type": "markdown",
   "metadata": {},
   "source": [
    "接下來要做表格，要來算 chi2"
   ]
  },
  {
   "cell_type": "code",
   "execution_count": 15,
   "metadata": {},
   "outputs": [
    {
     "data": {
      "text/plain": [
       " 36 months    621125\n",
       " 60 months    266254\n",
       "Name: term, dtype: int64"
      ]
     },
     "execution_count": 15,
     "metadata": {},
     "output_type": "execute_result"
    }
   ],
   "source": [
    "s1 = df_loan['term'].value_counts()\n",
    "s1"
   ]
  },
  {
   "cell_type": "code",
   "execution_count": 16,
   "metadata": {},
   "outputs": [
    {
     "data": {
      "text/plain": [
       "term        grade\n",
       " 36 months  B        212009\n",
       "            C        162420\n",
       "            A        143015\n",
       "            D         76687\n",
       "            E         21842\n",
       "            F          4466\n",
       "            G           686\n",
       " 60 months  C         83440\n",
       "            D         62855\n",
       "            E         48863\n",
       "            B         42526\n",
       "            F         18580\n",
       "            A          5187\n",
       "            G          4803\n",
       "Name: grade, dtype: int64"
      ]
     },
     "execution_count": 16,
     "metadata": {},
     "output_type": "execute_result"
    }
   ],
   "source": [
    "df_loan[['term', 'grade']].groupby('term')['grade'].value_counts()"
   ]
  },
  {
   "cell_type": "code",
   "execution_count": 17,
   "metadata": {},
   "outputs": [
    {
     "data": {
      "text/html": [
       "<div>\n",
       "<style scoped>\n",
       "    .dataframe tbody tr th:only-of-type {\n",
       "        vertical-align: middle;\n",
       "    }\n",
       "\n",
       "    .dataframe tbody tr th {\n",
       "        vertical-align: top;\n",
       "    }\n",
       "\n",
       "    .dataframe thead tr th {\n",
       "        text-align: left;\n",
       "    }\n",
       "\n",
       "    .dataframe thead tr:last-of-type th {\n",
       "        text-align: right;\n",
       "    }\n",
       "</style>\n",
       "<table border=\"1\" class=\"dataframe\">\n",
       "  <thead>\n",
       "    <tr>\n",
       "      <th></th>\n",
       "      <th colspan=\"7\" halign=\"left\">grade</th>\n",
       "    </tr>\n",
       "    <tr>\n",
       "      <th>grade</th>\n",
       "      <th>A</th>\n",
       "      <th>B</th>\n",
       "      <th>C</th>\n",
       "      <th>D</th>\n",
       "      <th>E</th>\n",
       "      <th>F</th>\n",
       "      <th>G</th>\n",
       "    </tr>\n",
       "    <tr>\n",
       "      <th>term</th>\n",
       "      <th></th>\n",
       "      <th></th>\n",
       "      <th></th>\n",
       "      <th></th>\n",
       "      <th></th>\n",
       "      <th></th>\n",
       "      <th></th>\n",
       "    </tr>\n",
       "  </thead>\n",
       "  <tbody>\n",
       "    <tr>\n",
       "      <th>36 months</th>\n",
       "      <td>143015</td>\n",
       "      <td>212009</td>\n",
       "      <td>162420</td>\n",
       "      <td>76687</td>\n",
       "      <td>21842</td>\n",
       "      <td>4466</td>\n",
       "      <td>686</td>\n",
       "    </tr>\n",
       "    <tr>\n",
       "      <th>60 months</th>\n",
       "      <td>5187</td>\n",
       "      <td>42526</td>\n",
       "      <td>83440</td>\n",
       "      <td>62855</td>\n",
       "      <td>48863</td>\n",
       "      <td>18580</td>\n",
       "      <td>4803</td>\n",
       "    </tr>\n",
       "  </tbody>\n",
       "</table>\n",
       "</div>"
      ],
      "text/plain": [
       "             grade                                           \n",
       "grade            A       B       C      D      E      F     G\n",
       "term                                                         \n",
       " 36 months  143015  212009  162420  76687  21842   4466   686\n",
       " 60 months    5187   42526   83440  62855  48863  18580  4803"
      ]
     },
     "execution_count": 17,
     "metadata": {},
     "output_type": "execute_result"
    }
   ],
   "source": [
    "df_sub1 = df_loan[['term', 'grade']].groupby('term')['grade'].value_counts().to_frame().unstack(level=1)\n",
    "df_sub1"
   ]
  },
  {
   "cell_type": "markdown",
   "metadata": {},
   "source": [
    "換算成百分比"
   ]
  },
  {
   "cell_type": "code",
   "execution_count": 223,
   "metadata": {},
   "outputs": [
    {
     "data": {
      "text/html": [
       "<div>\n",
       "<style scoped>\n",
       "    .dataframe tbody tr th:only-of-type {\n",
       "        vertical-align: middle;\n",
       "    }\n",
       "\n",
       "    .dataframe tbody tr th {\n",
       "        vertical-align: top;\n",
       "    }\n",
       "\n",
       "    .dataframe thead tr th {\n",
       "        text-align: left;\n",
       "    }\n",
       "\n",
       "    .dataframe thead tr:last-of-type th {\n",
       "        text-align: right;\n",
       "    }\n",
       "</style>\n",
       "<table border=\"1\" class=\"dataframe\">\n",
       "  <thead>\n",
       "    <tr>\n",
       "      <th></th>\n",
       "      <th colspan=\"7\" halign=\"left\">grade</th>\n",
       "    </tr>\n",
       "    <tr>\n",
       "      <th>grade</th>\n",
       "      <th>A</th>\n",
       "      <th>B</th>\n",
       "      <th>C</th>\n",
       "      <th>D</th>\n",
       "      <th>E</th>\n",
       "      <th>F</th>\n",
       "      <th>G</th>\n",
       "    </tr>\n",
       "    <tr>\n",
       "      <th>term</th>\n",
       "      <th></th>\n",
       "      <th></th>\n",
       "      <th></th>\n",
       "      <th></th>\n",
       "      <th></th>\n",
       "      <th></th>\n",
       "      <th></th>\n",
       "    </tr>\n",
       "  </thead>\n",
       "  <tbody>\n",
       "    <tr>\n",
       "      <th>36 months</th>\n",
       "      <td>0.23</td>\n",
       "      <td>0.34</td>\n",
       "      <td>0.26</td>\n",
       "      <td>0.12</td>\n",
       "      <td>0.04</td>\n",
       "      <td>0.01</td>\n",
       "      <td>0.00</td>\n",
       "    </tr>\n",
       "    <tr>\n",
       "      <th>60 months</th>\n",
       "      <td>0.02</td>\n",
       "      <td>0.16</td>\n",
       "      <td>0.31</td>\n",
       "      <td>0.24</td>\n",
       "      <td>0.18</td>\n",
       "      <td>0.07</td>\n",
       "      <td>0.02</td>\n",
       "    </tr>\n",
       "  </tbody>\n",
       "</table>\n",
       "</div>"
      ],
      "text/plain": [
       "           grade                                    \n",
       "grade          A     B     C     D     E     F     G\n",
       "term                                                \n",
       " 36 months  0.23  0.34  0.26  0.12  0.04  0.01  0.00\n",
       " 60 months  0.02  0.16  0.31  0.24  0.18  0.07  0.02"
      ]
     },
     "execution_count": 223,
     "metadata": {},
     "output_type": "execute_result"
    }
   ],
   "source": [
    "df_sub2.loc[' 36 months'] = df_sub1.loc[' 36 months'].apply(lambda x: np.round(x / s1[0], 2))\n",
    "df_sub2.loc[' 60 months'] = df_sub1.loc[' 60 months'].apply(lambda x: np.round(x / s1[1], 2))\n",
    "df_sub2"
   ]
  },
  {
   "cell_type": "markdown",
   "metadata": {},
   "source": [
    "用 scipy.stats 來計算 chi2"
   ]
  },
  {
   "cell_type": "code",
   "execution_count": 224,
   "metadata": {},
   "outputs": [
    {
     "name": "stdout",
     "output_type": "stream",
     "text": [
      "176074.84789300518 0.0 6\n"
     ]
    }
   ],
   "source": [
    "from scipy.stats import chi2_contingency\n",
    "X = [[143015, 212009, 162420,  76687,  21842,   4466,    686], [5187,  42526,  83440,  62855,  48863,  18580,   4803]]\n",
    "chi2, pval, dof, expected = chi2_contingency(X)\n",
    "print(chi2, pval, dof)"
   ]
  },
  {
   "cell_type": "code",
   "execution_count": 225,
   "metadata": {},
   "outputs": [
    {
     "name": "stdout",
     "output_type": "stream",
     "text": [
      "0.0\n"
     ]
    }
   ],
   "source": [
    "print(1- stats.chi2.cdf(chi2, dof))"
   ]
  },
  {
   "cell_type": "markdown",
   "metadata": {},
   "source": [
    "自己套公式計算 chi2"
   ]
  },
  {
   "cell_type": "code",
   "execution_count": 226,
   "metadata": {},
   "outputs": [
    {
     "data": {
      "text/html": [
       "<div>\n",
       "<style scoped>\n",
       "    .dataframe tbody tr th:only-of-type {\n",
       "        vertical-align: middle;\n",
       "    }\n",
       "\n",
       "    .dataframe tbody tr th {\n",
       "        vertical-align: top;\n",
       "    }\n",
       "\n",
       "    .dataframe thead tr th {\n",
       "        text-align: left;\n",
       "    }\n",
       "\n",
       "    .dataframe thead tr:last-of-type th {\n",
       "        text-align: right;\n",
       "    }\n",
       "</style>\n",
       "<table border=\"1\" class=\"dataframe\">\n",
       "  <thead>\n",
       "    <tr>\n",
       "      <th></th>\n",
       "      <th colspan=\"7\" halign=\"left\">grade</th>\n",
       "      <th>row_sum</th>\n",
       "      <th>row_sum_percentage</th>\n",
       "    </tr>\n",
       "    <tr>\n",
       "      <th>grade</th>\n",
       "      <th>A</th>\n",
       "      <th>B</th>\n",
       "      <th>C</th>\n",
       "      <th>D</th>\n",
       "      <th>E</th>\n",
       "      <th>F</th>\n",
       "      <th>G</th>\n",
       "      <th></th>\n",
       "      <th></th>\n",
       "    </tr>\n",
       "    <tr>\n",
       "      <th>term</th>\n",
       "      <th></th>\n",
       "      <th></th>\n",
       "      <th></th>\n",
       "      <th></th>\n",
       "      <th></th>\n",
       "      <th></th>\n",
       "      <th></th>\n",
       "      <th></th>\n",
       "      <th></th>\n",
       "    </tr>\n",
       "  </thead>\n",
       "  <tbody>\n",
       "    <tr>\n",
       "      <th>36 months</th>\n",
       "      <td>143015</td>\n",
       "      <td>212009</td>\n",
       "      <td>162420</td>\n",
       "      <td>76687</td>\n",
       "      <td>21842</td>\n",
       "      <td>4466</td>\n",
       "      <td>686</td>\n",
       "      <td>621125</td>\n",
       "      <td>0.699955</td>\n",
       "    </tr>\n",
       "    <tr>\n",
       "      <th>60 months</th>\n",
       "      <td>5187</td>\n",
       "      <td>42526</td>\n",
       "      <td>83440</td>\n",
       "      <td>62855</td>\n",
       "      <td>48863</td>\n",
       "      <td>18580</td>\n",
       "      <td>4803</td>\n",
       "      <td>266254</td>\n",
       "      <td>0.300045</td>\n",
       "    </tr>\n",
       "    <tr>\n",
       "      <th>col_sum</th>\n",
       "      <td>148202</td>\n",
       "      <td>254535</td>\n",
       "      <td>245860</td>\n",
       "      <td>139542</td>\n",
       "      <td>70705</td>\n",
       "      <td>23046</td>\n",
       "      <td>5489</td>\n",
       "      <td>887379</td>\n",
       "      <td>1.000000</td>\n",
       "    </tr>\n",
       "  </tbody>\n",
       "</table>\n",
       "</div>"
      ],
      "text/plain": [
       "             grade                                             row_sum  \\\n",
       "grade            A       B       C       D      E      F     G           \n",
       "term                                                                     \n",
       " 36 months  143015  212009  162420   76687  21842   4466   686  621125   \n",
       " 60 months    5187   42526   83440   62855  48863  18580  4803  266254   \n",
       "col_sum     148202  254535  245860  139542  70705  23046  5489  887379   \n",
       "\n",
       "           row_sum_percentage  \n",
       "grade                          \n",
       "term                           \n",
       " 36 months           0.699955  \n",
       " 60 months           0.300045  \n",
       "col_sum              1.000000  "
      ]
     },
     "execution_count": 226,
     "metadata": {},
     "output_type": "execute_result"
    }
   ],
   "source": [
    "df_sub1['row_sum'] = df_sub1.sum(axis=1)\n",
    "df_sub1.loc['col_sum'] = df_sub1.sum()\n",
    "df_sub1['row_sum_percentage'] = df_sub1['row_sum'] / df_loan.shape[0]\n",
    "df_sub1"
   ]
  },
  {
   "cell_type": "markdown",
   "metadata": {},
   "source": [
    "這邊 `df_expected` 的內容不重要，我想要的只是要有相同格式的 DataFrame，表格中的數值在後面計算時會換掉"
   ]
  },
  {
   "cell_type": "code",
   "execution_count": 227,
   "metadata": {},
   "outputs": [
    {
     "data": {
      "text/html": [
       "<div>\n",
       "<style scoped>\n",
       "    .dataframe tbody tr th:only-of-type {\n",
       "        vertical-align: middle;\n",
       "    }\n",
       "\n",
       "    .dataframe tbody tr th {\n",
       "        vertical-align: top;\n",
       "    }\n",
       "\n",
       "    .dataframe thead tr th {\n",
       "        text-align: left;\n",
       "    }\n",
       "\n",
       "    .dataframe thead tr:last-of-type th {\n",
       "        text-align: right;\n",
       "    }\n",
       "</style>\n",
       "<table border=\"1\" class=\"dataframe\">\n",
       "  <thead>\n",
       "    <tr>\n",
       "      <th></th>\n",
       "      <th colspan=\"7\" halign=\"left\">grade</th>\n",
       "    </tr>\n",
       "    <tr>\n",
       "      <th>grade</th>\n",
       "      <th>A</th>\n",
       "      <th>B</th>\n",
       "      <th>C</th>\n",
       "      <th>D</th>\n",
       "      <th>E</th>\n",
       "      <th>F</th>\n",
       "      <th>G</th>\n",
       "    </tr>\n",
       "    <tr>\n",
       "      <th>term</th>\n",
       "      <th></th>\n",
       "      <th></th>\n",
       "      <th></th>\n",
       "      <th></th>\n",
       "      <th></th>\n",
       "      <th></th>\n",
       "      <th></th>\n",
       "    </tr>\n",
       "  </thead>\n",
       "  <tbody>\n",
       "    <tr>\n",
       "      <th>36 months</th>\n",
       "      <td>143015</td>\n",
       "      <td>212009</td>\n",
       "      <td>162420</td>\n",
       "      <td>76687</td>\n",
       "      <td>21842</td>\n",
       "      <td>4466</td>\n",
       "      <td>686</td>\n",
       "    </tr>\n",
       "    <tr>\n",
       "      <th>60 months</th>\n",
       "      <td>5187</td>\n",
       "      <td>42526</td>\n",
       "      <td>83440</td>\n",
       "      <td>62855</td>\n",
       "      <td>48863</td>\n",
       "      <td>18580</td>\n",
       "      <td>4803</td>\n",
       "    </tr>\n",
       "  </tbody>\n",
       "</table>\n",
       "</div>"
      ],
      "text/plain": [
       "             grade                                           \n",
       "grade            A       B       C      D      E      F     G\n",
       "term                                                         \n",
       " 36 months  143015  212009  162420  76687  21842   4466   686\n",
       " 60 months    5187   42526   83440  62855  48863  18580  4803"
      ]
     },
     "execution_count": 227,
     "metadata": {},
     "output_type": "execute_result"
    }
   ],
   "source": [
    "df_expected = df_sub1.loc[[' 36 months', ' 60 months'], ['grade']]\n",
    "df_expected"
   ]
  },
  {
   "cell_type": "code",
   "execution_count": 228,
   "metadata": {},
   "outputs": [
    {
     "data": {
      "text/html": [
       "<div>\n",
       "<style scoped>\n",
       "    .dataframe tbody tr th:only-of-type {\n",
       "        vertical-align: middle;\n",
       "    }\n",
       "\n",
       "    .dataframe tbody tr th {\n",
       "        vertical-align: top;\n",
       "    }\n",
       "\n",
       "    .dataframe thead tr th {\n",
       "        text-align: left;\n",
       "    }\n",
       "\n",
       "    .dataframe thead tr:last-of-type th {\n",
       "        text-align: right;\n",
       "    }\n",
       "</style>\n",
       "<table border=\"1\" class=\"dataframe\">\n",
       "  <thead>\n",
       "    <tr>\n",
       "      <th></th>\n",
       "      <th>row_sum_percentage</th>\n",
       "    </tr>\n",
       "    <tr>\n",
       "      <th>grade</th>\n",
       "      <th></th>\n",
       "    </tr>\n",
       "    <tr>\n",
       "      <th>term</th>\n",
       "      <th></th>\n",
       "    </tr>\n",
       "  </thead>\n",
       "  <tbody>\n",
       "    <tr>\n",
       "      <th>36 months</th>\n",
       "      <td>0.699955</td>\n",
       "    </tr>\n",
       "    <tr>\n",
       "      <th>60 months</th>\n",
       "      <td>0.300045</td>\n",
       "    </tr>\n",
       "  </tbody>\n",
       "</table>\n",
       "</div>"
      ],
      "text/plain": [
       "           row_sum_percentage\n",
       "grade                        \n",
       "term                         \n",
       " 36 months           0.699955\n",
       " 60 months           0.300045"
      ]
     },
     "execution_count": 228,
     "metadata": {},
     "output_type": "execute_result"
    }
   ],
   "source": [
    "df_percentage = df_sub1.loc[[' 36 months', ' 60 months'], ['row_sum_percentage']]\n",
    "df_percentage"
   ]
  },
  {
   "cell_type": "code",
   "execution_count": 229,
   "metadata": {},
   "outputs": [
    {
     "data": {
      "text/plain": [
       "term\n",
       " 36 months    0.699955\n",
       " 60 months    0.300045\n",
       "Name: row_sum_percentage, dtype: float64"
      ]
     },
     "execution_count": 229,
     "metadata": {},
     "output_type": "execute_result"
    }
   ],
   "source": [
    "s2 = df_percentage['row_sum_percentage']\n",
    "s2"
   ]
  },
  {
   "cell_type": "markdown",
   "metadata": {},
   "source": [
    "這邊才是計算 `df_expected` 中真正的數值"
   ]
  },
  {
   "cell_type": "code",
   "execution_count": 230,
   "metadata": {},
   "outputs": [
    {
     "data": {
      "text/html": [
       "<div>\n",
       "<style scoped>\n",
       "    .dataframe tbody tr th:only-of-type {\n",
       "        vertical-align: middle;\n",
       "    }\n",
       "\n",
       "    .dataframe tbody tr th {\n",
       "        vertical-align: top;\n",
       "    }\n",
       "\n",
       "    .dataframe thead tr th {\n",
       "        text-align: left;\n",
       "    }\n",
       "\n",
       "    .dataframe thead tr:last-of-type th {\n",
       "        text-align: right;\n",
       "    }\n",
       "</style>\n",
       "<table border=\"1\" class=\"dataframe\">\n",
       "  <thead>\n",
       "    <tr>\n",
       "      <th></th>\n",
       "      <th colspan=\"7\" halign=\"left\">grade</th>\n",
       "    </tr>\n",
       "    <tr>\n",
       "      <th>grade</th>\n",
       "      <th>A</th>\n",
       "      <th>B</th>\n",
       "      <th>C</th>\n",
       "      <th>D</th>\n",
       "      <th>E</th>\n",
       "      <th>F</th>\n",
       "      <th>G</th>\n",
       "    </tr>\n",
       "    <tr>\n",
       "      <th>term</th>\n",
       "      <th></th>\n",
       "      <th></th>\n",
       "      <th></th>\n",
       "      <th></th>\n",
       "      <th></th>\n",
       "      <th></th>\n",
       "      <th></th>\n",
       "    </tr>\n",
       "  </thead>\n",
       "  <tbody>\n",
       "    <tr>\n",
       "      <th>36 months</th>\n",
       "      <td>103734.67</td>\n",
       "      <td>178162.94</td>\n",
       "      <td>172090.83</td>\n",
       "      <td>97673.06</td>\n",
       "      <td>49490.29</td>\n",
       "      <td>16131.15</td>\n",
       "      <td>3842.05</td>\n",
       "    </tr>\n",
       "    <tr>\n",
       "      <th>60 months</th>\n",
       "      <td>44467.33</td>\n",
       "      <td>76372.06</td>\n",
       "      <td>73769.17</td>\n",
       "      <td>41868.94</td>\n",
       "      <td>21214.71</td>\n",
       "      <td>6914.85</td>\n",
       "      <td>1646.95</td>\n",
       "    </tr>\n",
       "  </tbody>\n",
       "</table>\n",
       "</div>"
      ],
      "text/plain": [
       "                grade                                                      \\\n",
       "grade               A          B          C         D         E         F   \n",
       "term                                                                        \n",
       " 36 months  103734.67  178162.94  172090.83  97673.06  49490.29  16131.15   \n",
       " 60 months   44467.33   76372.06   73769.17  41868.94  21214.71   6914.85   \n",
       "\n",
       "                     \n",
       "grade             G  \n",
       "term                 \n",
       " 36 months  3842.05  \n",
       " 60 months  1646.95  "
      ]
     },
     "execution_count": 230,
     "metadata": {},
     "output_type": "execute_result"
    }
   ],
   "source": [
    "df_expected.loc[' 36 months'] = df_sub1.loc['col_sum'].apply(lambda x: np.round(x * s2[0], 2))\n",
    "df_expected.loc[' 60 months'] = df_sub1.loc['col_sum'].apply(lambda x: np.round(x * s2[1], 2))\n",
    "df_expected"
   ]
  },
  {
   "cell_type": "code",
   "execution_count": 231,
   "metadata": {},
   "outputs": [
    {
     "data": {
      "text/html": [
       "<div>\n",
       "<style scoped>\n",
       "    .dataframe tbody tr th:only-of-type {\n",
       "        vertical-align: middle;\n",
       "    }\n",
       "\n",
       "    .dataframe tbody tr th {\n",
       "        vertical-align: top;\n",
       "    }\n",
       "\n",
       "    .dataframe thead tr th {\n",
       "        text-align: left;\n",
       "    }\n",
       "\n",
       "    .dataframe thead tr:last-of-type th {\n",
       "        text-align: right;\n",
       "    }\n",
       "</style>\n",
       "<table border=\"1\" class=\"dataframe\">\n",
       "  <thead>\n",
       "    <tr>\n",
       "      <th></th>\n",
       "      <th colspan=\"7\" halign=\"left\">grade</th>\n",
       "    </tr>\n",
       "    <tr>\n",
       "      <th>grade</th>\n",
       "      <th>A</th>\n",
       "      <th>B</th>\n",
       "      <th>C</th>\n",
       "      <th>D</th>\n",
       "      <th>E</th>\n",
       "      <th>F</th>\n",
       "      <th>G</th>\n",
       "    </tr>\n",
       "    <tr>\n",
       "      <th>term</th>\n",
       "      <th></th>\n",
       "      <th></th>\n",
       "      <th></th>\n",
       "      <th></th>\n",
       "      <th></th>\n",
       "      <th></th>\n",
       "      <th></th>\n",
       "    </tr>\n",
       "  </thead>\n",
       "  <tbody>\n",
       "    <tr>\n",
       "      <th>36 months</th>\n",
       "      <td>143015</td>\n",
       "      <td>212009</td>\n",
       "      <td>162420</td>\n",
       "      <td>76687</td>\n",
       "      <td>21842</td>\n",
       "      <td>4466</td>\n",
       "      <td>686</td>\n",
       "    </tr>\n",
       "    <tr>\n",
       "      <th>60 months</th>\n",
       "      <td>5187</td>\n",
       "      <td>42526</td>\n",
       "      <td>83440</td>\n",
       "      <td>62855</td>\n",
       "      <td>48863</td>\n",
       "      <td>18580</td>\n",
       "      <td>4803</td>\n",
       "    </tr>\n",
       "  </tbody>\n",
       "</table>\n",
       "</div>"
      ],
      "text/plain": [
       "             grade                                           \n",
       "grade            A       B       C      D      E      F     G\n",
       "term                                                         \n",
       " 36 months  143015  212009  162420  76687  21842   4466   686\n",
       " 60 months    5187   42526   83440  62855  48863  18580  4803"
      ]
     },
     "execution_count": 231,
     "metadata": {},
     "output_type": "execute_result"
    }
   ],
   "source": [
    "df_observed = df_sub1.loc[[' 36 months', ' 60 months'], ['grade']]\n",
    "df_observed"
   ]
  },
  {
   "cell_type": "markdown",
   "metadata": {},
   "source": [
    "算 chi2\n",
    "$$ \\chi^2 = \\sum \\frac{(Obs - Exp)^2}{Exp} $$"
   ]
  },
  {
   "cell_type": "code",
   "execution_count": 232,
   "metadata": {},
   "outputs": [
    {
     "data": {
      "text/html": [
       "<div>\n",
       "<style scoped>\n",
       "    .dataframe tbody tr th:only-of-type {\n",
       "        vertical-align: middle;\n",
       "    }\n",
       "\n",
       "    .dataframe tbody tr th {\n",
       "        vertical-align: top;\n",
       "    }\n",
       "\n",
       "    .dataframe thead tr th {\n",
       "        text-align: left;\n",
       "    }\n",
       "\n",
       "    .dataframe thead tr:last-of-type th {\n",
       "        text-align: right;\n",
       "    }\n",
       "</style>\n",
       "<table border=\"1\" class=\"dataframe\">\n",
       "  <thead>\n",
       "    <tr>\n",
       "      <th></th>\n",
       "      <th colspan=\"7\" halign=\"left\">grade</th>\n",
       "      <th>row_sum</th>\n",
       "    </tr>\n",
       "    <tr>\n",
       "      <th>grade</th>\n",
       "      <th>A</th>\n",
       "      <th>B</th>\n",
       "      <th>C</th>\n",
       "      <th>D</th>\n",
       "      <th>E</th>\n",
       "      <th>F</th>\n",
       "      <th>G</th>\n",
       "      <th></th>\n",
       "    </tr>\n",
       "    <tr>\n",
       "      <th>term</th>\n",
       "      <th></th>\n",
       "      <th></th>\n",
       "      <th></th>\n",
       "      <th></th>\n",
       "      <th></th>\n",
       "      <th></th>\n",
       "      <th></th>\n",
       "      <th></th>\n",
       "    </tr>\n",
       "  </thead>\n",
       "  <tbody>\n",
       "    <tr>\n",
       "      <th>36 months</th>\n",
       "      <td>14873.950290</td>\n",
       "      <td>6429.820801</td>\n",
       "      <td>543.462734</td>\n",
       "      <td>4509.070509</td>\n",
       "      <td>15446.018601</td>\n",
       "      <td>8435.587328</td>\n",
       "      <td>2592.535652</td>\n",
       "      <td>52830.445914</td>\n",
       "    </tr>\n",
       "    <tr>\n",
       "      <th>60 months</th>\n",
       "      <td>34698.380247</td>\n",
       "      <td>14999.671051</td>\n",
       "      <td>1267.805411</td>\n",
       "      <td>10518.888568</td>\n",
       "      <td>36032.919607</td>\n",
       "      <td>19678.767366</td>\n",
       "      <td>6047.938069</td>\n",
       "      <td>123244.370320</td>\n",
       "    </tr>\n",
       "  </tbody>\n",
       "</table>\n",
       "</div>"
      ],
      "text/plain": [
       "                   grade                                           \\\n",
       "grade                  A             B            C             D   \n",
       "term                                                                \n",
       " 36 months  14873.950290   6429.820801   543.462734   4509.070509   \n",
       " 60 months  34698.380247  14999.671051  1267.805411  10518.888568   \n",
       "\n",
       "                                                           row_sum  \n",
       "grade                  E             F            G                 \n",
       "term                                                                \n",
       " 36 months  15446.018601   8435.587328  2592.535652   52830.445914  \n",
       " 60 months  36032.919607  19678.767366  6047.938069  123244.370320  "
      ]
     },
     "execution_count": 232,
     "metadata": {},
     "output_type": "execute_result"
    }
   ],
   "source": [
    "df_chi2 = ((df_observed.subtract(df_expected)).multiply(df_observed.subtract(df_expected))).divide(df_expected)\n",
    "df_chi2['row_sum'] = df_chi2.sum(axis=1)\n",
    "df_chi2"
   ]
  },
  {
   "cell_type": "code",
   "execution_count": 233,
   "metadata": {},
   "outputs": [
    {
     "data": {
      "text/plain": [
       "176074.81623385387"
      ]
     },
     "execution_count": 233,
     "metadata": {},
     "output_type": "execute_result"
    }
   ],
   "source": [
    "chi2 = df_chi2['row_sum'].sum()\n",
    "chi2"
   ]
  },
  {
   "cell_type": "markdown",
   "metadata": {},
   "source": [
    "開始做 EDA"
   ]
  },
  {
   "cell_type": "code",
   "execution_count": 236,
   "metadata": {},
   "outputs": [
    {
     "data": {
      "text/plain": [
       "id                             887379\n",
       "member_id                      887379\n",
       "loan_amnt                        1372\n",
       "funded_amnt                      1372\n",
       "funded_amnt_inv                  9856\n",
       "term                                2\n",
       "int_rate                          542\n",
       "installment                     68711\n",
       "grade                               7\n",
       "sub_grade                          35\n",
       "emp_title                      299271\n",
       "emp_length                         11\n",
       "home_ownership                      6\n",
       "annual_inc                      49384\n",
       "verification_status                 3\n",
       "issue_d                           103\n",
       "loan_status                        10\n",
       "pymnt_plan                          2\n",
       "url                            887379\n",
       "desc                           124469\n",
       "purpose                            14\n",
       "title                           63144\n",
       "zip_code                          935\n",
       "addr_state                         51\n",
       "dti                              4086\n",
       "delinq_2yrs                        29\n",
       "earliest_cr_line                  697\n",
       "inq_last_6mths                     28\n",
       "mths_since_last_delinq            155\n",
       "mths_since_last_record            123\n",
       "                                ...  \n",
       "collection_recovery_fee         20708\n",
       "last_pymnt_d                       98\n",
       "last_pymnt_amnt                232451\n",
       "next_pymnt_d                      100\n",
       "last_credit_pull_d                103\n",
       "collections_12_mths_ex_med         12\n",
       "mths_since_last_major_derog       168\n",
       "policy_code                         1\n",
       "application_type                    2\n",
       "annual_inc_joint                  308\n",
       "dti_joint                         449\n",
       "verification_status_joint           3\n",
       "acc_now_delinq                      8\n",
       "tot_coll_amt                    10325\n",
       "tot_cur_bal                    327342\n",
       "open_acc_6m                        13\n",
       "open_il_6m                         35\n",
       "open_il_12m                        12\n",
       "open_il_24m                        17\n",
       "mths_since_rcnt_il                201\n",
       "total_bal_il                    17030\n",
       "il_util                          1272\n",
       "open_rv_12m                        18\n",
       "open_rv_24m                        28\n",
       "max_bal_bc                      10707\n",
       "all_util                         1128\n",
       "total_rev_hi_lim                21251\n",
       "inq_fi                             18\n",
       "total_cu_tl                        33\n",
       "inq_last_12m                       29\n",
       "Length: 74, dtype: int64"
      ]
     },
     "execution_count": 236,
     "metadata": {},
     "output_type": "execute_result"
    }
   ],
   "source": [
    "s3 = df_loan.nunique() # 列出每個欄位有多少個獨立的數值\n",
    "s3"
   ]
  },
  {
   "cell_type": "code",
   "execution_count": 237,
   "metadata": {},
   "outputs": [
    {
     "data": {
      "text/plain": [
       "policy_code    1\n",
       "dtype: int64"
      ]
     },
     "execution_count": 237,
     "metadata": {},
     "output_type": "execute_result"
    }
   ],
   "source": [
    "s3[s3 == 1] # 只有一個數值的欄位"
   ]
  },
  {
   "cell_type": "code",
   "execution_count": 238,
   "metadata": {},
   "outputs": [
    {
     "data": {
      "text/plain": [
       "id           887379\n",
       "member_id    887379\n",
       "url          887379\n",
       "dtype: int64"
      ]
     },
     "execution_count": 238,
     "metadata": {},
     "output_type": "execute_result"
    }
   ],
   "source": [
    "s3[s3 == df_loan.shape[0]] # 全部都是獨立的數值的欄位"
   ]
  },
  {
   "cell_type": "code",
   "execution_count": 241,
   "metadata": {},
   "outputs": [
    {
     "data": {
      "text/plain": [
       "count    509.000000\n",
       "mean      18.310118\n",
       "std        7.169233\n",
       "min        3.000000\n",
       "25%       13.200000\n",
       "50%       17.610000\n",
       "75%       22.650000\n",
       "max       43.860000\n",
       "Name: dti_joint, dtype: float64"
      ]
     },
     "execution_count": 241,
     "metadata": {},
     "output_type": "execute_result"
    }
   ],
   "source": [
    "df_loan['dti_joint'].describe()"
   ]
  },
  {
   "cell_type": "code",
   "execution_count": 242,
   "metadata": {},
   "outputs": [
    {
     "data": {
      "text/plain": [
       "886870"
      ]
     },
     "execution_count": 242,
     "metadata": {},
     "output_type": "execute_result"
    }
   ],
   "source": [
    "df_loan['dti_joint'].isnull().sum() # 檢查有多少個空值"
   ]
  },
  {
   "cell_type": "code",
   "execution_count": 245,
   "metadata": {},
   "outputs": [
    {
     "data": {
      "text/plain": [
       "INDIVIDUAL    886868\n",
       "JOINT              2\n",
       "Name: application_type, dtype: int64"
      ]
     },
     "execution_count": 245,
     "metadata": {},
     "output_type": "execute_result"
    }
   ],
   "source": [
    "condition1 = df_loan['dti_joint'].isnull()\n",
    "df_loan[condition1]['application_type'].value_counts()"
   ]
  },
  {
   "cell_type": "code",
   "execution_count": 247,
   "metadata": {},
   "outputs": [
    {
     "data": {
      "text/html": [
       "<div>\n",
       "<style scoped>\n",
       "    .dataframe tbody tr th:only-of-type {\n",
       "        vertical-align: middle;\n",
       "    }\n",
       "\n",
       "    .dataframe tbody tr th {\n",
       "        vertical-align: top;\n",
       "    }\n",
       "\n",
       "    .dataframe thead th {\n",
       "        text-align: right;\n",
       "    }\n",
       "</style>\n",
       "<table border=\"1\" class=\"dataframe\">\n",
       "  <thead>\n",
       "    <tr style=\"text-align: right;\">\n",
       "      <th></th>\n",
       "      <th>dti_joint</th>\n",
       "      <th>dti</th>\n",
       "    </tr>\n",
       "  </thead>\n",
       "  <tbody>\n",
       "    <tr>\n",
       "      <th>0</th>\n",
       "      <td>NaN</td>\n",
       "      <td>27.65</td>\n",
       "    </tr>\n",
       "    <tr>\n",
       "      <th>1</th>\n",
       "      <td>NaN</td>\n",
       "      <td>1.00</td>\n",
       "    </tr>\n",
       "    <tr>\n",
       "      <th>2</th>\n",
       "      <td>NaN</td>\n",
       "      <td>8.72</td>\n",
       "    </tr>\n",
       "    <tr>\n",
       "      <th>3</th>\n",
       "      <td>NaN</td>\n",
       "      <td>20.00</td>\n",
       "    </tr>\n",
       "    <tr>\n",
       "      <th>4</th>\n",
       "      <td>NaN</td>\n",
       "      <td>17.94</td>\n",
       "    </tr>\n",
       "  </tbody>\n",
       "</table>\n",
       "</div>"
      ],
      "text/plain": [
       "   dti_joint    dti\n",
       "0        NaN  27.65\n",
       "1        NaN   1.00\n",
       "2        NaN   8.72\n",
       "3        NaN  20.00\n",
       "4        NaN  17.94"
      ]
     },
     "execution_count": 247,
     "metadata": {},
     "output_type": "execute_result"
    }
   ],
   "source": [
    "df_loan[['dti_joint', 'dti']].head()"
   ]
  },
  {
   "cell_type": "code",
   "execution_count": 316,
   "metadata": {},
   "outputs": [],
   "source": [
    "df_loan['dti_joint'] = df_loan.apply(lambda row: \n",
    "                                     row['dti'] if np.isnan(row['dti_joint']) else row['dti_joint'], axis=1)"
   ]
  },
  {
   "cell_type": "code",
   "execution_count": 317,
   "metadata": {},
   "outputs": [
    {
     "data": {
      "text/html": [
       "<div>\n",
       "<style scoped>\n",
       "    .dataframe tbody tr th:only-of-type {\n",
       "        vertical-align: middle;\n",
       "    }\n",
       "\n",
       "    .dataframe tbody tr th {\n",
       "        vertical-align: top;\n",
       "    }\n",
       "\n",
       "    .dataframe thead th {\n",
       "        text-align: right;\n",
       "    }\n",
       "</style>\n",
       "<table border=\"1\" class=\"dataframe\">\n",
       "  <thead>\n",
       "    <tr style=\"text-align: right;\">\n",
       "      <th></th>\n",
       "      <th>dti_joint</th>\n",
       "      <th>dti</th>\n",
       "    </tr>\n",
       "  </thead>\n",
       "  <tbody>\n",
       "    <tr>\n",
       "      <th>0</th>\n",
       "      <td>27.65</td>\n",
       "      <td>27.65</td>\n",
       "    </tr>\n",
       "    <tr>\n",
       "      <th>1</th>\n",
       "      <td>1.00</td>\n",
       "      <td>1.00</td>\n",
       "    </tr>\n",
       "    <tr>\n",
       "      <th>2</th>\n",
       "      <td>8.72</td>\n",
       "      <td>8.72</td>\n",
       "    </tr>\n",
       "    <tr>\n",
       "      <th>3</th>\n",
       "      <td>20.00</td>\n",
       "      <td>20.00</td>\n",
       "    </tr>\n",
       "    <tr>\n",
       "      <th>4</th>\n",
       "      <td>17.94</td>\n",
       "      <td>17.94</td>\n",
       "    </tr>\n",
       "  </tbody>\n",
       "</table>\n",
       "</div>"
      ],
      "text/plain": [
       "   dti_joint    dti\n",
       "0      27.65  27.65\n",
       "1       1.00   1.00\n",
       "2       8.72   8.72\n",
       "3      20.00  20.00\n",
       "4      17.94  17.94"
      ]
     },
     "execution_count": 317,
     "metadata": {},
     "output_type": "execute_result"
    }
   ],
   "source": [
    "df_loan[['dti_joint', 'dti']].head()"
   ]
  },
  {
   "cell_type": "code",
   "execution_count": 318,
   "metadata": {},
   "outputs": [
    {
     "data": {
      "text/html": [
       "<div>\n",
       "<style scoped>\n",
       "    .dataframe tbody tr th:only-of-type {\n",
       "        vertical-align: middle;\n",
       "    }\n",
       "\n",
       "    .dataframe tbody tr th {\n",
       "        vertical-align: top;\n",
       "    }\n",
       "\n",
       "    .dataframe thead th {\n",
       "        text-align: right;\n",
       "    }\n",
       "</style>\n",
       "<table border=\"1\" class=\"dataframe\">\n",
       "  <thead>\n",
       "    <tr style=\"text-align: right;\">\n",
       "      <th></th>\n",
       "      <th>annual_inc</th>\n",
       "      <th>annual_inc_joint</th>\n",
       "    </tr>\n",
       "  </thead>\n",
       "  <tbody>\n",
       "    <tr>\n",
       "      <th>0</th>\n",
       "      <td>24000.0</td>\n",
       "      <td>NaN</td>\n",
       "    </tr>\n",
       "    <tr>\n",
       "      <th>1</th>\n",
       "      <td>30000.0</td>\n",
       "      <td>NaN</td>\n",
       "    </tr>\n",
       "    <tr>\n",
       "      <th>2</th>\n",
       "      <td>12252.0</td>\n",
       "      <td>NaN</td>\n",
       "    </tr>\n",
       "    <tr>\n",
       "      <th>3</th>\n",
       "      <td>49200.0</td>\n",
       "      <td>NaN</td>\n",
       "    </tr>\n",
       "    <tr>\n",
       "      <th>4</th>\n",
       "      <td>80000.0</td>\n",
       "      <td>NaN</td>\n",
       "    </tr>\n",
       "  </tbody>\n",
       "</table>\n",
       "</div>"
      ],
      "text/plain": [
       "   annual_inc  annual_inc_joint\n",
       "0     24000.0               NaN\n",
       "1     30000.0               NaN\n",
       "2     12252.0               NaN\n",
       "3     49200.0               NaN\n",
       "4     80000.0               NaN"
      ]
     },
     "execution_count": 318,
     "metadata": {},
     "output_type": "execute_result"
    }
   ],
   "source": [
    "df_loan[['annual_inc', 'annual_inc_joint']].head()"
   ]
  },
  {
   "cell_type": "code",
   "execution_count": 320,
   "metadata": {},
   "outputs": [],
   "source": [
    "df_loan['annual_inc_joint'] = df_loan.apply(lambda row:\n",
    "                                            row['annual_inc'] if np.isnan(row['annual_inc_joint']) else row['annual_inc_joint'], axis=1)"
   ]
  },
  {
   "cell_type": "code",
   "execution_count": 321,
   "metadata": {},
   "outputs": [
    {
     "data": {
      "text/html": [
       "<div>\n",
       "<style scoped>\n",
       "    .dataframe tbody tr th:only-of-type {\n",
       "        vertical-align: middle;\n",
       "    }\n",
       "\n",
       "    .dataframe tbody tr th {\n",
       "        vertical-align: top;\n",
       "    }\n",
       "\n",
       "    .dataframe thead th {\n",
       "        text-align: right;\n",
       "    }\n",
       "</style>\n",
       "<table border=\"1\" class=\"dataframe\">\n",
       "  <thead>\n",
       "    <tr style=\"text-align: right;\">\n",
       "      <th></th>\n",
       "      <th>annual_inc</th>\n",
       "      <th>annual_inc_joint</th>\n",
       "    </tr>\n",
       "  </thead>\n",
       "  <tbody>\n",
       "    <tr>\n",
       "      <th>0</th>\n",
       "      <td>24000.0</td>\n",
       "      <td>24000.0</td>\n",
       "    </tr>\n",
       "    <tr>\n",
       "      <th>1</th>\n",
       "      <td>30000.0</td>\n",
       "      <td>30000.0</td>\n",
       "    </tr>\n",
       "    <tr>\n",
       "      <th>2</th>\n",
       "      <td>12252.0</td>\n",
       "      <td>12252.0</td>\n",
       "    </tr>\n",
       "    <tr>\n",
       "      <th>3</th>\n",
       "      <td>49200.0</td>\n",
       "      <td>49200.0</td>\n",
       "    </tr>\n",
       "    <tr>\n",
       "      <th>4</th>\n",
       "      <td>80000.0</td>\n",
       "      <td>80000.0</td>\n",
       "    </tr>\n",
       "  </tbody>\n",
       "</table>\n",
       "</div>"
      ],
      "text/plain": [
       "   annual_inc  annual_inc_joint\n",
       "0     24000.0           24000.0\n",
       "1     30000.0           30000.0\n",
       "2     12252.0           12252.0\n",
       "3     49200.0           49200.0\n",
       "4     80000.0           80000.0"
      ]
     },
     "execution_count": 321,
     "metadata": {},
     "output_type": "execute_result"
    }
   ],
   "source": [
    "df_loan[['annual_inc', 'annual_inc_joint']].head()"
   ]
  },
  {
   "cell_type": "code",
   "execution_count": 324,
   "metadata": {},
   "outputs": [
    {
     "data": {
      "text/html": [
       "<div>\n",
       "<style scoped>\n",
       "    .dataframe tbody tr th:only-of-type {\n",
       "        vertical-align: middle;\n",
       "    }\n",
       "\n",
       "    .dataframe tbody tr th {\n",
       "        vertical-align: top;\n",
       "    }\n",
       "\n",
       "    .dataframe thead th {\n",
       "        text-align: right;\n",
       "    }\n",
       "</style>\n",
       "<table border=\"1\" class=\"dataframe\">\n",
       "  <thead>\n",
       "    <tr style=\"text-align: right;\">\n",
       "      <th></th>\n",
       "      <th>home_ownership</th>\n",
       "    </tr>\n",
       "  </thead>\n",
       "  <tbody>\n",
       "    <tr>\n",
       "      <th>0</th>\n",
       "      <td>RENT</td>\n",
       "    </tr>\n",
       "    <tr>\n",
       "      <th>1</th>\n",
       "      <td>RENT</td>\n",
       "    </tr>\n",
       "    <tr>\n",
       "      <th>2</th>\n",
       "      <td>RENT</td>\n",
       "    </tr>\n",
       "    <tr>\n",
       "      <th>3</th>\n",
       "      <td>RENT</td>\n",
       "    </tr>\n",
       "    <tr>\n",
       "      <th>4</th>\n",
       "      <td>RENT</td>\n",
       "    </tr>\n",
       "  </tbody>\n",
       "</table>\n",
       "</div>"
      ],
      "text/plain": [
       "  home_ownership\n",
       "0           RENT\n",
       "1           RENT\n",
       "2           RENT\n",
       "3           RENT\n",
       "4           RENT"
      ]
     },
     "execution_count": 324,
     "metadata": {},
     "output_type": "execute_result"
    }
   ],
   "source": [
    "df_loan[['home_ownership']].head()"
   ]
  },
  {
   "cell_type": "code",
   "execution_count": 326,
   "metadata": {},
   "outputs": [
    {
     "data": {
      "text/html": [
       "<div>\n",
       "<style scoped>\n",
       "    .dataframe tbody tr th:only-of-type {\n",
       "        vertical-align: middle;\n",
       "    }\n",
       "\n",
       "    .dataframe tbody tr th {\n",
       "        vertical-align: top;\n",
       "    }\n",
       "\n",
       "    .dataframe thead th {\n",
       "        text-align: right;\n",
       "    }\n",
       "</style>\n",
       "<table border=\"1\" class=\"dataframe\">\n",
       "  <thead>\n",
       "    <tr style=\"text-align: right;\">\n",
       "      <th></th>\n",
       "      <th>home_ownership</th>\n",
       "    </tr>\n",
       "  </thead>\n",
       "  <tbody>\n",
       "    <tr>\n",
       "      <th>0</th>\n",
       "      <td>RENT</td>\n",
       "    </tr>\n",
       "    <tr>\n",
       "      <th>1</th>\n",
       "      <td>RENT</td>\n",
       "    </tr>\n",
       "    <tr>\n",
       "      <th>2</th>\n",
       "      <td>RENT</td>\n",
       "    </tr>\n",
       "    <tr>\n",
       "      <th>3</th>\n",
       "      <td>RENT</td>\n",
       "    </tr>\n",
       "    <tr>\n",
       "      <th>4</th>\n",
       "      <td>RENT</td>\n",
       "    </tr>\n",
       "  </tbody>\n",
       "</table>\n",
       "</div>"
      ],
      "text/plain": [
       "  home_ownership\n",
       "0           RENT\n",
       "1           RENT\n",
       "2           RENT\n",
       "3           RENT\n",
       "4           RENT"
      ]
     },
     "execution_count": 326,
     "metadata": {},
     "output_type": "execute_result"
    }
   ],
   "source": [
    "def home_ownership(row):\n",
    "    if row['home_ownership'] in ['ANY', 'NONE', 'OTHER']:\n",
    "        return 'OTHER'\n",
    "    else:\n",
    "        return row['home_ownership']\n",
    "df_loan['home_ownership'] = df_loan.apply(home_ownership, axis=1)\n",
    "df_loan[['home_ownership']].head()"
   ]
  },
  {
   "cell_type": "code",
   "execution_count": 328,
   "metadata": {},
   "outputs": [
    {
     "data": {
      "text/plain": [
       "addr_state\n",
       "AK    13.639791\n",
       "AL    13.757150\n",
       "AR    13.458215\n",
       "AZ    13.131357\n",
       "CA    13.161718\n",
       "CO    13.074323\n",
       "CT    13.068787\n",
       "DC    12.756838\n",
       "DE    13.453246\n",
       "FL    13.272852\n",
       "GA    13.273004\n",
       "HI    13.922619\n",
       "IA    12.631429\n",
       "ID    11.345833\n",
       "IL    13.096091\n",
       "IN    13.463229\n",
       "KS    13.280913\n",
       "KY    13.340130\n",
       "LA    13.348598\n",
       "MA    12.661661\n",
       "MD    13.380040\n",
       "ME    12.464610\n",
       "MI    13.296108\n",
       "MN    13.150752\n",
       "MO    13.246034\n",
       "MS    13.476719\n",
       "MT    13.068851\n",
       "NC    13.422175\n",
       "ND    12.900522\n",
       "NE    12.960323\n",
       "NH    12.852306\n",
       "NJ    13.150185\n",
       "NM    13.327109\n",
       "NV    13.470705\n",
       "NY    13.326871\n",
       "OH    13.332359\n",
       "OK    13.477952\n",
       "OR    13.140087\n",
       "PA    13.332582\n",
       "RI    13.087657\n",
       "SC    13.475563\n",
       "SD    13.426259\n",
       "TN    13.575913\n",
       "TX    13.160487\n",
       "UT    13.346312\n",
       "VA    13.288569\n",
       "VT    12.962315\n",
       "WA    13.402623\n",
       "WI    12.983013\n",
       "WV    13.354781\n",
       "WY    13.366775\n",
       "Name: int_rate, dtype: float64"
      ]
     },
     "execution_count": 328,
     "metadata": {},
     "output_type": "execute_result"
    }
   ],
   "source": [
    "df_loan.groupby('addr_state')['int_rate'].mean()"
   ]
  },
  {
   "cell_type": "code",
   "execution_count": 329,
   "metadata": {},
   "outputs": [
    {
     "data": {
      "text/html": [
       "<div>\n",
       "<style scoped>\n",
       "    .dataframe tbody tr th:only-of-type {\n",
       "        vertical-align: middle;\n",
       "    }\n",
       "\n",
       "    .dataframe tbody tr th {\n",
       "        vertical-align: top;\n",
       "    }\n",
       "\n",
       "    .dataframe thead th {\n",
       "        text-align: right;\n",
       "    }\n",
       "</style>\n",
       "<table border=\"1\" class=\"dataframe\">\n",
       "  <thead>\n",
       "    <tr style=\"text-align: right;\">\n",
       "      <th></th>\n",
       "      <th>int_rate</th>\n",
       "    </tr>\n",
       "    <tr>\n",
       "      <th>addr_state</th>\n",
       "      <th></th>\n",
       "    </tr>\n",
       "  </thead>\n",
       "  <tbody>\n",
       "    <tr>\n",
       "      <th>AK</th>\n",
       "      <td>13.639791</td>\n",
       "    </tr>\n",
       "    <tr>\n",
       "      <th>AL</th>\n",
       "      <td>13.757150</td>\n",
       "    </tr>\n",
       "    <tr>\n",
       "      <th>AR</th>\n",
       "      <td>13.458215</td>\n",
       "    </tr>\n",
       "    <tr>\n",
       "      <th>AZ</th>\n",
       "      <td>13.131357</td>\n",
       "    </tr>\n",
       "    <tr>\n",
       "      <th>CA</th>\n",
       "      <td>13.161718</td>\n",
       "    </tr>\n",
       "  </tbody>\n",
       "</table>\n",
       "</div>"
      ],
      "text/plain": [
       "             int_rate\n",
       "addr_state           \n",
       "AK          13.639791\n",
       "AL          13.757150\n",
       "AR          13.458215\n",
       "AZ          13.131357\n",
       "CA          13.161718"
      ]
     },
     "execution_count": 329,
     "metadata": {},
     "output_type": "execute_result"
    }
   ],
   "source": [
    "df_state = df_loan.groupby('addr_state')['int_rate'].mean().to_frame()\n",
    "df_state.head()"
   ]
  },
  {
   "cell_type": "code",
   "execution_count": 335,
   "metadata": {},
   "outputs": [
    {
     "data": {
      "text/plain": [
       "0.25    13.080990\n",
       "0.50    13.288569\n",
       "0.75    13.412399\n",
       "Name: int_rate, dtype: float64"
      ]
     },
     "execution_count": 335,
     "metadata": {},
     "output_type": "execute_result"
    }
   ],
   "source": [
    "df_state['int_rate'].quantile([0.25, 0.5, 0.75])"
   ]
  },
  {
   "cell_type": "code",
   "execution_count": 336,
   "metadata": {},
   "outputs": [
    {
     "data": {
      "text/html": [
       "<div>\n",
       "<style scoped>\n",
       "    .dataframe tbody tr th:only-of-type {\n",
       "        vertical-align: middle;\n",
       "    }\n",
       "\n",
       "    .dataframe tbody tr th {\n",
       "        vertical-align: top;\n",
       "    }\n",
       "\n",
       "    .dataframe thead th {\n",
       "        text-align: right;\n",
       "    }\n",
       "</style>\n",
       "<table border=\"1\" class=\"dataframe\">\n",
       "  <thead>\n",
       "    <tr style=\"text-align: right;\">\n",
       "      <th></th>\n",
       "      <th>int_rate</th>\n",
       "      <th>stat_mean_int</th>\n",
       "    </tr>\n",
       "    <tr>\n",
       "      <th>addr_state</th>\n",
       "      <th></th>\n",
       "      <th></th>\n",
       "    </tr>\n",
       "  </thead>\n",
       "  <tbody>\n",
       "    <tr>\n",
       "      <th>AK</th>\n",
       "      <td>13.639791</td>\n",
       "      <td>high</td>\n",
       "    </tr>\n",
       "    <tr>\n",
       "      <th>AL</th>\n",
       "      <td>13.757150</td>\n",
       "      <td>high</td>\n",
       "    </tr>\n",
       "    <tr>\n",
       "      <th>AR</th>\n",
       "      <td>13.458215</td>\n",
       "      <td>high</td>\n",
       "    </tr>\n",
       "    <tr>\n",
       "      <th>AZ</th>\n",
       "      <td>13.131357</td>\n",
       "      <td>lowmedium</td>\n",
       "    </tr>\n",
       "    <tr>\n",
       "      <th>CA</th>\n",
       "      <td>13.161718</td>\n",
       "      <td>lowmedium</td>\n",
       "    </tr>\n",
       "    <tr>\n",
       "      <th>CO</th>\n",
       "      <td>13.074323</td>\n",
       "      <td>low</td>\n",
       "    </tr>\n",
       "    <tr>\n",
       "      <th>CT</th>\n",
       "      <td>13.068787</td>\n",
       "      <td>low</td>\n",
       "    </tr>\n",
       "    <tr>\n",
       "      <th>DC</th>\n",
       "      <td>12.756838</td>\n",
       "      <td>low</td>\n",
       "    </tr>\n",
       "    <tr>\n",
       "      <th>DE</th>\n",
       "      <td>13.453246</td>\n",
       "      <td>high</td>\n",
       "    </tr>\n",
       "    <tr>\n",
       "      <th>FL</th>\n",
       "      <td>13.272852</td>\n",
       "      <td>lowmedium</td>\n",
       "    </tr>\n",
       "    <tr>\n",
       "      <th>GA</th>\n",
       "      <td>13.273004</td>\n",
       "      <td>lowmedium</td>\n",
       "    </tr>\n",
       "    <tr>\n",
       "      <th>HI</th>\n",
       "      <td>13.922619</td>\n",
       "      <td>high</td>\n",
       "    </tr>\n",
       "    <tr>\n",
       "      <th>IA</th>\n",
       "      <td>12.631429</td>\n",
       "      <td>low</td>\n",
       "    </tr>\n",
       "    <tr>\n",
       "      <th>ID</th>\n",
       "      <td>11.345833</td>\n",
       "      <td>low</td>\n",
       "    </tr>\n",
       "    <tr>\n",
       "      <th>IL</th>\n",
       "      <td>13.096091</td>\n",
       "      <td>lowmedium</td>\n",
       "    </tr>\n",
       "    <tr>\n",
       "      <th>IN</th>\n",
       "      <td>13.463229</td>\n",
       "      <td>high</td>\n",
       "    </tr>\n",
       "    <tr>\n",
       "      <th>KS</th>\n",
       "      <td>13.280913</td>\n",
       "      <td>lowmedium</td>\n",
       "    </tr>\n",
       "    <tr>\n",
       "      <th>KY</th>\n",
       "      <td>13.340130</td>\n",
       "      <td>medium</td>\n",
       "    </tr>\n",
       "    <tr>\n",
       "      <th>LA</th>\n",
       "      <td>13.348598</td>\n",
       "      <td>medium</td>\n",
       "    </tr>\n",
       "    <tr>\n",
       "      <th>MA</th>\n",
       "      <td>12.661661</td>\n",
       "      <td>low</td>\n",
       "    </tr>\n",
       "    <tr>\n",
       "      <th>MD</th>\n",
       "      <td>13.380040</td>\n",
       "      <td>medium</td>\n",
       "    </tr>\n",
       "    <tr>\n",
       "      <th>ME</th>\n",
       "      <td>12.464610</td>\n",
       "      <td>low</td>\n",
       "    </tr>\n",
       "    <tr>\n",
       "      <th>MI</th>\n",
       "      <td>13.296108</td>\n",
       "      <td>medium</td>\n",
       "    </tr>\n",
       "    <tr>\n",
       "      <th>MN</th>\n",
       "      <td>13.150752</td>\n",
       "      <td>lowmedium</td>\n",
       "    </tr>\n",
       "    <tr>\n",
       "      <th>MO</th>\n",
       "      <td>13.246034</td>\n",
       "      <td>lowmedium</td>\n",
       "    </tr>\n",
       "    <tr>\n",
       "      <th>MS</th>\n",
       "      <td>13.476719</td>\n",
       "      <td>high</td>\n",
       "    </tr>\n",
       "    <tr>\n",
       "      <th>MT</th>\n",
       "      <td>13.068851</td>\n",
       "      <td>low</td>\n",
       "    </tr>\n",
       "    <tr>\n",
       "      <th>NC</th>\n",
       "      <td>13.422175</td>\n",
       "      <td>high</td>\n",
       "    </tr>\n",
       "    <tr>\n",
       "      <th>ND</th>\n",
       "      <td>12.900522</td>\n",
       "      <td>low</td>\n",
       "    </tr>\n",
       "    <tr>\n",
       "      <th>NE</th>\n",
       "      <td>12.960323</td>\n",
       "      <td>low</td>\n",
       "    </tr>\n",
       "    <tr>\n",
       "      <th>NH</th>\n",
       "      <td>12.852306</td>\n",
       "      <td>low</td>\n",
       "    </tr>\n",
       "    <tr>\n",
       "      <th>NJ</th>\n",
       "      <td>13.150185</td>\n",
       "      <td>lowmedium</td>\n",
       "    </tr>\n",
       "    <tr>\n",
       "      <th>NM</th>\n",
       "      <td>13.327109</td>\n",
       "      <td>medium</td>\n",
       "    </tr>\n",
       "    <tr>\n",
       "      <th>NV</th>\n",
       "      <td>13.470705</td>\n",
       "      <td>high</td>\n",
       "    </tr>\n",
       "    <tr>\n",
       "      <th>NY</th>\n",
       "      <td>13.326871</td>\n",
       "      <td>medium</td>\n",
       "    </tr>\n",
       "    <tr>\n",
       "      <th>OH</th>\n",
       "      <td>13.332359</td>\n",
       "      <td>medium</td>\n",
       "    </tr>\n",
       "    <tr>\n",
       "      <th>OK</th>\n",
       "      <td>13.477952</td>\n",
       "      <td>high</td>\n",
       "    </tr>\n",
       "    <tr>\n",
       "      <th>OR</th>\n",
       "      <td>13.140087</td>\n",
       "      <td>lowmedium</td>\n",
       "    </tr>\n",
       "    <tr>\n",
       "      <th>PA</th>\n",
       "      <td>13.332582</td>\n",
       "      <td>medium</td>\n",
       "    </tr>\n",
       "    <tr>\n",
       "      <th>RI</th>\n",
       "      <td>13.087657</td>\n",
       "      <td>lowmedium</td>\n",
       "    </tr>\n",
       "    <tr>\n",
       "      <th>SC</th>\n",
       "      <td>13.475563</td>\n",
       "      <td>high</td>\n",
       "    </tr>\n",
       "    <tr>\n",
       "      <th>SD</th>\n",
       "      <td>13.426259</td>\n",
       "      <td>high</td>\n",
       "    </tr>\n",
       "    <tr>\n",
       "      <th>TN</th>\n",
       "      <td>13.575913</td>\n",
       "      <td>high</td>\n",
       "    </tr>\n",
       "    <tr>\n",
       "      <th>TX</th>\n",
       "      <td>13.160487</td>\n",
       "      <td>lowmedium</td>\n",
       "    </tr>\n",
       "    <tr>\n",
       "      <th>UT</th>\n",
       "      <td>13.346312</td>\n",
       "      <td>medium</td>\n",
       "    </tr>\n",
       "    <tr>\n",
       "      <th>VA</th>\n",
       "      <td>13.288569</td>\n",
       "      <td>medium</td>\n",
       "    </tr>\n",
       "    <tr>\n",
       "      <th>VT</th>\n",
       "      <td>12.962315</td>\n",
       "      <td>low</td>\n",
       "    </tr>\n",
       "    <tr>\n",
       "      <th>WA</th>\n",
       "      <td>13.402623</td>\n",
       "      <td>medium</td>\n",
       "    </tr>\n",
       "    <tr>\n",
       "      <th>WI</th>\n",
       "      <td>12.983013</td>\n",
       "      <td>low</td>\n",
       "    </tr>\n",
       "    <tr>\n",
       "      <th>WV</th>\n",
       "      <td>13.354781</td>\n",
       "      <td>medium</td>\n",
       "    </tr>\n",
       "    <tr>\n",
       "      <th>WY</th>\n",
       "      <td>13.366775</td>\n",
       "      <td>medium</td>\n",
       "    </tr>\n",
       "  </tbody>\n",
       "</table>\n",
       "</div>"
      ],
      "text/plain": [
       "             int_rate stat_mean_int\n",
       "addr_state                         \n",
       "AK          13.639791          high\n",
       "AL          13.757150          high\n",
       "AR          13.458215          high\n",
       "AZ          13.131357     lowmedium\n",
       "CA          13.161718     lowmedium\n",
       "CO          13.074323           low\n",
       "CT          13.068787           low\n",
       "DC          12.756838           low\n",
       "DE          13.453246          high\n",
       "FL          13.272852     lowmedium\n",
       "GA          13.273004     lowmedium\n",
       "HI          13.922619          high\n",
       "IA          12.631429           low\n",
       "ID          11.345833           low\n",
       "IL          13.096091     lowmedium\n",
       "IN          13.463229          high\n",
       "KS          13.280913     lowmedium\n",
       "KY          13.340130        medium\n",
       "LA          13.348598        medium\n",
       "MA          12.661661           low\n",
       "MD          13.380040        medium\n",
       "ME          12.464610           low\n",
       "MI          13.296108        medium\n",
       "MN          13.150752     lowmedium\n",
       "MO          13.246034     lowmedium\n",
       "MS          13.476719          high\n",
       "MT          13.068851           low\n",
       "NC          13.422175          high\n",
       "ND          12.900522           low\n",
       "NE          12.960323           low\n",
       "NH          12.852306           low\n",
       "NJ          13.150185     lowmedium\n",
       "NM          13.327109        medium\n",
       "NV          13.470705          high\n",
       "NY          13.326871        medium\n",
       "OH          13.332359        medium\n",
       "OK          13.477952          high\n",
       "OR          13.140087     lowmedium\n",
       "PA          13.332582        medium\n",
       "RI          13.087657     lowmedium\n",
       "SC          13.475563          high\n",
       "SD          13.426259          high\n",
       "TN          13.575913          high\n",
       "TX          13.160487     lowmedium\n",
       "UT          13.346312        medium\n",
       "VA          13.288569        medium\n",
       "VT          12.962315           low\n",
       "WA          13.402623        medium\n",
       "WI          12.983013           low\n",
       "WV          13.354781        medium\n",
       "WY          13.366775        medium"
      ]
     },
     "execution_count": 336,
     "metadata": {},
     "output_type": "execute_result"
    }
   ],
   "source": [
    "def int_rate_range(x):\n",
    "    if x < df_state['int_rate'].quantile(0.25):\n",
    "        return 'low'\n",
    "    elif x < df_state['int_rate'].quantile(0.5):\n",
    "        return 'lowmedium'\n",
    "    elif x < df_state['int_rate'].quantile(0.75):\n",
    "        return 'medium'\n",
    "    else:\n",
    "        return 'high'\n",
    "df_state['stat_mean_int'] = df_state['int_rate'].apply(int_rate_range)\n",
    "df_state"
   ]
  },
  {
   "cell_type": "code",
   "execution_count": null,
   "metadata": {},
   "outputs": [],
   "source": []
  }
 ],
 "metadata": {
  "kernelspec": {
   "display_name": "Python 3",
   "language": "python",
   "name": "python3"
  },
  "language_info": {
   "codemirror_mode": {
    "name": "ipython",
    "version": 3
   },
   "file_extension": ".py",
   "mimetype": "text/x-python",
   "name": "python",
   "nbconvert_exporter": "python",
   "pygments_lexer": "ipython3",
   "version": "3.6.6"
  }
 },
 "nbformat": 4,
 "nbformat_minor": 2
}
